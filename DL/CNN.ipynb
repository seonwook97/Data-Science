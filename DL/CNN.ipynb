{
 "cells": [
  {
   "cell_type": "markdown",
   "id": "0eeb8d3a",
   "metadata": {},
   "source": [
    "## CNN\n",
    "- 이미지 영상인식의 혁명과도 같은 CNN\n",
    "- 입력 -> 특징 검출 -> 분류\n",
    "- CNN은 사진에서 특징을 검출해내는 layer가 있다"
   ]
  },
  {
   "cell_type": "markdown",
   "id": "5c1a306b",
   "metadata": {},
   "source": [
    "### Convolutional Filter\n",
    "- 학습을 통해 필터까지 구할 수 있다\n",
    "- Conv 필터의 의미\n",
    "    - Convolution: 특정 패턴이 있는지 박스로 훑으며 마킹\n",
    "    - 위아래선필터, 좌우선필터, 대각선필터, 이런질감필터, 요런질감필터, 동그라미필터 등등 여러가지 '조각'필터로 해당 패턴이 그림위에 있는지 확인한다\n",
    "    - Convolution 박스로 밀고나면, 숫자가 나옴\n",
    "    - 그 숫자를 Activation(주로 ReLU)에 넣어 나온 값 \n",
    "    - 이걸로 이미지 지도를 새로 그린다"
   ]
  },
  {
   "cell_type": "markdown",
   "id": "7e0187f6",
   "metadata": {},
   "source": [
    "### 풀링의 의미\n",
    "- 점점 더 멀리서 보는 법 -> 그림을 줄여서\n",
    "- MaxPooling\n",
    "    - 사이즈를 점진적으로 줄이는 법 MaxPooling\n",
    "    - nxn(Pool)을 중요한 정보(Max)한개로 줄인다.\n",
    "    - 선명한 정보만 남겨서, 판단과 학습이 쉬워지고 노이즈가 줄면서, 덤으로 융퉁성도 확보된다\n",
    "    - 보통 2x2로 화면 전역에 적용한다.\n",
    "    - stride라고 해서 좌우로 몇칸씩 뛸지 설정. 보통(2x2)"
   ]
  },
  {
   "cell_type": "markdown",
   "id": "34aeadbe",
   "metadata": {},
   "source": [
    "### Conv Layer의 의미\n",
    "- 패턴들을 쌓아가며 점차 복잡한 패턴을 인식한다(conv)\n",
    "- 사이즈를 줄여가며, 더욱 추상화 해나간다(maxpooling)"
   ]
  },
  {
   "cell_type": "markdown",
   "id": "5385aafa",
   "metadata": {},
   "source": [
    "### Zero padding\n",
    "- 귀퉁이가 짤리다보니, 사이즈 유지를 위해 conv전에 0을 모서리에 보태고 한다.\n",
    "- padding='same'"
   ]
  },
  {
   "cell_type": "markdown",
   "id": "09e4e8d6",
   "metadata": {},
   "source": [
    "### Dropout\n",
    "- 뉴럴넷에게 융통성을 기르는 방법은? 가르칠 때부터, 좀 가리면서 가리친다\n",
    "- 학습시킬 때, 일부러 정보를 누락시키거나 중간 중간 노드를 끈다"
   ]
  },
  {
   "cell_type": "markdown",
   "id": "dd03eb50",
   "metadata": {},
   "source": [
    "### 데이터"
   ]
  },
  {
   "cell_type": "code",
   "execution_count": 1,
   "id": "9145a844",
   "metadata": {
    "ExecuteTime": {
     "end_time": "2021-12-13T04:03:46.801145Z",
     "start_time": "2021-12-13T04:03:41.476340Z"
    }
   },
   "outputs": [],
   "source": [
    "import tensorflow as tf\n",
    "\n",
    "mnist = tf.keras.datasets.mnist\n",
    "\n",
    "(X_train, y_train), (X_test, y_test) = mnist.load_data()\n",
    "X_train, X_test = X_train / 255.0, X_test / 255.0\n",
    "\n",
    "X_train = X_train.reshape((60000, 28, 28, 1))\n",
    "X_test = X_test.reshape((10000, 28, 28, 1))"
   ]
  },
  {
   "cell_type": "markdown",
   "id": "f6b76be9",
   "metadata": {},
   "source": [
    "#### 모델 구성"
   ]
  },
  {
   "cell_type": "markdown",
   "id": "1260664d",
   "metadata": {},
   "source": [
    "![cnn](../data/cnn.png)"
   ]
  },
  {
   "cell_type": "code",
   "execution_count": 3,
   "id": "f4f09414",
   "metadata": {
    "ExecuteTime": {
     "end_time": "2021-12-07T08:32:11.759213Z",
     "start_time": "2021-12-07T08:32:10.766785Z"
    }
   },
   "outputs": [
    {
     "name": "stdout",
     "output_type": "stream",
     "text": [
      "Model: \"sequential\"\n",
      "_________________________________________________________________\n",
      " Layer (type)                Output Shape              Param #   \n",
      "=================================================================\n",
      " conv2d (Conv2D)             (None, 28, 28, 32)        832       \n",
      "                                                                 \n",
      " max_pooling2d (MaxPooling2D  (None, 14, 14, 32)       0         \n",
      " )                                                               \n",
      "                                                                 \n",
      " conv2d_1 (Conv2D)           (None, 14, 14, 64)        8256      \n",
      "                                                                 \n",
      " max_pooling2d_1 (MaxPooling  (None, 7, 7, 64)         0         \n",
      " 2D)                                                             \n",
      "                                                                 \n",
      " flatten (Flatten)           (None, 3136)              0         \n",
      "                                                                 \n",
      " dense (Dense)               (None, 1000)              3137000   \n",
      "                                                                 \n",
      " dense_1 (Dense)             (None, 10)                10010     \n",
      "                                                                 \n",
      "=================================================================\n",
      "Total params: 3,156,098\n",
      "Trainable params: 3,156,098\n",
      "Non-trainable params: 0\n",
      "_________________________________________________________________\n"
     ]
    }
   ],
   "source": [
    "from tensorflow.keras import layers, models\n",
    "\n",
    "model = models.Sequential([\n",
    "    layers.Conv2D(32, kernel_size=(5, 5), strides=(1, 1),\n",
    "                 padding='same', activation='relu', input_shape=(28, 28, 1)),\n",
    "    layers.MaxPooling2D(pool_size=(2, 2), strides=(2, 2)),\n",
    "    layers.Conv2D(64, (2, 2), activation='relu', padding='same'),\n",
    "    layers.MaxPooling2D(pool_size=(2, 2)),\n",
    "    layers.Flatten(),\n",
    "    layers.Dense(1000, activation='relu'),\n",
    "    layers.Dense(10, activation='softmax')\n",
    "])\n",
    "\n",
    "model.summary()"
   ]
  },
  {
   "cell_type": "markdown",
   "id": "ce0fb8a7",
   "metadata": {},
   "source": [
    "#### 모델 훈련"
   ]
  },
  {
   "cell_type": "code",
   "execution_count": 4,
   "id": "e89a9b8c",
   "metadata": {
    "ExecuteTime": {
     "end_time": "2021-12-07T08:44:20.100250Z",
     "start_time": "2021-12-07T08:40:58.523206Z"
    }
   },
   "outputs": [
    {
     "name": "stdout",
     "output_type": "stream",
     "text": [
      "Epoch 1/5\n",
      "1875/1875 [==============================] - 37s 19ms/step - loss: 0.1032 - accuracy: 0.9680 - val_loss: 0.0403 - val_accuracy: 0.9866\n",
      "Epoch 2/5\n",
      "1875/1875 [==============================] - 41s 22ms/step - loss: 0.0365 - accuracy: 0.9883 - val_loss: 0.0351 - val_accuracy: 0.9897\n",
      "Epoch 3/5\n",
      "1875/1875 [==============================] - 41s 22ms/step - loss: 0.0264 - accuracy: 0.9915 - val_loss: 0.0311 - val_accuracy: 0.9892\n",
      "Epoch 4/5\n",
      "1875/1875 [==============================] - 42s 22ms/step - loss: 0.0183 - accuracy: 0.9942 - val_loss: 0.0235 - val_accuracy: 0.9920\n",
      "Epoch 5/5\n",
      "1875/1875 [==============================] - 42s 22ms/step - loss: 0.0151 - accuracy: 0.9951 - val_loss: 0.0318 - val_accuracy: 0.9907\n",
      "Wall time: 3min 21s\n"
     ]
    }
   ],
   "source": [
    "%%time\n",
    "\n",
    "model.compile(optimizer='adam',\n",
    "             loss='sparse_categorical_crossentropy',\n",
    "             metrics=['accuracy'])\n",
    "\n",
    "hist = model.fit(X_train, y_train, epochs=5, verbose=1,\n",
    "                validation_data=(X_test, y_test))"
   ]
  },
  {
   "cell_type": "code",
   "execution_count": 6,
   "id": "55e72f49",
   "metadata": {
    "ExecuteTime": {
     "end_time": "2021-12-07T11:18:45.158926Z",
     "start_time": "2021-12-07T11:18:44.909892Z"
    }
   },
   "outputs": [],
   "source": [
    "import matplotlib.pyplot as plt"
   ]
  },
  {
   "cell_type": "markdown",
   "id": "a385f583",
   "metadata": {},
   "source": [
    "#### 훈련 상황"
   ]
  },
  {
   "cell_type": "code",
   "execution_count": 7,
   "id": "46049391",
   "metadata": {
    "ExecuteTime": {
     "end_time": "2021-12-07T11:18:45.339029Z",
     "start_time": "2021-12-07T11:18:45.160927Z"
    }
   },
   "outputs": [
    {
     "data": {
      "image/png": "[encoded data removed]",
      "text/plain": [
       "<Figure size 864x576 with 1 Axes>"
      ]
     },
     "metadata": {
      "needs_background": "light"
     },
     "output_type": "display_data"
    }
   ],
   "source": [
    "plot_target = ['loss', 'val_loss', 'accuracy', 'val_accuracy']\n",
    "\n",
    "plt.figure(figsize=(12, 8))\n",
    "\n",
    "for each in plot_target:\n",
    "    plt.plot(hist.history[each], label=each)\n",
    "\n",
    "plt.legend()\n",
    "plt.grid()\n",
    "plt.show()"
   ]
  },
  {
   "cell_type": "markdown",
   "id": "763723d1",
   "metadata": {},
   "source": [
    "- 학습이 매우 잘됨"
   ]
  },
  {
   "cell_type": "markdown",
   "id": "426d1259",
   "metadata": {},
   "source": [
    "#### Test Accuracy"
   ]
  },
  {
   "cell_type": "code",
   "execution_count": 14,
   "id": "6874f051",
   "metadata": {
    "ExecuteTime": {
     "end_time": "2021-12-07T11:23:26.427695Z",
     "start_time": "2021-12-07T11:23:24.720595Z"
    }
   },
   "outputs": [
    {
     "name": "stdout",
     "output_type": "stream",
     "text": [
      "313/313 [==============================] - 2s 5ms/step - loss: 0.0318 - accuracy: 0.9907\n",
      "Test loss:  0.03178421035408974\n",
      "Test accuracy:  0.9907000064849854\n"
     ]
    }
   ],
   "source": [
    "score = model.evaluate(X_test, y_test)\n",
    "print('Test loss: ', score[0])\n",
    "print('Test accuracy: ', score[1])"
   ]
  },
  {
   "cell_type": "markdown",
   "id": "043a1dbd",
   "metadata": {},
   "source": [
    "#### 틀린 데이터"
   ]
  },
  {
   "cell_type": "code",
   "execution_count": 8,
   "id": "e43ac67e",
   "metadata": {
    "ExecuteTime": {
     "end_time": "2021-12-07T11:19:37.940425Z",
     "start_time": "2021-12-07T11:19:36.099478Z"
    }
   },
   "outputs": [
    {
     "data": {
      "text/plain": [
       "array([7, 2, 1, 0, 4, 1, 4, 9, 5, 9], dtype=int64)"
      ]
     },
     "execution_count": 8,
     "metadata": {},
     "output_type": "execute_result"
    }
   ],
   "source": [
    "import numpy as np\n",
    "\n",
    "predicted_result = model.predict(X_test)\n",
    "predicted_labels = np.argmax(predicted_result, axis=1)\n",
    "predicted_labels[:10]"
   ]
  },
  {
   "cell_type": "code",
   "execution_count": 9,
   "id": "6466beac",
   "metadata": {
    "ExecuteTime": {
     "end_time": "2021-12-07T11:19:49.270235Z",
     "start_time": "2021-12-07T11:19:49.247236Z"
    }
   },
   "outputs": [
    {
     "data": {
      "text/plain": [
       "93"
      ]
     },
     "execution_count": 9,
     "metadata": {},
     "output_type": "execute_result"
    }
   ],
   "source": [
    "wrong_result = []\n",
    "\n",
    "for n in range(0, len(y_test)):\n",
    "    if predicted_labels[n] != y_test[n]:\n",
    "        wrong_result.append(n)\n",
    "\n",
    "len(wrong_result)"
   ]
  },
  {
   "cell_type": "code",
   "execution_count": 12,
   "id": "a31658b6",
   "metadata": {
    "ExecuteTime": {
     "end_time": "2021-12-07T11:21:22.991996Z",
     "start_time": "2021-12-07T11:21:22.985992Z"
    }
   },
   "outputs": [],
   "source": [
    "import random\n",
    "\n",
    "samples = random.choices(population=wrong_result, k=16)"
   ]
  },
  {
   "cell_type": "code",
   "execution_count": 13,
   "id": "bbcb3e0f",
   "metadata": {
    "ExecuteTime": {
     "end_time": "2021-12-07T11:21:40.240870Z",
     "start_time": "2021-12-07T11:21:39.795496Z"
    }
   },
   "outputs": [
    {
     "data": {
      "image/png": "[encoded data removed]",
      "text/plain": [
       "<Figure size 1008x864 with 16 Axes>"
      ]
     },
     "metadata": {
      "needs_background": "light"
     },
     "output_type": "display_data"
    }
   ],
   "source": [
    "plt.figure(figsize=(14, 12))\n",
    "\n",
    "for idx, n in enumerate(samples):\n",
    "    plt.subplot(4, 4, idx+1)\n",
    "    plt.imshow(X_test[n].reshape(28, 28), cmap='Greys', interpolation='nearest')\n",
    "    plt.title('Label: ' + str(y_test[n]) + ' | Predict: ' + str(predicted_labels[n]))\n",
    "    plt.axis('off')\n",
    "\n",
    "plt.show()"
   ]
  },
  {
   "cell_type": "markdown",
   "id": "6ab3c787",
   "metadata": {},
   "source": [
    "#### 모델 저장"
   ]
  },
  {
   "cell_type": "code",
   "execution_count": 15,
   "id": "f229c392",
   "metadata": {
    "ExecuteTime": {
     "end_time": "2021-12-07T11:26:03.662373Z",
     "start_time": "2021-12-07T11:26:03.598388Z"
    }
   },
   "outputs": [],
   "source": [
    "model.save('MNIST_CNN_model.h5')"
   ]
  },
  {
   "cell_type": "markdown",
   "id": "2660f493",
   "metadata": {},
   "source": [
    "#### 모델 불러오기"
   ]
  },
  {
   "cell_type": "code",
   "execution_count": 17,
   "id": "1f766b21",
   "metadata": {
    "ExecuteTime": {
     "end_time": "2021-12-07T11:27:33.868995Z",
     "start_time": "2021-12-07T11:27:33.749721Z"
    }
   },
   "outputs": [],
   "source": [
    "from keras.models import load_model\n",
    "\n",
    "model = load_model('MNIST_CNN_model.h5')"
   ]
  },
  {
   "cell_type": "code",
   "execution_count": 18,
   "id": "b2811c07",
   "metadata": {
    "ExecuteTime": {
     "end_time": "2021-12-07T11:27:38.543455Z",
     "start_time": "2021-12-07T11:27:38.522509Z"
    }
   },
   "outputs": [
    {
     "name": "stdout",
     "output_type": "stream",
     "text": [
      "Model: \"sequential\"\n",
      "_________________________________________________________________\n",
      " Layer (type)                Output Shape              Param #   \n",
      "=================================================================\n",
      " conv2d (Conv2D)             (None, 28, 28, 32)        832       \n",
      "                                                                 \n",
      " max_pooling2d (MaxPooling2D  (None, 14, 14, 32)       0         \n",
      " )                                                               \n",
      "                                                                 \n",
      " conv2d_1 (Conv2D)           (None, 14, 14, 64)        8256      \n",
      "                                                                 \n",
      " max_pooling2d_1 (MaxPooling  (None, 7, 7, 64)         0         \n",
      " 2D)                                                             \n",
      "                                                                 \n",
      " flatten (Flatten)           (None, 3136)              0         \n",
      "                                                                 \n",
      " dense (Dense)               (None, 1000)              3137000   \n",
      "                                                                 \n",
      " dense_1 (Dense)             (None, 10)                10010     \n",
      "                                                                 \n",
      "=================================================================\n",
      "Total params: 3,156,098\n",
      "Trainable params: 3,156,098\n",
      "Non-trainable params: 0\n",
      "_________________________________________________________________\n"
     ]
    }
   ],
   "source": [
    "model.summary()"
   ]
  },
  {
   "cell_type": "markdown",
   "id": "5ba0a049",
   "metadata": {},
   "source": [
    "### Fashion MNIST에도 적용"
   ]
  },
  {
   "cell_type": "code",
   "execution_count": 19,
   "id": "c9f31824",
   "metadata": {
    "ExecuteTime": {
     "end_time": "2021-12-07T11:28:48.824570Z",
     "start_time": "2021-12-07T11:28:48.384616Z"
    }
   },
   "outputs": [],
   "source": [
    "import tensorflow as tf\n",
    "\n",
    "mnist = tf.keras.datasets.fashion_mnist\n",
    "\n",
    "(X_train, y_train), (X_test, y_test) = mnist.load_data()\n",
    "X_train, X_test = X_train / 255.0, X_test / 255.0\n",
    "\n",
    "X_train = X_train.reshape((60000, 28, 28, 1))\n",
    "X_test = X_test.reshape((10000, 28, 28, 1))"
   ]
  },
  {
   "cell_type": "code",
   "execution_count": 20,
   "id": "36c482df",
   "metadata": {
    "ExecuteTime": {
     "end_time": "2021-12-07T11:33:17.579634Z",
     "start_time": "2021-12-07T11:29:49.040251Z"
    }
   },
   "outputs": [
    {
     "name": "stdout",
     "output_type": "stream",
     "text": [
      "Epoch 1/5\n",
      "1875/1875 [==============================] - 38s 20ms/step - loss: 0.3670 - accuracy: 0.8706 - val_loss: 0.2706 - val_accuracy: 0.9006\n",
      "Epoch 2/5\n",
      "1875/1875 [==============================] - 43s 23ms/step - loss: 0.2257 - accuracy: 0.9163 - val_loss: 0.2566 - val_accuracy: 0.9073\n",
      "Epoch 3/5\n",
      "1875/1875 [==============================] - 43s 23ms/step - loss: 0.1818 - accuracy: 0.9317 - val_loss: 0.2412 - val_accuracy: 0.9135\n",
      "Epoch 4/5\n",
      "1875/1875 [==============================] - 42s 23ms/step - loss: 0.1460 - accuracy: 0.9451 - val_loss: 0.2537 - val_accuracy: 0.9167\n",
      "Epoch 5/5\n",
      "1875/1875 [==============================] - 43s 23ms/step - loss: 0.1172 - accuracy: 0.9567 - val_loss: 0.2876 - val_accuracy: 0.9125\n",
      "Wall time: 3min 28s\n"
     ]
    }
   ],
   "source": [
    "%%time\n",
    "\n",
    "model.compile(optimizer='adam',\n",
    "             loss='sparse_categorical_crossentropy',\n",
    "             metrics=['accuracy'])\n",
    "\n",
    "hist = model.fit(X_train, y_train, epochs=5, verbose=1,\n",
    "                validation_data=(X_test, y_test))"
   ]
  },
  {
   "cell_type": "code",
   "execution_count": 21,
   "id": "d671f4ab",
   "metadata": {
    "ExecuteTime": {
     "end_time": "2021-12-07T11:33:25.735487Z",
     "start_time": "2021-12-07T11:33:25.604555Z"
    }
   },
   "outputs": [
    {
     "data": {
      "image/png": "[encoded data removed]",
      "text/plain": [
       "<Figure size 864x576 with 1 Axes>"
      ]
     },
     "metadata": {
      "needs_background": "light"
     },
     "output_type": "display_data"
    }
   ],
   "source": [
    "plot_target = ['loss', 'val_loss', 'accuracy', 'val_accuracy']\n",
    "\n",
    "plt.figure(figsize=(12, 8))\n",
    "\n",
    "for each in plot_target:\n",
    "    plt.plot(hist.history[each], label=each)\n",
    "\n",
    "plt.legend()\n",
    "plt.grid()\n",
    "plt.show()"
   ]
  },
  {
   "cell_type": "markdown",
   "id": "e4231426",
   "metadata": {},
   "source": [
    "- 약간의 과적합이 관찰되기도 한다"
   ]
  },
  {
   "cell_type": "code",
   "execution_count": 22,
   "id": "34b54245",
   "metadata": {
    "ExecuteTime": {
     "end_time": "2021-12-07T11:34:15.180209Z",
     "start_time": "2021-12-07T11:34:13.384086Z"
    }
   },
   "outputs": [
    {
     "name": "stdout",
     "output_type": "stream",
     "text": [
      "313/313 [==============================] - 2s 6ms/step - loss: 0.2876 - accuracy: 0.9125\n",
      "Test loss:  0.28757157921791077\n",
      "Test accuracy:  0.9125000238418579\n"
     ]
    }
   ],
   "source": [
    "score = model.evaluate(X_test, y_test)\n",
    "print('Test loss: ', score[0])\n",
    "print('Test accuracy: ', score[1])"
   ]
  }
 ],
 "metadata": {
  "kernelspec": {
   "display_name": "Python 3 (ipykernel)",
   "language": "python",
   "name": "python3"
  },
  "language_info": {
   "codemirror_mode": {
    "name": "ipython",
    "version": 3
   },
   "file_extension": ".py",
   "mimetype": "text/x-python",
   "name": "python",
   "nbconvert_exporter": "python",
   "pygments_lexer": "ipython3",
   "version": "3.9.7"
  },
  "toc": {
   "base_numbering": 1,
   "nav_menu": {},
   "number_sections": true,
   "sideBar": true,
   "skip_h1_title": false,
   "title_cell": "Table of Contents",
   "title_sidebar": "Contents",
   "toc_cell": false,
   "toc_position": {},
   "toc_section_display": true,
   "toc_window_display": true
  }
 },
 "nbformat": 4,
 "nbformat_minor": 5
}
