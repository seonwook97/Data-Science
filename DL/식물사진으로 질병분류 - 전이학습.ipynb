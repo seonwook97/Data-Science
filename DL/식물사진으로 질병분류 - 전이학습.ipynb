{
 "cells": [
  {
   "cell_type": "code",
   "execution_count": 1,
   "metadata": {
    "executionInfo": {
     "elapsed": 16287,
     "status": "ok",
     "timestamp": 1640061258354,
     "user": {
      "displayName": "고선욱",
      "photoUrl": "https://lh3.googleusercontent.com/a-/AOh14GhYHtZcRnOwos58wkQ2dg8IsUVtF6BPh72mLfxA0g=s64",
      "userId": "10132999861618830585"
     },
     "user_tz": -540
    },
    "id": "YRn13fygFfl9"
   },
   "outputs": [],
   "source": [
    "!unzip -qq '/content/drive/MyDrive/dataset.zip' -d './dataset'"
   ]
  },
  {
   "cell_type": "code",
   "execution_count": 2,
   "metadata": {
    "executionInfo": {
     "elapsed": 7,
     "status": "ok",
     "timestamp": 1640061258354,
     "user": {
      "displayName": "고선욱",
      "photoUrl": "https://lh3.googleusercontent.com/a-/AOh14GhYHtZcRnOwos58wkQ2dg8IsUVtF6BPh72mLfxA0g=s64",
      "userId": "10132999861618830585"
     },
     "user_tz": -540
    },
    "id": "cykRbNPiE-5S"
   },
   "outputs": [],
   "source": [
    "import os\n",
    "\n",
    "original_dataset_dir = './dataset'\n",
    "classes_list = os.listdir(original_dataset_dir)\n",
    "\n",
    "base_dir = './splitted'\n",
    "os.mkdir(base_dir)"
   ]
  },
  {
   "cell_type": "markdown",
   "metadata": {
    "id": "2xNYBN_LF3Vn"
   },
   "source": [
    "## 데이터 정리를 위한 목록 및 폴더 생성"
   ]
  },
  {
   "cell_type": "code",
   "execution_count": 3,
   "metadata": {
    "executionInfo": {
     "elapsed": 6,
     "status": "ok",
     "timestamp": 1640061258354,
     "user": {
      "displayName": "고선욱",
      "photoUrl": "https://lh3.googleusercontent.com/a-/AOh14GhYHtZcRnOwos58wkQ2dg8IsUVtF6BPh72mLfxA0g=s64",
      "userId": "10132999861618830585"
     },
     "user_tz": -540
    },
    "id": "6HqOrm3mFxvu"
   },
   "outputs": [],
   "source": [
    "import shutil\n",
    "\n",
    "train_dir = os.path.join(base_dir, 'train')\n",
    "os.mkdir(train_dir)\n",
    "validation_dir = os.path.join(base_dir, 'val')\n",
    "os.mkdir(validation_dir)\n",
    "test_dir = os.path.join(base_dir, 'test')\n",
    "os.mkdir(test_dir)\n",
    "\n",
    "for cls in classes_list:\n",
    "    os.mkdir(os.path.join(train_dir, cls))\n",
    "    os.mkdir(os.path.join(validation_dir, cls))\n",
    "    os.mkdir(os.path.join(test_dir, cls))"
   ]
  },
  {
   "cell_type": "markdown",
   "metadata": {
    "id": "gk16iAvTF7B2"
   },
   "source": [
    "## 데이터 현황 확인"
   ]
  },
  {
   "cell_type": "code",
   "execution_count": 4,
   "metadata": {
    "colab": {
     "base_uri": "https://localhost:8080/"
    },
    "executionInfo": {
     "elapsed": 7037,
     "status": "ok",
     "timestamp": 1640061265386,
     "user": {
      "displayName": "고선욱",
      "photoUrl": "https://lh3.googleusercontent.com/a-/AOh14GhYHtZcRnOwos58wkQ2dg8IsUVtF6BPh72mLfxA0g=s64",
      "userId": "10132999861618830585"
     },
     "user_tz": -540
    },
    "id": "6RadWt3kF9HA",
    "outputId": "c3779281-6984-491b-8d09-e4537689462c"
   },
   "outputs": [
    {
     "name": "stdout",
     "output_type": "stream",
     "text": [
      "Train size( Corn___Cercospora_leaf_spot Gray_leaf_spot ):  307\n",
      "Validation size( Corn___Cercospora_leaf_spot Gray_leaf_spot ):  102\n",
      "Test size( Corn___Cercospora_leaf_spot Gray_leaf_spot ):  102\n",
      "Train size( Potato___Late_blight ):  600\n",
      "Validation size( Potato___Late_blight ):  200\n",
      "Test size( Potato___Late_blight ):  200\n",
      "Train size( Tomato___Septoria_leaf_spot ):  1062\n",
      "Validation size( Tomato___Septoria_leaf_spot ):  354\n",
      "Test size( Tomato___Septoria_leaf_spot ):  354\n",
      "Train size( Grape___Black_rot ):  708\n",
      "Validation size( Grape___Black_rot ):  236\n",
      "Test size( Grape___Black_rot ):  236\n",
      "Train size( Strawberry___healthy ):  273\n",
      "Validation size( Strawberry___healthy ):  91\n",
      "Test size( Strawberry___healthy ):  91\n",
      "Train size( Peach___Bacterial_spot ):  1378\n",
      "Validation size( Peach___Bacterial_spot ):  459\n",
      "Test size( Peach___Bacterial_spot ):  459\n",
      "Train size( Tomato___Bacterial_spot ):  1276\n",
      "Validation size( Tomato___Bacterial_spot ):  425\n",
      "Test size( Tomato___Bacterial_spot ):  425\n",
      "Train size( Apple___Cedar_apple_rust ):  165\n",
      "Validation size( Apple___Cedar_apple_rust ):  55\n",
      "Test size( Apple___Cedar_apple_rust ):  55\n",
      "Train size( Cherry___healthy ):  512\n",
      "Validation size( Cherry___healthy ):  170\n",
      "Test size( Cherry___healthy ):  170\n",
      "Train size( Pepper,_bell___healthy ):  886\n",
      "Validation size( Pepper,_bell___healthy ):  295\n",
      "Test size( Pepper,_bell___healthy ):  295\n",
      "Train size( Apple___Apple_scab ):  378\n",
      "Validation size( Apple___Apple_scab ):  126\n",
      "Test size( Apple___Apple_scab ):  126\n",
      "Train size( Apple___Black_rot ):  372\n",
      "Validation size( Apple___Black_rot ):  124\n",
      "Test size( Apple___Black_rot ):  124\n",
      "Train size( Tomato___Spider_mites Two-spotted_spider_mite ):  1005\n",
      "Validation size( Tomato___Spider_mites Two-spotted_spider_mite ):  335\n",
      "Test size( Tomato___Spider_mites Two-spotted_spider_mite ):  335\n",
      "Train size( Tomato___Target_Spot ):  842\n",
      "Validation size( Tomato___Target_Spot ):  280\n",
      "Test size( Tomato___Target_Spot ):  280\n",
      "Train size( Tomato___Early_blight ):  600\n",
      "Validation size( Tomato___Early_blight ):  200\n",
      "Test size( Tomato___Early_blight ):  200\n",
      "Train size( Potato___Early_blight ):  600\n",
      "Validation size( Potato___Early_blight ):  200\n",
      "Test size( Potato___Early_blight ):  200\n",
      "Train size( Tomato___Late_blight ):  1145\n",
      "Validation size( Tomato___Late_blight ):  381\n",
      "Test size( Tomato___Late_blight ):  381\n",
      "Train size( Grape___Esca_(Black_Measles) ):  829\n",
      "Validation size( Grape___Esca_(Black_Measles) ):  276\n",
      "Test size( Grape___Esca_(Black_Measles) ):  276\n",
      "Train size( Pepper,_bell___Bacterial_spot ):  598\n",
      "Validation size( Pepper,_bell___Bacterial_spot ):  199\n",
      "Test size( Pepper,_bell___Bacterial_spot ):  199\n",
      "Train size( Corn___Common_rust ):  715\n",
      "Validation size( Corn___Common_rust ):  238\n",
      "Test size( Corn___Common_rust ):  238\n",
      "Train size( Corn___healthy ):  697\n",
      "Validation size( Corn___healthy ):  232\n",
      "Test size( Corn___healthy ):  232\n",
      "Train size( Potato___healthy ):  91\n",
      "Validation size( Potato___healthy ):  30\n",
      "Test size( Potato___healthy ):  30\n",
      "Train size( Corn___Northern_Leaf_Blight ):  591\n",
      "Validation size( Corn___Northern_Leaf_Blight ):  197\n",
      "Test size( Corn___Northern_Leaf_Blight ):  197\n",
      "Train size( Grape___Leaf_blight_(Isariopsis_Leaf_Spot) ):  645\n",
      "Validation size( Grape___Leaf_blight_(Isariopsis_Leaf_Spot) ):  215\n",
      "Test size( Grape___Leaf_blight_(Isariopsis_Leaf_Spot) ):  215\n",
      "Train size( Grape___healthy ):  253\n",
      "Validation size( Grape___healthy ):  84\n",
      "Test size( Grape___healthy ):  84\n",
      "Train size( Tomato___Tomato_Yellow_Leaf_Curl_Virus ):  3214\n",
      "Validation size( Tomato___Tomato_Yellow_Leaf_Curl_Virus ):  1071\n",
      "Test size( Tomato___Tomato_Yellow_Leaf_Curl_Virus ):  1071\n",
      "Train size( Peach___healthy ):  216\n",
      "Validation size( Peach___healthy ):  72\n",
      "Test size( Peach___healthy ):  72\n",
      "Train size( Apple___healthy ):  987\n",
      "Validation size( Apple___healthy ):  329\n",
      "Test size( Apple___healthy ):  329\n",
      "Train size( Tomato___Tomato_mosaic_virus ):  223\n",
      "Validation size( Tomato___Tomato_mosaic_virus ):  74\n",
      "Test size( Tomato___Tomato_mosaic_virus ):  74\n",
      "Train size( Strawberry___Leaf_scorch ):  665\n",
      "Validation size( Strawberry___Leaf_scorch ):  221\n",
      "Test size( Strawberry___Leaf_scorch ):  221\n",
      "Train size( Tomato___Leaf_Mold ):  571\n",
      "Validation size( Tomato___Leaf_Mold ):  190\n",
      "Test size( Tomato___Leaf_Mold ):  190\n",
      "Train size( Tomato___healthy ):  954\n",
      "Validation size( Tomato___healthy ):  318\n",
      "Test size( Tomato___healthy ):  318\n",
      "Train size( Cherry___Powdery_mildew ):  631\n",
      "Validation size( Cherry___Powdery_mildew ):  210\n",
      "Test size( Cherry___Powdery_mildew ):  210\n"
     ]
    }
   ],
   "source": [
    "import math\n",
    "\n",
    "for cls in classes_list:\n",
    "    path = os.path.join(original_dataset_dir, cls)\n",
    "    fnames = os.listdir(path)\n",
    "\n",
    "    train_size = math.floor(len(fnames) * 0.6)\n",
    "    validation_size = math.floor(len(fnames) * 0.2)\n",
    "    test_size = math.floor(len(fnames) * 0.2)\n",
    "\n",
    "    train_fnames = fnames[:train_size]\n",
    "    print('Train size(',cls,'): ', len(train_fnames))\n",
    "    for fname in train_fnames:\n",
    "        src = os.path.join(path, fname)\n",
    "        dst = os.path.join(os.path.join(train_dir, cls), fname)\n",
    "        shutil.copyfile(src, dst)\n",
    "\n",
    "    validation_fnames = fnames[train_size:(validation_size + train_size)]\n",
    "    print('Validation size(',cls,'): ', len(validation_fnames))\n",
    "    for fname in validation_fnames:\n",
    "        src = os.path.join(path, fname)\n",
    "        dst = os.path.join(os.path.join(validation_dir, cls), fname)\n",
    "        shutil.copyfile(src, dst)\n",
    "    \n",
    "    test_fnames = fnames[(train_size + validation_size):(validation_size + train_size + test_size)]\n",
    "    print('Test size(',cls,'): ', len(test_fnames))\n",
    "    for fname in test_fnames:\n",
    "        src = os.path.join(path, fname)\n",
    "        dst = os.path.join(os.path.join(test_dir, cls), fname)\n",
    "        shutil.copyfile(src, dst)"
   ]
  },
  {
   "cell_type": "markdown",
   "metadata": {
    "id": "qjiVVyRVGDM8"
   },
   "source": [
    "## 학습 준비"
   ]
  },
  {
   "cell_type": "code",
   "execution_count": 5,
   "metadata": {
    "executionInfo": {
     "elapsed": 8650,
     "status": "ok",
     "timestamp": 1640061274034,
     "user": {
      "displayName": "고선욱",
      "photoUrl": "https://lh3.googleusercontent.com/a-/AOh14GhYHtZcRnOwos58wkQ2dg8IsUVtF6BPh72mLfxA0g=s64",
      "userId": "10132999861618830585"
     },
     "user_tz": -540
    },
    "id": "tVfjwAUCGEHC"
   },
   "outputs": [],
   "source": [
    "import torch\n",
    "import os\n",
    "\n",
    "USE_CUDA = torch.cuda.is_available()\n",
    "DEVICE = torch.device('cuda' if USE_CUDA else 'cpu')\n",
    "BATCH_SIZE = 256 # 크게 할수록 학습이 빨리 되나, GPU 메모리 한계가 있음\n",
    "EPOCH = 30"
   ]
  },
  {
   "cell_type": "code",
   "execution_count": 6,
   "metadata": {
    "executionInfo": {
     "elapsed": 9,
     "status": "ok",
     "timestamp": 1640061274034,
     "user": {
      "displayName": "고선욱",
      "photoUrl": "https://lh3.googleusercontent.com/a-/AOh14GhYHtZcRnOwos58wkQ2dg8IsUVtF6BPh72mLfxA0g=s64",
      "userId": "10132999861618830585"
     },
     "user_tz": -540
    },
    "id": "BcaEfrqPHDZJ"
   },
   "outputs": [],
   "source": [
    "import torchvision.transforms as transforms\n",
    "\n",
    "data_transforms = {\n",
    "    'train': transforms.Compose([transforms.Resize([64, 64]), # 전처리\n",
    "        transforms.RandomHorizontalFlip(), transforms.RandomVerticalFlip(), # 상하좌우로 이미지 반전 -> 기하학적 증강 -> 과적합 방지용\n",
    "        transforms.RandomCrop(52), transforms.ToTensor(), # Crop: 이미지 자르기 -> 이미지의 일부를 보여주는 효과 \n",
    "        transforms.Normalize([0.485, 0.456, 0.406], [0.229, 0.224, 0.225]) ]), # RGB 색깔이 MinMax-Scailing이 된것 (평균, 표준편차)\n",
    "    \n",
    "    'val': transforms.Compose([transforms.Resize([64, 64]),\n",
    "        transforms.RandomCrop(52), transforms.ToTensor(),\n",
    "        transforms.Normalize([0.485, 0.456, 0.406], [0.229, 0.224, 0.225]) ])\n",
    "}"
   ]
  },
  {
   "cell_type": "code",
   "execution_count": 7,
   "metadata": {
    "colab": {
     "base_uri": "https://localhost:8080/"
    },
    "executionInfo": {
     "elapsed": 9,
     "status": "ok",
     "timestamp": 1640061274034,
     "user": {
      "displayName": "고선욱",
      "photoUrl": "https://lh3.googleusercontent.com/a-/AOh14GhYHtZcRnOwos58wkQ2dg8IsUVtF6BPh72mLfxA0g=s64",
      "userId": "10132999861618830585"
     },
     "user_tz": -540
    },
    "id": "hp3OvZRCHMZ4",
    "outputId": "d3d76c8f-dc71-4c2b-8f2b-1ab1b47c700f"
   },
   "outputs": [
    {
     "name": "stderr",
     "output_type": "stream",
     "text": [
      "/usr/local/lib/python3.7/dist-packages/torch/utils/data/dataloader.py:481: UserWarning: This DataLoader will create 4 worker processes in total. Our suggested max number of worker in current system is 2, which is smaller than what this DataLoader is going to create. Please be aware that excessive worker creation might get DataLoader running slow or even freeze, lower the worker number to avoid potential slowness/freeze if necessary.\n",
      "  cpuset_checked))\n"
     ]
    }
   ],
   "source": [
    "from torchvision.datasets import ImageFolder\n",
    "\n",
    "data_dir = './splitted'\n",
    "image_datasets = {x: ImageFolder(root=os.path.join(data_dir, x),\n",
    "                                 transform=data_transforms[x]) for x in ['train', 'val']}\n",
    "dataloaders = {x: torch.utils.data.DataLoader(image_datasets[x],\n",
    "                                              batch_size=BATCH_SIZE,\n",
    "                                              shuffle=True,\n",
    "                                              num_workers=4) for x in ['train', 'val']}\n",
    "dataset_sizes = {x: len(image_datasets[x]) for x in ['train', 'val']}\n",
    "\n",
    "class_names = image_datasets['train'].classes"
   ]
  },
  {
   "cell_type": "markdown",
   "metadata": {
    "id": "Ur-P2IKcJnvG"
   },
   "source": [
    "## 모델 불러오기 - resnet50"
   ]
  },
  {
   "cell_type": "code",
   "execution_count": 8,
   "metadata": {
    "colab": {
     "base_uri": "https://localhost:8080/",
     "height": 67,
     "referenced_widgets": [
      "ae91ae36c4ed45809b4ec53e5dfc3226",
      "3cd606dddc834e9bbfd6b50428aaf784",
      "aaff8fc8669f43f5b47ecb04947f058b",
      "0185271471be4230a19eec1dc4470dfb",
      "55e0c43e7e8c4bb8b9c23f2abe97da6b",
      "6c8fef8c32d547c093583f9d65e64d3f",
      "6cbeef27574c44059657cdcdc7f85835",
      "10244d779e52411ebc27a0a97d39b54e",
      "cbe27ed11ae946f1bf26973684d1688f",
      "59fb60c2339f46798569e42dfa5e64b7",
      "eafd5d58cd19442ebc0bd2bbf5978e3c"
     ]
    },
    "executionInfo": {
     "elapsed": 10679,
     "status": "ok",
     "timestamp": 1640061403174,
     "user": {
      "displayName": "고선욱",
      "photoUrl": "https://lh3.googleusercontent.com/a-/AOh14GhYHtZcRnOwos58wkQ2dg8IsUVtF6BPh72mLfxA0g=s64",
      "userId": "10132999861618830585"
     },
     "user_tz": -540
    },
    "id": "4BgqT4SpJyht",
    "outputId": "ca1416cc-9f3e-41eb-dd38-896ead11e0c3"
   },
   "outputs": [
    {
     "name": "stderr",
     "output_type": "stream",
     "text": [
      "Downloading: \"https://download.pytorch.org/models/resnet50-0676ba61.pth\" to /root/.cache/torch/hub/checkpoints/resnet50-0676ba61.pth\n"
     ]
    },
    {
     "data": {
      "application/vnd.jupyter.widget-view+json": {
       "model_id": "ae91ae36c4ed45809b4ec53e5dfc3226",
       "version_major": 2,
       "version_minor": 0
      },
      "text/plain": [
       "  0%|          | 0.00/97.8M [00:00<?, ?B/s]"
      ]
     },
     "metadata": {},
     "output_type": "display_data"
    }
   ],
   "source": [
    "import torch.nn as nn\n",
    "import torch.optim as optim\n",
    "from torchvision import models # 모델들을 불러올 수 있다\n",
    "from torch.optim import lr_scheduler\n",
    "\n",
    "resnet = models.resnet50(pretrained=True) # pretained=True: 학습이 된 가중치를 가져옴, False는 model의 구조만\n",
    "num_ftrs = resnet.fc.in_features # 마지막 layer의 채널 수\n",
    "resnet.fc = nn.Linear(num_ftrs, 33) # 클래스의 수가 resnet50과 다름 -> 출력단의 채널 수를 수정\n",
    "resnet = resnet.to(DEVICE)\n",
    "\n",
    "criterion = nn.CrossEntropyLoss()\n",
    "optimizer_ft = optim.Adam(filter(lambda p: p.requires_grad, resnet.parameters()), lr=0.001) # p.requires_grad: 마지막에 교체한 33개의 fully-connected-layer는 학습이 안되어 있으므로 설정\n",
    "\n",
    "exp_lr_scheduler = lr_scheduler.StepLR(optimizer_ft, step_size=7, gamma=0.1) # epoch에 따라 learning rate를 수정 -> 7epoch마다 learning rate를 0.1씩 감소시킴"
   ]
  },
  {
   "cell_type": "code",
   "execution_count": 9,
   "metadata": {
    "executionInfo": {
     "elapsed": 2,
     "status": "ok",
     "timestamp": 1640061480326,
     "user": {
      "displayName": "고선욱",
      "photoUrl": "https://lh3.googleusercontent.com/a-/AOh14GhYHtZcRnOwos58wkQ2dg8IsUVtF6BPh72mLfxA0g=s64",
      "userId": "10132999861618830585"
     },
     "user_tz": -540
    },
    "id": "1lxEnWJfRtJE"
   },
   "outputs": [],
   "source": [
    "ct = 0\n",
    "for child in resnet.children(): # resnet.children(): 어떤 모델에 속해있는 하위 layer들의 정보를 받아옴, resnet은 10개의 layer가 존재 0~5 layer들을 학습하지 않도록 -> 입력에 가까운 층들\n",
    "    ct += 1\n",
    "    if ct < 6:\n",
    "        for param in child.parameters():\n",
    "            param.requires_grad = False"
   ]
  },
  {
   "cell_type": "code",
   "execution_count": 11,
   "metadata": {
    "executionInfo": {
     "elapsed": 2,
     "status": "ok",
     "timestamp": 1640062244882,
     "user": {
      "displayName": "고선욱",
      "photoUrl": "https://lh3.googleusercontent.com/a-/AOh14GhYHtZcRnOwos58wkQ2dg8IsUVtF6BPh72mLfxA0g=s64",
      "userId": "10132999861618830585"
     },
     "user_tz": -540
    },
    "id": "IVq5O6OOSCej"
   },
   "outputs": [],
   "source": [
    "import copy\n",
    "import time\n",
    "\n",
    "def train_resnet(model, criterion, optimizer, scheduler, num_epochs=25):\n",
    "\n",
    "    best_model_wts = copy.deepcopy(model.state_dict())\n",
    "    best_acc = 0.0\n",
    "\n",
    "    for epoch in range(num_epochs):\n",
    "        print('-------------- epoch {} --------------'.format(epoch+1))\n",
    "        since = time.time()\n",
    "        for phase in ['train', 'val']:\n",
    "            if phase == 'train':\n",
    "                model.train()\n",
    "            else:\n",
    "                model.eval()\n",
    "\n",
    "            running_loss = 0.0\n",
    "            running_corrects = 0\n",
    "\n",
    "\n",
    "            for inputs, labels in dataloaders[phase]:\n",
    "                inputs = inputs.to(DEVICE)\n",
    "                labels = labels.to(DEVICE)\n",
    "\n",
    "                optimizer.zero_grad()\n",
    "\n",
    "                with torch.set_grad_enabled(phase == 'train'): # 만약에 train모드라면 gradient 학습을 허가\n",
    "                    outputs = model(inputs)\n",
    "                    _, preds = torch.max(outputs, 1) # 원-핫 인코딩된 33개의 output들 중 가장 높은 인덱스 값을 preds에 저장\n",
    "                    loss = criterion(outputs, labels)\n",
    "\n",
    "                    if phase == 'train':\n",
    "                        loss.backward()\n",
    "                        optimizer.step()\n",
    "                running_loss += loss.item() * inputs.size(0) # loss 업데이트, inputs.size(0)은 batch size, loss는 batch size 개수만큼 곱해진 값의 총 합산\n",
    "                running_corrects += torch.sum(preds == labels.data)\n",
    "            if phase == 'train':\n",
    "                scheduler.step()\n",
    "\n",
    "            epoch_loss = running_loss/dataset_sizes[phase]\n",
    "            epoch_acc = running_corrects.double()/dataset_sizes[phase]\n",
    "\n",
    "            print('{} Loss: {:.4f} Acc: {:.4f}'.format(phase, epoch_loss, epoch_acc))\n",
    "\n",
    "\n",
    "            if phase == 'val' and epoch_acc > best_acc:\n",
    "                best_acc = epoch_acc\n",
    "                best_model_wts = copy.deepcopy(model.state_dict())\n",
    "        \n",
    "        time_elapsed = time.time() - since\n",
    "        print('Completed in {:.0f}m {:.0f}s'.format(time_elapsed // 60, time_elapsed % 60))\n",
    "    print('Best val Acc: {:4f}'.format(best_acc))\n",
    "\n",
    "    model.load_state_dict(best_model_wts)\n",
    "\n",
    "    return model"
   ]
  },
  {
   "cell_type": "markdown",
   "metadata": {
    "id": "gickBkC8UrFt"
   },
   "source": [
    "## 학습 시작"
   ]
  },
  {
   "cell_type": "code",
   "execution_count": 12,
   "metadata": {
    "colab": {
     "base_uri": "https://localhost:8080/"
    },
    "executionInfo": {
     "elapsed": 2251559,
     "status": "ok",
     "timestamp": 1640064658267,
     "user": {
      "displayName": "고선욱",
      "photoUrl": "https://lh3.googleusercontent.com/a-/AOh14GhYHtZcRnOwos58wkQ2dg8IsUVtF6BPh72mLfxA0g=s64",
      "userId": "10132999861618830585"
     },
     "user_tz": -540
    },
    "id": "2PwI8WQDVBtC",
    "outputId": "b3f83c24-3961-48e8-8147-20eb15544203"
   },
   "outputs": [
    {
     "name": "stdout",
     "output_type": "stream",
     "text": [
      "-------------- epoch 1 --------------\n"
     ]
    },
    {
     "name": "stderr",
     "output_type": "stream",
     "text": [
      "/usr/local/lib/python3.7/dist-packages/torch/utils/data/dataloader.py:481: UserWarning: This DataLoader will create 4 worker processes in total. Our suggested max number of worker in current system is 2, which is smaller than what this DataLoader is going to create. Please be aware that excessive worker creation might get DataLoader running slow or even freeze, lower the worker number to avoid potential slowness/freeze if necessary.\n",
      "  cpuset_checked))\n"
     ]
    },
    {
     "name": "stdout",
     "output_type": "stream",
     "text": [
      "train Loss: 0.5766 Acc: 0.8229\n",
      "val Loss: 0.3364 Acc: 0.8954\n",
      "Completed in 1m 12s\n",
      "-------------- epoch 2 --------------\n",
      "train Loss: 0.2204 Acc: 0.9296\n",
      "val Loss: 0.2023 Acc: 0.9364\n",
      "Completed in 1m 12s\n",
      "-------------- epoch 3 --------------\n",
      "train Loss: 0.1767 Acc: 0.9432\n",
      "val Loss: 0.1764 Acc: 0.9425\n",
      "Completed in 1m 13s\n",
      "-------------- epoch 4 --------------\n",
      "train Loss: 0.1356 Acc: 0.9547\n",
      "val Loss: 0.1145 Acc: 0.9656\n",
      "Completed in 1m 19s\n",
      "-------------- epoch 5 --------------\n",
      "train Loss: 0.1237 Acc: 0.9591\n",
      "val Loss: 0.1411 Acc: 0.9563\n",
      "Completed in 1m 20s\n",
      "-------------- epoch 6 --------------\n",
      "train Loss: 0.1003 Acc: 0.9671\n",
      "val Loss: 0.1549 Acc: 0.9538\n",
      "Completed in 1m 19s\n",
      "-------------- epoch 7 --------------\n",
      "train Loss: 0.0941 Acc: 0.9691\n",
      "val Loss: 0.1281 Acc: 0.9624\n",
      "Completed in 1m 18s\n",
      "-------------- epoch 8 --------------\n",
      "train Loss: 0.0491 Acc: 0.9840\n",
      "val Loss: 0.0500 Acc: 0.9855\n",
      "Completed in 1m 17s\n",
      "-------------- epoch 9 --------------\n",
      "train Loss: 0.0275 Acc: 0.9910\n",
      "val Loss: 0.0461 Acc: 0.9862\n",
      "Completed in 1m 12s\n",
      "-------------- epoch 10 --------------\n",
      "train Loss: 0.0239 Acc: 0.9929\n",
      "val Loss: 0.0449 Acc: 0.9865\n",
      "Completed in 1m 18s\n",
      "-------------- epoch 11 --------------\n",
      "train Loss: 0.0207 Acc: 0.9931\n",
      "val Loss: 0.0418 Acc: 0.9882\n",
      "Completed in 1m 12s\n",
      "-------------- epoch 12 --------------\n",
      "train Loss: 0.0194 Acc: 0.9932\n",
      "val Loss: 0.0428 Acc: 0.9884\n",
      "Completed in 1m 13s\n",
      "-------------- epoch 13 --------------\n",
      "train Loss: 0.0178 Acc: 0.9941\n",
      "val Loss: 0.0389 Acc: 0.9894\n",
      "Completed in 1m 11s\n",
      "-------------- epoch 14 --------------\n",
      "train Loss: 0.0174 Acc: 0.9944\n",
      "val Loss: 0.0392 Acc: 0.9897\n",
      "Completed in 1m 12s\n",
      "-------------- epoch 15 --------------\n",
      "train Loss: 0.0139 Acc: 0.9956\n",
      "val Loss: 0.0409 Acc: 0.9889\n",
      "Completed in 1m 12s\n",
      "-------------- epoch 16 --------------\n",
      "train Loss: 0.0136 Acc: 0.9957\n",
      "val Loss: 0.0374 Acc: 0.9891\n",
      "Completed in 1m 12s\n",
      "-------------- epoch 17 --------------\n",
      "train Loss: 0.0123 Acc: 0.9965\n",
      "val Loss: 0.0412 Acc: 0.9894\n",
      "Completed in 1m 12s\n",
      "-------------- epoch 18 --------------\n",
      "train Loss: 0.0128 Acc: 0.9957\n",
      "val Loss: 0.0390 Acc: 0.9895\n",
      "Completed in 1m 17s\n",
      "-------------- epoch 19 --------------\n",
      "train Loss: 0.0122 Acc: 0.9966\n",
      "val Loss: 0.0377 Acc: 0.9899\n",
      "Completed in 1m 17s\n",
      "-------------- epoch 20 --------------\n",
      "train Loss: 0.0129 Acc: 0.9956\n",
      "val Loss: 0.0412 Acc: 0.9875\n",
      "Completed in 1m 17s\n",
      "-------------- epoch 21 --------------\n",
      "train Loss: 0.0126 Acc: 0.9958\n",
      "val Loss: 0.0386 Acc: 0.9897\n",
      "Completed in 1m 15s\n",
      "-------------- epoch 22 --------------\n",
      "train Loss: 0.0116 Acc: 0.9965\n",
      "val Loss: 0.0371 Acc: 0.9899\n",
      "Completed in 1m 16s\n",
      "-------------- epoch 23 --------------\n",
      "train Loss: 0.0120 Acc: 0.9962\n",
      "val Loss: 0.0351 Acc: 0.9900\n",
      "Completed in 1m 17s\n",
      "-------------- epoch 24 --------------\n",
      "train Loss: 0.0109 Acc: 0.9964\n",
      "val Loss: 0.0354 Acc: 0.9899\n",
      "Completed in 1m 15s\n",
      "-------------- epoch 25 --------------\n",
      "train Loss: 0.0118 Acc: 0.9962\n",
      "val Loss: 0.0371 Acc: 0.9892\n",
      "Completed in 1m 17s\n",
      "-------------- epoch 26 --------------\n",
      "train Loss: 0.0120 Acc: 0.9962\n",
      "val Loss: 0.0355 Acc: 0.9901\n",
      "Completed in 1m 13s\n",
      "-------------- epoch 27 --------------\n",
      "train Loss: 0.0114 Acc: 0.9965\n",
      "val Loss: 0.0355 Acc: 0.9904\n",
      "Completed in 1m 17s\n",
      "-------------- epoch 28 --------------\n",
      "train Loss: 0.0120 Acc: 0.9962\n",
      "val Loss: 0.0375 Acc: 0.9910\n",
      "Completed in 1m 13s\n",
      "-------------- epoch 29 --------------\n",
      "train Loss: 0.0115 Acc: 0.9965\n",
      "val Loss: 0.0375 Acc: 0.9914\n",
      "Completed in 1m 17s\n",
      "-------------- epoch 30 --------------\n",
      "train Loss: 0.0126 Acc: 0.9959\n",
      "val Loss: 0.0389 Acc: 0.9899\n",
      "Completed in 1m 13s\n",
      "Best val Acc: 0.991363\n"
     ]
    }
   ],
   "source": [
    "model_restnet50 = train_resnet(resnet, criterion, optimizer_ft,\n",
    "                               exp_lr_scheduler, num_epochs=EPOCH)\n",
    "\n",
    "torch.save(model_restnet50, 'resnet50.pt')"
   ]
  },
  {
   "cell_type": "markdown",
   "metadata": {
    "id": "c8xCd3zHVkyl"
   },
   "source": [
    "## 테스트셋 적용"
   ]
  },
  {
   "cell_type": "code",
   "execution_count": 14,
   "metadata": {
    "colab": {
     "base_uri": "https://localhost:8080/"
    },
    "executionInfo": {
     "elapsed": 2,
     "status": "ok",
     "timestamp": 1640064734009,
     "user": {
      "displayName": "고선욱",
      "photoUrl": "https://lh3.googleusercontent.com/a-/AOh14GhYHtZcRnOwos58wkQ2dg8IsUVtF6BPh72mLfxA0g=s64",
      "userId": "10132999861618830585"
     },
     "user_tz": -540
    },
    "id": "n9K4xC47WbdZ",
    "outputId": "a8fec7d1-776e-416d-b6c3-83fc1453bac0"
   },
   "outputs": [
    {
     "name": "stderr",
     "output_type": "stream",
     "text": [
      "/usr/local/lib/python3.7/dist-packages/torch/utils/data/dataloader.py:481: UserWarning: This DataLoader will create 4 worker processes in total. Our suggested max number of worker in current system is 2, which is smaller than what this DataLoader is going to create. Please be aware that excessive worker creation might get DataLoader running slow or even freeze, lower the worker number to avoid potential slowness/freeze if necessary.\n",
      "  cpuset_checked))\n"
     ]
    }
   ],
   "source": [
    "transform_resNet = transforms.Compose([\n",
    "        transforms.Resize([64, 64]),\n",
    "        transforms.RandomCrop(52),\n",
    "        transforms.ToTensor(),\n",
    "        transforms.Normalize([0.485, 0.456, 0.406], [0.229, 0.224, 0.225])\n",
    "    ])\n",
    "\n",
    "test_resNet = ImageFolder(root='./splitted/test', transform=transform_resNet)\n",
    "test_loader_resNet = torch.utils.data.DataLoader(test_resNet,\n",
    "                                                 batch_size=BATCH_SIZE,\n",
    "                                                 shuffle=True,\n",
    "                                                 num_workers=4)"
   ]
  },
  {
   "cell_type": "markdown",
   "metadata": {
    "id": "2zqZOQiSXl7Y"
   },
   "source": [
    "## 모델 평가"
   ]
  },
  {
   "cell_type": "code",
   "execution_count": 15,
   "metadata": {
    "executionInfo": {
     "elapsed": 473,
     "status": "ok",
     "timestamp": 1640064742164,
     "user": {
      "displayName": "고선욱",
      "photoUrl": "https://lh3.googleusercontent.com/a-/AOh14GhYHtZcRnOwos58wkQ2dg8IsUVtF6BPh72mLfxA0g=s64",
      "userId": "10132999861618830585"
     },
     "user_tz": -540
    },
    "id": "3uxsnVrEYNkf"
   },
   "outputs": [],
   "source": [
    "import torch.nn.functional as F\n",
    "\n",
    "def evaluate(model, test_loader):\n",
    "    model.eval()\n",
    "    test_loss = 0\n",
    "    correct = 0\n",
    "\n",
    "    with torch.no_grad(): \n",
    "        for data, target in test_loader:\n",
    "            data, target = data.to(DEVICE), target.to(DEVICE)\n",
    "            output = model(data)\n",
    "\n",
    "            test_loss += F.cross_entropy(output, target, reduction='sum').item()\n",
    "\n",
    "            pred = output.max(1, keepdim=True)[1]\n",
    "            correct += pred.eq(target.view_as(pred)).sum().item()\n",
    "\n",
    "    test_loss /= len(test_loader.dataset)\n",
    "    test_accuracy = 100. * correct / len(test_loader.dataset)\n",
    "    return test_loss, test_accuracy"
   ]
  },
  {
   "cell_type": "code",
   "execution_count": 16,
   "metadata": {
    "colab": {
     "base_uri": "https://localhost:8080/"
    },
    "executionInfo": {
     "elapsed": 15796,
     "status": "ok",
     "timestamp": 1640064761396,
     "user": {
      "displayName": "고선욱",
      "photoUrl": "https://lh3.googleusercontent.com/a-/AOh14GhYHtZcRnOwos58wkQ2dg8IsUVtF6BPh72mLfxA0g=s64",
      "userId": "10132999861618830585"
     },
     "user_tz": -540
    },
    "id": "BOwl2jzkXnNk",
    "outputId": "8b6984a1-d94f-4f25-ebc1-dd28e4e9bfca"
   },
   "outputs": [
    {
     "name": "stderr",
     "output_type": "stream",
     "text": [
      "/usr/local/lib/python3.7/dist-packages/torch/utils/data/dataloader.py:481: UserWarning: This DataLoader will create 4 worker processes in total. Our suggested max number of worker in current system is 2, which is smaller than what this DataLoader is going to create. Please be aware that excessive worker creation might get DataLoader running slow or even freeze, lower the worker number to avoid potential slowness/freeze if necessary.\n",
      "  cpuset_checked))\n"
     ]
    },
    {
     "name": "stdout",
     "output_type": "stream",
     "text": [
      "ResNet test acc:  99.04869195143323\n"
     ]
    }
   ],
   "source": [
    "resnet50 = torch.load('resnet50.pt')\n",
    "resnet50.eval()\n",
    "test_loss, test_accuracy = evaluate(resnet50, test_loader_resNet)\n",
    "\n",
    "print('ResNet test acc: ', test_accuracy)"
   ]
  }
 ],
 "metadata": {
  "accelerator": "GPU",
  "colab": {
   "authorship_tag": "ABX9TyNE80cvCUPyU30vDDwYRBTS",
   "collapsed_sections": [],
   "mount_file_id": "1wrTZ5OQrDSekYPGBsjGao-G9PMIPU3hi",
   "name": "식물사진으로 질병분류 - 전이학습.ipynb",
   "provenance": []
  },
  "kernelspec": {
   "display_name": "Python 3 (ipykernel)",
   "language": "python",
   "name": "python3"
  },
  "language_info": {
   "codemirror_mode": {
    "name": "ipython",
    "version": 3
   },
   "file_extension": ".py",
   "mimetype": "text/x-python",
   "name": "python",
   "nbconvert_exporter": "python",
   "pygments_lexer": "ipython3",
   "version": "3.9.7"
  },
  "widgets": {
   "application/vnd.jupyter.widget-state+json": {
    "0185271471be4230a19eec1dc4470dfb": {
     "model_module": "@jupyter-widgets/controls",
     "model_module_version": "1.5.0",
     "model_name": "FloatProgressModel",
     "state": {
      "_dom_classes": [],
      "_model_module": "@jupyter-widgets/controls",
      "_model_module_version": "1.5.0",
      "_model_name": "FloatProgressModel",
      "_view_count": null,
      "_view_module": "@jupyter-widgets/controls",
      "_view_module_version": "1.5.0",
      "_view_name": "ProgressView",
      "bar_style": "success",
      "description": "",
      "description_tooltip": null,
      "layout": "IPY_MODEL_cbe27ed11ae946f1bf26973684d1688f",
      "max": 102530333,
      "min": 0,
      "orientation": "horizontal",
      "style": "IPY_MODEL_10244d779e52411ebc27a0a97d39b54e",
      "value": 102530333
     }
    },
    "10244d779e52411ebc27a0a97d39b54e": {
     "model_module": "@jupyter-widgets/controls",
     "model_module_version": "1.5.0",
     "model_name": "ProgressStyleModel",
     "state": {
      "_model_module": "@jupyter-widgets/controls",
      "_model_module_version": "1.5.0",
      "_model_name": "ProgressStyleModel",
      "_view_count": null,
      "_view_module": "@jupyter-widgets/base",
      "_view_module_version": "1.2.0",
      "_view_name": "StyleView",
      "bar_color": null,
      "description_width": ""
     }
    },
    "3cd606dddc834e9bbfd6b50428aaf784": {
     "model_module": "@jupyter-widgets/base",
     "model_module_version": "1.2.0",
     "model_name": "LayoutModel",
     "state": {
      "_model_module": "@jupyter-widgets/base",
      "_model_module_version": "1.2.0",
      "_model_name": "LayoutModel",
      "_view_count": null,
      "_view_module": "@jupyter-widgets/base",
      "_view_module_version": "1.2.0",
      "_view_name": "LayoutView",
      "align_content": null,
      "align_items": null,
      "align_self": null,
      "border": null,
      "bottom": null,
      "display": null,
      "flex": null,
      "flex_flow": null,
      "grid_area": null,
      "grid_auto_columns": null,
      "grid_auto_flow": null,
      "grid_auto_rows": null,
      "grid_column": null,
      "grid_gap": null,
      "grid_row": null,
      "grid_template_areas": null,
      "grid_template_columns": null,
      "grid_template_rows": null,
      "height": null,
      "justify_content": null,
      "justify_items": null,
      "left": null,
      "margin": null,
      "max_height": null,
      "max_width": null,
      "min_height": null,
      "min_width": null,
      "object_fit": null,
      "object_position": null,
      "order": null,
      "overflow": null,
      "overflow_x": null,
      "overflow_y": null,
      "padding": null,
      "right": null,
      "top": null,
      "visibility": null,
      "width": null
     }
    },
    "55e0c43e7e8c4bb8b9c23f2abe97da6b": {
     "model_module": "@jupyter-widgets/controls",
     "model_module_version": "1.5.0",
     "model_name": "HTMLModel",
     "state": {
      "_dom_classes": [],
      "_model_module": "@jupyter-widgets/controls",
      "_model_module_version": "1.5.0",
      "_model_name": "HTMLModel",
      "_view_count": null,
      "_view_module": "@jupyter-widgets/controls",
      "_view_module_version": "1.5.0",
      "_view_name": "HTMLView",
      "description": "",
      "description_tooltip": null,
      "layout": "IPY_MODEL_eafd5d58cd19442ebc0bd2bbf5978e3c",
      "placeholder": "​",
      "style": "IPY_MODEL_59fb60c2339f46798569e42dfa5e64b7",
      "value": " 97.8M/97.8M [00:00&lt;00:00, 127MB/s]"
     }
    },
    "59fb60c2339f46798569e42dfa5e64b7": {
     "model_module": "@jupyter-widgets/controls",
     "model_module_version": "1.5.0",
     "model_name": "DescriptionStyleModel",
     "state": {
      "_model_module": "@jupyter-widgets/controls",
      "_model_module_version": "1.5.0",
      "_model_name": "DescriptionStyleModel",
      "_view_count": null,
      "_view_module": "@jupyter-widgets/base",
      "_view_module_version": "1.2.0",
      "_view_name": "StyleView",
      "description_width": ""
     }
    },
    "6c8fef8c32d547c093583f9d65e64d3f": {
     "model_module": "@jupyter-widgets/controls",
     "model_module_version": "1.5.0",
     "model_name": "DescriptionStyleModel",
     "state": {
      "_model_module": "@jupyter-widgets/controls",
      "_model_module_version": "1.5.0",
      "_model_name": "DescriptionStyleModel",
      "_view_count": null,
      "_view_module": "@jupyter-widgets/base",
      "_view_module_version": "1.2.0",
      "_view_name": "StyleView",
      "description_width": ""
     }
    },
    "6cbeef27574c44059657cdcdc7f85835": {
     "model_module": "@jupyter-widgets/base",
     "model_module_version": "1.2.0",
     "model_name": "LayoutModel",
     "state": {
      "_model_module": "@jupyter-widgets/base",
      "_model_module_version": "1.2.0",
      "_model_name": "LayoutModel",
      "_view_count": null,
      "_view_module": "@jupyter-widgets/base",
      "_view_module_version": "1.2.0",
      "_view_name": "LayoutView",
      "align_content": null,
      "align_items": null,
      "align_self": null,
      "border": null,
      "bottom": null,
      "display": null,
      "flex": null,
      "flex_flow": null,
      "grid_area": null,
      "grid_auto_columns": null,
      "grid_auto_flow": null,
      "grid_auto_rows": null,
      "grid_column": null,
      "grid_gap": null,
      "grid_row": null,
      "grid_template_areas": null,
      "grid_template_columns": null,
      "grid_template_rows": null,
      "height": null,
      "justify_content": null,
      "justify_items": null,
      "left": null,
      "margin": null,
      "max_height": null,
      "max_width": null,
      "min_height": null,
      "min_width": null,
      "object_fit": null,
      "object_position": null,
      "order": null,
      "overflow": null,
      "overflow_x": null,
      "overflow_y": null,
      "padding": null,
      "right": null,
      "top": null,
      "visibility": null,
      "width": null
     }
    },
    "aaff8fc8669f43f5b47ecb04947f058b": {
     "model_module": "@jupyter-widgets/controls",
     "model_module_version": "1.5.0",
     "model_name": "HTMLModel",
     "state": {
      "_dom_classes": [],
      "_model_module": "@jupyter-widgets/controls",
      "_model_module_version": "1.5.0",
      "_model_name": "HTMLModel",
      "_view_count": null,
      "_view_module": "@jupyter-widgets/controls",
      "_view_module_version": "1.5.0",
      "_view_name": "HTMLView",
      "description": "",
      "description_tooltip": null,
      "layout": "IPY_MODEL_6cbeef27574c44059657cdcdc7f85835",
      "placeholder": "​",
      "style": "IPY_MODEL_6c8fef8c32d547c093583f9d65e64d3f",
      "value": "100%"
     }
    },
    "ae91ae36c4ed45809b4ec53e5dfc3226": {
     "model_module": "@jupyter-widgets/controls",
     "model_module_version": "1.5.0",
     "model_name": "HBoxModel",
     "state": {
      "_dom_classes": [],
      "_model_module": "@jupyter-widgets/controls",
      "_model_module_version": "1.5.0",
      "_model_name": "HBoxModel",
      "_view_count": null,
      "_view_module": "@jupyter-widgets/controls",
      "_view_module_version": "1.5.0",
      "_view_name": "HBoxView",
      "box_style": "",
      "children": [
       "IPY_MODEL_aaff8fc8669f43f5b47ecb04947f058b",
       "IPY_MODEL_0185271471be4230a19eec1dc4470dfb",
       "IPY_MODEL_55e0c43e7e8c4bb8b9c23f2abe97da6b"
      ],
      "layout": "IPY_MODEL_3cd606dddc834e9bbfd6b50428aaf784"
     }
    },
    "cbe27ed11ae946f1bf26973684d1688f": {
     "model_module": "@jupyter-widgets/base",
     "model_module_version": "1.2.0",
     "model_name": "LayoutModel",
     "state": {
      "_model_module": "@jupyter-widgets/base",
      "_model_module_version": "1.2.0",
      "_model_name": "LayoutModel",
      "_view_count": null,
      "_view_module": "@jupyter-widgets/base",
      "_view_module_version": "1.2.0",
      "_view_name": "LayoutView",
      "align_content": null,
      "align_items": null,
      "align_self": null,
      "border": null,
      "bottom": null,
      "display": null,
      "flex": null,
      "flex_flow": null,
      "grid_area": null,
      "grid_auto_columns": null,
      "grid_auto_flow": null,
      "grid_auto_rows": null,
      "grid_column": null,
      "grid_gap": null,
      "grid_row": null,
      "grid_template_areas": null,
      "grid_template_columns": null,
      "grid_template_rows": null,
      "height": null,
      "justify_content": null,
      "justify_items": null,
      "left": null,
      "margin": null,
      "max_height": null,
      "max_width": null,
      "min_height": null,
      "min_width": null,
      "object_fit": null,
      "object_position": null,
      "order": null,
      "overflow": null,
      "overflow_x": null,
      "overflow_y": null,
      "padding": null,
      "right": null,
      "top": null,
      "visibility": null,
      "width": null
     }
    },
    "eafd5d58cd19442ebc0bd2bbf5978e3c": {
     "model_module": "@jupyter-widgets/base",
     "model_module_version": "1.2.0",
     "model_name": "LayoutModel",
     "state": {
      "_model_module": "@jupyter-widgets/base",
      "_model_module_version": "1.2.0",
      "_model_name": "LayoutModel",
      "_view_count": null,
      "_view_module": "@jupyter-widgets/base",
      "_view_module_version": "1.2.0",
      "_view_name": "LayoutView",
      "align_content": null,
      "align_items": null,
      "align_self": null,
      "border": null,
      "bottom": null,
      "display": null,
      "flex": null,
      "flex_flow": null,
      "grid_area": null,
      "grid_auto_columns": null,
      "grid_auto_flow": null,
      "grid_auto_rows": null,
      "grid_column": null,
      "grid_gap": null,
      "grid_row": null,
      "grid_template_areas": null,
      "grid_template_columns": null,
      "grid_template_rows": null,
      "height": null,
      "justify_content": null,
      "justify_items": null,
      "left": null,
      "margin": null,
      "max_height": null,
      "max_width": null,
      "min_height": null,
      "min_width": null,
      "object_fit": null,
      "object_position": null,
      "order": null,
      "overflow": null,
      "overflow_x": null,
      "overflow_y": null,
      "padding": null,
      "right": null,
      "top": null,
      "visibility": null,
      "width": null
     }
    }
   }
  }
 },
 "nbformat": 4,
 "nbformat_minor": 1
}
