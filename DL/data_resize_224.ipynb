{
 "cells": [
  {
   "cell_type": "code",
   "execution_count": 1,
   "id": "3655ca56",
   "metadata": {
    "ExecuteTime": {
     "end_time": "2021-12-21T08:56:17.009505Z",
     "start_time": "2021-12-21T08:56:16.945507Z"
    }
   },
   "outputs": [],
   "source": [
    "from PIL import Image\n",
    "\n",
    "import glob\n",
    "import shutil\n",
    "import tqdm\n",
    "import os"
   ]
  },
  {
   "cell_type": "code",
   "execution_count": 2,
   "id": "cf86f17e",
   "metadata": {
    "ExecuteTime": {
     "end_time": "2021-12-21T08:56:25.561155Z",
     "start_time": "2021-12-21T08:56:25.554155Z"
    }
   },
   "outputs": [],
   "source": [
    "# this root is important as the DACON require this part. but if you unzip the data file(.zip), the name is \"open\", just change this path.\n",
    "BASE_DATA_ROOT = 'open'\n",
    "\n",
    "# default folder name\n",
    "TEST_DATA_ROOT = 'test_dataset'\n",
    "TRAIN_DATA_ROOT = 'train_dataset'"
   ]
  },
  {
   "cell_type": "code",
   "execution_count": 3,
   "id": "5f8d08c3",
   "metadata": {
    "ExecuteTime": {
     "end_time": "2021-12-21T09:02:07.764386Z",
     "start_time": "2021-12-21T08:56:39.682028Z"
    }
   },
   "outputs": [
    {
     "name": "stderr",
     "output_type": "stream",
     "text": [
      "100%|████████████████████████████████████████████████████████████████████████████████| 753/753 [05:28<00:00,  2.30it/s]\n"
     ]
    }
   ],
   "source": [
    "# resize train set files all\n",
    "train_set_files = glob.glob(os.path.join(BASE_DATA_ROOT, TRAIN_DATA_ROOT, '*', '*', '*'))\n",
    "for file_path in tqdm.tqdm(train_set_files):\n",
    "    img = Image.open(file_path)\n",
    "    img = img.resize((224, 224))\n",
    "    img.save(file_path)"
   ]
  },
  {
   "cell_type": "code",
   "execution_count": 4,
   "id": "16bfcd1f",
   "metadata": {
    "ExecuteTime": {
     "end_time": "2021-12-21T09:04:17.128067Z",
     "start_time": "2021-12-21T09:02:07.766384Z"
    }
   },
   "outputs": [
    {
     "name": "stderr",
     "output_type": "stream",
     "text": [
      "100%|████████████████████████████████████████████████████████████████████████████████| 307/307 [02:09<00:00,  2.37it/s]\n"
     ]
    }
   ],
   "source": [
    "# resize test set files all\n",
    "test_set_files = glob.glob(os.path.join(BASE_DATA_ROOT, TEST_DATA_ROOT, '*', '*', '*'))\n",
    "for file_path in tqdm.tqdm(test_set_files):\n",
    "    img = Image.open(file_path)\n",
    "    img = img.resize((224, 224))\n",
    "    img.save(file_path)"
   ]
  }
 ],
 "metadata": {
  "kernelspec": {
   "display_name": "Python 3 (ipykernel)",
   "language": "python",
   "name": "python3"
  },
  "language_info": {
   "codemirror_mode": {
    "name": "ipython",
    "version": 3
   },
   "file_extension": ".py",
   "mimetype": "text/x-python",
   "name": "python",
   "nbconvert_exporter": "python",
   "pygments_lexer": "ipython3",
   "version": "3.9.7"
  },
  "toc": {
   "base_numbering": 1,
   "nav_menu": {},
   "number_sections": true,
   "sideBar": true,
   "skip_h1_title": false,
   "title_cell": "Table of Contents",
   "title_sidebar": "Contents",
   "toc_cell": false,
   "toc_position": {},
   "toc_section_display": true,
   "toc_window_display": false
  }
 },
 "nbformat": 4,
 "nbformat_minor": 5
}
