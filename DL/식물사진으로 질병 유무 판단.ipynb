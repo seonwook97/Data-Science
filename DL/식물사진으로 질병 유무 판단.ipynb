{
 "cells": [
  {
   "cell_type": "code",
   "execution_count": 1,
   "metadata": {
    "executionInfo": {
     "elapsed": 15583,
     "status": "ok",
     "timestamp": 1639918391184,
     "user": {
      "displayName": "고선욱",
      "photoUrl": "https://lh3.googleusercontent.com/a-/AOh14GhYHtZcRnOwos58wkQ2dg8IsUVtF6BPh72mLfxA0g=s64",
      "userId": "10132999861618830585"
     },
     "user_tz": -540
    },
    "id": "TYWr4fTimQP3"
   },
   "outputs": [],
   "source": [
    "!unzip -qq '/content/drive/MyDrive/dataset.zip' -d './dataset'"
   ]
  },
  {
   "cell_type": "code",
   "execution_count": 2,
   "metadata": {
    "executionInfo": {
     "elapsed": 4,
     "status": "ok",
     "timestamp": 1639918391185,
     "user": {
      "displayName": "고선욱",
      "photoUrl": "https://lh3.googleusercontent.com/a-/AOh14GhYHtZcRnOwos58wkQ2dg8IsUVtF6BPh72mLfxA0g=s64",
      "userId": "10132999861618830585"
     },
     "user_tz": -540
    },
    "id": "YB02yozrm76n"
   },
   "outputs": [],
   "source": [
    "import os\n",
    "\n",
    "original_dataset_dir = './dataset'\n",
    "classes_list = os.listdir(original_dataset_dir)\n",
    "\n",
    "base_dir = './splitted'\n",
    "os.mkdir(base_dir)"
   ]
  },
  {
   "cell_type": "markdown",
   "metadata": {
    "id": "NFPP6PgjpqJv"
   },
   "source": [
    "## 데이터 정리를 위한 목록 및 폴더 생성"
   ]
  },
  {
   "cell_type": "code",
   "execution_count": 3,
   "metadata": {
    "executionInfo": {
     "elapsed": 404,
     "status": "ok",
     "timestamp": 1639918391586,
     "user": {
      "displayName": "고선욱",
      "photoUrl": "https://lh3.googleusercontent.com/a-/AOh14GhYHtZcRnOwos58wkQ2dg8IsUVtF6BPh72mLfxA0g=s64",
      "userId": "10132999861618830585"
     },
     "user_tz": -540
    },
    "id": "u6_dh3n6pz9T"
   },
   "outputs": [],
   "source": [
    "import shutil\n",
    "\n",
    "train_dir = os.path.join(base_dir, 'train')\n",
    "os.mkdir(train_dir)\n",
    "validation_dir = os.path.join(base_dir, 'val')\n",
    "os.mkdir(validation_dir)\n",
    "test_dir = os.path.join(base_dir, 'test')\n",
    "os.mkdir(test_dir)\n",
    "\n",
    "for cls in classes_list:\n",
    "    os.mkdir(os.path.join(train_dir, cls))\n",
    "    os.mkdir(os.path.join(validation_dir, cls))\n",
    "    os.mkdir(os.path.join(test_dir, cls))"
   ]
  },
  {
   "cell_type": "markdown",
   "metadata": {
    "id": "-9kVJLvqqSqo"
   },
   "source": [
    "## 데이터 현황 확인"
   ]
  },
  {
   "cell_type": "code",
   "execution_count": 4,
   "metadata": {
    "colab": {
     "base_uri": "https://localhost:8080/"
    },
    "executionInfo": {
     "elapsed": 7163,
     "status": "ok",
     "timestamp": 1639918398746,
     "user": {
      "displayName": "고선욱",
      "photoUrl": "https://lh3.googleusercontent.com/a-/AOh14GhYHtZcRnOwos58wkQ2dg8IsUVtF6BPh72mLfxA0g=s64",
      "userId": "10132999861618830585"
     },
     "user_tz": -540
    },
    "id": "llgItyRPqq3e",
    "outputId": "858bb15d-5035-43d6-87a2-9d3a04e1e2dc"
   },
   "outputs": [
    {
     "name": "stdout",
     "output_type": "stream",
     "text": [
      "Train size( Tomato___Spider_mites Two-spotted_spider_mite ):  1005\n",
      "Validation size( Tomato___Spider_mites Two-spotted_spider_mite ):  335\n",
      "Test size( Tomato___Spider_mites Two-spotted_spider_mite ):  335\n",
      "Train size( Tomato___Tomato_Yellow_Leaf_Curl_Virus ):  3214\n",
      "Validation size( Tomato___Tomato_Yellow_Leaf_Curl_Virus ):  1071\n",
      "Test size( Tomato___Tomato_Yellow_Leaf_Curl_Virus ):  1071\n",
      "Train size( Cherry___Powdery_mildew ):  631\n",
      "Validation size( Cherry___Powdery_mildew ):  210\n",
      "Test size( Cherry___Powdery_mildew ):  210\n",
      "Train size( Cherry___healthy ):  512\n",
      "Validation size( Cherry___healthy ):  170\n",
      "Test size( Cherry___healthy ):  170\n",
      "Train size( Grape___Black_rot ):  708\n",
      "Validation size( Grape___Black_rot ):  236\n",
      "Test size( Grape___Black_rot ):  236\n",
      "Train size( Grape___Esca_(Black_Measles) ):  829\n",
      "Validation size( Grape___Esca_(Black_Measles) ):  276\n",
      "Test size( Grape___Esca_(Black_Measles) ):  276\n",
      "Train size( Tomato___healthy ):  954\n",
      "Validation size( Tomato___healthy ):  318\n",
      "Test size( Tomato___healthy ):  318\n",
      "Train size( Peach___Bacterial_spot ):  1378\n",
      "Validation size( Peach___Bacterial_spot ):  459\n",
      "Test size( Peach___Bacterial_spot ):  459\n",
      "Train size( Peach___healthy ):  216\n",
      "Validation size( Peach___healthy ):  72\n",
      "Test size( Peach___healthy ):  72\n",
      "Train size( Corn___healthy ):  697\n",
      "Validation size( Corn___healthy ):  232\n",
      "Test size( Corn___healthy ):  232\n",
      "Train size( Tomato___Late_blight ):  1145\n",
      "Validation size( Tomato___Late_blight ):  381\n",
      "Test size( Tomato___Late_blight ):  381\n",
      "Train size( Potato___Early_blight ):  600\n",
      "Validation size( Potato___Early_blight ):  200\n",
      "Test size( Potato___Early_blight ):  200\n",
      "Train size( Corn___Northern_Leaf_Blight ):  591\n",
      "Validation size( Corn___Northern_Leaf_Blight ):  197\n",
      "Test size( Corn___Northern_Leaf_Blight ):  197\n",
      "Train size( Potato___Late_blight ):  600\n",
      "Validation size( Potato___Late_blight ):  200\n",
      "Test size( Potato___Late_blight ):  200\n",
      "Train size( Strawberry___Leaf_scorch ):  665\n",
      "Validation size( Strawberry___Leaf_scorch ):  221\n",
      "Test size( Strawberry___Leaf_scorch ):  221\n",
      "Train size( Pepper,_bell___Bacterial_spot ):  598\n",
      "Validation size( Pepper,_bell___Bacterial_spot ):  199\n",
      "Test size( Pepper,_bell___Bacterial_spot ):  199\n",
      "Train size( Corn___Cercospora_leaf_spot Gray_leaf_spot ):  307\n",
      "Validation size( Corn___Cercospora_leaf_spot Gray_leaf_spot ):  102\n",
      "Test size( Corn___Cercospora_leaf_spot Gray_leaf_spot ):  102\n",
      "Train size( Apple___Black_rot ):  372\n",
      "Validation size( Apple___Black_rot ):  124\n",
      "Test size( Apple___Black_rot ):  124\n",
      "Train size( Grape___Leaf_blight_(Isariopsis_Leaf_Spot) ):  645\n",
      "Validation size( Grape___Leaf_blight_(Isariopsis_Leaf_Spot) ):  215\n",
      "Test size( Grape___Leaf_blight_(Isariopsis_Leaf_Spot) ):  215\n",
      "Train size( Tomato___Tomato_mosaic_virus ):  223\n",
      "Validation size( Tomato___Tomato_mosaic_virus ):  74\n",
      "Test size( Tomato___Tomato_mosaic_virus ):  74\n",
      "Train size( Tomato___Target_Spot ):  842\n",
      "Validation size( Tomato___Target_Spot ):  280\n",
      "Test size( Tomato___Target_Spot ):  280\n",
      "Train size( Tomato___Leaf_Mold ):  571\n",
      "Validation size( Tomato___Leaf_Mold ):  190\n",
      "Test size( Tomato___Leaf_Mold ):  190\n",
      "Train size( Pepper,_bell___healthy ):  886\n",
      "Validation size( Pepper,_bell___healthy ):  295\n",
      "Test size( Pepper,_bell___healthy ):  295\n",
      "Train size( Tomato___Early_blight ):  600\n",
      "Validation size( Tomato___Early_blight ):  200\n",
      "Test size( Tomato___Early_blight ):  200\n",
      "Train size( Tomato___Bacterial_spot ):  1276\n",
      "Validation size( Tomato___Bacterial_spot ):  425\n",
      "Test size( Tomato___Bacterial_spot ):  425\n",
      "Train size( Corn___Common_rust ):  715\n",
      "Validation size( Corn___Common_rust ):  238\n",
      "Test size( Corn___Common_rust ):  238\n",
      "Train size( Potato___healthy ):  91\n",
      "Validation size( Potato___healthy ):  30\n",
      "Test size( Potato___healthy ):  30\n",
      "Train size( Tomato___Septoria_leaf_spot ):  1062\n",
      "Validation size( Tomato___Septoria_leaf_spot ):  354\n",
      "Test size( Tomato___Septoria_leaf_spot ):  354\n",
      "Train size( Apple___healthy ):  987\n",
      "Validation size( Apple___healthy ):  329\n",
      "Test size( Apple___healthy ):  329\n",
      "Train size( Apple___Apple_scab ):  378\n",
      "Validation size( Apple___Apple_scab ):  126\n",
      "Test size( Apple___Apple_scab ):  126\n",
      "Train size( Apple___Cedar_apple_rust ):  165\n",
      "Validation size( Apple___Cedar_apple_rust ):  55\n",
      "Test size( Apple___Cedar_apple_rust ):  55\n",
      "Train size( Strawberry___healthy ):  273\n",
      "Validation size( Strawberry___healthy ):  91\n",
      "Test size( Strawberry___healthy ):  91\n",
      "Train size( Grape___healthy ):  253\n",
      "Validation size( Grape___healthy ):  84\n",
      "Test size( Grape___healthy ):  84\n"
     ]
    }
   ],
   "source": [
    "import math\n",
    "\n",
    "for cls in classes_list:\n",
    "    path = os.path.join(original_dataset_dir, cls)\n",
    "    fnames = os.listdir(path)\n",
    "\n",
    "    train_size = math.floor(len(fnames) * 0.6)\n",
    "    validation_size = math.floor(len(fnames) * 0.2)\n",
    "    test_size = math.floor(len(fnames) * 0.2)\n",
    "\n",
    "    train_fnames = fnames[:train_size]\n",
    "    print('Train size(',cls,'): ', len(train_fnames))\n",
    "    for fname in train_fnames:\n",
    "        src = os.path.join(path, fname)\n",
    "        dst = os.path.join(os.path.join(train_dir, cls), fname)\n",
    "        shutil.copyfile(src, dst)\n",
    "\n",
    "    validation_fnames = fnames[train_size:(validation_size + train_size)]\n",
    "    print('Validation size(',cls,'): ', len(validation_fnames))\n",
    "    for fname in validation_fnames:\n",
    "        src = os.path.join(path, fname)\n",
    "        dst = os.path.join(os.path.join(validation_dir, cls), fname)\n",
    "        shutil.copyfile(src, dst)\n",
    "    \n",
    "    test_fnames = fnames[(train_size + validation_size):(validation_size + train_size + test_size)]\n",
    "    print('Test size(',cls,'): ', len(test_fnames))\n",
    "    for fname in test_fnames:\n",
    "        src = os.path.join(path, fname)\n",
    "        dst = os.path.join(os.path.join(test_dir, cls), fname)\n",
    "        shutil.copyfile(src, dst)"
   ]
  },
  {
   "cell_type": "markdown",
   "metadata": {
    "id": "iPHqy8aorFEY"
   },
   "source": [
    "## 학습 준비"
   ]
  },
  {
   "cell_type": "code",
   "execution_count": 5,
   "metadata": {
    "executionInfo": {
     "elapsed": 5799,
     "status": "ok",
     "timestamp": 1639918683441,
     "user": {
      "displayName": "고선욱",
      "photoUrl": "https://lh3.googleusercontent.com/a-/AOh14GhYHtZcRnOwos58wkQ2dg8IsUVtF6BPh72mLfxA0g=s64",
      "userId": "10132999861618830585"
     },
     "user_tz": -540
    },
    "id": "PrMIyyTawmqh"
   },
   "outputs": [],
   "source": [
    "import torch\n",
    "import os\n",
    "\n",
    "USE_CUDA = torch.cuda.is_available()\n",
    "DEVICE = torch.device('cuda' if USE_CUDA else 'cpu')\n",
    "BATCH_SIZE = 256 # 크게 할수록 학습이 빨리 되나, GPU 메모리 한계가 있음\n",
    "EPOCH = 30"
   ]
  },
  {
   "cell_type": "code",
   "execution_count": 6,
   "metadata": {
    "executionInfo": {
     "elapsed": 490,
     "status": "ok",
     "timestamp": 1639918964265,
     "user": {
      "displayName": "고선욱",
      "photoUrl": "https://lh3.googleusercontent.com/a-/AOh14GhYHtZcRnOwos58wkQ2dg8IsUVtF6BPh72mLfxA0g=s64",
      "userId": "10132999861618830585"
     },
     "user_tz": -540
    },
    "id": "OKQuzP_jxStV"
   },
   "outputs": [],
   "source": [
    "import torchvision.transforms as transforms\n",
    "from torchvision.datasets import ImageFolder\n",
    "\n",
    "transform_base = transforms.Compose([transforms.Resize((64, 64)), transforms.ToTensor()])\n",
    "train_dataset = ImageFolder(root='./splitted/train', transform=transform_base) # 폴더 하나를 하나의 라벨로\n",
    "val_dataset = ImageFolder(root='./splitted/val', transform=transform_base)"
   ]
  },
  {
   "cell_type": "code",
   "execution_count": 7,
   "metadata": {
    "colab": {
     "base_uri": "https://localhost:8080/"
    },
    "executionInfo": {
     "elapsed": 582,
     "status": "ok",
     "timestamp": 1639923544185,
     "user": {
      "displayName": "고선욱",
      "photoUrl": "https://lh3.googleusercontent.com/a-/AOh14GhYHtZcRnOwos58wkQ2dg8IsUVtF6BPh72mLfxA0g=s64",
      "userId": "10132999861618830585"
     },
     "user_tz": -540
    },
    "id": "5wHlAENjyYgV",
    "outputId": "b3e1d4ea-5bbf-4c52-82ed-18806c482582"
   },
   "outputs": [
    {
     "name": "stderr",
     "output_type": "stream",
     "text": [
      "/usr/local/lib/python3.7/dist-packages/torch/utils/data/dataloader.py:481: UserWarning: This DataLoader will create 4 worker processes in total. Our suggested max number of worker in current system is 2, which is smaller than what this DataLoader is going to create. Please be aware that excessive worker creation might get DataLoader running slow or even freeze, lower the worker number to avoid potential slowness/freeze if necessary.\n",
      "  cpuset_checked))\n"
     ]
    }
   ],
   "source": [
    "from torch.utils.data import DataLoader\n",
    "\n",
    "train_loader = torch.utils.data.DataLoader(train_dataset,\n",
    "                                           batch_size=BATCH_SIZE,\n",
    "                                           shuffle=True,\n",
    "                                           num_workers=4)\n",
    "val_loader = torch.utils.data.DataLoader(val_dataset,\n",
    "                                         batch_size=BATCH_SIZE,\n",
    "                                         shuffle=True,\n",
    "                                         num_workers=4)"
   ]
  },
  {
   "cell_type": "markdown",
   "metadata": {
    "id": "yXa3P_b7D2rp"
   },
   "source": [
    "## 모델링 "
   ]
  },
  {
   "cell_type": "code",
   "execution_count": 8,
   "metadata": {
    "executionInfo": {
     "elapsed": 9276,
     "status": "ok",
     "timestamp": 1639924649518,
     "user": {
      "displayName": "고선욱",
      "photoUrl": "https://lh3.googleusercontent.com/a-/AOh14GhYHtZcRnOwos58wkQ2dg8IsUVtF6BPh72mLfxA0g=s64",
      "userId": "10132999861618830585"
     },
     "user_tz": -540
    },
    "id": "TtyEJ-XND9Uk"
   },
   "outputs": [],
   "source": [
    "import torch.nn as nn\n",
    "import torch.nn.functional as F\n",
    "import torch.optim as optim\n",
    "\n",
    "class Net(nn.Module):\n",
    "\n",
    "    def __init__(self):\n",
    "        \n",
    "        super(Net, self).__init__()\n",
    "\n",
    "        self.conv1 = nn.Conv2d(3, 32, 3, padding=1)\n",
    "        self.pool = nn.MaxPool2d(2, 2)\n",
    "        self.conv2 = nn.Conv2d(32, 64, 3, padding=1)\n",
    "        self.conv3 = nn.Conv2d(64, 64, 3, padding=1)\n",
    "\n",
    "        self.fc1 = nn.Linear(4096, 512)\n",
    "        self.fc2 = nn.Linear(512, 33)\n",
    "\n",
    "    def forward(self, x):\n",
    "\n",
    "        x = self.conv1(x)\n",
    "        x = F.relu(x)\n",
    "        x = self.pool(x)\n",
    "        x = F.dropout(x, p=0.25, training=self.training) # train_set만 사용\n",
    "\n",
    "        x = self.conv2(x)\n",
    "        x = F.relu(x)\n",
    "        x = self.pool(x)\n",
    "        x = F.dropout(x, p=0.25, training=self.training)\n",
    "\n",
    "        x = self.conv3(x)\n",
    "        x = F.relu(x)\n",
    "        x = self.pool(x)\n",
    "        x = F.dropout(x, p=0.25, training=self.training)\n",
    "\n",
    "        x = x.view(-1, 4096)\n",
    "        x = self.fc1(x)\n",
    "        x = F.relu(x)\n",
    "        x = F.dropout(x, p=0.5, training=self.training)\n",
    "        x = self.fc2(x)\n",
    "\n",
    "        return F.log_softmax(x, dim=1)\n",
    "\n",
    "model_base = Net().to(DEVICE)\n",
    "optimizer = optim.Adam(model_base.parameters(), lr=0.001)"
   ]
  },
  {
   "cell_type": "code",
   "execution_count": 9,
   "metadata": {
    "executionInfo": {
     "elapsed": 831,
     "status": "ok",
     "timestamp": 1639925062101,
     "user": {
      "displayName": "고선욱",
      "photoUrl": "https://lh3.googleusercontent.com/a-/AOh14GhYHtZcRnOwos58wkQ2dg8IsUVtF6BPh72mLfxA0g=s64",
      "userId": "10132999861618830585"
     },
     "user_tz": -540
    },
    "id": "ij5aBuAdICgV"
   },
   "outputs": [],
   "source": [
    "def train(model, train_loader, optimizer):\n",
    "    model.train()\n",
    "    for batch_idx, (data, target) in enumerate(train_loader):\n",
    "        data, target = data.to(DEVICE), target.to(DEVICE)\n",
    "        optimizer.zero_grad()\n",
    "        output = model(data)\n",
    "        loss = F.cross_entropy(output, target)\n",
    "        loss.backward()\n",
    "        optimizer.step()"
   ]
  },
  {
   "cell_type": "code",
   "execution_count": 10,
   "metadata": {
    "executionInfo": {
     "elapsed": 624,
     "status": "ok",
     "timestamp": 1639925308469,
     "user": {
      "displayName": "고선욱",
      "photoUrl": "https://lh3.googleusercontent.com/a-/AOh14GhYHtZcRnOwos58wkQ2dg8IsUVtF6BPh72mLfxA0g=s64",
      "userId": "10132999861618830585"
     },
     "user_tz": -540
    },
    "id": "mJD3ZQEpJpIU"
   },
   "outputs": [],
   "source": [
    "def evaluate(model, test_loader):\n",
    "    model.eval()\n",
    "    test_loss = 0\n",
    "    correct = 0\n",
    "\n",
    "    with torch.no_grad(): \n",
    "        for data, target in test_loader:\n",
    "            data, target = data.to(DEVICE), target.to(DEVICE)\n",
    "            output = model(data)\n",
    "\n",
    "            test_loss += F.cross_entropy(output, target, reduction='sum').item()\n",
    "\n",
    "            pred = output.max(1, keepdim=True)[1]\n",
    "            correct += pred.eq(target.view_as(pred)).sum().item()\n",
    "\n",
    "    test_loss /= len(test_loader.dataset)\n",
    "    test_accuracy = 100. * correct / len(test_loader.dataset)\n",
    "    return test_loss, test_accuracy"
   ]
  },
  {
   "cell_type": "markdown",
   "metadata": {
    "id": "eplwR-VGKlH0"
   },
   "source": [
    "## 학습 시작"
   ]
  },
  {
   "cell_type": "code",
   "execution_count": 12,
   "metadata": {
    "colab": {
     "base_uri": "https://localhost:8080/"
    },
    "executionInfo": {
     "elapsed": 2678295,
     "status": "ok",
     "timestamp": 1639928665862,
     "user": {
      "displayName": "고선욱",
      "photoUrl": "https://lh3.googleusercontent.com/a-/AOh14GhYHtZcRnOwos58wkQ2dg8IsUVtF6BPh72mLfxA0g=s64",
      "userId": "10132999861618830585"
     },
     "user_tz": -540
    },
    "id": "g5noVmvXKxzv",
    "outputId": "69eb7825-f003-4dbe-f009-606a544edaf5"
   },
   "outputs": [
    {
     "metadata": {
      "tags": null
     },
     "name": "stderr",
     "output_type": "stream",
     "text": [
      "/usr/local/lib/python3.7/dist-packages/torch/utils/data/dataloader.py:481: UserWarning: This DataLoader will create 4 worker processes in total. Our suggested max number of worker in current system is 2, which is smaller than what this DataLoader is going to create. Please be aware that excessive worker creation might get DataLoader running slow or even freeze, lower the worker number to avoid potential slowness/freeze if necessary.\n",
      "  cpuset_checked))\n"
     ]
    },
    {
     "name": "stdout",
     "output_type": "stream",
     "text": [
      "-------------- epoch 1 --------------\n",
      "train Loss: 1.5911, Accuracy: 54.54%\n",
      "val Loss: 1.6074, Accuracy: 54.60%\n",
      "Completed in 1m 30s\n",
      "-------------- epoch 2 --------------\n",
      "train Loss: 0.9751, Accuracy: 70.91%\n",
      "val Loss: 1.0037, Accuracy: 69.81%\n",
      "Completed in 1m 33s\n",
      "-------------- epoch 3 --------------\n",
      "train Loss: 0.6962, Accuracy: 78.75%\n",
      "val Loss: 0.7279, Accuracy: 77.61%\n",
      "Completed in 1m 33s\n",
      "-------------- epoch 4 --------------\n",
      "train Loss: 0.6115, Accuracy: 81.11%\n",
      "val Loss: 0.6528, Accuracy: 79.65%\n",
      "Completed in 1m 32s\n",
      "-------------- epoch 5 --------------\n",
      "train Loss: 0.4787, Accuracy: 85.32%\n",
      "val Loss: 0.5288, Accuracy: 83.55%\n",
      "Completed in 1m 33s\n",
      "-------------- epoch 6 --------------\n",
      "train Loss: 0.4232, Accuracy: 86.96%\n",
      "val Loss: 0.4819, Accuracy: 84.84%\n",
      "Completed in 1m 32s\n",
      "-------------- epoch 7 --------------\n",
      "train Loss: 0.3844, Accuracy: 88.10%\n",
      "val Loss: 0.4467, Accuracy: 85.87%\n",
      "Completed in 1m 33s\n",
      "-------------- epoch 8 --------------\n",
      "train Loss: 0.3427, Accuracy: 89.41%\n",
      "val Loss: 0.4146, Accuracy: 86.08%\n",
      "Completed in 1m 33s\n",
      "-------------- epoch 9 --------------\n",
      "train Loss: 0.3406, Accuracy: 89.29%\n",
      "val Loss: 0.4144, Accuracy: 86.48%\n",
      "Completed in 1m 33s\n",
      "-------------- epoch 10 --------------\n",
      "train Loss: 0.2624, Accuracy: 92.29%\n",
      "val Loss: 0.3363, Accuracy: 89.11%\n",
      "Completed in 1m 33s\n",
      "-------------- epoch 11 --------------\n",
      "train Loss: 0.2626, Accuracy: 92.13%\n",
      "val Loss: 0.3394, Accuracy: 89.11%\n",
      "Completed in 1m 32s\n",
      "-------------- epoch 12 --------------\n",
      "train Loss: 0.2719, Accuracy: 91.36%\n",
      "val Loss: 0.3545, Accuracy: 88.63%\n",
      "Completed in 1m 32s\n",
      "-------------- epoch 13 --------------\n",
      "train Loss: 0.1998, Accuracy: 94.21%\n",
      "val Loss: 0.2970, Accuracy: 90.27%\n",
      "Completed in 1m 32s\n",
      "-------------- epoch 14 --------------\n",
      "train Loss: 0.2262, Accuracy: 92.99%\n",
      "val Loss: 0.3258, Accuracy: 89.16%\n",
      "Completed in 1m 31s\n",
      "-------------- epoch 15 --------------\n",
      "train Loss: 0.1932, Accuracy: 94.06%\n",
      "val Loss: 0.2888, Accuracy: 90.52%\n",
      "Completed in 1m 33s\n",
      "-------------- epoch 16 --------------\n",
      "train Loss: 0.1566, Accuracy: 95.41%\n",
      "val Loss: 0.2528, Accuracy: 91.86%\n",
      "Completed in 1m 33s\n",
      "-------------- epoch 17 --------------\n",
      "train Loss: 0.1525, Accuracy: 95.66%\n",
      "val Loss: 0.2490, Accuracy: 91.90%\n",
      "Completed in 1m 33s\n",
      "-------------- epoch 18 --------------\n",
      "train Loss: 0.1428, Accuracy: 95.96%\n",
      "val Loss: 0.2513, Accuracy: 91.80%\n",
      "Completed in 1m 33s\n",
      "-------------- epoch 19 --------------\n",
      "train Loss: 0.1382, Accuracy: 95.74%\n",
      "val Loss: 0.2461, Accuracy: 91.78%\n",
      "Completed in 1m 33s\n",
      "-------------- epoch 20 --------------\n",
      "train Loss: 0.1132, Accuracy: 96.82%\n",
      "val Loss: 0.2384, Accuracy: 91.98%\n",
      "Completed in 1m 32s\n",
      "-------------- epoch 21 --------------\n",
      "train Loss: 0.1367, Accuracy: 96.16%\n",
      "val Loss: 0.2527, Accuracy: 91.88%\n",
      "Completed in 1m 32s\n",
      "-------------- epoch 22 --------------\n",
      "train Loss: 0.0967, Accuracy: 97.34%\n",
      "val Loss: 0.2167, Accuracy: 92.98%\n",
      "Completed in 1m 31s\n",
      "-------------- epoch 23 --------------\n",
      "train Loss: 0.0908, Accuracy: 97.79%\n",
      "val Loss: 0.2120, Accuracy: 93.07%\n",
      "Completed in 1m 31s\n",
      "-------------- epoch 24 --------------\n",
      "train Loss: 0.1015, Accuracy: 97.39%\n",
      "val Loss: 0.2309, Accuracy: 92.39%\n",
      "Completed in 1m 31s\n",
      "-------------- epoch 25 --------------\n",
      "train Loss: 0.0896, Accuracy: 97.67%\n",
      "val Loss: 0.2138, Accuracy: 92.82%\n",
      "Completed in 1m 31s\n",
      "-------------- epoch 26 --------------\n",
      "train Loss: 0.0725, Accuracy: 98.23%\n",
      "val Loss: 0.2006, Accuracy: 93.55%\n",
      "Completed in 1m 31s\n",
      "-------------- epoch 27 --------------\n",
      "train Loss: 0.0721, Accuracy: 98.12%\n",
      "val Loss: 0.2066, Accuracy: 93.29%\n",
      "Completed in 1m 31s\n",
      "-------------- epoch 28 --------------\n",
      "train Loss: 0.0702, Accuracy: 98.00%\n",
      "val Loss: 0.2108, Accuracy: 93.20%\n",
      "Completed in 1m 31s\n",
      "-------------- epoch 29 --------------\n",
      "train Loss: 0.0891, Accuracy: 97.46%\n",
      "val Loss: 0.2321, Accuracy: 92.15%\n",
      "Completed in 1m 31s\n",
      "-------------- epoch 30 --------------\n",
      "train Loss: 0.0666, Accuracy: 98.30%\n",
      "val Loss: 0.2078, Accuracy: 93.20%\n",
      "Completed in 1m 31s\n"
     ]
    }
   ],
   "source": [
    "import time\n",
    "import copy\n",
    "\n",
    "def train_baseline(model, train_loader, val_loader, optimizer, num_epochs=30):\n",
    "    best_acc = 0.0 # best_acc 저장용\n",
    "    best_model_wts = copy.deepcopy(model.state_dict())\n",
    "\n",
    "    for epoch in range(1, num_epochs + 1):\n",
    "        since = time.time()\n",
    "        train(model, train_loader, optimizer)\n",
    "        train_loss, train_acc = evaluate(model, train_loader)\n",
    "        val_loss, val_acc = evaluate(model, val_loader)\n",
    "\n",
    "        if val_acc > best_acc:\n",
    "            best_acc = val_acc\n",
    "            best_model_wts = copy.deepcopy(model.state_dict())\n",
    "\n",
    "        time_elapsed = time.time() - since\n",
    "        print('-------------- epoch {} --------------'.format(epoch))\n",
    "        print('train Loss: {:.4f}, Accuracy: {:.2f}%'.format(train_loss, train_acc))\n",
    "        print('val Loss: {:.4f}, Accuracy: {:.2f}%'.format(val_loss, val_acc))\n",
    "        print('Completed in {:.0f}m {:.0f}s'.format(time_elapsed // 60, time_elapsed % 60))\n",
    "    model.load_state_dict(best_model_wts)\n",
    "    return model\n",
    "\n",
    "base = train_baseline(model_base, train_loader, val_loader, optimizer, EPOCH) #(16)\n",
    "torch.save(base, 'baseline.pt')"
   ]
  },
  {
   "cell_type": "code",
   "execution_count": null,
   "metadata": {
    "id": "xL-j0Bw_M0wE"
   },
   "outputs": [],
   "source": []
  }
 ],
 "metadata": {
  "accelerator": "GPU",
  "colab": {
   "authorship_tag": "ABX9TyMCjpRrS7cuIo3INnx7b9Zb",
   "collapsed_sections": [],
   "mount_file_id": "1tQWe8jxpl24cVVUaFXGNJ0oNK7H1vtrH",
   "name": "식물사진으로 질병 유무 판단.ipynb",
   "provenance": []
  },
  "kernelspec": {
   "display_name": "Python 3 (ipykernel)",
   "language": "python",
   "name": "python3"
  },
  "language_info": {
   "codemirror_mode": {
    "name": "ipython",
    "version": 3
   },
   "file_extension": ".py",
   "mimetype": "text/x-python",
   "name": "python",
   "nbconvert_exporter": "python",
   "pygments_lexer": "ipython3",
   "version": "3.9.7"
  },
  "toc": {
   "base_numbering": 1,
   "nav_menu": {},
   "number_sections": true,
   "sideBar": true,
   "skip_h1_title": false,
   "title_cell": "Table of Contents",
   "title_sidebar": "Contents",
   "toc_cell": false,
   "toc_position": {},
   "toc_section_display": true,
   "toc_window_display": false
  }
 },
 "nbformat": 4,
 "nbformat_minor": 1
}
