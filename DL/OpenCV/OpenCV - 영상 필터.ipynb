{
 "cells": [
  {
   "cell_type": "markdown",
   "id": "33c3cc0b",
   "metadata": {},
   "source": [
    "## 영상 필터 - 그리고 convolution"
   ]
  },
  {
   "cell_type": "markdown",
   "id": "11dbc3f5",
   "metadata": {},
   "source": [
    "### 필터링이란\n",
    "- 영상에서 필요한 정보만 통과시키고 원치 않는 정보는 걸러내는 작업"
   ]
  },
  {
   "cell_type": "markdown",
   "id": "57cf4fb9",
   "metadata": {},
   "source": [
    "#### 필터링의 이해\n",
    "- 주파수 공간에서의 필터링 (Frequency domain filtering)\n",
    "- 공간적 필터링 (Spatial domain filtering)\n",
    "    - 영상의 픽셀 값을 직접 이용하는 필터링 방법\n",
    "        - 대상 좌표의 픽셀 값과 주변 픽셀 값을 동시에 사용\n",
    "    - 주로 마스크(mask) 연산을 이용함\n",
    "        - (마스크 = 커널(kernel) = 윈도우(window) = 템플릿(template))"
   ]
  },
  {
   "cell_type": "markdown",
   "id": "186e7509",
   "metadata": {},
   "source": [
    "### 마스크\n",
    "- 다양한 모양과 크기의 마스크\n",
    "- 마스크의 형태와 값에 따라 필터의 역할이 결정됨\n",
    "    - 영상 부드럽게 만들기\n",
    "    - 영상 날카롭게 만들기\n",
    "    - 에지 검출\n",
    "    - 잡음 제거"
   ]
  },
  {
   "cell_type": "markdown",
   "id": "801dcc27",
   "metadata": {},
   "source": [
    "#### 마스크를 이용한 필터링\n",
    "- 3x3 크기의 마스크를 이용한 공간적 필터링"
   ]
  },
  {
   "cell_type": "markdown",
   "id": "b1630648",
   "metadata": {},
   "source": [
    "### 테두리 처리\n",
    "- 최외곽 바깥에 가상의 픽셀이 있다고 가정"
   ]
  },
  {
   "cell_type": "markdown",
   "id": "ce661736",
   "metadata": {},
   "source": [
    "#### OpenCV에서 지원하는 가장자리 테두리\n",
    "- BORDER_CONSTANT: zero padding\n",
    "- BORDER_REPLICATE: 제일 외곽과 같은 값으로 채움\n",
    "- BORDER_REFLECT: 역으로 채우기\n",
    "- BORDER_REFLECT_101: 가장자리 값을 중심으로 대칭으로 채움"
   ]
  },
  {
   "cell_type": "markdown",
   "id": "20ca05eb",
   "metadata": {},
   "source": [
    "### 2D 필터링"
   ]
  },
  {
   "cell_type": "markdown",
   "id": "5bcdf776",
   "metadata": {},
   "source": [
    "![filter1](filter1.png)"
   ]
  },
  {
   "cell_type": "markdown",
   "id": "91ab5f58",
   "metadata": {},
   "source": [
    "#### MEAN Filter\n",
    "- 영상의 특정 좌표 값을 주변 픽셀 값들의 산술 평균으로 설정\n",
    "- 픽셀들 간의 그레이스케일 값 변화가 줄어들어 날카로운 에지가 무뎌지고,\n",
    "- 영상에 있는 잡음의 영향ㅇ니 사라지는 효과\n",
    "- 평균값 필터\n",
    "    - 마스크 크기가 커질수록 평균 값 필터 결과가 더욱 부드러워짐\n",
    "    - 더 많은 연산량이 필요"
   ]
  },
  {
   "cell_type": "markdown",
   "id": "4b3f7ea9",
   "metadata": {},
   "source": [
    "#### 필터 설정"
   ]
  },
  {
   "cell_type": "code",
   "execution_count": 3,
   "id": "eb3b9e1b",
   "metadata": {
    "ExecuteTime": {
     "end_time": "2021-12-11T08:29:50.661318Z",
     "start_time": "2021-12-11T08:29:50.655212Z"
    }
   },
   "outputs": [],
   "source": [
    "# import cv2\n",
    "# import numpy as np"
   ]
  },
  {
   "cell_type": "code",
   "execution_count": 5,
   "id": "a3af6b78",
   "metadata": {
    "ExecuteTime": {
     "end_time": "2021-12-11T08:30:11.822261Z",
     "start_time": "2021-12-11T08:30:11.808302Z"
    }
   },
   "outputs": [],
   "source": [
    "# src = cv2.imread('rose.bmp', cv2.IMREAD_GRAYSCALE)\n",
    "\n",
    "# kernel = np.array([[1/9, 1/9, 1/9],\n",
    "#                    [1/9, 1/9, 1/9],\n",
    "#                    [1/9, 1/9, 1/9]])\n",
    "\n",
    "# dst = cv2.filter2D(src, -1, kernel)"
   ]
  },
  {
   "cell_type": "markdown",
   "id": "0c119b02",
   "metadata": {},
   "source": [
    "#### 보통은 blur"
   ]
  },
  {
   "cell_type": "markdown",
   "id": "b991994e",
   "metadata": {},
   "source": [
    "![filter2](filter2.png)"
   ]
  },
  {
   "cell_type": "markdown",
   "id": "ffe40337",
   "metadata": {},
   "source": [
    "#### mean filter의 사이즈를 바꾸어갈 때"
   ]
  },
  {
   "cell_type": "markdown",
   "id": "9861702f",
   "metadata": {},
   "source": [
    "![filter3](filter3.png)"
   ]
  },
  {
   "cell_type": "markdown",
   "id": "cc76693f",
   "metadata": {},
   "source": [
    "#### 평균값 필터의 단점\n",
    "- 필터링 대상 위치에서 가까이 있는 픽셀과 멀리 있는 픽셀이 모두 같은 가중치를 사용하여 평균을 계산\n",
    "- 멀리있는 픽셀의 영향을 많이 받을 수 있음\n",
    "- 가까운 픽셀과 멀리 있는 픽셀이 같은 가중치를 사용하여 평균 계산\n",
    "- 효과적이지 않다면,\n",
    "- 가까운 픽셀은 큰 가중치를, 멀리있는 픽셀은 작은 가중치를 사용하여 평균 계산"
   ]
  },
  {
   "cell_type": "markdown",
   "id": "6788c01e",
   "metadata": {},
   "source": [
    "### 가우시안 함수\n"
   ]
  },
  {
   "cell_type": "markdown",
   "id": "78d0f69a",
   "metadata": {},
   "source": [
    "![gausian1](gausian1.png)"
   ]
  },
  {
   "cell_type": "markdown",
   "id": "f9332d67",
   "metadata": {},
   "source": [
    "#### 가우시안 필터"
   ]
  },
  {
   "cell_type": "markdown",
   "id": "e56e94ba",
   "metadata": {},
   "source": [
    "![gausian2](gausian2.png)\n",
    "![gausian3](gausian3.png)"
   ]
  },
  {
   "cell_type": "markdown",
   "id": "758a6646",
   "metadata": {},
   "source": [
    "#### 가우시안 필터 함수"
   ]
  },
  {
   "cell_type": "markdown",
   "id": "9f098a81",
   "metadata": {},
   "source": [
    "![gausian4](gausian4.png)"
   ]
  },
  {
   "cell_type": "markdown",
   "id": "d0bea893",
   "metadata": {},
   "source": [
    "### Noise\n",
    "- 영상의 잡음(Noise)\n",
    "    - 영상의 픽셀 값에 추가되는 원치 않는 형태의 신호\n",
    "- 잡음의 종류\n",
    "    - 가우시안 잡음 (Gaussian noise)\n",
    "    - 소금 & 후추 잡음 (Salt & Pepper)"
   ]
  },
  {
   "cell_type": "markdown",
   "id": "e34c38fc",
   "metadata": {},
   "source": [
    "#### 미디언필터\n",
    "- 주변 픽셀들의 값들을 정렬하여 그 중앙값(median)으로 픽셀 값을 대체\n",
    "- 소금-후추 잡음 제거에 효과적"
   ]
  },
  {
   "cell_type": "markdown",
   "id": "b165e8ba",
   "metadata": {},
   "source": [
    "#### medianBlur"
   ]
  },
  {
   "cell_type": "markdown",
   "id": "e02cc19f",
   "metadata": {},
   "source": [
    "![medianBlur](medianBlur.png)"
   ]
  },
  {
   "cell_type": "markdown",
   "id": "421bf24c",
   "metadata": {},
   "source": [
    "#### 카툰필터"
   ]
  },
  {
   "cell_type": "markdown",
   "id": "31427606",
   "metadata": {},
   "source": [
    "![cartoon](cartoon.png)"
   ]
  },
  {
   "cell_type": "markdown",
   "id": "ec71e25b",
   "metadata": {},
   "source": [
    "#### 스케치필터"
   ]
  },
  {
   "cell_type": "markdown",
   "id": "c3eadbff",
   "metadata": {},
   "source": [
    "![sketchj](sketch.png)"
   ]
  }
 ],
 "metadata": {
  "kernelspec": {
   "display_name": "Python 3 (ipykernel)",
   "language": "python",
   "name": "python3"
  },
  "language_info": {
   "codemirror_mode": {
    "name": "ipython",
    "version": 3
   },
   "file_extension": ".py",
   "mimetype": "text/x-python",
   "name": "python",
   "nbconvert_exporter": "python",
   "pygments_lexer": "ipython3",
   "version": "3.8.12"
  },
  "toc": {
   "base_numbering": 1,
   "nav_menu": {},
   "number_sections": true,
   "sideBar": true,
   "skip_h1_title": false,
   "title_cell": "Table of Contents",
   "title_sidebar": "Contents",
   "toc_cell": false,
   "toc_position": {},
   "toc_section_display": true,
   "toc_window_display": true
  }
 },
 "nbformat": 4,
 "nbformat_minor": 5
}
