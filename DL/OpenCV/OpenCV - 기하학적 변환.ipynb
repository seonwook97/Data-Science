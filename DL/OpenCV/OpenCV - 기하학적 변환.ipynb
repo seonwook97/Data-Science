{
 "cells": [
  {
   "cell_type": "markdown",
   "id": "70e05881",
   "metadata": {},
   "source": [
    "## 영상의 기하학적 변환\n"
   ]
  },
  {
   "cell_type": "markdown",
   "id": "1b810530",
   "metadata": {},
   "source": [
    "### 공간에서의 기하학적 변환에 대한 정의\n",
    "- Euclidean : 각도의 회전 또는 이동\n",
    "- Metric(similarity) : 치수가 바뀜 그러나 모든 면이 동일 기준으로 스케일이 바뀌므로 생긴 모양 비율은 동일\n",
    "    - Metric은 Euclidean을 포함함\n",
    "- Affine : 한 면을 고정하고 밈\n",
    "    - Euclidean, Metric을 모두 포함함\n",
    "- Projective : 꼭짓점 하나를 잡고 마음대로 움직임\n",
    "    - 모두를 포함함"
   ]
  },
  {
   "cell_type": "markdown",
   "id": "cd5ddb7d",
   "metadata": {},
   "source": [
    "### 이동 변환"
   ]
  },
  {
   "cell_type": "markdown",
   "id": "76a2ec05",
   "metadata": {},
   "source": [
    "![affine](affine.png)"
   ]
  },
  {
   "cell_type": "markdown",
   "id": "5f585ff7",
   "metadata": {},
   "source": [
    "#### 이동 변환 함수"
   ]
  },
  {
   "cell_type": "markdown",
   "id": "df48c8ec",
   "metadata": {},
   "source": [
    "![affine2](affine2.png)"
   ]
  },
  {
   "cell_type": "markdown",
   "id": "b56cee97",
   "metadata": {},
   "source": [
    "### 확대와 축소"
   ]
  },
  {
   "cell_type": "markdown",
   "id": "870a5b05",
   "metadata": {},
   "source": [
    "![resize](resize.png)"
   ]
  },
  {
   "cell_type": "markdown",
   "id": "9a11e37a",
   "metadata": {},
   "source": [
    "#### resize 함수"
   ]
  },
  {
   "cell_type": "markdown",
   "id": "dd96f13b",
   "metadata": {},
   "source": [
    "![resize2](resize2.png)"
   ]
  },
  {
   "cell_type": "markdown",
   "id": "ea4d2c28",
   "metadata": {},
   "source": [
    "### 영상의 대칭 변환"
   ]
  },
  {
   "cell_type": "markdown",
   "id": "528605f8",
   "metadata": {},
   "source": [
    "![flip1](flip1.png)"
   ]
  },
  {
   "cell_type": "markdown",
   "id": "2ee938a9",
   "metadata": {},
   "source": [
    "### 회전"
   ]
  },
  {
   "cell_type": "markdown",
   "id": "62060c7c",
   "metadata": {},
   "source": [
    "![rotate](rotate1.png)"
   ]
  },
  {
   "cell_type": "markdown",
   "id": "af59a504",
   "metadata": {},
   "source": [
    "### 회전행렬 구하기"
   ]
  },
  {
   "cell_type": "markdown",
   "id": "8f50b9c1",
   "metadata": {},
   "source": [
    "![rotate2](rotate2.png)"
   ]
  },
  {
   "cell_type": "markdown",
   "id": "041da798",
   "metadata": {},
   "source": [
    "#### 회전행렬을 구해서 회전하기"
   ]
  },
  {
   "cell_type": "markdown",
   "id": "88d01831",
   "metadata": {},
   "source": [
    "![rotate3](rotate3.png)"
   ]
  },
  {
   "cell_type": "markdown",
   "id": "16c39f38",
   "metadata": {},
   "source": [
    "### 어파인 변환 행렬 구하기"
   ]
  },
  {
   "cell_type": "markdown",
   "id": "cb9e2089",
   "metadata": {},
   "source": [
    "![affineT](affineT.png)"
   ]
  },
  {
   "cell_type": "markdown",
   "id": "d56e894b",
   "metadata": {},
   "source": [
    "### 투시 변환 행렬 구하기"
   ]
  },
  {
   "cell_type": "markdown",
   "id": "b270ad8e",
   "metadata": {},
   "source": [
    "![perspectiveT](perspectiveT.png)"
   ]
  },
  {
   "cell_type": "markdown",
   "id": "f8df5f93",
   "metadata": {},
   "source": [
    "### 어파인 변환 "
   ]
  },
  {
   "cell_type": "markdown",
   "id": "4f5a0f2e",
   "metadata": {},
   "source": [
    "![affineT2](affineT2.png)"
   ]
  },
  {
   "cell_type": "markdown",
   "id": "3b560754",
   "metadata": {},
   "source": [
    "### 투시 변환 "
   ]
  },
  {
   "cell_type": "markdown",
   "id": "bba36f57",
   "metadata": {},
   "source": [
    "![perspectiveT2](perspectiveT2.png)"
   ]
  }
 ],
 "metadata": {
  "kernelspec": {
   "display_name": "Python 3 (ipykernel)",
   "language": "python",
   "name": "python3"
  },
  "language_info": {
   "codemirror_mode": {
    "name": "ipython",
    "version": 3
   },
   "file_extension": ".py",
   "mimetype": "text/x-python",
   "name": "python",
   "nbconvert_exporter": "python",
   "pygments_lexer": "ipython3",
   "version": "3.8.12"
  },
  "toc": {
   "base_numbering": 1,
   "nav_menu": {},
   "number_sections": true,
   "sideBar": true,
   "skip_h1_title": false,
   "title_cell": "Table of Contents",
   "title_sidebar": "Contents",
   "toc_cell": false,
   "toc_position": {},
   "toc_section_display": true,
   "toc_window_display": false
  }
 },
 "nbformat": 4,
 "nbformat_minor": 5
}
