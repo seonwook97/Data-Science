{
 "cells": [
  {
   "cell_type": "markdown",
   "id": "236c3290",
   "metadata": {},
   "source": [
    "## 키보드 입력"
   ]
  },
  {
   "cell_type": "markdown",
   "id": "e3dfdd28",
   "metadata": {},
   "source": [
    "### 키보드 입력 대기 함수"
   ]
  },
  {
   "cell_type": "markdown",
   "id": "5793b3ff",
   "metadata": {},
   "source": [
    "![waitkey](waitkey.png)"
   ]
  },
  {
   "cell_type": "markdown",
   "id": "56a2b740",
   "metadata": {},
   "source": [
    "### 키보드에서 i 키로 반전"
   ]
  },
  {
   "cell_type": "markdown",
   "id": "5efe0c2a",
   "metadata": {},
   "source": [
    "![waitkey2](waitkey2.png)"
   ]
  },
  {
   "cell_type": "markdown",
   "id": "7962345c",
   "metadata": {},
   "source": [
    "## 마우스 이벤트 처리"
   ]
  },
  {
   "cell_type": "markdown",
   "id": "e0e39a1c",
   "metadata": {},
   "source": [
    "### 콜백함수"
   ]
  },
  {
   "cell_type": "markdown",
   "id": "3e7fe9bc",
   "metadata": {},
   "source": [
    "![setmouse1](setmouse1.png)"
   ]
  },
  {
   "cell_type": "markdown",
   "id": "bafb948a",
   "metadata": {},
   "source": [
    "### 콜백함수 형식"
   ]
  },
  {
   "cell_type": "markdown",
   "id": "ebe0e165",
   "metadata": {},
   "source": [
    "![setmouse2](setmouse2.png)"
   ]
  },
  {
   "cell_type": "markdown",
   "id": "b444922c",
   "metadata": {},
   "source": [
    "### 이벤트 인자"
   ]
  },
  {
   "cell_type": "markdown",
   "id": "077d88df",
   "metadata": {},
   "source": [
    "![setmouse3](setmouse3.png)"
   ]
  },
  {
   "cell_type": "markdown",
   "id": "fd23920c",
   "metadata": {},
   "source": [
    "### 이벤트 처리 함수의 flags 인자"
   ]
  },
  {
   "cell_type": "markdown",
   "id": "fb36556d",
   "metadata": {},
   "source": [
    "![setmouse4](setmouse4.png)"
   ]
  },
  {
   "cell_type": "markdown",
   "id": "4e71ed24",
   "metadata": {},
   "source": [
    "### 마우스 그리기"
   ]
  },
  {
   "cell_type": "markdown",
   "id": "d03b113e",
   "metadata": {},
   "source": [
    "![setmouse5](setmouse5.png)"
   ]
  }
 ],
 "metadata": {
  "kernelspec": {
   "display_name": "Python 3 (ipykernel)",
   "language": "python",
   "name": "python3"
  },
  "language_info": {
   "codemirror_mode": {
    "name": "ipython",
    "version": 3
   },
   "file_extension": ".py",
   "mimetype": "text/x-python",
   "name": "python",
   "nbconvert_exporter": "python",
   "pygments_lexer": "ipython3",
   "version": "3.8.12"
  },
  "toc": {
   "base_numbering": 1,
   "nav_menu": {},
   "number_sections": true,
   "sideBar": true,
   "skip_h1_title": false,
   "title_cell": "Table of Contents",
   "title_sidebar": "Contents",
   "toc_cell": false,
   "toc_position": {},
   "toc_section_display": true,
   "toc_window_display": false
  }
 },
 "nbformat": 4,
 "nbformat_minor": 5
}
