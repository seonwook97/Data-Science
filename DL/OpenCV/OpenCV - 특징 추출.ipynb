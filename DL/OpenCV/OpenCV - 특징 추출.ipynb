{
 "cells": [
  {
   "cell_type": "markdown",
   "id": "2148580b",
   "metadata": {},
   "source": [
    "## 특징 추출"
   ]
  },
  {
   "cell_type": "markdown",
   "id": "ea62dc6f",
   "metadata": {},
   "source": [
    "### 에지\n",
    "- 영상에서 픽셀의 밝기 값이 급격하게 변하는 부분\n",
    "- 일반적으로 배경과 객체, 또는 객체와 객체의 경계"
   ]
  },
  {
   "cell_type": "markdown",
   "id": "be07d96e",
   "metadata": {},
   "source": [
    "### 마분을 아용한 에지 검출\n",
    "- 영상을 (x, y)변수의 함수로 간주했을 때, 이 함수의 1차 미분(1st derivative)값이 크게 나타나는 부분을 검출"
   ]
  },
  {
   "cell_type": "markdown",
   "id": "f16b05c8",
   "metadata": {},
   "source": [
    "### 다양한 미분관련 필터"
   ]
  },
  {
   "cell_type": "markdown",
   "id": "9c8fafc3",
   "metadata": {},
   "source": [
    "![filtertype](filtertype.png)"
   ]
  },
  {
   "cell_type": "markdown",
   "id": "4f12f04e",
   "metadata": {},
   "source": [
    "#### 쇼벨필터를 이용"
   ]
  },
  {
   "cell_type": "markdown",
   "id": "9aeb6aae",
   "metadata": {},
   "source": [
    "![sobel](sobel.png)"
   ]
  },
  {
   "cell_type": "markdown",
   "id": "54c282fc",
   "metadata": {},
   "source": [
    "#### 샤르 필터 "
   ]
  },
  {
   "cell_type": "markdown",
   "id": "aef8b5dd",
   "metadata": {},
   "source": [
    "![scharr](scharr.png)"
   ]
  },
  {
   "cell_type": "markdown",
   "id": "a0304331",
   "metadata": {},
   "source": [
    "### 그레디언트"
   ]
  },
  {
   "cell_type": "markdown",
   "id": "035604d8",
   "metadata": {},
   "source": [
    "![gradient](gradient.png)"
   ]
  },
  {
   "cell_type": "markdown",
   "id": "9f32a48a",
   "metadata": {},
   "source": [
    "#### 영상에서 그레디언트의 의미\n",
    "- 그래디언트 크기: 픽셀 값의 차이 정도, 변화량\n",
    "- 그래디언트 방향: 픽셀 값이 가장 급격하게 증가하는 방향"
   ]
  },
  {
   "cell_type": "markdown",
   "id": "773c66b1",
   "metadata": {},
   "source": [
    "#### 벡터의 크기 계산"
   ]
  },
  {
   "cell_type": "markdown",
   "id": "f8e7d084",
   "metadata": {},
   "source": [
    "![magnitude](magnitude.png)"
   ]
  },
  {
   "cell_type": "markdown",
   "id": "058ed404",
   "metadata": {},
   "source": [
    "#### 방향 계산"
   ]
  },
  {
   "cell_type": "markdown",
   "id": "8d1008a4",
   "metadata": {},
   "source": [
    "![phase](phase.png)"
   ]
  },
  {
   "cell_type": "markdown",
   "id": "3629fe13",
   "metadata": {},
   "source": [
    "### 케니 에지 검출 "
   ]
  },
  {
   "cell_type": "markdown",
   "id": "c6ff6669",
   "metadata": {},
   "source": [
    "![canny1](canny1.png)\n",
    "![canny2](canny2.png)\n",
    "![canny3](canny3.png)\n",
    "![canny4](canny4.png)"
   ]
  },
  {
   "cell_type": "markdown",
   "id": "dd147f57",
   "metadata": {},
   "source": [
    "#### 케니 에지 검출 함수"
   ]
  },
  {
   "cell_type": "markdown",
   "id": "92709e7c",
   "metadata": {},
   "source": [
    "![canny5](canny5.png)"
   ]
  },
  {
   "cell_type": "markdown",
   "id": "f76ac732",
   "metadata": {},
   "source": [
    "### 허프 변환 직선 검출"
   ]
  },
  {
   "cell_type": "markdown",
   "id": "93519473",
   "metadata": {},
   "source": [
    "![houghline1](houghline1.png)"
   ]
  },
  {
   "cell_type": "markdown",
   "id": "59d4da10",
   "metadata": {},
   "source": [
    "#### 허프변환을 이용한 직선 검출 함수"
   ]
  },
  {
   "cell_type": "markdown",
   "id": "2569b900",
   "metadata": {},
   "source": [
    "![houghline2](houghline2.png)"
   ]
  },
  {
   "cell_type": "markdown",
   "id": "5b4ed9de",
   "metadata": {},
   "source": [
    "#### 확률적 허프 변환에 의한 직선 검출"
   ]
  },
  {
   "cell_type": "markdown",
   "id": "7bfd6e45",
   "metadata": {},
   "source": [
    "![houghline3](houghline3.png)"
   ]
  },
  {
   "cell_type": "markdown",
   "id": "b1ba8513",
   "metadata": {},
   "source": [
    "### 허프 원 검출 함수"
   ]
  },
  {
   "cell_type": "markdown",
   "id": "05aff1d3",
   "metadata": {},
   "source": [
    "![houghcircle](houghcircle.png)"
   ]
  },
  {
   "cell_type": "markdown",
   "id": "083aa2b7",
   "metadata": {},
   "source": [
    "#### 동전 카운터"
   ]
  },
  {
   "cell_type": "markdown",
   "id": "8e02363c",
   "metadata": {},
   "source": [
    "![coin1](coin1.png)"
   ]
  },
  {
   "cell_type": "markdown",
   "id": "64f4e954",
   "metadata": {},
   "source": [
    "#### 먼저 동전 검출"
   ]
  },
  {
   "cell_type": "markdown",
   "id": "4ac5170a",
   "metadata": {},
   "source": [
    "![coin2](coin2.png)"
   ]
  },
  {
   "cell_type": "markdown",
   "id": "542fe179",
   "metadata": {},
   "source": [
    "#### 색상 구별로 동전의 값 찾기"
   ]
  },
  {
   "cell_type": "markdown",
   "id": "f65ec19a",
   "metadata": {},
   "source": [
    "![coin3](coin3.png)"
   ]
  }
 ],
 "metadata": {
  "kernelspec": {
   "display_name": "Python 3 (ipykernel)",
   "language": "python",
   "name": "python3"
  },
  "language_info": {
   "codemirror_mode": {
    "name": "ipython",
    "version": 3
   },
   "file_extension": ".py",
   "mimetype": "text/x-python",
   "name": "python",
   "nbconvert_exporter": "python",
   "pygments_lexer": "ipython3",
   "version": "3.8.12"
  },
  "toc": {
   "base_numbering": 1,
   "nav_menu": {},
   "number_sections": true,
   "sideBar": true,
   "skip_h1_title": false,
   "title_cell": "Table of Contents",
   "title_sidebar": "Contents",
   "toc_cell": false,
   "toc_position": {},
   "toc_section_display": true,
   "toc_window_display": true
  }
 },
 "nbformat": 4,
 "nbformat_minor": 5
}
