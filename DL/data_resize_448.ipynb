{
 "cells": [
  {
   "cell_type": "markdown",
   "id": "e6c608dd",
   "metadata": {},
   "source": [
    "## 사용 package 선언"
   ]
  },
  {
   "cell_type": "code",
   "execution_count": 2,
   "id": "1299662c",
   "metadata": {
    "ExecuteTime": {
     "end_time": "2021-12-21T08:31:26.800312Z",
     "start_time": "2021-12-21T08:31:26.789344Z"
    }
   },
   "outputs": [],
   "source": [
    "from PIL import Image\n",
    "\n",
    "import glob\n",
    "import shutil\n",
    "import tqdm\n",
    "import os"
   ]
  },
  {
   "cell_type": "markdown",
   "id": "6b400b5b",
   "metadata": {},
   "source": [
    "## 경로 설정"
   ]
  },
  {
   "cell_type": "code",
   "execution_count": 11,
   "id": "9fdb7d7b",
   "metadata": {
    "ExecuteTime": {
     "end_time": "2021-12-21T08:38:37.094765Z",
     "start_time": "2021-12-21T08:38:37.091764Z"
    }
   },
   "outputs": [],
   "source": [
    "# this root is important as the DACON require this part. but if you unzip the data file(.zip), the name is \"open\", just change this path.\n",
    "BASE_DATA_ROOT = 'open'\n",
    "\n",
    "# default folder name\n",
    "TEST_DATA_ROOT = 'test_dataset'\n",
    "TRAIN_DATA_ROOT = 'train_dataset'"
   ]
  },
  {
   "cell_type": "markdown",
   "id": "521e5c0d",
   "metadata": {},
   "source": [
    "## train"
   ]
  },
  {
   "cell_type": "code",
   "execution_count": 13,
   "id": "1b384c42",
   "metadata": {
    "ExecuteTime": {
     "end_time": "2021-12-21T08:48:28.394507Z",
     "start_time": "2021-12-21T08:41:57.765996Z"
    }
   },
   "outputs": [
    {
     "name": "stderr",
     "output_type": "stream",
     "text": [
      "100%|████████████████████████████████████████████████████████████████████████████████| 753/753 [06:30<00:00,  1.93it/s]\n"
     ]
    }
   ],
   "source": [
    "# resize train set files all\n",
    "train_set_files = glob.glob(os.path.join(BASE_DATA_ROOT, TRAIN_DATA_ROOT, '*', '*', '*'))\n",
    "for file_path in tqdm.tqdm(train_set_files):\n",
    "    img = Image.open(file_path)\n",
    "    img = img.resize((448, 448))\n",
    "    img.save(file_path)"
   ]
  },
  {
   "cell_type": "markdown",
   "id": "b1cd842c",
   "metadata": {},
   "source": [
    "## test"
   ]
  },
  {
   "cell_type": "code",
   "execution_count": 12,
   "id": "ff51cea0",
   "metadata": {
    "ExecuteTime": {
     "end_time": "2021-12-21T08:41:18.414379Z",
     "start_time": "2021-12-21T08:38:38.557232Z"
    }
   },
   "outputs": [
    {
     "name": "stderr",
     "output_type": "stream",
     "text": [
      "100%|████████████████████████████████████████████████████████████████████████████████| 307/307 [02:39<00:00,  1.92it/s]\n"
     ]
    }
   ],
   "source": [
    "# resize test set files all\n",
    "test_set_files = glob.glob(os.path.join(BASE_DATA_ROOT, TEST_DATA_ROOT, '*', '*', '*'))\n",
    "for file_path in tqdm.tqdm(test_set_files):\n",
    "    img = Image.open(file_path)\n",
    "    img = img.resize((448, 448))\n",
    "    img.save(file_path)"
   ]
  }
 ],
 "metadata": {
  "kernelspec": {
   "display_name": "Python 3 (ipykernel)",
   "language": "python",
   "name": "python3"
  },
  "language_info": {
   "codemirror_mode": {
    "name": "ipython",
    "version": 3
   },
   "file_extension": ".py",
   "mimetype": "text/x-python",
   "name": "python",
   "nbconvert_exporter": "python",
   "pygments_lexer": "ipython3",
   "version": "3.9.7"
  },
  "toc": {
   "base_numbering": 1,
   "nav_menu": {},
   "number_sections": true,
   "sideBar": true,
   "skip_h1_title": false,
   "title_cell": "Table of Contents",
   "title_sidebar": "Contents",
   "toc_cell": false,
   "toc_position": {},
   "toc_section_display": true,
   "toc_window_display": false
  }
 },
 "nbformat": 4,
 "nbformat_minor": 5
}
