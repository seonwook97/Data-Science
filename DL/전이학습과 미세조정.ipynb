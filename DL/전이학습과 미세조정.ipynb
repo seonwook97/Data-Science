{
 "cells": [
  {
   "cell_type": "markdown",
   "id": "6c199bc4",
   "metadata": {},
   "source": [
    "## import "
   ]
  },
  {
   "cell_type": "code",
   "execution_count": null,
   "id": "289225c9",
   "metadata": {},
   "outputs": [],
   "source": [
    "from __future__ import absolute_import, division, print_function, unicode_literals\n",
    "\n",
    "import os\n",
    "import numpy as np\n",
    "import matplotlib.pyplot as plt\n",
    "import tensorflow as tf\n",
    "\n",
    "keras = tf.keras"
   ]
  },
  {
   "cell_type": "markdown",
   "id": "a86cfe58",
   "metadata": {},
   "source": [
    "## tfds를 통해 데이터를 가져올 준비"
   ]
  },
  {
   "cell_type": "code",
   "execution_count": null,
   "id": "338936fd",
   "metadata": {},
   "outputs": [],
   "source": [
    "import tensorflow_datasets as tfds\n",
    "tfds.disable_progress_bar()"
   ]
  },
  {
   "cell_type": "markdown",
   "id": "3dfe0631",
   "metadata": {},
   "source": [
    "## 데이터 받기"
   ]
  },
  {
   "cell_type": "code",
   "execution_count": null,
   "id": "24c1e779",
   "metadata": {},
   "outputs": [],
   "source": [
    "(raw_train, raw_validation, raw_test), metadata = tfds.load(\n",
    "    'cats_vs_dogs',\n",
    "    split=['train[:80%]', 'train[80%:90%]', 'train[90%:]'],\n",
    "    with_info=True,\n",
    "    as_supervise=True,\n",
    ")"
   ]
  },
  {
   "cell_type": "markdown",
   "id": "77ea17cf",
   "metadata": {},
   "source": [
    "- as_supervised 옵션을 True로 하면 데이터가 라벨과 함께 tuple 형태로 저장됨"
   ]
  },
  {
   "cell_type": "markdown",
   "id": "3d30df36",
   "metadata": {},
   "source": [
    "## 데이터 확인"
   ]
  },
  {
   "cell_type": "code",
   "execution_count": null,
   "id": "7e1b17ea",
   "metadata": {},
   "outputs": [],
   "source": [
    "for image, label in raw_train.take(1):\n",
    "    plt.imshow(image)\n",
    "    print(label.numpy())"
   ]
  },
  {
   "cell_type": "markdown",
   "id": "a7647b37",
   "metadata": {},
   "source": [
    "## 메타 정보에서 라벨 이름 가져와서 두 개만"
   ]
  },
  {
   "cell_type": "code",
   "execution_count": null,
   "id": "b12d2c86",
   "metadata": {},
   "outputs": [],
   "source": [
    "get_label_name = metadata.features['label'].int2str\n",
    "\n",
    "for image, label in raw_train.take(2):\n",
    "    plt.figure()\n",
    "    plt.imshow(image)\n",
    "    plt.title(get_label_name(label))"
   ]
  },
  {
   "cell_type": "markdown",
   "id": "6029a597",
   "metadata": {},
   "source": [
    "## 이미지 전처리 함수 하나"
   ]
  },
  {
   "cell_type": "code",
   "execution_count": null,
   "id": "2191db30",
   "metadata": {},
   "outputs": [],
   "source": [
    "IMG_SIZE = 160 # 모든 이미지는 160x160으로\n",
    "\n",
    "def format_example(image, label):\n",
    "    image = tf.cast(image, tf.float32)\n",
    "    image = (image/127.5) - 1 # 스케일링의 일종\n",
    "    image = tf.image.resize(image, (IMG_SIZE, IMG_SIZE))\n",
    "    return image, label"
   ]
  },
  {
   "cell_type": "markdown",
   "id": "712faf38",
   "metadata": {},
   "source": [
    "## map 함수를 이용해서 빠르게 적용"
   ]
  },
  {
   "cell_type": "code",
   "execution_count": null,
   "id": "c240850a",
   "metadata": {},
   "outputs": [],
   "source": [
    "train = raw_train.map(format_example)\n",
    "validation = raw_validation.map(format_example)\n",
    "test = raw_test.map(format_example)"
   ]
  },
  {
   "cell_type": "markdown",
   "id": "b970e379",
   "metadata": {},
   "source": [
    "## batch size 적용하고 shuffle"
   ]
  },
  {
   "cell_type": "code",
   "execution_count": null,
   "id": "1d2238e2",
   "metadata": {},
   "outputs": [],
   "source": [
    "BATCH_SIZE = 32\n",
    "SHUFFLE_BUFFER_SIZE = 1000"
   ]
  },
  {
   "cell_type": "code",
   "execution_count": null,
   "id": "6b575629",
   "metadata": {},
   "outputs": [],
   "source": [
    "train_batches = train.shuffle(SHUFFLE_BUFFER_SIZE).batch(BATCH_SIZE)\n",
    "validation_batches = validation.batch(BATCH_SIZE)\n",
    "test_batches = test.batch(BATCH_SIZE)"
   ]
  },
  {
   "cell_type": "markdown",
   "id": "e98a045e",
   "metadata": {},
   "source": [
    "## 확인"
   ]
  },
  {
   "cell_type": "code",
   "execution_count": null,
   "id": "af249329",
   "metadata": {},
   "outputs": [],
   "source": [
    "for image_batch, label_batch in train_batches.take(1):\n",
    "    pass\n",
    "\n",
    "image_batch.shape"
   ]
  },
  {
   "cell_type": "markdown",
   "id": "47896c1a",
   "metadata": {},
   "source": [
    "## MobileNet V2 모델"
   ]
  },
  {
   "cell_type": "code",
   "execution_count": null,
   "id": "b3443b59",
   "metadata": {},
   "outputs": [],
   "source": [
    "IMG_SHAPE = (IMG_SIZE, IMG_SIZE, 3)\n",
    "\n",
    "base_model = tf.keras.applications.MobileNetV2(input_shape=IMG_SHAPE,\n",
    "                                              include_top=False,\n",
    "                                              weights='imagenet')"
   ]
  },
  {
   "cell_type": "markdown",
   "id": "ed0c74cb",
   "metadata": {},
   "source": [
    "- 이 모델은 1.4M 이미지와 1000개의 클래스로 구성된 대규모 데이터셋인 ImageNet 데이터셋을 사용해 사전 훈련된 모델\n",
    "- 먼저 기능 추출에 사용할 MobileNet V2 층을 선택\n",
    "- flatten 연산을 하기 전에 맨 아래 층을 가지고 진행 (병목층)\n",
    "- include_top = False로 지정하면 맨 위에 분류 층이 포함되지 않은 네트워크를 로드하므로 특징 추출에 이상적 -> 내가 학습할 모델의 class 수는 다르기 때문"
   ]
  },
  {
   "cell_type": "markdown",
   "id": "033f785b",
   "metadata": {},
   "source": [
    "## feature_batch"
   ]
  },
  {
   "cell_type": "code",
   "execution_count": null,
   "id": "f8377e8a",
   "metadata": {},
   "outputs": [],
   "source": [
    "feature_batch = base_model(image_batch)\n",
    "print(feature_batch.shape)"
   ]
  },
  {
   "cell_type": "markdown",
   "id": "d567b665",
   "metadata": {},
   "source": [
    "- 이 특징 추출기는 각 160x160x3 이미지를 5x5x1280 개의 특징 블록으로 변환"
   ]
  },
  {
   "cell_type": "markdown",
   "id": "a5dede10",
   "metadata": {},
   "source": [
    "## 모델 확인"
   ]
  },
  {
   "cell_type": "code",
   "execution_count": null,
   "id": "da33011b",
   "metadata": {},
   "outputs": [],
   "source": [
    "base_model.trainable = False"
   ]
  },
  {
   "cell_type": "code",
   "execution_count": null,
   "id": "b335efb6",
   "metadata": {},
   "outputs": [],
   "source": [
    "base_model.summary()"
   ]
  },
  {
   "cell_type": "markdown",
   "id": "50d81ef8",
   "metadata": {},
   "source": [
    "- 여기까지는 가중치를 건드리지 않겠다는 뜻"
   ]
  },
  {
   "cell_type": "markdown",
   "id": "8334025d",
   "metadata": {},
   "source": [
    "## GlobalAveragePooling2D 층"
   ]
  },
  {
   "cell_type": "code",
   "execution_count": null,
   "id": "d4316c16",
   "metadata": {},
   "outputs": [],
   "source": [
    "global_average_layer = tf.keras.layers.GlobalAveragePooling2D()\n",
    "feature_batch_average = global_average_layer(feature_batch)\n",
    "print(feature_batch_average.shape)"
   ]
  },
  {
   "cell_type": "markdown",
   "id": "a8e5be94",
   "metadata": {},
   "source": [
    "- GlobalAveragePooling2D 층을 사용하여 특징을 이미지 한 개 당 1280개 요소 벡터로 변환"
   ]
  },
  {
   "cell_type": "markdown",
   "id": "6067d48d",
   "metadata": {},
   "source": [
    "## Dense층을 사용하여 특징을 이미지 당 단일 예측"
   ]
  },
  {
   "cell_type": "code",
   "execution_count": null,
   "id": "f72295c5",
   "metadata": {},
   "outputs": [],
   "source": [
    "prediction_layer = keras.layers.Dense(1)\n",
    "prediction_batch = prediction_layer(feature_batch_average)\n",
    "print(prediction_batch.shape)"
   ]
  },
  {
   "cell_type": "code",
   "execution_count": null,
   "id": "57b9b903",
   "metadata": {},
   "outputs": [],
   "source": [
    "prediction_batch"
   ]
  },
  {
   "cell_type": "markdown",
   "id": "fc530124",
   "metadata": {},
   "source": [
    "- 양수는 클래스 1을 예측하고 음수는 클래스 0을 예측"
   ]
  },
  {
   "cell_type": "markdown",
   "id": "e957fd5d",
   "metadata": {},
   "source": [
    "## 전체 모델 구성"
   ]
  },
  {
   "cell_type": "code",
   "execution_count": null,
   "id": "960c8f26",
   "metadata": {},
   "outputs": [],
   "source": [
    "model = tf.keras.Sequential([\n",
    "    base_model,\n",
    "    global_average_layer,\n",
    "    prediction_layer\n",
    "])"
   ]
  },
  {
   "cell_type": "markdown",
   "id": "964f537f",
   "metadata": {},
   "source": [
    "## 모델 컴파일"
   ]
  },
  {
   "cell_type": "code",
   "execution_count": null,
   "id": "207a9821",
   "metadata": {},
   "outputs": [],
   "source": [
    "base_learning_rate = 0.0001\n",
    "model.compile(optimizer=tf.keras.optimizers.RMSprop(lr=base_learning_rate),\n",
    "             loss=tf.keras.losses.BinaryCrossentropy(from_logits=True),\n",
    "             metrics=['accuracy'])"
   ]
  },
  {
   "cell_type": "markdown",
   "id": "e00cd68b",
   "metadata": {},
   "source": [
    "## 모델 summary"
   ]
  },
  {
   "cell_type": "code",
   "execution_count": null,
   "id": "4803c5c5",
   "metadata": {},
   "outputs": [],
   "source": [
    "model.summary()"
   ]
  },
  {
   "cell_type": "markdown",
   "id": "43fe2b68",
   "metadata": {},
   "source": [
    "## 아무 학습을 하지 않은 현재의 성능"
   ]
  },
  {
   "cell_type": "code",
   "execution_count": null,
   "id": "53e69acd",
   "metadata": {},
   "outputs": [],
   "source": [
    "initial_epochs = 10\n",
    "validation_steps = 20\n",
    "\n",
    "loss0, accuracy0 = model.evaluate(validation_batches, steps=validation_steps)"
   ]
  },
  {
   "cell_type": "markdown",
   "id": "cc0f0f4d",
   "metadata": {},
   "source": [
    "## 학습"
   ]
  },
  {
   "cell_type": "code",
   "execution_count": null,
   "id": "f7ac5402",
   "metadata": {},
   "outputs": [],
   "source": [
    "history = model.fit(train_batches,\n",
    "                   epochs=initial_epochs,\n",
    "                   validation_data=validation_batches)"
   ]
  },
  {
   "cell_type": "markdown",
   "id": "6785daf6",
   "metadata": {},
   "source": [
    "- trainable weights가 1200여개뿐이지만 연산은 전체를 다해야하기 때문에 만만한 시간은 아님\n",
    "- 그러나 mobilenet 전체를 다시 학습하는 것 보다는 훨씬 좋음"
   ]
  },
  {
   "cell_type": "code",
   "execution_count": null,
   "id": "a30f6376",
   "metadata": {},
   "outputs": [],
   "source": []
  },
  {
   "cell_type": "markdown",
   "id": "5763aa56",
   "metadata": {},
   "source": [
    "- 곡선이 잘 수렴한 것 같다"
   ]
  },
  {
   "cell_type": "markdown",
   "id": "4c483cf6",
   "metadata": {},
   "source": [
    "## 일단 모두 trainable하게 변경"
   ]
  },
  {
   "cell_type": "code",
   "execution_count": null,
   "id": "c818e14e",
   "metadata": {},
   "outputs": [],
   "source": [
    "base_model.trainable = True\n",
    "print('Number of layers in the base model: ', len(base_model.layers))"
   ]
  },
  {
   "cell_type": "markdown",
   "id": "42302364",
   "metadata": {},
   "source": [
    "## 100번째 층부터 튜닝가능하게 설정"
   ]
  },
  {
   "cell_type": "code",
   "execution_count": null,
   "id": "f212b298",
   "metadata": {},
   "outputs": [],
   "source": [
    "fine_tune_at = 100\n",
    "\n",
    "# 'fine_tune_at' 층 이전의 모든 층을 고정\n",
    "for layer in base_model.layers[:fine_tune_at]:\n",
    "    layer.trainalbe = False"
   ]
  },
  {
   "cell_type": "markdown",
   "id": "97698061",
   "metadata": {},
   "source": [
    "## 학습 비율을 낮춤"
   ]
  },
  {
   "cell_type": "code",
   "execution_count": null,
   "id": "baea05f8",
   "metadata": {},
   "outputs": [],
   "source": [
    "model.compile(loss=tf.keras.losses.BinaryCrossentropy(from_logits=True),\n",
    "             optimizer=tf.keras.optimizers.RMSprop(lr=base_learning_rate/10),\n",
    "             metrics=['accuracy'])"
   ]
  },
  {
   "cell_type": "code",
   "execution_count": null,
   "id": "90dd1b97",
   "metadata": {},
   "outputs": [],
   "source": [
    "model.summary()"
   ]
  },
  {
   "cell_type": "markdown",
   "id": "5cdfb98c",
   "metadata": {},
   "source": [
    "## 총 20번의 epoch"
   ]
  },
  {
   "cell_type": "code",
   "execution_count": null,
   "id": "208b95b6",
   "metadata": {},
   "outputs": [],
   "source": [
    "fine_tune_epochs = 10\n",
    "total_epochs = initial_epochs + fine_tune_epochs\n",
    "\n",
    "history_fine = model.fit(train_batches,\n",
    "                        epochs=total_epochs,\n",
    "                        initial_epoch=history.epoch[-1],\n",
    "                        validation_data=validation_batches)"
   ]
  },
  {
   "cell_type": "markdown",
   "id": "651b102e",
   "metadata": {},
   "source": [
    "- 잘 보면 시작이 1epoch가 아니다"
   ]
  },
  {
   "cell_type": "markdown",
   "id": "aa5e91c1",
   "metadata": {},
   "source": [
    "## 최초 history에 방금 학습 결과를 추가"
   ]
  },
  {
   "cell_type": "code",
   "execution_count": null,
   "id": "c3d25f5c",
   "metadata": {},
   "outputs": [],
   "source": [
    "acc += history_fine.history['accuracy']\n",
    "val_acc += history_fine.history['val_accuracy']\n",
    "\n",
    "loss += history_fine.history['loss']\n",
    "val_loss += history_fine.history['val_loss']"
   ]
  },
  {
   "cell_type": "markdown",
   "id": "03b0513f",
   "metadata": {},
   "source": [
    "## 그래프"
   ]
  },
  {
   "cell_type": "code",
   "execution_count": null,
   "id": "985f32fb",
   "metadata": {},
   "outputs": [],
   "source": [
    "plt.figure(figsize=(8, 8))\n",
    "\n",
    "plt.subplot(2, 1, 1)\n",
    "plt.plot(acc, label='Training Accuracy')\n",
    "plt.plot(val_acc, label='Validation Accuracy')\n",
    "plt.ylim([0.8, 1])\n",
    "plt.plot([initial_epochs-1, initial_epochs-1],\n",
    "        plt.ylim(), label='Start Fine Tuning')\n",
    "plt.legend(loc='lower right')\n",
    "plt.title('Training and Validaion Accuracy')\n",
    "\n",
    "plt.subplot(2, 1, 2)\n",
    "plt.plot(loss, label='Training loss')\n",
    "plt.plot(val_loss, label='Validation loss')\n",
    "plt.ylim([0, 1.0])\n",
    "plt.plot([initial_epochs-1, initial_epochs-1],\n",
    "        plt.ylim(), label='Start Fine Tuning')\n",
    "plt.legend(loc='upper right')\n",
    "plt.title('Training and Validaion Loss')\n",
    "plt.xlabel('epoch')\n",
    "plt.show()"
   ]
  },
  {
   "cell_type": "code",
   "execution_count": null,
   "id": "c328ba4c",
   "metadata": {},
   "outputs": [],
   "source": []
  }
 ],
 "metadata": {
  "kernelspec": {
   "display_name": "Python 3 (ipykernel)",
   "language": "python",
   "name": "python3"
  },
  "language_info": {
   "codemirror_mode": {
    "name": "ipython",
    "version": 3
   },
   "file_extension": ".py",
   "mimetype": "text/x-python",
   "name": "python",
   "nbconvert_exporter": "python",
   "pygments_lexer": "ipython3",
   "version": "3.9.7"
  },
  "toc": {
   "base_numbering": 1,
   "nav_menu": {},
   "number_sections": true,
   "sideBar": true,
   "skip_h1_title": false,
   "title_cell": "Table of Contents",
   "title_sidebar": "Contents",
   "toc_cell": false,
   "toc_position": {},
   "toc_section_display": true,
   "toc_window_display": false
  }
 },
 "nbformat": 4,
 "nbformat_minor": 5
}
