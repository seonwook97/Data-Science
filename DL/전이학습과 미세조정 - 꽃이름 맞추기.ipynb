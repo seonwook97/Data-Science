{
 "cells": [
  {
   "cell_type": "markdown",
   "id": "c9f89f4a",
   "metadata": {},
   "source": [
    "## 텐서플로 허브"
   ]
  },
  {
   "cell_type": "markdown",
   "id": "cdd9693a",
   "metadata": {},
   "source": [
    "### import와 설치"
   ]
  },
  {
   "cell_type": "code",
   "execution_count": null,
   "id": "e38b47bb",
   "metadata": {},
   "outputs": [],
   "source": [
    "import matplotlib.pyplot as plt\n",
    "import tensorflow as tf"
   ]
  },
  {
   "cell_type": "code",
   "execution_count": null,
   "id": "9133a5e5",
   "metadata": {},
   "outputs": [],
   "source": [
    "!pip install -U tf-hub-nightly\n",
    "import tensorflow_hub as hub\n",
    "\n",
    "from tensorflow.keras import layers"
   ]
  },
  {
   "cell_type": "markdown",
   "id": "cd8b095d",
   "metadata": {},
   "source": [
    "### 텐서플로 허브에서 mobilenet 가져오기"
   ]
  },
  {
   "cell_type": "code",
   "execution_count": null,
   "id": "07b6ac0c",
   "metadata": {},
   "outputs": [],
   "source": [
    "url = 'https://tfhub.dev/google/tf2-preview/mobilenet_v2/classification/2'\n",
    "classifier_url = url"
   ]
  },
  {
   "cell_type": "code",
   "execution_count": null,
   "id": "5e1fcbb5",
   "metadata": {},
   "outputs": [],
   "source": [
    "IMAGE_SHAPE = (224, 224)\n",
    "\n",
    "classifier = tf.keras.Sequential([\n",
    "    hub.KerasLayer(classifier_url, input_shape=IMAGE_SHAP+(3,))\n",
    "])"
   ]
  },
  {
   "cell_type": "code",
   "execution_count": null,
   "id": "8b38d250",
   "metadata": {},
   "outputs": [],
   "source": [
    "classifier.summary()"
   ]
  },
  {
   "cell_type": "markdown",
   "id": "3423a95e",
   "metadata": {},
   "source": [
    "### 이미지 하나 가져와보기"
   ]
  },
  {
   "cell_type": "code",
   "execution_count": null,
   "id": "907fc0dd",
   "metadata": {},
   "outputs": [],
   "source": [
    "import numpy as np\n",
    "import PIL.Image as Image\n",
    "\n",
    "url = 'https://'"
   ]
  }
 ],
 "metadata": {
  "kernelspec": {
   "display_name": "Python 3 (ipykernel)",
   "language": "python",
   "name": "python3"
  },
  "language_info": {
   "codemirror_mode": {
    "name": "ipython",
    "version": 3
   },
   "file_extension": ".py",
   "mimetype": "text/x-python",
   "name": "python",
   "nbconvert_exporter": "python",
   "pygments_lexer": "ipython3",
   "version": "3.9.7"
  },
  "toc": {
   "base_numbering": 1,
   "nav_menu": {},
   "number_sections": true,
   "sideBar": true,
   "skip_h1_title": false,
   "title_cell": "Table of Contents",
   "title_sidebar": "Contents",
   "toc_cell": false,
   "toc_position": {},
   "toc_section_display": true,
   "toc_window_display": false
  }
 },
 "nbformat": 4,
 "nbformat_minor": 5
}
