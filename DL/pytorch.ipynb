{
 "cells": [
  {
   "cell_type": "markdown",
   "id": "a41d35d1",
   "metadata": {},
   "source": [
    "# pytorch 기초"
   ]
  },
  {
   "cell_type": "markdown",
   "id": "538aba92",
   "metadata": {},
   "source": [
    "## pytorch import"
   ]
  },
  {
   "cell_type": "code",
   "execution_count": 11,
   "id": "8c7b5d6f",
   "metadata": {
    "ExecuteTime": {
     "end_time": "2021-12-18T12:39:57.658484Z",
     "start_time": "2021-12-18T12:39:57.645647Z"
    }
   },
   "outputs": [],
   "source": [
    "import torch"
   ]
  },
  {
   "cell_type": "markdown",
   "id": "5d5c7623",
   "metadata": {},
   "source": [
    "## 일반적 파이썬 코드"
   ]
  },
  {
   "cell_type": "code",
   "execution_count": 12,
   "id": "fa1e5e45",
   "metadata": {
    "ExecuteTime": {
     "end_time": "2021-12-18T12:39:58.064738Z",
     "start_time": "2021-12-18T12:39:58.048490Z"
    }
   },
   "outputs": [
    {
     "name": "stdout",
     "output_type": "stream",
     "text": [
      "3.5 14.25\n"
     ]
    }
   ],
   "source": [
    "x = 3.5\n",
    "\n",
    "y = x*x + 2\n",
    "\n",
    "print(x, y)"
   ]
  },
  {
   "cell_type": "markdown",
   "id": "a3ec0776",
   "metadata": {},
   "source": [
    "## 토치에서의 코드"
   ]
  },
  {
   "cell_type": "code",
   "execution_count": 13,
   "id": "aa5d201b",
   "metadata": {
    "ExecuteTime": {
     "end_time": "2021-12-18T12:39:58.456624Z",
     "start_time": "2021-12-18T12:39:58.449624Z"
    }
   },
   "outputs": [
    {
     "name": "stdout",
     "output_type": "stream",
     "text": [
      "tensor(3.5000)\n"
     ]
    }
   ],
   "source": [
    "x = torch.tensor(3.5)\n",
    "\n",
    "print(x)"
   ]
  },
  {
   "cell_type": "markdown",
   "id": "2a655a50",
   "metadata": {},
   "source": [
    "## 자동으로 기울기를 계산하기 위한 준비"
   ]
  },
  {
   "cell_type": "code",
   "execution_count": 14,
   "id": "d3d54087",
   "metadata": {
    "ExecuteTime": {
     "end_time": "2021-12-18T12:39:58.952354Z",
     "start_time": "2021-12-18T12:39:58.941457Z"
    }
   },
   "outputs": [
    {
     "name": "stdout",
     "output_type": "stream",
     "text": [
      "tensor(3.5000, requires_grad=True)\n"
     ]
    }
   ],
   "source": [
    "x = torch.tensor(3.5, requires_grad=True)\n",
    "\n",
    "print(x)"
   ]
  },
  {
   "cell_type": "markdown",
   "id": "2e65b251",
   "metadata": {},
   "source": [
    "- 어떤 함수에서 x에 3.5를 넣은 값을 찾고 싶다면\n",
    "- y = (x-1)(x-2)(x-3)"
   ]
  },
  {
   "cell_type": "code",
   "execution_count": 15,
   "id": "0c9d919f",
   "metadata": {
    "ExecuteTime": {
     "end_time": "2021-12-18T12:39:59.557563Z",
     "start_time": "2021-12-18T12:39:59.550269Z"
    }
   },
   "outputs": [
    {
     "name": "stdout",
     "output_type": "stream",
     "text": [
      "tensor(1.8750, grad_fn=<MulBackward0>)\n"
     ]
    }
   ],
   "source": [
    "y = (x-1) * (x-2) * (x-3)\n",
    "\n",
    "print(y)"
   ]
  },
  {
   "cell_type": "markdown",
   "id": "185c6a77",
   "metadata": {},
   "source": [
    "- x가 tensor로 정의되었기 때문에 y도 tensor로 자동으로 정의됨"
   ]
  },
  {
   "cell_type": "markdown",
   "id": "f68b9326",
   "metadata": {},
   "source": [
    "## 기울기 계산"
   ]
  },
  {
   "cell_type": "code",
   "execution_count": 16,
   "id": "b9df4de6",
   "metadata": {
    "ExecuteTime": {
     "end_time": "2021-12-18T12:40:00.687371Z",
     "start_time": "2021-12-18T12:40:00.661372Z"
    }
   },
   "outputs": [
    {
     "data": {
      "text/plain": [
       "tensor(5.7500)"
      ]
     },
     "execution_count": 16,
     "metadata": {},
     "output_type": "execute_result"
    }
   ],
   "source": [
    "y.backward() \n",
    "x.grad"
   ]
  },
  {
   "cell_type": "markdown",
   "id": "345755b1",
   "metadata": {},
   "source": [
    "## Chain rule - torch로 계산"
   ]
  },
  {
   "cell_type": "code",
   "execution_count": 17,
   "id": "b12be1bf",
   "metadata": {
    "ExecuteTime": {
     "end_time": "2021-12-18T12:45:38.332306Z",
     "start_time": "2021-12-18T12:45:38.314845Z"
    }
   },
   "outputs": [],
   "source": [
    "a = torch.tensor(2.0, requires_grad=True)\n",
    "b = torch.tensor(1.0, requires_grad=True)\n",
    "\n",
    "x = 2*a + 3*b\n",
    "y = 5*a*a + 3*b*b*b\n",
    "z = 2*x + 3*y"
   ]
  },
  {
   "cell_type": "markdown",
   "id": "102c6c10",
   "metadata": {},
   "source": [
    "## dz/da?"
   ]
  },
  {
   "cell_type": "code",
   "execution_count": 18,
   "id": "9745fd96",
   "metadata": {
    "ExecuteTime": {
     "end_time": "2021-12-18T12:46:46.901604Z",
     "start_time": "2021-12-18T12:46:46.895541Z"
    }
   },
   "outputs": [],
   "source": [
    "# work out gradients\n",
    "\n",
    "z.backward()"
   ]
  },
  {
   "cell_type": "code",
   "execution_count": 19,
   "id": "9c09a5fc",
   "metadata": {
    "ExecuteTime": {
     "end_time": "2021-12-18T12:47:02.299327Z",
     "start_time": "2021-12-18T12:47:02.285086Z"
    }
   },
   "outputs": [
    {
     "data": {
      "text/plain": [
       "tensor(64.)"
      ]
     },
     "execution_count": 19,
     "metadata": {},
     "output_type": "execute_result"
    }
   ],
   "source": [
    "# what is gradient at a = 2.0\n",
    "\n",
    "a.grad"
   ]
  },
  {
   "cell_type": "markdown",
   "id": "3f544e10",
   "metadata": {},
   "source": [
    "- 4 + 30a, a = 2\n",
    "- 64"
   ]
  },
  {
   "cell_type": "markdown",
   "id": "0cc953cf",
   "metadata": {},
   "source": [
    "# 보스턴 집값 예측"
   ]
  },
  {
   "cell_type": "code",
   "execution_count": 20,
   "id": "dfc6f2b4",
   "metadata": {
    "ExecuteTime": {
     "end_time": "2021-12-18T12:58:35.504910Z",
     "start_time": "2021-12-18T12:58:33.031204Z"
    }
   },
   "outputs": [],
   "source": [
    "import pandas as pd\n",
    "import seaborn as sns\n",
    "import matplotlib.pyplot as plt"
   ]
  },
  {
   "cell_type": "code",
   "execution_count": 21,
   "id": "8e2f6c2f",
   "metadata": {
    "ExecuteTime": {
     "end_time": "2021-12-18T12:58:52.091997Z",
     "start_time": "2021-12-18T12:58:51.705674Z"
    },
    "collapsed": true
   },
   "outputs": [
    {
     "name": "stdout",
     "output_type": "stream",
     "text": [
      ".. _boston_dataset:\n",
      "\n",
      "Boston house prices dataset\n",
      "---------------------------\n",
      "\n",
      "**Data Set Characteristics:**  \n",
      "\n",
      "    :Number of Instances: 506 \n",
      "\n",
      "    :Number of Attributes: 13 numeric/categorical predictive. Median Value (attribute 14) is usually the target.\n",
      "\n",
      "    :Attribute Information (in order):\n",
      "        - CRIM     per capita crime rate by town\n",
      "        - ZN       proportion of residential land zoned for lots over 25,000 sq.ft.\n",
      "        - INDUS    proportion of non-retail business acres per town\n",
      "        - CHAS     Charles River dummy variable (= 1 if tract bounds river; 0 otherwise)\n",
      "        - NOX      nitric oxides concentration (parts per 10 million)\n",
      "        - RM       average number of rooms per dwelling\n",
      "        - AGE      proportion of owner-occupied units built prior to 1940\n",
      "        - DIS      weighted distances to five Boston employment centres\n",
      "        - RAD      index of accessibility to radial highways\n",
      "        - TAX      full-value property-tax rate per $10,000\n",
      "        - PTRATIO  pupil-teacher ratio by town\n",
      "        - B        1000(Bk - 0.63)^2 where Bk is the proportion of black people by town\n",
      "        - LSTAT    % lower status of the population\n",
      "        - MEDV     Median value of owner-occupied homes in $1000's\n",
      "\n",
      "    :Missing Attribute Values: None\n",
      "\n",
      "    :Creator: Harrison, D. and Rubinfeld, D.L.\n",
      "\n",
      "This is a copy of UCI ML housing dataset.\n",
      "https://archive.ics.uci.edu/ml/machine-learning-databases/housing/\n",
      "\n",
      "\n",
      "This dataset was taken from the StatLib library which is maintained at Carnegie Mellon University.\n",
      "\n",
      "The Boston house-price data of Harrison, D. and Rubinfeld, D.L. 'Hedonic\n",
      "prices and the demand for clean air', J. Environ. Economics & Management,\n",
      "vol.5, 81-102, 1978.   Used in Belsley, Kuh & Welsch, 'Regression diagnostics\n",
      "...', Wiley, 1980.   N.B. Various transformations are used in the table on\n",
      "pages 244-261 of the latter.\n",
      "\n",
      "The Boston house-price data has been used in many machine learning papers that address regression\n",
      "problems.   \n",
      "     \n",
      ".. topic:: References\n",
      "\n",
      "   - Belsley, Kuh & Welsch, 'Regression diagnostics: Identifying Influential Data and Sources of Collinearity', Wiley, 1980. 244-261.\n",
      "   - Quinlan,R. (1993). Combining Instance-Based and Model-Based Learning. In Proceedings on the Tenth International Conference of Machine Learning, 236-243, University of Massachusetts, Amherst. Morgan Kaufmann.\n",
      "\n"
     ]
    }
   ],
   "source": [
    "from sklearn.datasets import load_boston\n",
    "boston = load_boston()\n",
    "\n",
    "print(boston.DESCR)"
   ]
  },
  {
   "cell_type": "markdown",
   "id": "63551c8f",
   "metadata": {},
   "source": [
    "## DF 변환"
   ]
  },
  {
   "cell_type": "code",
   "execution_count": 22,
   "id": "b0395278",
   "metadata": {
    "ExecuteTime": {
     "end_time": "2021-12-18T12:59:30.302362Z",
     "start_time": "2021-12-18T12:59:30.252929Z"
    }
   },
   "outputs": [
    {
     "data": {
      "text/html": [
       "<div>\n",
       "<style scoped>\n",
       "    .dataframe tbody tr th:only-of-type {\n",
       "        vertical-align: middle;\n",
       "    }\n",
       "\n",
       "    .dataframe tbody tr th {\n",
       "        vertical-align: top;\n",
       "    }\n",
       "\n",
       "    .dataframe thead th {\n",
       "        text-align: right;\n",
       "    }\n",
       "</style>\n",
       "<table border=\"1\" class=\"dataframe\">\n",
       "  <thead>\n",
       "    <tr style=\"text-align: right;\">\n",
       "      <th></th>\n",
       "      <th>CRIM</th>\n",
       "      <th>ZN</th>\n",
       "      <th>INDUS</th>\n",
       "      <th>CHAS</th>\n",
       "      <th>NOX</th>\n",
       "      <th>RM</th>\n",
       "      <th>AGE</th>\n",
       "      <th>DIS</th>\n",
       "      <th>RAD</th>\n",
       "      <th>TAX</th>\n",
       "      <th>PTRATIO</th>\n",
       "      <th>B</th>\n",
       "      <th>LSTAT</th>\n",
       "      <th>TARGET</th>\n",
       "    </tr>\n",
       "  </thead>\n",
       "  <tbody>\n",
       "    <tr>\n",
       "      <th>501</th>\n",
       "      <td>0.06263</td>\n",
       "      <td>0.0</td>\n",
       "      <td>11.93</td>\n",
       "      <td>0.0</td>\n",
       "      <td>0.573</td>\n",
       "      <td>6.593</td>\n",
       "      <td>69.1</td>\n",
       "      <td>2.4786</td>\n",
       "      <td>1.0</td>\n",
       "      <td>273.0</td>\n",
       "      <td>21.0</td>\n",
       "      <td>391.99</td>\n",
       "      <td>9.67</td>\n",
       "      <td>22.4</td>\n",
       "    </tr>\n",
       "    <tr>\n",
       "      <th>502</th>\n",
       "      <td>0.04527</td>\n",
       "      <td>0.0</td>\n",
       "      <td>11.93</td>\n",
       "      <td>0.0</td>\n",
       "      <td>0.573</td>\n",
       "      <td>6.120</td>\n",
       "      <td>76.7</td>\n",
       "      <td>2.2875</td>\n",
       "      <td>1.0</td>\n",
       "      <td>273.0</td>\n",
       "      <td>21.0</td>\n",
       "      <td>396.90</td>\n",
       "      <td>9.08</td>\n",
       "      <td>20.6</td>\n",
       "    </tr>\n",
       "    <tr>\n",
       "      <th>503</th>\n",
       "      <td>0.06076</td>\n",
       "      <td>0.0</td>\n",
       "      <td>11.93</td>\n",
       "      <td>0.0</td>\n",
       "      <td>0.573</td>\n",
       "      <td>6.976</td>\n",
       "      <td>91.0</td>\n",
       "      <td>2.1675</td>\n",
       "      <td>1.0</td>\n",
       "      <td>273.0</td>\n",
       "      <td>21.0</td>\n",
       "      <td>396.90</td>\n",
       "      <td>5.64</td>\n",
       "      <td>23.9</td>\n",
       "    </tr>\n",
       "    <tr>\n",
       "      <th>504</th>\n",
       "      <td>0.10959</td>\n",
       "      <td>0.0</td>\n",
       "      <td>11.93</td>\n",
       "      <td>0.0</td>\n",
       "      <td>0.573</td>\n",
       "      <td>6.794</td>\n",
       "      <td>89.3</td>\n",
       "      <td>2.3889</td>\n",
       "      <td>1.0</td>\n",
       "      <td>273.0</td>\n",
       "      <td>21.0</td>\n",
       "      <td>393.45</td>\n",
       "      <td>6.48</td>\n",
       "      <td>22.0</td>\n",
       "    </tr>\n",
       "    <tr>\n",
       "      <th>505</th>\n",
       "      <td>0.04741</td>\n",
       "      <td>0.0</td>\n",
       "      <td>11.93</td>\n",
       "      <td>0.0</td>\n",
       "      <td>0.573</td>\n",
       "      <td>6.030</td>\n",
       "      <td>80.8</td>\n",
       "      <td>2.5050</td>\n",
       "      <td>1.0</td>\n",
       "      <td>273.0</td>\n",
       "      <td>21.0</td>\n",
       "      <td>396.90</td>\n",
       "      <td>7.88</td>\n",
       "      <td>11.9</td>\n",
       "    </tr>\n",
       "  </tbody>\n",
       "</table>\n",
       "</div>"
      ],
      "text/plain": [
       "        CRIM   ZN  INDUS  CHAS    NOX     RM   AGE     DIS  RAD    TAX  \\\n",
       "501  0.06263  0.0  11.93   0.0  0.573  6.593  69.1  2.4786  1.0  273.0   \n",
       "502  0.04527  0.0  11.93   0.0  0.573  6.120  76.7  2.2875  1.0  273.0   \n",
       "503  0.06076  0.0  11.93   0.0  0.573  6.976  91.0  2.1675  1.0  273.0   \n",
       "504  0.10959  0.0  11.93   0.0  0.573  6.794  89.3  2.3889  1.0  273.0   \n",
       "505  0.04741  0.0  11.93   0.0  0.573  6.030  80.8  2.5050  1.0  273.0   \n",
       "\n",
       "     PTRATIO       B  LSTAT  TARGET  \n",
       "501     21.0  391.99   9.67    22.4  \n",
       "502     21.0  396.90   9.08    20.6  \n",
       "503     21.0  396.90   5.64    23.9  \n",
       "504     21.0  393.45   6.48    22.0  \n",
       "505     21.0  396.90   7.88    11.9  "
      ]
     },
     "execution_count": 22,
     "metadata": {},
     "output_type": "execute_result"
    }
   ],
   "source": [
    "df = pd.DataFrame(boston.data, columns=boston.feature_names)\n",
    "df['TARGET'] = boston.target\n",
    "df.tail()"
   ]
  },
  {
   "cell_type": "markdown",
   "id": "f44836ca",
   "metadata": {},
   "source": [
    "## 필요 모듈 설치"
   ]
  },
  {
   "cell_type": "code",
   "execution_count": 23,
   "id": "004e1fce",
   "metadata": {
    "ExecuteTime": {
     "end_time": "2021-12-18T13:00:28.133508Z",
     "start_time": "2021-12-18T13:00:28.118685Z"
    }
   },
   "outputs": [],
   "source": [
    "import torch\n",
    "import torch.nn as nn\n",
    "import torch.nn.functional as F\n",
    "import torch.optim as optim"
   ]
  },
  {
   "cell_type": "markdown",
   "id": "1c4afe66",
   "metadata": {},
   "source": [
    "## 필요 특성 선택"
   ]
  },
  {
   "cell_type": "code",
   "execution_count": 25,
   "id": "818165da",
   "metadata": {
    "ExecuteTime": {
     "end_time": "2021-12-18T13:01:53.276227Z",
     "start_time": "2021-12-18T13:01:53.266228Z"
    }
   },
   "outputs": [
    {
     "data": {
      "text/plain": [
       "torch.Size([506, 6])"
      ]
     },
     "execution_count": 25,
     "metadata": {},
     "output_type": "execute_result"
    }
   ],
   "source": [
    "cols = ['TARGET', 'INDUS', 'RM', 'LSTAT', 'NOX', 'DIS']\n",
    "data = torch.from_numpy(df[cols].values).float()\n",
    "\n",
    "data.shape"
   ]
  },
  {
   "cell_type": "markdown",
   "id": "9f77058f",
   "metadata": {},
   "source": [
    "## 생긴건 numpy이지만 엄연히 tensor이다"
   ]
  },
  {
   "cell_type": "code",
   "execution_count": 26,
   "id": "18b45a9f",
   "metadata": {
    "ExecuteTime": {
     "end_time": "2021-12-18T13:02:12.815293Z",
     "start_time": "2021-12-18T13:02:12.800359Z"
    }
   },
   "outputs": [
    {
     "data": {
      "text/plain": [
       "tensor([[24.0000,  2.3100,  6.5750,  4.9800,  0.5380,  4.0900],\n",
       "        [21.6000,  7.0700,  6.4210,  9.1400,  0.4690,  4.9671],\n",
       "        [34.7000,  7.0700,  7.1850,  4.0300,  0.4690,  4.9671],\n",
       "        ...,\n",
       "        [23.9000, 11.9300,  6.9760,  5.6400,  0.5730,  2.1675],\n",
       "        [22.0000, 11.9300,  6.7940,  6.4800,  0.5730,  2.3889],\n",
       "        [11.9000, 11.9300,  6.0300,  7.8800,  0.5730,  2.5050]])"
      ]
     },
     "execution_count": 26,
     "metadata": {},
     "output_type": "execute_result"
    }
   ],
   "source": [
    "data"
   ]
  },
  {
   "cell_type": "markdown",
   "id": "5d4b8bcf",
   "metadata": {},
   "source": [
    "## 특성과 라벨 분리"
   ]
  },
  {
   "cell_type": "code",
   "execution_count": 27,
   "id": "77fc837c",
   "metadata": {
    "ExecuteTime": {
     "end_time": "2021-12-18T13:03:13.072611Z",
     "start_time": "2021-12-18T13:03:13.052575Z"
    }
   },
   "outputs": [
    {
     "name": "stdout",
     "output_type": "stream",
     "text": [
      "torch.Size([506, 5]) torch.Size([506, 1])\n"
     ]
    }
   ],
   "source": [
    "y = data[:, :1]\n",
    "x = data[:, 1:]\n",
    "\n",
    "print(x.shape, y.shape)"
   ]
  },
  {
   "cell_type": "markdown",
   "id": "a97d67da",
   "metadata": {},
   "source": [
    "## 하이퍼파라미터"
   ]
  },
  {
   "cell_type": "code",
   "execution_count": 28,
   "id": "76409ca5",
   "metadata": {
    "ExecuteTime": {
     "end_time": "2021-12-18T13:03:37.023939Z",
     "start_time": "2021-12-18T13:03:37.010857Z"
    }
   },
   "outputs": [],
   "source": [
    "n_epochs = 2000\n",
    "learning_rate = 1e-3\n",
    "print_interval = 100"
   ]
  },
  {
   "cell_type": "markdown",
   "id": "3d86f5bb",
   "metadata": {},
   "source": [
    "## torch의 linear class"
   ]
  },
  {
   "cell_type": "markdown",
   "id": "b3eb8ac1",
   "metadata": {},
   "source": [
    "- torch.nn.Linear(in_features, out_features, bias=True)\n",
    "- in_features: size of each input sample\n",
    "- out_features: size of each output sample\n",
    "- bias: if set to False, the layer will not learn an additive bias. Default: True"
   ]
  },
  {
   "cell_type": "markdown",
   "id": "21587924",
   "metadata": {},
   "source": [
    "## 모델 수립"
   ]
  },
  {
   "cell_type": "code",
   "execution_count": 29,
   "id": "51b5b8b7",
   "metadata": {
    "ExecuteTime": {
     "end_time": "2021-12-18T13:06:49.370121Z",
     "start_time": "2021-12-18T13:06:49.348769Z"
    }
   },
   "outputs": [
    {
     "data": {
      "text/plain": [
       "Linear(in_features=5, out_features=1, bias=True)"
      ]
     },
     "execution_count": 29,
     "metadata": {},
     "output_type": "execute_result"
    }
   ],
   "source": [
    "model = nn.Linear(x.size(-1), y.size(-1))\n",
    "model"
   ]
  },
  {
   "cell_type": "markdown",
   "id": "d1a07c50",
   "metadata": {},
   "source": [
    "## Optimizer"
   ]
  },
  {
   "cell_type": "code",
   "execution_count": 33,
   "id": "44940744",
   "metadata": {
    "ExecuteTime": {
     "end_time": "2021-12-18T13:11:39.503476Z",
     "start_time": "2021-12-18T13:11:39.490398Z"
    }
   },
   "outputs": [
    {
     "data": {
      "text/plain": [
       "<bound method Module.parameters of Linear(in_features=5, out_features=1, bias=True)>"
      ]
     },
     "execution_count": 33,
     "metadata": {},
     "output_type": "execute_result"
    }
   ],
   "source": [
    "model.parameters"
   ]
  },
  {
   "cell_type": "code",
   "execution_count": 30,
   "id": "4685a5ac",
   "metadata": {
    "ExecuteTime": {
     "end_time": "2021-12-18T13:07:34.434660Z",
     "start_time": "2021-12-18T13:07:34.416226Z"
    }
   },
   "outputs": [],
   "source": [
    "optimizer = optim.SGD(model.parameters(), lr=learning_rate)"
   ]
  },
  {
   "cell_type": "markdown",
   "id": "492d9ec8",
   "metadata": {},
   "source": [
    "## 학습 시작"
   ]
  },
  {
   "cell_type": "code",
   "execution_count": 34,
   "id": "42134202",
   "metadata": {
    "ExecuteTime": {
     "end_time": "2021-12-18T13:13:47.623872Z",
     "start_time": "2021-12-18T13:13:47.306798Z"
    }
   },
   "outputs": [
    {
     "name": "stdout",
     "output_type": "stream",
     "text": [
      "Epoch 100: loss=4.6958e+01\n",
      "Epoch 200: loss=3.9017e+01\n",
      "Epoch 300: loss=3.4619e+01\n",
      "Epoch 400: loss=3.2140e+01\n",
      "Epoch 500: loss=3.0742e+01\n",
      "Epoch 600: loss=2.9955e+01\n",
      "Epoch 700: loss=2.9510e+01\n",
      "Epoch 800: loss=2.9260e+01\n",
      "Epoch 900: loss=2.9118e+01\n",
      "Epoch 1000: loss=2.9038e+01\n",
      "Epoch 1100: loss=2.8993e+01\n",
      "Epoch 1200: loss=2.8967e+01\n",
      "Epoch 1300: loss=2.8952e+01\n",
      "Epoch 1400: loss=2.8943e+01\n",
      "Epoch 1500: loss=2.8938e+01\n",
      "Epoch 1600: loss=2.8935e+01\n",
      "Epoch 1700: loss=2.8933e+01\n",
      "Epoch 1800: loss=2.8931e+01\n",
      "Epoch 1900: loss=2.8930e+01\n",
      "Epoch 2000: loss=2.8929e+01\n"
     ]
    }
   ],
   "source": [
    "for i in range(n_epochs):\n",
    "    y_hat = model(x)\n",
    "    loss = F.mse_loss(y_hat, y)\n",
    "    \n",
    "    optimizer.zero_grad() # 미분값을 0으로 초기화\n",
    "    loss.backward()\n",
    "    \n",
    "    optimizer.step()\n",
    "    \n",
    "    if (i + 1) % print_interval == 0:\n",
    "        print('Epoch %d: loss=%.4e' % (i + 1, loss))"
   ]
  },
  {
   "cell_type": "markdown",
   "id": "46fe37d7",
   "metadata": {},
   "source": [
    "- keras와 달리 조금 사용하기 복잡할 수 있으나 개념을 이해하기 좋다"
   ]
  },
  {
   "cell_type": "markdown",
   "id": "977f2f9d",
   "metadata": {},
   "source": [
    "## 학습결과 정리"
   ]
  },
  {
   "cell_type": "code",
   "execution_count": 35,
   "id": "0a1fd5dd",
   "metadata": {
    "ExecuteTime": {
     "end_time": "2021-12-18T13:16:59.572436Z",
     "start_time": "2021-12-18T13:16:58.825957Z"
    },
    "scrolled": true
   },
   "outputs": [
    {
     "data": {
      "image/png": "[encoded data removed]",
      "text/plain": [
       "<Figure size 720x720 with 6 Axes>"
      ]
     },
     "metadata": {
      "needs_background": "light"
     },
     "output_type": "display_data"
    }
   ],
   "source": [
    "df = pd.DataFrame(torch.cat([y, y_hat], dim=1).detach_().numpy(),\n",
    "                 columns=['y', 'y_hat'])\n",
    "\n",
    "sns.pairplot(df, height=5)\n",
    "plt.show()"
   ]
  },
  {
   "cell_type": "markdown",
   "id": "e25cda4c",
   "metadata": {},
   "source": [
    "# 유방암 예측"
   ]
  },
  {
   "cell_type": "markdown",
   "id": "92be7bb6",
   "metadata": {},
   "source": [
    "## import and read data"
   ]
  },
  {
   "cell_type": "code",
   "execution_count": 36,
   "id": "5f43af07",
   "metadata": {
    "ExecuteTime": {
     "end_time": "2021-12-18T13:19:13.217428Z",
     "start_time": "2021-12-18T13:19:13.202123Z"
    }
   },
   "outputs": [],
   "source": [
    "import pandas as pd\n",
    "import seaborn as sns\n",
    "import matplotlib.pyplot as plt"
   ]
  },
  {
   "cell_type": "code",
   "execution_count": 37,
   "id": "8748b942",
   "metadata": {
    "ExecuteTime": {
     "end_time": "2021-12-18T13:19:39.711713Z",
     "start_time": "2021-12-18T13:19:39.689189Z"
    },
    "collapsed": true
   },
   "outputs": [
    {
     "name": "stdout",
     "output_type": "stream",
     "text": [
      ".. _breast_cancer_dataset:\n",
      "\n",
      "Breast cancer wisconsin (diagnostic) dataset\n",
      "--------------------------------------------\n",
      "\n",
      "**Data Set Characteristics:**\n",
      "\n",
      "    :Number of Instances: 569\n",
      "\n",
      "    :Number of Attributes: 30 numeric, predictive attributes and the class\n",
      "\n",
      "    :Attribute Information:\n",
      "        - radius (mean of distances from center to points on the perimeter)\n",
      "        - texture (standard deviation of gray-scale values)\n",
      "        - perimeter\n",
      "        - area\n",
      "        - smoothness (local variation in radius lengths)\n",
      "        - compactness (perimeter^2 / area - 1.0)\n",
      "        - concavity (severity of concave portions of the contour)\n",
      "        - concave points (number of concave portions of the contour)\n",
      "        - symmetry\n",
      "        - fractal dimension (\"coastline approximation\" - 1)\n",
      "\n",
      "        The mean, standard error, and \"worst\" or largest (mean of the three\n",
      "        worst/largest values) of these features were computed for each image,\n",
      "        resulting in 30 features.  For instance, field 0 is Mean Radius, field\n",
      "        10 is Radius SE, field 20 is Worst Radius.\n",
      "\n",
      "        - class:\n",
      "                - WDBC-Malignant\n",
      "                - WDBC-Benign\n",
      "\n",
      "    :Summary Statistics:\n",
      "\n",
      "    ===================================== ====== ======\n",
      "                                           Min    Max\n",
      "    ===================================== ====== ======\n",
      "    radius (mean):                        6.981  28.11\n",
      "    texture (mean):                       9.71   39.28\n",
      "    perimeter (mean):                     43.79  188.5\n",
      "    area (mean):                          143.5  2501.0\n",
      "    smoothness (mean):                    0.053  0.163\n",
      "    compactness (mean):                   0.019  0.345\n",
      "    concavity (mean):                     0.0    0.427\n",
      "    concave points (mean):                0.0    0.201\n",
      "    symmetry (mean):                      0.106  0.304\n",
      "    fractal dimension (mean):             0.05   0.097\n",
      "    radius (standard error):              0.112  2.873\n",
      "    texture (standard error):             0.36   4.885\n",
      "    perimeter (standard error):           0.757  21.98\n",
      "    area (standard error):                6.802  542.2\n",
      "    smoothness (standard error):          0.002  0.031\n",
      "    compactness (standard error):         0.002  0.135\n",
      "    concavity (standard error):           0.0    0.396\n",
      "    concave points (standard error):      0.0    0.053\n",
      "    symmetry (standard error):            0.008  0.079\n",
      "    fractal dimension (standard error):   0.001  0.03\n",
      "    radius (worst):                       7.93   36.04\n",
      "    texture (worst):                      12.02  49.54\n",
      "    perimeter (worst):                    50.41  251.2\n",
      "    area (worst):                         185.2  4254.0\n",
      "    smoothness (worst):                   0.071  0.223\n",
      "    compactness (worst):                  0.027  1.058\n",
      "    concavity (worst):                    0.0    1.252\n",
      "    concave points (worst):               0.0    0.291\n",
      "    symmetry (worst):                     0.156  0.664\n",
      "    fractal dimension (worst):            0.055  0.208\n",
      "    ===================================== ====== ======\n",
      "\n",
      "    :Missing Attribute Values: None\n",
      "\n",
      "    :Class Distribution: 212 - Malignant, 357 - Benign\n",
      "\n",
      "    :Creator:  Dr. William H. Wolberg, W. Nick Street, Olvi L. Mangasarian\n",
      "\n",
      "    :Donor: Nick Street\n",
      "\n",
      "    :Date: November, 1995\n",
      "\n",
      "This is a copy of UCI ML Breast Cancer Wisconsin (Diagnostic) datasets.\n",
      "https://goo.gl/U2Uwz2\n",
      "\n",
      "Features are computed from a digitized image of a fine needle\n",
      "aspirate (FNA) of a breast mass.  They describe\n",
      "characteristics of the cell nuclei present in the image.\n",
      "\n",
      "Separating plane described above was obtained using\n",
      "Multisurface Method-Tree (MSM-T) [K. P. Bennett, \"Decision Tree\n",
      "Construction Via Linear Programming.\" Proceedings of the 4th\n",
      "Midwest Artificial Intelligence and Cognitive Science Society,\n",
      "pp. 97-101, 1992], a classification method which uses linear\n",
      "programming to construct a decision tree.  Relevant features\n",
      "were selected using an exhaustive search in the space of 1-4\n",
      "features and 1-3 separating planes.\n",
      "\n",
      "The actual linear program used to obtain the separating plane\n",
      "in the 3-dimensional space is that described in:\n",
      "[K. P. Bennett and O. L. Mangasarian: \"Robust Linear\n",
      "Programming Discrimination of Two Linearly Inseparable Sets\",\n",
      "Optimization Methods and Software 1, 1992, 23-34].\n",
      "\n",
      "This database is also available through the UW CS ftp server:\n",
      "\n",
      "ftp ftp.cs.wisc.edu\n",
      "cd math-prog/cpo-dataset/machine-learn/WDBC/\n",
      "\n",
      ".. topic:: References\n",
      "\n",
      "   - W.N. Street, W.H. Wolberg and O.L. Mangasarian. Nuclear feature extraction \n",
      "     for breast tumor diagnosis. IS&T/SPIE 1993 International Symposium on \n",
      "     Electronic Imaging: Science and Technology, volume 1905, pages 861-870,\n",
      "     San Jose, CA, 1993.\n",
      "   - O.L. Mangasarian, W.N. Street and W.H. Wolberg. Breast cancer diagnosis and \n",
      "     prognosis via linear programming. Operations Research, 43(4), pages 570-577, \n",
      "     July-August 1995.\n",
      "   - W.H. Wolberg, W.N. Street, and O.L. Mangasarian. Machine learning techniques\n",
      "     to diagnose breast cancer from fine-needle aspirates. Cancer Letters 77 (1994) \n",
      "     163-171.\n"
     ]
    }
   ],
   "source": [
    "from sklearn.datasets import load_breast_cancer\n",
    "cancer = load_breast_cancer()\n",
    "\n",
    "print(cancer.DESCR)"
   ]
  },
  {
   "cell_type": "markdown",
   "id": "82d66a64",
   "metadata": {},
   "source": [
    "## 데이터 정리"
   ]
  },
  {
   "cell_type": "code",
   "execution_count": 38,
   "id": "dd2bcd37",
   "metadata": {
    "ExecuteTime": {
     "end_time": "2021-12-18T13:21:21.256561Z",
     "start_time": "2021-12-18T13:21:21.224911Z"
    }
   },
   "outputs": [
    {
     "data": {
      "text/html": [
       "<div>\n",
       "<style scoped>\n",
       "    .dataframe tbody tr th:only-of-type {\n",
       "        vertical-align: middle;\n",
       "    }\n",
       "\n",
       "    .dataframe tbody tr th {\n",
       "        vertical-align: top;\n",
       "    }\n",
       "\n",
       "    .dataframe thead th {\n",
       "        text-align: right;\n",
       "    }\n",
       "</style>\n",
       "<table border=\"1\" class=\"dataframe\">\n",
       "  <thead>\n",
       "    <tr style=\"text-align: right;\">\n",
       "      <th></th>\n",
       "      <th>mean radius</th>\n",
       "      <th>mean texture</th>\n",
       "      <th>mean perimeter</th>\n",
       "      <th>mean area</th>\n",
       "      <th>mean smoothness</th>\n",
       "      <th>mean compactness</th>\n",
       "      <th>mean concavity</th>\n",
       "      <th>mean concave points</th>\n",
       "      <th>mean symmetry</th>\n",
       "      <th>mean fractal dimension</th>\n",
       "      <th>...</th>\n",
       "      <th>worst texture</th>\n",
       "      <th>worst perimeter</th>\n",
       "      <th>worst area</th>\n",
       "      <th>worst smoothness</th>\n",
       "      <th>worst compactness</th>\n",
       "      <th>worst concavity</th>\n",
       "      <th>worst concave points</th>\n",
       "      <th>worst symmetry</th>\n",
       "      <th>worst fractal dimension</th>\n",
       "      <th>class</th>\n",
       "    </tr>\n",
       "  </thead>\n",
       "  <tbody>\n",
       "    <tr>\n",
       "      <th>564</th>\n",
       "      <td>21.56</td>\n",
       "      <td>22.39</td>\n",
       "      <td>142.00</td>\n",
       "      <td>1479.0</td>\n",
       "      <td>0.11100</td>\n",
       "      <td>0.11590</td>\n",
       "      <td>0.24390</td>\n",
       "      <td>0.13890</td>\n",
       "      <td>0.1726</td>\n",
       "      <td>0.05623</td>\n",
       "      <td>...</td>\n",
       "      <td>26.40</td>\n",
       "      <td>166.10</td>\n",
       "      <td>2027.0</td>\n",
       "      <td>0.14100</td>\n",
       "      <td>0.21130</td>\n",
       "      <td>0.4107</td>\n",
       "      <td>0.2216</td>\n",
       "      <td>0.2060</td>\n",
       "      <td>0.07115</td>\n",
       "      <td>0</td>\n",
       "    </tr>\n",
       "    <tr>\n",
       "      <th>565</th>\n",
       "      <td>20.13</td>\n",
       "      <td>28.25</td>\n",
       "      <td>131.20</td>\n",
       "      <td>1261.0</td>\n",
       "      <td>0.09780</td>\n",
       "      <td>0.10340</td>\n",
       "      <td>0.14400</td>\n",
       "      <td>0.09791</td>\n",
       "      <td>0.1752</td>\n",
       "      <td>0.05533</td>\n",
       "      <td>...</td>\n",
       "      <td>38.25</td>\n",
       "      <td>155.00</td>\n",
       "      <td>1731.0</td>\n",
       "      <td>0.11660</td>\n",
       "      <td>0.19220</td>\n",
       "      <td>0.3215</td>\n",
       "      <td>0.1628</td>\n",
       "      <td>0.2572</td>\n",
       "      <td>0.06637</td>\n",
       "      <td>0</td>\n",
       "    </tr>\n",
       "    <tr>\n",
       "      <th>566</th>\n",
       "      <td>16.60</td>\n",
       "      <td>28.08</td>\n",
       "      <td>108.30</td>\n",
       "      <td>858.1</td>\n",
       "      <td>0.08455</td>\n",
       "      <td>0.10230</td>\n",
       "      <td>0.09251</td>\n",
       "      <td>0.05302</td>\n",
       "      <td>0.1590</td>\n",
       "      <td>0.05648</td>\n",
       "      <td>...</td>\n",
       "      <td>34.12</td>\n",
       "      <td>126.70</td>\n",
       "      <td>1124.0</td>\n",
       "      <td>0.11390</td>\n",
       "      <td>0.30940</td>\n",
       "      <td>0.3403</td>\n",
       "      <td>0.1418</td>\n",
       "      <td>0.2218</td>\n",
       "      <td>0.07820</td>\n",
       "      <td>0</td>\n",
       "    </tr>\n",
       "    <tr>\n",
       "      <th>567</th>\n",
       "      <td>20.60</td>\n",
       "      <td>29.33</td>\n",
       "      <td>140.10</td>\n",
       "      <td>1265.0</td>\n",
       "      <td>0.11780</td>\n",
       "      <td>0.27700</td>\n",
       "      <td>0.35140</td>\n",
       "      <td>0.15200</td>\n",
       "      <td>0.2397</td>\n",
       "      <td>0.07016</td>\n",
       "      <td>...</td>\n",
       "      <td>39.42</td>\n",
       "      <td>184.60</td>\n",
       "      <td>1821.0</td>\n",
       "      <td>0.16500</td>\n",
       "      <td>0.86810</td>\n",
       "      <td>0.9387</td>\n",
       "      <td>0.2650</td>\n",
       "      <td>0.4087</td>\n",
       "      <td>0.12400</td>\n",
       "      <td>0</td>\n",
       "    </tr>\n",
       "    <tr>\n",
       "      <th>568</th>\n",
       "      <td>7.76</td>\n",
       "      <td>24.54</td>\n",
       "      <td>47.92</td>\n",
       "      <td>181.0</td>\n",
       "      <td>0.05263</td>\n",
       "      <td>0.04362</td>\n",
       "      <td>0.00000</td>\n",
       "      <td>0.00000</td>\n",
       "      <td>0.1587</td>\n",
       "      <td>0.05884</td>\n",
       "      <td>...</td>\n",
       "      <td>30.37</td>\n",
       "      <td>59.16</td>\n",
       "      <td>268.6</td>\n",
       "      <td>0.08996</td>\n",
       "      <td>0.06444</td>\n",
       "      <td>0.0000</td>\n",
       "      <td>0.0000</td>\n",
       "      <td>0.2871</td>\n",
       "      <td>0.07039</td>\n",
       "      <td>1</td>\n",
       "    </tr>\n",
       "  </tbody>\n",
       "</table>\n",
       "<p>5 rows × 31 columns</p>\n",
       "</div>"
      ],
      "text/plain": [
       "     mean radius  mean texture  mean perimeter  mean area  mean smoothness  \\\n",
       "564        21.56         22.39          142.00     1479.0          0.11100   \n",
       "565        20.13         28.25          131.20     1261.0          0.09780   \n",
       "566        16.60         28.08          108.30      858.1          0.08455   \n",
       "567        20.60         29.33          140.10     1265.0          0.11780   \n",
       "568         7.76         24.54           47.92      181.0          0.05263   \n",
       "\n",
       "     mean compactness  mean concavity  mean concave points  mean symmetry  \\\n",
       "564           0.11590         0.24390              0.13890         0.1726   \n",
       "565           0.10340         0.14400              0.09791         0.1752   \n",
       "566           0.10230         0.09251              0.05302         0.1590   \n",
       "567           0.27700         0.35140              0.15200         0.2397   \n",
       "568           0.04362         0.00000              0.00000         0.1587   \n",
       "\n",
       "     mean fractal dimension  ...  worst texture  worst perimeter  worst area  \\\n",
       "564                 0.05623  ...          26.40           166.10      2027.0   \n",
       "565                 0.05533  ...          38.25           155.00      1731.0   \n",
       "566                 0.05648  ...          34.12           126.70      1124.0   \n",
       "567                 0.07016  ...          39.42           184.60      1821.0   \n",
       "568                 0.05884  ...          30.37            59.16       268.6   \n",
       "\n",
       "     worst smoothness  worst compactness  worst concavity  \\\n",
       "564           0.14100            0.21130           0.4107   \n",
       "565           0.11660            0.19220           0.3215   \n",
       "566           0.11390            0.30940           0.3403   \n",
       "567           0.16500            0.86810           0.9387   \n",
       "568           0.08996            0.06444           0.0000   \n",
       "\n",
       "     worst concave points  worst symmetry  worst fractal dimension  class  \n",
       "564                0.2216          0.2060                  0.07115      0  \n",
       "565                0.1628          0.2572                  0.06637      0  \n",
       "566                0.1418          0.2218                  0.07820      0  \n",
       "567                0.2650          0.4087                  0.12400      0  \n",
       "568                0.0000          0.2871                  0.07039      1  \n",
       "\n",
       "[5 rows x 31 columns]"
      ]
     },
     "execution_count": 38,
     "metadata": {},
     "output_type": "execute_result"
    }
   ],
   "source": [
    "df = pd.DataFrame(cancer.data, columns=cancer.feature_names)\n",
    "df['class'] = cancer.target\n",
    "\n",
    "df.tail()"
   ]
  },
  {
   "cell_type": "markdown",
   "id": "7109ba68",
   "metadata": {},
   "source": [
    "## 관심있는 컬럼 정리"
   ]
  },
  {
   "cell_type": "code",
   "execution_count": 39,
   "id": "a8b46992",
   "metadata": {
    "ExecuteTime": {
     "end_time": "2021-12-18T13:22:19.361854Z",
     "start_time": "2021-12-18T13:22:19.352766Z"
    },
    "collapsed": true
   },
   "outputs": [
    {
     "data": {
      "text/plain": [
       "array(['mean radius', 'mean texture', 'mean perimeter', 'mean area',\n",
       "       'mean smoothness', 'mean compactness', 'mean concavity',\n",
       "       'mean concave points', 'mean symmetry', 'mean fractal dimension',\n",
       "       'radius error', 'texture error', 'perimeter error', 'area error',\n",
       "       'smoothness error', 'compactness error', 'concavity error',\n",
       "       'concave points error', 'symmetry error',\n",
       "       'fractal dimension error', 'worst radius', 'worst texture',\n",
       "       'worst perimeter', 'worst area', 'worst smoothness',\n",
       "       'worst compactness', 'worst concavity', 'worst concave points',\n",
       "       'worst symmetry', 'worst fractal dimension'], dtype='<U23')"
      ]
     },
     "execution_count": 39,
     "metadata": {},
     "output_type": "execute_result"
    }
   ],
   "source": [
    "cancer.feature_names"
   ]
  },
  {
   "cell_type": "code",
   "execution_count": 42,
   "id": "c79b414d",
   "metadata": {
    "ExecuteTime": {
     "end_time": "2021-12-18T13:34:32.126777Z",
     "start_time": "2021-12-18T13:34:32.116761Z"
    }
   },
   "outputs": [],
   "source": [
    "cols = ['mean radius', 'mean texture',\n",
    "       'mean smoothness', 'mean compactness', 'mean concave points',\n",
    "       'worst radius', 'worst texture',\n",
    "       'worst smoothness', 'worst compactness',  'worst concave points',\n",
    "       'class']"
   ]
  },
  {
   "cell_type": "code",
   "execution_count": 43,
   "id": "81ce142d",
   "metadata": {
    "ExecuteTime": {
     "end_time": "2021-12-18T13:34:36.153357Z",
     "start_time": "2021-12-18T13:34:33.847528Z"
    }
   },
   "outputs": [
    {
     "data": {
      "image/png": "[encoded data removed]",
      "text/plain": [
       "<Figure size 432x288 with 1 Axes>"
      ]
     },
     "metadata": {
      "needs_background": "light"
     },
     "output_type": "display_data"
    },
    {
     "data": {
      "image/png": "[encoded data removed]",
      "text/plain": [
       "<Figure size 432x288 with 1 Axes>"
      ]
     },
     "metadata": {
      "needs_background": "light"
     },
     "output_type": "display_data"
    },
    {
     "data": {
      "image/png": "[encoded data removed]",
      "text/plain": [
       "<Figure size 432x288 with 1 Axes>"
      ]
     },
     "metadata": {
      "needs_background": "light"
     },
     "output_type": "display_data"
    },
    {
     "data": {
      "image/png": "[encoded data removed]",
      "text/plain": [
       "<Figure size 432x288 with 1 Axes>"
      ]
     },
     "metadata": {
      "needs_background": "light"
     },
     "output_type": "display_data"
    },
    {
     "data": {
      "image/png": "[encoded data removed]",
      "text/plain": [
       "<Figure size 432x288 with 1 Axes>"
      ]
     },
     "metadata": {
      "needs_background": "light"
     },
     "output_type": "display_data"
    },
    {
     "data": {
      "image/png": "[encoded data removed]",
      "text/plain": [
       "<Figure size 432x288 with 1 Axes>"
      ]
     },
     "metadata": {
      "needs_background": "light"
     },
     "output_type": "display_data"
    },
    {
     "data": {
      "image/png": "[encoded data removed]",
      "text/plain": [
       "<Figure size 432x288 with 1 Axes>"
      ]
     },
     "metadata": {
      "needs_background": "light"
     },
     "output_type": "display_data"
    },
    {
     "data": {
      "image/png": "[encoded data removed]",
      "text/plain": [
       "<Figure size 432x288 with 1 Axes>"
      ]
     },
     "metadata": {
      "needs_background": "light"
     },
     "output_type": "display_data"
    },
    {
     "data": {
      "image/png": "[encoded data removed]",
      "text/plain": [
       "<Figure size 432x288 with 1 Axes>"
      ]
     },
     "metadata": {
      "needs_background": "light"
     },
     "output_type": "display_data"
    },
    {
     "data": {
      "image/png": "[encoded data removed]",
      "text/plain": [
       "<Figure size 432x288 with 1 Axes>"
      ]
     },
     "metadata": {
      "needs_background": "light"
     },
     "output_type": "display_data"
    }
   ],
   "source": [
    "for c in cols[:-1]:\n",
    "    sns.histplot(df, x=c, hue=cols[-1], bins=50, stat='probability')\n",
    "    plt.show()"
   ]
  },
  {
   "cell_type": "markdown",
   "id": "2e94fae3",
   "metadata": {},
   "source": [
    "## torch import"
   ]
  },
  {
   "cell_type": "code",
   "execution_count": 44,
   "id": "88746ab8",
   "metadata": {
    "ExecuteTime": {
     "end_time": "2021-12-18T13:37:46.343743Z",
     "start_time": "2021-12-18T13:37:46.334731Z"
    }
   },
   "outputs": [],
   "source": [
    "import torch\n",
    "import torch.nn as nn\n",
    "import torch.nn.functional as F\n",
    "import torch.optim as optim"
   ]
  },
  {
   "cell_type": "code",
   "execution_count": 45,
   "id": "f7676ae4",
   "metadata": {
    "ExecuteTime": {
     "end_time": "2021-12-18T13:38:04.122881Z",
     "start_time": "2021-12-18T13:38:04.103865Z"
    }
   },
   "outputs": [
    {
     "data": {
      "text/plain": [
       "torch.Size([569, 11])"
      ]
     },
     "execution_count": 45,
     "metadata": {},
     "output_type": "execute_result"
    }
   ],
   "source": [
    "data = torch.from_numpy(df[cols].values).float()\n",
    "\n",
    "data.shape"
   ]
  },
  {
   "cell_type": "markdown",
   "id": "00567d3e",
   "metadata": {},
   "source": [
    "## 특성, 라벨 분리"
   ]
  },
  {
   "cell_type": "code",
   "execution_count": 46,
   "id": "e097dd32",
   "metadata": {
    "ExecuteTime": {
     "end_time": "2021-12-18T13:39:12.171901Z",
     "start_time": "2021-12-18T13:39:12.162389Z"
    }
   },
   "outputs": [
    {
     "name": "stdout",
     "output_type": "stream",
     "text": [
      "torch.Size([569, 10]) torch.Size([569, 1])\n"
     ]
    }
   ],
   "source": [
    "x = data[:, :-1]\n",
    "y = data[:, -1:]\n",
    "\n",
    "print(x.shape, y.shape)"
   ]
  },
  {
   "cell_type": "markdown",
   "id": "66c34846",
   "metadata": {},
   "source": [
    "## 하이퍼파라미터 설정"
   ]
  },
  {
   "cell_type": "code",
   "execution_count": 47,
   "id": "07e6608f",
   "metadata": {
    "ExecuteTime": {
     "end_time": "2021-12-18T13:39:46.502839Z",
     "start_time": "2021-12-18T13:39:46.496839Z"
    }
   },
   "outputs": [],
   "source": [
    "n_epochs = 200000\n",
    "learning_rate = 1e-2\n",
    "print_interval = 10000"
   ]
  },
  {
   "cell_type": "markdown",
   "id": "3d169146",
   "metadata": {},
   "source": [
    "## my model 작성 -> class로 생성"
   ]
  },
  {
   "cell_type": "code",
   "execution_count": 49,
   "id": "32936aa3",
   "metadata": {
    "ExecuteTime": {
     "end_time": "2021-12-18T13:51:04.686765Z",
     "start_time": "2021-12-18T13:51:04.671749Z"
    }
   },
   "outputs": [],
   "source": [
    "class MyModel(nn.Module):\n",
    "    \n",
    "    def __init__(self, input_dim, output_dim):\n",
    "        self.input_dim = input_dim\n",
    "        self.output_dim = output_dim\n",
    "        \n",
    "        super().__init__()\n",
    "        \n",
    "        self.linear = nn.Linear(input_dim, output_dim)\n",
    "        self.act = nn.Sigmoid() # 이진 분류\n",
    "        \n",
    "    def forward(self, x):\n",
    "        # |x| = (batch_size, input_dim)\n",
    "        y = self.act(self.linear(x))\n",
    "        # |y| = (batch_size, output_dim)\n",
    "        \n",
    "        return y"
   ]
  },
  {
   "cell_type": "markdown",
   "id": "8d6c8835",
   "metadata": {},
   "source": [
    "## 모델 선언, loss, optim 선언"
   ]
  },
  {
   "cell_type": "code",
   "execution_count": 50,
   "id": "290a0b22",
   "metadata": {
    "ExecuteTime": {
     "end_time": "2021-12-18T13:53:07.065844Z",
     "start_time": "2021-12-18T13:53:07.047986Z"
    }
   },
   "outputs": [],
   "source": [
    "model = MyModel(input_dim=x.size(-1),\n",
    "                output_dim=y.size(-1))\n",
    "crit = nn.BCELoss() # Binary Crossentropy\n",
    "\n",
    "optimizer = optim.SGD(model.parameters(),\n",
    "                     lr=learning_rate)"
   ]
  },
  {
   "cell_type": "markdown",
   "id": "e7b6b04f",
   "metadata": {},
   "source": [
    "## 학습시작"
   ]
  },
  {
   "cell_type": "code",
   "execution_count": 51,
   "id": "7509df82",
   "metadata": {
    "ExecuteTime": {
     "end_time": "2021-12-18T13:54:30.568420Z",
     "start_time": "2021-12-18T13:53:51.338614Z"
    }
   },
   "outputs": [
    {
     "name": "stdout",
     "output_type": "stream",
     "text": [
      "Epoch 10000: loss=2.8008e-01\n",
      "Epoch 20000: loss=2.3052e-01\n",
      "Epoch 30000: loss=2.0100e-01\n",
      "Epoch 40000: loss=1.8177e-01\n",
      "Epoch 50000: loss=1.6837e-01\n",
      "Epoch 60000: loss=1.5851e-01\n",
      "Epoch 70000: loss=1.5096e-01\n",
      "Epoch 80000: loss=1.4498e-01\n",
      "Epoch 90000: loss=1.4014e-01\n",
      "Epoch 100000: loss=1.3612e-01\n",
      "Epoch 110000: loss=1.3273e-01\n",
      "Epoch 120000: loss=1.2984e-01\n",
      "Epoch 130000: loss=1.2733e-01\n",
      "Epoch 140000: loss=1.2514e-01\n",
      "Epoch 150000: loss=1.2320e-01\n",
      "Epoch 160000: loss=1.2148e-01\n",
      "Epoch 170000: loss=1.1994e-01\n",
      "Epoch 180000: loss=1.1854e-01\n",
      "Epoch 190000: loss=1.1728e-01\n",
      "Epoch 200000: loss=1.1612e-01\n"
     ]
    }
   ],
   "source": [
    "for i in range(n_epochs):\n",
    "    y_hat = model(x)\n",
    "    loss = crit(y_hat, y)\n",
    "    \n",
    "    optimizer.zero_grad() # 미분값을 0으로 초기화\n",
    "    loss.backward()\n",
    "    \n",
    "    optimizer.step()\n",
    "    \n",
    "    if (i + 1) % print_interval == 0:\n",
    "        print('Epoch %d: loss=%.4e' % (i + 1, loss))"
   ]
  },
  {
   "cell_type": "markdown",
   "id": "29e50732",
   "metadata": {},
   "source": [
    "## acc 계산"
   ]
  },
  {
   "cell_type": "code",
   "execution_count": 52,
   "id": "581d383e",
   "metadata": {
    "ExecuteTime": {
     "end_time": "2021-12-18T13:55:32.956853Z",
     "start_time": "2021-12-18T13:55:32.929828Z"
    }
   },
   "outputs": [
    {
     "name": "stdout",
     "output_type": "stream",
     "text": [
      "Accuracy: 0.9666\n"
     ]
    }
   ],
   "source": [
    "correct_cnt = (y == (y_hat > .5)).sum()\n",
    "total_cnt = float(y.size(0))\n",
    "\n",
    "print('Accuracy: %.4f' % (correct_cnt / total_cnt))"
   ]
  },
  {
   "cell_type": "markdown",
   "id": "a1849747",
   "metadata": {},
   "source": [
    "## 예측값의 분포 확인"
   ]
  },
  {
   "cell_type": "code",
   "execution_count": 53,
   "id": "4af95974",
   "metadata": {
    "ExecuteTime": {
     "end_time": "2021-12-18T13:57:35.803277Z",
     "start_time": "2021-12-18T13:57:35.572075Z"
    }
   },
   "outputs": [
    {
     "data": {
      "image/png": "[encoded data removed]",
      "text/plain": [
       "<Figure size 432x288 with 1 Axes>"
      ]
     },
     "metadata": {
      "needs_background": "light"
     },
     "output_type": "display_data"
    }
   ],
   "source": [
    "df = pd.DataFrame(torch.cat([y, y_hat], dim=1).detach_().numpy(),\n",
    "                 columns=['y', 'y_hat'])\n",
    "\n",
    "sns.histplot(df, x='y_hat', hue='y', bins=50, stat='probability')\n",
    "plt.show()"
   ]
  },
  {
   "cell_type": "code",
   "execution_count": null,
   "id": "1a2b21d0",
   "metadata": {},
   "outputs": [],
   "source": []
  }
 ],
 "metadata": {
  "kernelspec": {
   "display_name": "Python 3 (ipykernel)",
   "language": "python",
   "name": "python3"
  },
  "language_info": {
   "codemirror_mode": {
    "name": "ipython",
    "version": 3
   },
   "file_extension": ".py",
   "mimetype": "text/x-python",
   "name": "python",
   "nbconvert_exporter": "python",
   "pygments_lexer": "ipython3",
   "version": "3.9.7"
  },
  "toc": {
   "base_numbering": 1,
   "nav_menu": {},
   "number_sections": true,
   "sideBar": true,
   "skip_h1_title": false,
   "title_cell": "Table of Contents",
   "title_sidebar": "Contents",
   "toc_cell": false,
   "toc_position": {},
   "toc_section_display": true,
   "toc_window_display": true
  }
 },
 "nbformat": 4,
 "nbformat_minor": 5
}
