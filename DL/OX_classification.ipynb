{
 "cells": [
  {
   "cell_type": "markdown",
   "id": "076388ba",
   "metadata": {},
   "source": [
    "## OX_classification"
   ]
  },
  {
   "cell_type": "code",
   "execution_count": 4,
   "id": "187d07f4",
   "metadata": {
    "ExecuteTime": {
     "end_time": "2021-12-16T05:09:38.952359Z",
     "start_time": "2021-12-16T05:09:38.936171Z"
    }
   },
   "outputs": [],
   "source": [
    "from glob import glob"
   ]
  },
  {
   "cell_type": "code",
   "execution_count": 5,
   "id": "0f7a11a2",
   "metadata": {
    "ExecuteTime": {
     "end_time": "2021-12-16T05:09:40.864592Z",
     "start_time": "2021-12-16T05:09:40.838357Z"
    }
   },
   "outputs": [],
   "source": [
    "train_raw_0_list = glob('./train_raw/O/*')"
   ]
  },
  {
   "cell_type": "code",
   "execution_count": 6,
   "id": "885ad1fc",
   "metadata": {
    "ExecuteTime": {
     "end_time": "2021-12-16T05:09:42.204893Z",
     "start_time": "2021-12-16T05:09:42.190384Z"
    },
    "collapsed": true
   },
   "outputs": [
    {
     "data": {
      "text/plain": [
       "['./train_raw/O\\\\o.5.png',\n",
       " './train_raw/O\\\\o.6 - 복사본 - 복사본 - 복사본.png',\n",
       " './train_raw/O\\\\o.6 - 복사본 - 복사본.png',\n",
       " './train_raw/O\\\\o.6 - 복사본.png',\n",
       " './train_raw/O\\\\o.6.png',\n",
       " './train_raw/O\\\\o.lastnew1 - 복사본 - 복사본 - 복사본.png',\n",
       " './train_raw/O\\\\o.lastnew1 - 복사본 - 복사본.png',\n",
       " './train_raw/O\\\\o.lastnew1 - 복사본.png',\n",
       " './train_raw/O\\\\o.lastnew1.png',\n",
       " './train_raw/O\\\\o.lastnew2 - 복사본 - 복사본 - 복사본.png',\n",
       " './train_raw/O\\\\o.lastnew2 - 복사본 - 복사본.png',\n",
       " './train_raw/O\\\\o.lastnew2 - 복사본.png',\n",
       " './train_raw/O\\\\o.lastnew2.png',\n",
       " './train_raw/O\\\\o.lastnew3 - 복사본 - 복사본 - 복사본.png',\n",
       " './train_raw/O\\\\o.lastnew3 - 복사본 - 복사본.png',\n",
       " './train_raw/O\\\\o.lastnew3 - 복사본.png',\n",
       " './train_raw/O\\\\o.lastnew3.png',\n",
       " './train_raw/O\\\\o.lastnew4 - 복사본 - 복사본 - 복사본.png',\n",
       " './train_raw/O\\\\o.lastnew4 - 복사본 - 복사본.png',\n",
       " './train_raw/O\\\\o.lastnew4 - 복사본.png',\n",
       " './train_raw/O\\\\o.lastnew4.png',\n",
       " './train_raw/O\\\\o.lastnew5 - 복사본 - 복사본 - 복사본.png',\n",
       " './train_raw/O\\\\o.lastnew5 - 복사본 - 복사본.png',\n",
       " './train_raw/O\\\\o.lastnew5 - 복사본.png',\n",
       " './train_raw/O\\\\o.lastnew5.png',\n",
       " './train_raw/O\\\\o.lastnew6 - 복사본 - 복사본 - 복사본.png',\n",
       " './train_raw/O\\\\o.lastnew6 - 복사본 - 복사본.png',\n",
       " './train_raw/O\\\\o.lastnew6 - 복사본.png',\n",
       " './train_raw/O\\\\o.lastnew6.png',\n",
       " './train_raw/O\\\\o.new1 - 복사본 - 복사본 - 복사본.png',\n",
       " './train_raw/O\\\\o.new1 - 복사본 - 복사본.png',\n",
       " './train_raw/O\\\\o.new1 - 복사본.png',\n",
       " './train_raw/O\\\\o.new1.png',\n",
       " './train_raw/O\\\\o.new2 - 복사본 - 복사본 - 복사본.png',\n",
       " './train_raw/O\\\\o.new2 - 복사본 - 복사본.png',\n",
       " './train_raw/O\\\\o.new2 - 복사본.png',\n",
       " './train_raw/O\\\\o.new2.png',\n",
       " './train_raw/O\\\\o.new3 - 복사본 - 복사본 - 복사본.png',\n",
       " './train_raw/O\\\\o.new3 - 복사본 - 복사본.png',\n",
       " './train_raw/O\\\\o.new3 - 복사본.png',\n",
       " './train_raw/O\\\\o.new3.png',\n",
       " './train_raw/O\\\\o.new4 - 복사본 - 복사본 - 복사본.png',\n",
       " './train_raw/O\\\\o.new4 - 복사본 - 복사본.png',\n",
       " './train_raw/O\\\\o.new4 - 복사본.png',\n",
       " './train_raw/O\\\\o.new4.png',\n",
       " './train_raw/O\\\\o.new5 - 복사본 - 복사본 - 복사본.png',\n",
       " './train_raw/O\\\\o.new5 - 복사본 - 복사본.png',\n",
       " './train_raw/O\\\\o.new5 - 복사본.png',\n",
       " './train_raw/O\\\\o.new5.png',\n",
       " './train_raw/O\\\\o.new6 - 복사본 - 복사본 - 복사본.png',\n",
       " './train_raw/O\\\\o.new6 - 복사본 - 복사본.png',\n",
       " './train_raw/O\\\\o.new6 - 복사본.png',\n",
       " './train_raw/O\\\\o.new6.png',\n",
       " './train_raw/O\\\\o.newnew1 - 복사본 - 복사본 - 복사본.png',\n",
       " './train_raw/O\\\\o.newnew1 - 복사본 - 복사본.png',\n",
       " './train_raw/O\\\\o.newnew1 - 복사본.png',\n",
       " './train_raw/O\\\\o.newnew1.png',\n",
       " './train_raw/O\\\\o.newnew2 - 복사본 - 복사본 - 복사본.png',\n",
       " './train_raw/O\\\\o.newnew2 - 복사본 - 복사본.png',\n",
       " './train_raw/O\\\\o.newnew2 - 복사본.png',\n",
       " './train_raw/O\\\\o.newnew2.png',\n",
       " './train_raw/O\\\\o.newnew3 - 복사본 - 복사본 - 복사본.png',\n",
       " './train_raw/O\\\\o.newnew3 - 복사본 - 복사본.png',\n",
       " './train_raw/O\\\\o.newnew3 - 복사본.png',\n",
       " './train_raw/O\\\\o.newnew3.png',\n",
       " './train_raw/O\\\\o.newnew4 - 복사본 - 복사본 - 복사본.png',\n",
       " './train_raw/O\\\\o.newnew4 - 복사본 - 복사본.png',\n",
       " './train_raw/O\\\\o.newnew4 - 복사본.png',\n",
       " './train_raw/O\\\\o.newnew4.png',\n",
       " './train_raw/O\\\\o.newnew5 - 복사본 - 복사본 - 복사본.png',\n",
       " './train_raw/O\\\\o.newnew5 - 복사본 - 복사본.png',\n",
       " './train_raw/O\\\\o.newnew5 - 복사본.png',\n",
       " './train_raw/O\\\\o.newnew5.png',\n",
       " './train_raw/O\\\\o.newnew6 - 복사본 - 복사본 - 복사본.png',\n",
       " './train_raw/O\\\\o.newnew6 - 복사본 - 복사본.png',\n",
       " './train_raw/O\\\\o.newnew6 - 복사본.png',\n",
       " './train_raw/O\\\\o.newnew6.png']"
      ]
     },
     "execution_count": 6,
     "metadata": {},
     "output_type": "execute_result"
    }
   ],
   "source": [
    "train_raw_0_list"
   ]
  },
  {
   "cell_type": "markdown",
   "id": "88294ada",
   "metadata": {},
   "source": [
    "###  OpenCV를 사용해도 되지만, 이번에는 skimage"
   ]
  },
  {
   "cell_type": "code",
   "execution_count": 42,
   "id": "74713056",
   "metadata": {
    "ExecuteTime": {
     "end_time": "2021-12-16T05:40:29.413981Z",
     "start_time": "2021-12-16T05:40:29.399982Z"
    }
   },
   "outputs": [],
   "source": [
    "from skimage.transform import rescale, resize\n",
    "from skimage import io, color\n",
    "from skimage.io import imread, imsave\n",
    "import matplotlib.pyplot as plt"
   ]
  },
  {
   "cell_type": "code",
   "execution_count": 45,
   "id": "dbea3d01",
   "metadata": {
    "ExecuteTime": {
     "end_time": "2021-12-16T05:42:26.845479Z",
     "start_time": "2021-12-16T05:42:26.758634Z"
    }
   },
   "outputs": [
    {
     "data": {
      "image/png": "[encoded data removed]",
      "text/plain": [
       "<Figure size 432x288 with 1 Axes>"
      ]
     },
     "metadata": {
      "needs_background": "light"
     },
     "output_type": "display_data"
    }
   ],
   "source": [
    "image = imread(train_raw_0_list[0])\n",
    "plt.imshow(image, cmap='gray');"
   ]
  },
  {
   "cell_type": "markdown",
   "id": "81ffd15f",
   "metadata": {
    "ExecuteTime": {
     "end_time": "2021-12-16T05:34:25.917743Z",
     "start_time": "2021-12-16T05:34:25.896230Z"
    }
   },
   "source": [
    "### resize"
   ]
  },
  {
   "cell_type": "code",
   "execution_count": 46,
   "id": "a597f98e",
   "metadata": {
    "ExecuteTime": {
     "end_time": "2021-12-16T05:42:31.109370Z",
     "start_time": "2021-12-16T05:42:31.018299Z"
    }
   },
   "outputs": [
    {
     "name": "stdout",
     "output_type": "stream",
     "text": [
      "(28, 28, 4)\n"
     ]
    },
    {
     "data": {
      "image/png": "[encoded data removed]",
      "text/plain": [
       "<Figure size 432x288 with 1 Axes>"
      ]
     },
     "metadata": {
      "needs_background": "light"
     },
     "output_type": "display_data"
    }
   ],
   "source": [
    "img_resized = resize(image, (28, 28))\n",
    "print(img_resized.shape)\n",
    "plt.imshow(img_resized, cmap='gray');"
   ]
  },
  {
   "cell_type": "markdown",
   "id": "c1812126",
   "metadata": {},
   "source": [
    "### 저장하기"
   ]
  },
  {
   "cell_type": "code",
   "execution_count": 47,
   "id": "ad7fdef9",
   "metadata": {
    "ExecuteTime": {
     "end_time": "2021-12-16T05:43:31.654997Z",
     "start_time": "2021-12-16T05:43:31.635948Z"
    }
   },
   "outputs": [],
   "source": [
    "import numpy as np\n",
    "\n",
    "imsave('./tmp.png', np.round(img_resized*255).astype(np.uint8))"
   ]
  },
  {
   "cell_type": "markdown",
   "id": "d06f3b60",
   "metadata": {},
   "source": [
    "### 다시 확인"
   ]
  },
  {
   "cell_type": "code",
   "execution_count": 49,
   "id": "b0f93fa9",
   "metadata": {
    "ExecuteTime": {
     "end_time": "2021-12-16T05:44:17.635480Z",
     "start_time": "2021-12-16T05:44:17.560570Z"
    }
   },
   "outputs": [
    {
     "name": "stdout",
     "output_type": "stream",
     "text": [
      "(28, 28, 4)\n"
     ]
    },
    {
     "data": {
      "image/png": "[encoded data removed]",
      "text/plain": [
       "<Figure size 432x288 with 1 Axes>"
      ]
     },
     "metadata": {
      "needs_background": "light"
     },
     "output_type": "display_data"
    }
   ],
   "source": [
    "tmp = imread('./tmp.png')\n",
    "print(tmp.shape)\n",
    "plt.imshow(tmp, cmap='gray');"
   ]
  },
  {
   "cell_type": "markdown",
   "id": "68b0dfb7",
   "metadata": {},
   "source": [
    "### 파일이름 추출 연습"
   ]
  },
  {
   "cell_type": "code",
   "execution_count": 51,
   "id": "e94c175b",
   "metadata": {
    "ExecuteTime": {
     "end_time": "2021-12-16T06:04:18.302263Z",
     "start_time": "2021-12-16T06:04:18.290013Z"
    }
   },
   "outputs": [
    {
     "data": {
      "text/plain": [
       "'o.5'"
      ]
     },
     "execution_count": 51,
     "metadata": {},
     "output_type": "execute_result"
    }
   ],
   "source": [
    "train_raw_0_list[0].split('\\\\')[-1][:-4]"
   ]
  },
  {
   "cell_type": "markdown",
   "id": "f2ea595a",
   "metadata": {},
   "source": [
    "### 이미지 resize 함수 생성"
   ]
  },
  {
   "cell_type": "code",
   "execution_count": 52,
   "id": "ca012414",
   "metadata": {
    "ExecuteTime": {
     "end_time": "2021-12-16T06:05:48.121584Z",
     "start_time": "2021-12-16T06:05:48.116602Z"
    }
   },
   "outputs": [],
   "source": [
    "def img_resize(img):\n",
    "    return resize(img, (28, 28))"
   ]
  },
  {
   "cell_type": "markdown",
   "id": "61180f61",
   "metadata": {},
   "source": [
    "### train_O"
   ]
  },
  {
   "cell_type": "code",
   "execution_count": 57,
   "id": "cd987d6e",
   "metadata": {
    "ExecuteTime": {
     "end_time": "2021-12-16T06:18:56.163963Z",
     "start_time": "2021-12-16T06:18:54.502241Z"
    }
   },
   "outputs": [
    {
     "data": {
      "application/vnd.jupyter.widget-view+json": {
       "model_id": "555eed0b540b4f38a4a1430816c01ff9",
       "version_major": 2,
       "version_minor": 0
      },
      "text/plain": [
       "  0%|          | 0/77 [00:00<?, ?it/s]"
      ]
     },
     "metadata": {},
     "output_type": "display_data"
    }
   ],
   "source": [
    "from tqdm.notebook import tqdm\n",
    "\n",
    "def convert_train_O():\n",
    "    train_raw_0_list = glob('./train_raw/O/*')\n",
    "    for each in tqdm(train_raw_0_list):\n",
    "        img = imread(each)\n",
    "        img_resized = img_resize(img)\n",
    "        save_name = './train/O/' + each.split('\\\\')[-1][:-4] + '.png'\n",
    "        imsave(save_name, np.round(img_resized*255).astype(np.uint8))\n",
    "        \n",
    "convert_train_O()"
   ]
  },
  {
   "cell_type": "markdown",
   "id": "53848776",
   "metadata": {},
   "source": [
    "### train_X"
   ]
  },
  {
   "cell_type": "code",
   "execution_count": 58,
   "id": "e58aa7cd",
   "metadata": {
    "ExecuteTime": {
     "end_time": "2021-12-16T06:18:59.325682Z",
     "start_time": "2021-12-16T06:18:57.602741Z"
    }
   },
   "outputs": [
    {
     "data": {
      "application/vnd.jupyter.widget-view+json": {
       "model_id": "f3592a65d4a64c2689846d1d80a767a6",
       "version_major": 2,
       "version_minor": 0
      },
      "text/plain": [
       "  0%|          | 0/77 [00:00<?, ?it/s]"
      ]
     },
     "metadata": {},
     "output_type": "display_data"
    }
   ],
   "source": [
    "from tqdm.notebook import tqdm\n",
    "\n",
    "def convert_train_X():\n",
    "    train_raw_X_list = glob('./train_raw/X/*')\n",
    "    for each in tqdm(train_raw_X_list):\n",
    "        img = imread(each)\n",
    "        img_resized = img_resize(img)\n",
    "        save_name = './train/X/' + each.split('\\\\')[-1][:-4] + '.png'\n",
    "        imsave(save_name, np.round(img_resized*255).astype(np.uint8))\n",
    "        \n",
    "convert_train_X()"
   ]
  },
  {
   "cell_type": "markdown",
   "id": "5f1686e9",
   "metadata": {},
   "source": [
    "### test_O"
   ]
  },
  {
   "cell_type": "code",
   "execution_count": 65,
   "id": "a251b234",
   "metadata": {
    "ExecuteTime": {
     "end_time": "2021-12-16T06:35:44.924386Z",
     "start_time": "2021-12-16T06:35:44.542788Z"
    }
   },
   "outputs": [
    {
     "data": {
      "application/vnd.jupyter.widget-view+json": {
       "model_id": "fc86e112513949de962586f74185ee3e",
       "version_major": 2,
       "version_minor": 0
      },
      "text/plain": [
       "  0%|          | 0/19 [00:00<?, ?it/s]"
      ]
     },
     "metadata": {},
     "output_type": "display_data"
    }
   ],
   "source": [
    "from tqdm.notebook import tqdm\n",
    "\n",
    "def convert_test_O():\n",
    "    test_raw_0_list = glob('./test_raw/O/*')\n",
    "    for each in tqdm(test_raw_0_list):\n",
    "        img = imread(each)\n",
    "        img_resized = img_resize(img)\n",
    "        save_name = './test/O/' + each.split('\\\\')[-1][:-4] + '.png'\n",
    "        imsave(save_name, np.round(img_resized*255).astype(np.uint8))\n",
    "        \n",
    "convert_test_O()"
   ]
  },
  {
   "cell_type": "markdown",
   "id": "ed13692d",
   "metadata": {},
   "source": [
    "### test_X"
   ]
  },
  {
   "cell_type": "code",
   "execution_count": 66,
   "id": "55de8288",
   "metadata": {
    "ExecuteTime": {
     "end_time": "2021-12-16T06:35:47.817724Z",
     "start_time": "2021-12-16T06:35:47.393815Z"
    }
   },
   "outputs": [
    {
     "data": {
      "application/vnd.jupyter.widget-view+json": {
       "model_id": "18abb1d570e34bea96b4318d5d71dc37",
       "version_major": 2,
       "version_minor": 0
      },
      "text/plain": [
       "  0%|          | 0/19 [00:00<?, ?it/s]"
      ]
     },
     "metadata": {},
     "output_type": "display_data"
    }
   ],
   "source": [
    "from tqdm.notebook import tqdm\n",
    "\n",
    "def convert_test_X():\n",
    "    test_raw_X_list = glob('./test_raw/X/*')\n",
    "    for each in tqdm(test_raw_X_list):\n",
    "        img = imread(each)\n",
    "        img_resized = img_resize(img)\n",
    "        save_name = './test/X/' + each.split('\\\\')[-1][:-4] + '.png'\n",
    "        imsave(save_name, np.round(img_resized*255).astype(np.uint8))\n",
    "        \n",
    "convert_test_X()"
   ]
  },
  {
   "cell_type": "markdown",
   "id": "df380a11",
   "metadata": {
    "ExecuteTime": {
     "end_time": "2021-12-16T06:20:00.296257Z",
     "start_time": "2021-12-16T06:19:57.995006Z"
    }
   },
   "source": [
    "### 모듈 import"
   ]
  },
  {
   "cell_type": "code",
   "execution_count": 67,
   "id": "03fe55fe",
   "metadata": {
    "ExecuteTime": {
     "end_time": "2021-12-16T06:36:03.847319Z",
     "start_time": "2021-12-16T06:36:03.831320Z"
    }
   },
   "outputs": [],
   "source": [
    "import numpy as np\n",
    "from keras.models import Sequential\n",
    "from keras.layers import Dense\n",
    "from keras.layers import Flatten\n",
    "from keras.layers.convolutional import Conv2D\n",
    "from keras.layers.convolutional import MaxPooling2D\n",
    "from keras.preprocessing.image import ImageDataGenerator\n",
    "import keras\n",
    "\n",
    "np.random.seed(13)"
   ]
  },
  {
   "cell_type": "markdown",
   "id": "5e64c2f3",
   "metadata": {},
   "source": [
    "### image_generator"
   ]
  },
  {
   "cell_type": "code",
   "execution_count": 68,
   "id": "e6134955",
   "metadata": {
    "ExecuteTime": {
     "end_time": "2021-12-16T06:36:04.726690Z",
     "start_time": "2021-12-16T06:36:04.689675Z"
    }
   },
   "outputs": [
    {
     "name": "stdout",
     "output_type": "stream",
     "text": [
      "Found 154 images belonging to 2 classes.\n",
      "Found 38 images belonging to 2 classes.\n"
     ]
    }
   ],
   "source": [
    "train_datagen = ImageDataGenerator(rescale=1./255)\n",
    "\n",
    "train_generator = train_datagen.flow_from_directory('./train',\n",
    "                                                   target_size=(28, 28),\n",
    "                                                   batch_size=3,\n",
    "                                                   class_mode='categorical')\n",
    "\n",
    "test_datagen = ImageDataGenerator(rescale=1./255)\n",
    "\n",
    "test_generator = test_datagen.flow_from_directory('./test',\n",
    "                                                 target_size=(28, 28),\n",
    "                                                 batch_size=3,\n",
    "                                                 class_mode='categorical')"
   ]
  },
  {
   "cell_type": "markdown",
   "id": "95dfd4e8",
   "metadata": {},
   "source": [
    "### 모델 구성"
   ]
  },
  {
   "cell_type": "code",
   "execution_count": 69,
   "id": "f3d7f239",
   "metadata": {
    "ExecuteTime": {
     "end_time": "2021-12-16T06:36:08.365494Z",
     "start_time": "2021-12-16T06:36:08.314961Z"
    }
   },
   "outputs": [],
   "source": [
    "model = Sequential()\n",
    "model.add(Conv2D(32, kernel_size=(3, 3),\n",
    "                 activation='relu',\n",
    "                 input_shape=(28, 28, 3)))\n",
    "model.add(Conv2D(64, (3, 3), activation='relu'))\n",
    "model.add(MaxPooling2D(pool_size=(2, 2)))\n",
    "model.add(Flatten())\n",
    "model.add(Dense(128, activation='relu'))\n",
    "model.add(Dense(2, activation='softmax')) # binary일때, softmax = sigmoid"
   ]
  },
  {
   "cell_type": "markdown",
   "id": "6c93b4ae",
   "metadata": {},
   "source": [
    "### compile"
   ]
  },
  {
   "cell_type": "code",
   "execution_count": 70,
   "id": "b599df6d",
   "metadata": {
    "ExecuteTime": {
     "end_time": "2021-12-16T06:36:10.344008Z",
     "start_time": "2021-12-16T06:36:10.333003Z"
    }
   },
   "outputs": [],
   "source": [
    "model.compile(loss='categorical_crossentropy', # multi-class -> sparse\n",
    "             optimizer='adam', metrics=['accuracy'])"
   ]
  },
  {
   "cell_type": "markdown",
   "id": "b889ae4d",
   "metadata": {},
   "source": [
    "### fit"
   ]
  },
  {
   "cell_type": "code",
   "execution_count": 71,
   "id": "51e080ad",
   "metadata": {
    "ExecuteTime": {
     "end_time": "2021-12-16T06:36:20.627881Z",
     "start_time": "2021-12-16T06:36:12.313807Z"
    }
   },
   "outputs": [
    {
     "name": "stderr",
     "output_type": "stream",
     "text": [
      "C:\\Users\\seonwook\\AppData\\Local\\Temp/ipykernel_294552/540860592.py:1: UserWarning: `Model.fit_generator` is deprecated and will be removed in a future version. Please use `Model.fit`, which supports generators.\n",
      "  hist = model.fit_generator(train_generator,\n"
     ]
    },
    {
     "name": "stdout",
     "output_type": "stream",
     "text": [
      "Epoch 1/50\n",
      "15/15 [==============================] - 1s 22ms/step - loss: 1.1941 - accuracy: 0.4889 - val_loss: 0.6918 - val_accuracy: 0.3333\n",
      "Epoch 2/50\n",
      "15/15 [==============================] - 0s 12ms/step - loss: 0.6811 - accuracy: 0.6047 - val_loss: 0.7118 - val_accuracy: 0.4667\n",
      "Epoch 3/50\n",
      "15/15 [==============================] - 0s 11ms/step - loss: 0.6741 - accuracy: 0.6000 - val_loss: 0.7075 - val_accuracy: 0.4000\n",
      "Epoch 4/50\n",
      "15/15 [==============================] - 0s 10ms/step - loss: 0.6759 - accuracy: 0.6000 - val_loss: 0.6482 - val_accuracy: 1.0000\n",
      "Epoch 5/50\n",
      "15/15 [==============================] - 0s 10ms/step - loss: 0.6666 - accuracy: 0.7556 - val_loss: 0.6068 - val_accuracy: 0.5333\n",
      "Epoch 6/50\n",
      "15/15 [==============================] - 0s 9ms/step - loss: 0.6124 - accuracy: 0.8667 - val_loss: 0.6459 - val_accuracy: 0.4667\n",
      "Epoch 7/50\n",
      "15/15 [==============================] - 0s 10ms/step - loss: 0.4507 - accuracy: 0.8000 - val_loss: 0.3906 - val_accuracy: 0.8000\n",
      "Epoch 8/50\n",
      "15/15 [==============================] - 0s 10ms/step - loss: 0.4436 - accuracy: 0.8667 - val_loss: 0.3726 - val_accuracy: 1.0000\n",
      "Epoch 9/50\n",
      "15/15 [==============================] - 0s 9ms/step - loss: 0.3137 - accuracy: 1.0000 - val_loss: 0.3295 - val_accuracy: 1.0000\n",
      "Epoch 10/50\n",
      "15/15 [==============================] - 0s 9ms/step - loss: 0.2025 - accuracy: 1.0000 - val_loss: 0.1186 - val_accuracy: 1.0000\n",
      "Epoch 11/50\n",
      "15/15 [==============================] - 0s 9ms/step - loss: 0.1020 - accuracy: 1.0000 - val_loss: 0.0604 - val_accuracy: 1.0000\n",
      "Epoch 12/50\n",
      "15/15 [==============================] - 0s 10ms/step - loss: 0.0442 - accuracy: 1.0000 - val_loss: 0.0367 - val_accuracy: 1.0000\n",
      "Epoch 13/50\n",
      "15/15 [==============================] - 0s 8ms/step - loss: 0.0263 - accuracy: 1.0000 - val_loss: 0.0494 - val_accuracy: 1.0000\n",
      "Epoch 14/50\n",
      "15/15 [==============================] - 0s 9ms/step - loss: 0.0204 - accuracy: 1.0000 - val_loss: 0.0210 - val_accuracy: 1.0000\n",
      "Epoch 15/50\n",
      "15/15 [==============================] - 0s 9ms/step - loss: 0.0122 - accuracy: 1.0000 - val_loss: 0.0138 - val_accuracy: 1.0000\n",
      "Epoch 16/50\n",
      "15/15 [==============================] - 0s 9ms/step - loss: 0.0105 - accuracy: 1.0000 - val_loss: 0.0074 - val_accuracy: 1.0000\n",
      "Epoch 17/50\n",
      "15/15 [==============================] - 0s 9ms/step - loss: 0.0110 - accuracy: 1.0000 - val_loss: 0.0051 - val_accuracy: 1.0000\n",
      "Epoch 18/50\n",
      "15/15 [==============================] - 0s 9ms/step - loss: 0.0071 - accuracy: 1.0000 - val_loss: 0.0043 - val_accuracy: 1.0000\n",
      "Epoch 19/50\n",
      "15/15 [==============================] - 0s 10ms/step - loss: 0.0094 - accuracy: 1.0000 - val_loss: 0.0067 - val_accuracy: 1.0000\n",
      "Epoch 20/50\n",
      "15/15 [==============================] - 0s 9ms/step - loss: 0.0079 - accuracy: 1.0000 - val_loss: 0.0060 - val_accuracy: 1.0000\n",
      "Epoch 21/50\n",
      "15/15 [==============================] - 0s 9ms/step - loss: 0.0057 - accuracy: 1.0000 - val_loss: 0.0023 - val_accuracy: 1.0000\n",
      "Epoch 22/50\n",
      "15/15 [==============================] - 0s 9ms/step - loss: 0.0031 - accuracy: 1.0000 - val_loss: 0.0016 - val_accuracy: 1.0000\n",
      "Epoch 23/50\n",
      "15/15 [==============================] - 0s 10ms/step - loss: 0.0022 - accuracy: 1.0000 - val_loss: 0.0023 - val_accuracy: 1.0000\n",
      "Epoch 24/50\n",
      "15/15 [==============================] - 0s 9ms/step - loss: 0.0023 - accuracy: 1.0000 - val_loss: 0.0016 - val_accuracy: 1.0000\n",
      "Epoch 25/50\n",
      "15/15 [==============================] - 0s 10ms/step - loss: 0.0022 - accuracy: 1.0000 - val_loss: 0.0019 - val_accuracy: 1.0000\n",
      "Epoch 26/50\n",
      "15/15 [==============================] - 0s 10ms/step - loss: 0.0021 - accuracy: 1.0000 - val_loss: 0.0015 - val_accuracy: 1.0000\n",
      "Epoch 27/50\n",
      "15/15 [==============================] - 0s 8ms/step - loss: 0.0020 - accuracy: 1.0000 - val_loss: 0.0011 - val_accuracy: 1.0000\n",
      "Epoch 28/50\n",
      "15/15 [==============================] - 0s 9ms/step - loss: 0.0011 - accuracy: 1.0000 - val_loss: 0.0013 - val_accuracy: 1.0000\n",
      "Epoch 29/50\n",
      "15/15 [==============================] - 0s 8ms/step - loss: 0.0010 - accuracy: 1.0000 - val_loss: 0.0011 - val_accuracy: 1.0000\n",
      "Epoch 30/50\n",
      "15/15 [==============================] - 0s 9ms/step - loss: 9.7798e-04 - accuracy: 1.0000 - val_loss: 8.0934e-04 - val_accuracy: 1.0000\n",
      "Epoch 31/50\n",
      "15/15 [==============================] - 0s 9ms/step - loss: 9.6063e-04 - accuracy: 1.0000 - val_loss: 6.4108e-04 - val_accuracy: 1.0000\n",
      "Epoch 32/50\n",
      "15/15 [==============================] - 0s 9ms/step - loss: 0.0019 - accuracy: 1.0000 - val_loss: 0.0013 - val_accuracy: 1.0000\n",
      "Epoch 33/50\n",
      "15/15 [==============================] - 0s 9ms/step - loss: 0.0017 - accuracy: 1.0000 - val_loss: 5.3896e-04 - val_accuracy: 1.0000\n",
      "Epoch 34/50\n",
      "15/15 [==============================] - 0s 9ms/step - loss: 8.8539e-04 - accuracy: 1.0000 - val_loss: 3.7165e-04 - val_accuracy: 1.0000\n",
      "Epoch 35/50\n",
      "15/15 [==============================] - 0s 9ms/step - loss: 7.9530e-04 - accuracy: 1.0000 - val_loss: 7.4960e-04 - val_accuracy: 1.0000\n",
      "Epoch 36/50\n",
      "15/15 [==============================] - 0s 9ms/step - loss: 7.0776e-04 - accuracy: 1.0000 - val_loss: 5.7098e-04 - val_accuracy: 1.0000\n",
      "Epoch 37/50\n",
      "15/15 [==============================] - 0s 10ms/step - loss: 0.0010 - accuracy: 1.0000 - val_loss: 6.4893e-04 - val_accuracy: 1.0000\n",
      "Epoch 38/50\n",
      "15/15 [==============================] - 0s 11ms/step - loss: 6.8959e-04 - accuracy: 1.0000 - val_loss: 3.4058e-04 - val_accuracy: 1.0000\n",
      "Epoch 39/50\n",
      "15/15 [==============================] - 0s 10ms/step - loss: 7.2673e-04 - accuracy: 1.0000 - val_loss: 4.3413e-04 - val_accuracy: 1.0000\n",
      "Epoch 40/50\n",
      "15/15 [==============================] - 0s 9ms/step - loss: 5.3642e-04 - accuracy: 1.0000 - val_loss: 4.8763e-04 - val_accuracy: 1.0000\n",
      "Epoch 41/50\n",
      "15/15 [==============================] - 0s 9ms/step - loss: 6.6632e-04 - accuracy: 1.0000 - val_loss: 3.4720e-04 - val_accuracy: 1.0000\n",
      "Epoch 42/50\n",
      "15/15 [==============================] - 0s 10ms/step - loss: 4.3390e-04 - accuracy: 1.0000 - val_loss: 2.6358e-04 - val_accuracy: 1.0000\n",
      "Epoch 43/50\n",
      "15/15 [==============================] - 0s 9ms/step - loss: 1.6013e-04 - accuracy: 1.0000 - val_loss: 2.4946e-04 - val_accuracy: 1.0000\n",
      "Epoch 44/50\n",
      "15/15 [==============================] - 0s 10ms/step - loss: 5.1641e-04 - accuracy: 1.0000 - val_loss: 2.3860e-04 - val_accuracy: 1.0000\n",
      "Epoch 45/50\n",
      "15/15 [==============================] - 0s 10ms/step - loss: 5.3744e-04 - accuracy: 1.0000 - val_loss: 3.8988e-04 - val_accuracy: 1.0000\n",
      "Epoch 46/50\n",
      "15/15 [==============================] - 0s 10ms/step - loss: 3.7720e-04 - accuracy: 1.0000 - val_loss: 2.5788e-04 - val_accuracy: 1.0000\n",
      "Epoch 47/50\n",
      "15/15 [==============================] - 0s 10ms/step - loss: 2.0379e-04 - accuracy: 1.0000 - val_loss: 1.4638e-04 - val_accuracy: 1.0000\n",
      "Epoch 48/50\n",
      "15/15 [==============================] - 0s 9ms/step - loss: 8.5396e-04 - accuracy: 1.0000 - val_loss: 1.8178e-04 - val_accuracy: 1.0000\n",
      "Epoch 49/50\n",
      "15/15 [==============================] - 0s 9ms/step - loss: 2.6134e-04 - accuracy: 1.0000 - val_loss: 8.0644e-05 - val_accuracy: 1.0000\n",
      "Epoch 50/50\n",
      "15/15 [==============================] - 0s 10ms/step - loss: 1.8693e-04 - accuracy: 1.0000 - val_loss: 2.3370e-04 - val_accuracy: 1.0000\n"
     ]
    }
   ],
   "source": [
    "hist = model.fit_generator(train_generator,\n",
    "                          steps_per_epoch=15,\n",
    "                          epochs=50,\n",
    "                          validation_data=test_generator,\n",
    "                          validation_steps=5)"
   ]
  },
  {
   "cell_type": "markdown",
   "id": "5cd1f4c4",
   "metadata": {},
   "source": [
    "### 학습 상황 시각화"
   ]
  },
  {
   "cell_type": "code",
   "execution_count": 72,
   "id": "6cc3cf24",
   "metadata": {
    "ExecuteTime": {
     "end_time": "2021-12-16T06:42:46.367669Z",
     "start_time": "2021-12-16T06:42:46.259703Z"
    }
   },
   "outputs": [
    {
     "data": {
      "image/png": "[encoded data removed]",
      "text/plain": [
       "<Figure size 864x432 with 1 Axes>"
      ]
     },
     "metadata": {
      "needs_background": "light"
     },
     "output_type": "display_data"
    }
   ],
   "source": [
    "plt.figure(figsize=(12, 6))\n",
    "plt.plot(hist.history['loss'], label='loss')\n",
    "plt.plot(hist.history['val_loss'], label='val_loss')\n",
    "plt.plot(hist.history['accuracy'], label='acc')\n",
    "plt.plot(hist.history['val_accuracy'], label='val_acc')\n",
    "plt.legend()\n",
    "plt.show()"
   ]
  }
 ],
 "metadata": {
  "kernelspec": {
   "display_name": "Python 3 (ipykernel)",
   "language": "python",
   "name": "python3"
  },
  "language_info": {
   "codemirror_mode": {
    "name": "ipython",
    "version": 3
   },
   "file_extension": ".py",
   "mimetype": "text/x-python",
   "name": "python",
   "nbconvert_exporter": "python",
   "pygments_lexer": "ipython3",
   "version": "3.9.7"
  },
  "toc": {
   "base_numbering": 1,
   "nav_menu": {},
   "number_sections": true,
   "sideBar": true,
   "skip_h1_title": false,
   "title_cell": "Table of Contents",
   "title_sidebar": "Contents",
   "toc_cell": false,
   "toc_position": {},
   "toc_section_display": true,
   "toc_window_display": false
  }
 },
 "nbformat": 4,
 "nbformat_minor": 5
}
