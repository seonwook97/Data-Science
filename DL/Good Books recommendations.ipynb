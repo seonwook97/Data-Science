{
 "cells": [
  {
   "cell_type": "markdown",
   "id": "6604a4b1",
   "metadata": {},
   "source": [
    "## 데이터\n",
    "- https://www.kaggle.com/zygmunt/goodbooks-10k"
   ]
  },
  {
   "cell_type": "code",
   "execution_count": 1,
   "id": "6c46a9b3",
   "metadata": {
    "ExecuteTime": {
     "end_time": "2021-12-06T09:46:48.377702Z",
     "start_time": "2021-12-06T09:46:47.017592Z"
    }
   },
   "outputs": [
    {
     "data": {
      "text/plain": [
       "['books.csv',\n",
       " 'book_tags.csv',\n",
       " 'ratings.csv',\n",
       " 'sample_book.xml',\n",
       " 'tags.csv',\n",
       " 'to_read.csv']"
      ]
     },
     "execution_count": 1,
     "metadata": {},
     "output_type": "execute_result"
    }
   ],
   "source": [
    "import numpy as np\n",
    "import pandas as pd\n",
    "import os\n",
    "\n",
    "os.listdir('../data/archive_1/')"
   ]
  },
  {
   "cell_type": "code",
   "execution_count": 2,
   "id": "dda03c6b",
   "metadata": {
    "ExecuteTime": {
     "end_time": "2021-12-06T09:47:39.172803Z",
     "start_time": "2021-12-06T09:47:39.052535Z"
    }
   },
   "outputs": [
    {
     "data": {
      "text/html": [
       "<div>\n",
       "<style scoped>\n",
       "    .dataframe tbody tr th:only-of-type {\n",
       "        vertical-align: middle;\n",
       "    }\n",
       "\n",
       "    .dataframe tbody tr th {\n",
       "        vertical-align: top;\n",
       "    }\n",
       "\n",
       "    .dataframe thead th {\n",
       "        text-align: right;\n",
       "    }\n",
       "</style>\n",
       "<table border=\"1\" class=\"dataframe\">\n",
       "  <thead>\n",
       "    <tr style=\"text-align: right;\">\n",
       "      <th></th>\n",
       "      <th>id</th>\n",
       "      <th>book_id</th>\n",
       "      <th>best_book_id</th>\n",
       "      <th>work_id</th>\n",
       "      <th>books_count</th>\n",
       "      <th>isbn</th>\n",
       "      <th>isbn13</th>\n",
       "      <th>authors</th>\n",
       "      <th>original_publication_year</th>\n",
       "      <th>original_title</th>\n",
       "      <th>...</th>\n",
       "      <th>ratings_count</th>\n",
       "      <th>work_ratings_count</th>\n",
       "      <th>work_text_reviews_count</th>\n",
       "      <th>ratings_1</th>\n",
       "      <th>ratings_2</th>\n",
       "      <th>ratings_3</th>\n",
       "      <th>ratings_4</th>\n",
       "      <th>ratings_5</th>\n",
       "      <th>image_url</th>\n",
       "      <th>small_image_url</th>\n",
       "    </tr>\n",
       "  </thead>\n",
       "  <tbody>\n",
       "    <tr>\n",
       "      <th>0</th>\n",
       "      <td>1</td>\n",
       "      <td>2767052</td>\n",
       "      <td>2767052</td>\n",
       "      <td>2792775</td>\n",
       "      <td>272</td>\n",
       "      <td>439023483</td>\n",
       "      <td>9.780439e+12</td>\n",
       "      <td>Suzanne Collins</td>\n",
       "      <td>2008.0</td>\n",
       "      <td>The Hunger Games</td>\n",
       "      <td>...</td>\n",
       "      <td>4780653</td>\n",
       "      <td>4942365</td>\n",
       "      <td>155254</td>\n",
       "      <td>66715</td>\n",
       "      <td>127936</td>\n",
       "      <td>560092</td>\n",
       "      <td>1481305</td>\n",
       "      <td>2706317</td>\n",
       "      <td>https://images.gr-assets.com/books/1447303603m...</td>\n",
       "      <td>https://images.gr-assets.com/books/1447303603s...</td>\n",
       "    </tr>\n",
       "    <tr>\n",
       "      <th>1</th>\n",
       "      <td>2</td>\n",
       "      <td>3</td>\n",
       "      <td>3</td>\n",
       "      <td>4640799</td>\n",
       "      <td>491</td>\n",
       "      <td>439554934</td>\n",
       "      <td>9.780440e+12</td>\n",
       "      <td>J.K. Rowling, Mary GrandPrÃ©</td>\n",
       "      <td>1997.0</td>\n",
       "      <td>Harry Potter and the Philosopher's Stone</td>\n",
       "      <td>...</td>\n",
       "      <td>4602479</td>\n",
       "      <td>4800065</td>\n",
       "      <td>75867</td>\n",
       "      <td>75504</td>\n",
       "      <td>101676</td>\n",
       "      <td>455024</td>\n",
       "      <td>1156318</td>\n",
       "      <td>3011543</td>\n",
       "      <td>https://images.gr-assets.com/books/1474154022m...</td>\n",
       "      <td>https://images.gr-assets.com/books/1474154022s...</td>\n",
       "    </tr>\n",
       "    <tr>\n",
       "      <th>2</th>\n",
       "      <td>3</td>\n",
       "      <td>41865</td>\n",
       "      <td>41865</td>\n",
       "      <td>3212258</td>\n",
       "      <td>226</td>\n",
       "      <td>316015849</td>\n",
       "      <td>9.780316e+12</td>\n",
       "      <td>Stephenie Meyer</td>\n",
       "      <td>2005.0</td>\n",
       "      <td>Twilight</td>\n",
       "      <td>...</td>\n",
       "      <td>3866839</td>\n",
       "      <td>3916824</td>\n",
       "      <td>95009</td>\n",
       "      <td>456191</td>\n",
       "      <td>436802</td>\n",
       "      <td>793319</td>\n",
       "      <td>875073</td>\n",
       "      <td>1355439</td>\n",
       "      <td>https://images.gr-assets.com/books/1361039443m...</td>\n",
       "      <td>https://images.gr-assets.com/books/1361039443s...</td>\n",
       "    </tr>\n",
       "    <tr>\n",
       "      <th>3</th>\n",
       "      <td>4</td>\n",
       "      <td>2657</td>\n",
       "      <td>2657</td>\n",
       "      <td>3275794</td>\n",
       "      <td>487</td>\n",
       "      <td>61120081</td>\n",
       "      <td>9.780061e+12</td>\n",
       "      <td>Harper Lee</td>\n",
       "      <td>1960.0</td>\n",
       "      <td>To Kill a Mockingbird</td>\n",
       "      <td>...</td>\n",
       "      <td>3198671</td>\n",
       "      <td>3340896</td>\n",
       "      <td>72586</td>\n",
       "      <td>60427</td>\n",
       "      <td>117415</td>\n",
       "      <td>446835</td>\n",
       "      <td>1001952</td>\n",
       "      <td>1714267</td>\n",
       "      <td>https://images.gr-assets.com/books/1361975680m...</td>\n",
       "      <td>https://images.gr-assets.com/books/1361975680s...</td>\n",
       "    </tr>\n",
       "    <tr>\n",
       "      <th>4</th>\n",
       "      <td>5</td>\n",
       "      <td>4671</td>\n",
       "      <td>4671</td>\n",
       "      <td>245494</td>\n",
       "      <td>1356</td>\n",
       "      <td>743273567</td>\n",
       "      <td>9.780743e+12</td>\n",
       "      <td>F. Scott Fitzgerald</td>\n",
       "      <td>1925.0</td>\n",
       "      <td>The Great Gatsby</td>\n",
       "      <td>...</td>\n",
       "      <td>2683664</td>\n",
       "      <td>2773745</td>\n",
       "      <td>51992</td>\n",
       "      <td>86236</td>\n",
       "      <td>197621</td>\n",
       "      <td>606158</td>\n",
       "      <td>936012</td>\n",
       "      <td>947718</td>\n",
       "      <td>https://images.gr-assets.com/books/1490528560m...</td>\n",
       "      <td>https://images.gr-assets.com/books/1490528560s...</td>\n",
       "    </tr>\n",
       "  </tbody>\n",
       "</table>\n",
       "<p>5 rows × 23 columns</p>\n",
       "</div>"
      ],
      "text/plain": [
       "   id  book_id  best_book_id  work_id  books_count       isbn        isbn13  \\\n",
       "0   1  2767052       2767052  2792775          272  439023483  9.780439e+12   \n",
       "1   2        3             3  4640799          491  439554934  9.780440e+12   \n",
       "2   3    41865         41865  3212258          226  316015849  9.780316e+12   \n",
       "3   4     2657          2657  3275794          487   61120081  9.780061e+12   \n",
       "4   5     4671          4671   245494         1356  743273567  9.780743e+12   \n",
       "\n",
       "                        authors  original_publication_year  \\\n",
       "0               Suzanne Collins                     2008.0   \n",
       "1  J.K. Rowling, Mary GrandPrÃ©                     1997.0   \n",
       "2               Stephenie Meyer                     2005.0   \n",
       "3                    Harper Lee                     1960.0   \n",
       "4           F. Scott Fitzgerald                     1925.0   \n",
       "\n",
       "                             original_title  ... ratings_count  \\\n",
       "0                          The Hunger Games  ...       4780653   \n",
       "1  Harry Potter and the Philosopher's Stone  ...       4602479   \n",
       "2                                  Twilight  ...       3866839   \n",
       "3                     To Kill a Mockingbird  ...       3198671   \n",
       "4                          The Great Gatsby  ...       2683664   \n",
       "\n",
       "  work_ratings_count  work_text_reviews_count  ratings_1  ratings_2  \\\n",
       "0            4942365                   155254      66715     127936   \n",
       "1            4800065                    75867      75504     101676   \n",
       "2            3916824                    95009     456191     436802   \n",
       "3            3340896                    72586      60427     117415   \n",
       "4            2773745                    51992      86236     197621   \n",
       "\n",
       "   ratings_3  ratings_4  ratings_5  \\\n",
       "0     560092    1481305    2706317   \n",
       "1     455024    1156318    3011543   \n",
       "2     793319     875073    1355439   \n",
       "3     446835    1001952    1714267   \n",
       "4     606158     936012     947718   \n",
       "\n",
       "                                           image_url  \\\n",
       "0  https://images.gr-assets.com/books/1447303603m...   \n",
       "1  https://images.gr-assets.com/books/1474154022m...   \n",
       "2  https://images.gr-assets.com/books/1361039443m...   \n",
       "3  https://images.gr-assets.com/books/1361975680m...   \n",
       "4  https://images.gr-assets.com/books/1490528560m...   \n",
       "\n",
       "                                     small_image_url  \n",
       "0  https://images.gr-assets.com/books/1447303603s...  \n",
       "1  https://images.gr-assets.com/books/1474154022s...  \n",
       "2  https://images.gr-assets.com/books/1361039443s...  \n",
       "3  https://images.gr-assets.com/books/1361975680s...  \n",
       "4  https://images.gr-assets.com/books/1490528560s...  \n",
       "\n",
       "[5 rows x 23 columns]"
      ]
     },
     "execution_count": 2,
     "metadata": {},
     "output_type": "execute_result"
    }
   ],
   "source": [
    "books = pd.read_csv('../data/archive_1/books.csv', encoding='ISO-8859-1')\n",
    "books.head()"
   ]
  },
  {
   "cell_type": "code",
   "execution_count": 3,
   "id": "720094c8",
   "metadata": {
    "ExecuteTime": {
     "end_time": "2021-12-06T09:49:07.635665Z",
     "start_time": "2021-12-06T09:49:07.277373Z"
    }
   },
   "outputs": [
    {
     "data": {
      "text/html": [
       "<div>\n",
       "<style scoped>\n",
       "    .dataframe tbody tr th:only-of-type {\n",
       "        vertical-align: middle;\n",
       "    }\n",
       "\n",
       "    .dataframe tbody tr th {\n",
       "        vertical-align: top;\n",
       "    }\n",
       "\n",
       "    .dataframe thead th {\n",
       "        text-align: right;\n",
       "    }\n",
       "</style>\n",
       "<table border=\"1\" class=\"dataframe\">\n",
       "  <thead>\n",
       "    <tr style=\"text-align: right;\">\n",
       "      <th></th>\n",
       "      <th>book_id</th>\n",
       "      <th>user_id</th>\n",
       "      <th>rating</th>\n",
       "    </tr>\n",
       "  </thead>\n",
       "  <tbody>\n",
       "    <tr>\n",
       "      <th>0</th>\n",
       "      <td>1</td>\n",
       "      <td>314</td>\n",
       "      <td>5</td>\n",
       "    </tr>\n",
       "    <tr>\n",
       "      <th>1</th>\n",
       "      <td>1</td>\n",
       "      <td>439</td>\n",
       "      <td>3</td>\n",
       "    </tr>\n",
       "    <tr>\n",
       "      <th>2</th>\n",
       "      <td>1</td>\n",
       "      <td>588</td>\n",
       "      <td>5</td>\n",
       "    </tr>\n",
       "    <tr>\n",
       "      <th>3</th>\n",
       "      <td>1</td>\n",
       "      <td>1169</td>\n",
       "      <td>4</td>\n",
       "    </tr>\n",
       "    <tr>\n",
       "      <th>4</th>\n",
       "      <td>1</td>\n",
       "      <td>1185</td>\n",
       "      <td>4</td>\n",
       "    </tr>\n",
       "  </tbody>\n",
       "</table>\n",
       "</div>"
      ],
      "text/plain": [
       "   book_id  user_id  rating\n",
       "0        1      314       5\n",
       "1        1      439       3\n",
       "2        1      588       5\n",
       "3        1     1169       4\n",
       "4        1     1185       4"
      ]
     },
     "execution_count": 3,
     "metadata": {},
     "output_type": "execute_result"
    }
   ],
   "source": [
    "ratings = pd.read_csv('../data/archive_1/ratings.csv', encoding='ISO-8859-1')\n",
    "ratings.head()"
   ]
  },
  {
   "cell_type": "code",
   "execution_count": 6,
   "id": "39d444bf",
   "metadata": {
    "ExecuteTime": {
     "end_time": "2021-12-06T09:50:38.395529Z",
     "start_time": "2021-12-06T09:50:37.895411Z"
    }
   },
   "outputs": [
    {
     "data": {
      "text/html": [
       "<div>\n",
       "<style scoped>\n",
       "    .dataframe tbody tr th:only-of-type {\n",
       "        vertical-align: middle;\n",
       "    }\n",
       "\n",
       "    .dataframe tbody tr th {\n",
       "        vertical-align: top;\n",
       "    }\n",
       "\n",
       "    .dataframe thead th {\n",
       "        text-align: right;\n",
       "    }\n",
       "</style>\n",
       "<table border=\"1\" class=\"dataframe\">\n",
       "  <thead>\n",
       "    <tr style=\"text-align: right;\">\n",
       "      <th></th>\n",
       "      <th>goodreads_book_id</th>\n",
       "      <th>tag_id</th>\n",
       "      <th>count</th>\n",
       "    </tr>\n",
       "  </thead>\n",
       "  <tbody>\n",
       "    <tr>\n",
       "      <th>0</th>\n",
       "      <td>1</td>\n",
       "      <td>30574</td>\n",
       "      <td>167697</td>\n",
       "    </tr>\n",
       "    <tr>\n",
       "      <th>1</th>\n",
       "      <td>1</td>\n",
       "      <td>11305</td>\n",
       "      <td>37174</td>\n",
       "    </tr>\n",
       "    <tr>\n",
       "      <th>2</th>\n",
       "      <td>1</td>\n",
       "      <td>11557</td>\n",
       "      <td>34173</td>\n",
       "    </tr>\n",
       "    <tr>\n",
       "      <th>3</th>\n",
       "      <td>1</td>\n",
       "      <td>8717</td>\n",
       "      <td>12986</td>\n",
       "    </tr>\n",
       "    <tr>\n",
       "      <th>4</th>\n",
       "      <td>1</td>\n",
       "      <td>33114</td>\n",
       "      <td>12716</td>\n",
       "    </tr>\n",
       "  </tbody>\n",
       "</table>\n",
       "</div>"
      ],
      "text/plain": [
       "   goodreads_book_id  tag_id   count\n",
       "0                  1   30574  167697\n",
       "1                  1   11305   37174\n",
       "2                  1   11557   34173\n",
       "3                  1    8717   12986\n",
       "4                  1   33114   12716"
      ]
     },
     "execution_count": 6,
     "metadata": {},
     "output_type": "execute_result"
    }
   ],
   "source": [
    "book_tags = pd.read_csv('../data/archive_1/book_tags.csv', encoding='ISO-8859-1')\n",
    "book_tags.head()"
   ]
  },
  {
   "cell_type": "code",
   "execution_count": 9,
   "id": "029517f9",
   "metadata": {
    "ExecuteTime": {
     "end_time": "2021-12-06T09:51:27.091335Z",
     "start_time": "2021-12-06T09:51:27.039361Z"
    }
   },
   "outputs": [
    {
     "data": {
      "text/html": [
       "<div>\n",
       "<style scoped>\n",
       "    .dataframe tbody tr th:only-of-type {\n",
       "        vertical-align: middle;\n",
       "    }\n",
       "\n",
       "    .dataframe tbody tr th {\n",
       "        vertical-align: top;\n",
       "    }\n",
       "\n",
       "    .dataframe thead th {\n",
       "        text-align: right;\n",
       "    }\n",
       "</style>\n",
       "<table border=\"1\" class=\"dataframe\">\n",
       "  <thead>\n",
       "    <tr style=\"text-align: right;\">\n",
       "      <th></th>\n",
       "      <th>tag_id</th>\n",
       "      <th>tag_name</th>\n",
       "    </tr>\n",
       "  </thead>\n",
       "  <tbody>\n",
       "    <tr>\n",
       "      <th>34247</th>\n",
       "      <td>34247</td>\n",
       "      <td>Ｃhildrens</td>\n",
       "    </tr>\n",
       "    <tr>\n",
       "      <th>34248</th>\n",
       "      <td>34248</td>\n",
       "      <td>Ｆａｖｏｒｉｔｅｓ</td>\n",
       "    </tr>\n",
       "    <tr>\n",
       "      <th>34249</th>\n",
       "      <td>34249</td>\n",
       "      <td>Ｍａｎｇａ</td>\n",
       "    </tr>\n",
       "    <tr>\n",
       "      <th>34250</th>\n",
       "      <td>34250</td>\n",
       "      <td>ＳＥＲＩＥＳ</td>\n",
       "    </tr>\n",
       "    <tr>\n",
       "      <th>34251</th>\n",
       "      <td>34251</td>\n",
       "      <td>ｆａｖｏｕｒｉｔｅｓ</td>\n",
       "    </tr>\n",
       "  </tbody>\n",
       "</table>\n",
       "</div>"
      ],
      "text/plain": [
       "       tag_id    tag_name\n",
       "34247   34247   Ｃhildrens\n",
       "34248   34248   Ｆａｖｏｒｉｔｅｓ\n",
       "34249   34249       Ｍａｎｇａ\n",
       "34250   34250      ＳＥＲＩＥＳ\n",
       "34251   34251  ｆａｖｏｕｒｉｔｅｓ"
      ]
     },
     "execution_count": 9,
     "metadata": {},
     "output_type": "execute_result"
    }
   ],
   "source": [
    "tags = pd.read_csv('../data/archive_1/tags.csv')\n",
    "tags.tail()"
   ]
  },
  {
   "cell_type": "markdown",
   "id": "db2a70d7",
   "metadata": {},
   "source": [
    "### book_tags와 tags를 merge"
   ]
  },
  {
   "cell_type": "code",
   "execution_count": 10,
   "id": "d0178b87",
   "metadata": {
    "ExecuteTime": {
     "end_time": "2021-12-06T09:52:54.580119Z",
     "start_time": "2021-12-06T09:52:54.365504Z"
    }
   },
   "outputs": [
    {
     "data": {
      "text/html": [
       "<div>\n",
       "<style scoped>\n",
       "    .dataframe tbody tr th:only-of-type {\n",
       "        vertical-align: middle;\n",
       "    }\n",
       "\n",
       "    .dataframe tbody tr th {\n",
       "        vertical-align: top;\n",
       "    }\n",
       "\n",
       "    .dataframe thead th {\n",
       "        text-align: right;\n",
       "    }\n",
       "</style>\n",
       "<table border=\"1\" class=\"dataframe\">\n",
       "  <thead>\n",
       "    <tr style=\"text-align: right;\">\n",
       "      <th></th>\n",
       "      <th>goodreads_book_id</th>\n",
       "      <th>tag_id</th>\n",
       "      <th>count</th>\n",
       "      <th>tag_name</th>\n",
       "    </tr>\n",
       "  </thead>\n",
       "  <tbody>\n",
       "    <tr>\n",
       "      <th>0</th>\n",
       "      <td>1</td>\n",
       "      <td>30574</td>\n",
       "      <td>167697</td>\n",
       "      <td>to-read</td>\n",
       "    </tr>\n",
       "    <tr>\n",
       "      <th>1</th>\n",
       "      <td>2</td>\n",
       "      <td>30574</td>\n",
       "      <td>24549</td>\n",
       "      <td>to-read</td>\n",
       "    </tr>\n",
       "    <tr>\n",
       "      <th>2</th>\n",
       "      <td>3</td>\n",
       "      <td>30574</td>\n",
       "      <td>496107</td>\n",
       "      <td>to-read</td>\n",
       "    </tr>\n",
       "    <tr>\n",
       "      <th>3</th>\n",
       "      <td>5</td>\n",
       "      <td>30574</td>\n",
       "      <td>11909</td>\n",
       "      <td>to-read</td>\n",
       "    </tr>\n",
       "    <tr>\n",
       "      <th>4</th>\n",
       "      <td>6</td>\n",
       "      <td>30574</td>\n",
       "      <td>298</td>\n",
       "      <td>to-read</td>\n",
       "    </tr>\n",
       "  </tbody>\n",
       "</table>\n",
       "</div>"
      ],
      "text/plain": [
       "   goodreads_book_id  tag_id   count tag_name\n",
       "0                  1   30574  167697  to-read\n",
       "1                  2   30574   24549  to-read\n",
       "2                  3   30574  496107  to-read\n",
       "3                  5   30574   11909  to-read\n",
       "4                  6   30574     298  to-read"
      ]
     },
     "execution_count": 10,
     "metadata": {},
     "output_type": "execute_result"
    }
   ],
   "source": [
    "tags_join_DF = pd.merge(book_tags, tags, left_on='tag_id',\n",
    "                       right_on='tag_id', how='inner')\n",
    "tags_join_DF.head()"
   ]
  },
  {
   "cell_type": "code",
   "execution_count": 11,
   "id": "9489d7ae",
   "metadata": {
    "ExecuteTime": {
     "end_time": "2021-12-06T09:55:21.836739Z",
     "start_time": "2021-12-06T09:55:21.557418Z"
    }
   },
   "outputs": [
    {
     "data": {
      "text/html": [
       "<div>\n",
       "<style scoped>\n",
       "    .dataframe tbody tr th:only-of-type {\n",
       "        vertical-align: middle;\n",
       "    }\n",
       "\n",
       "    .dataframe tbody tr th {\n",
       "        vertical-align: top;\n",
       "    }\n",
       "\n",
       "    .dataframe thead th {\n",
       "        text-align: right;\n",
       "    }\n",
       "</style>\n",
       "<table border=\"1\" class=\"dataframe\">\n",
       "  <thead>\n",
       "    <tr style=\"text-align: right;\">\n",
       "      <th></th>\n",
       "      <th>user_id</th>\n",
       "      <th>book_id</th>\n",
       "    </tr>\n",
       "  </thead>\n",
       "  <tbody>\n",
       "    <tr>\n",
       "      <th>0</th>\n",
       "      <td>1</td>\n",
       "      <td>112</td>\n",
       "    </tr>\n",
       "    <tr>\n",
       "      <th>1</th>\n",
       "      <td>1</td>\n",
       "      <td>235</td>\n",
       "    </tr>\n",
       "    <tr>\n",
       "      <th>2</th>\n",
       "      <td>1</td>\n",
       "      <td>533</td>\n",
       "    </tr>\n",
       "    <tr>\n",
       "      <th>3</th>\n",
       "      <td>1</td>\n",
       "      <td>1198</td>\n",
       "    </tr>\n",
       "    <tr>\n",
       "      <th>4</th>\n",
       "      <td>1</td>\n",
       "      <td>1874</td>\n",
       "    </tr>\n",
       "  </tbody>\n",
       "</table>\n",
       "</div>"
      ],
      "text/plain": [
       "   user_id  book_id\n",
       "0        1      112\n",
       "1        1      235\n",
       "2        1      533\n",
       "3        1     1198\n",
       "4        1     1874"
      ]
     },
     "execution_count": 11,
     "metadata": {},
     "output_type": "execute_result"
    }
   ],
   "source": [
    "to_read = pd.read_csv('../data/archive_1/to_read.csv')\n",
    "to_read.head()"
   ]
  },
  {
   "cell_type": "markdown",
   "id": "15b919cf",
   "metadata": {},
   "source": [
    "### books의 authors"
   ]
  },
  {
   "cell_type": "code",
   "execution_count": 12,
   "id": "5e1e5a08",
   "metadata": {
    "ExecuteTime": {
     "end_time": "2021-12-06T09:56:28.205262Z",
     "start_time": "2021-12-06T09:56:28.185239Z"
    }
   },
   "outputs": [
    {
     "data": {
      "text/plain": [
       "0                 Suzanne Collins\n",
       "1    J.K. Rowling, Mary GrandPrÃ©\n",
       "2                 Stephenie Meyer\n",
       "3                      Harper Lee\n",
       "4             F. Scott Fitzgerald\n",
       "Name: authors, dtype: object"
      ]
     },
     "execution_count": 12,
     "metadata": {},
     "output_type": "execute_result"
    }
   ],
   "source": [
    "books['authors'][:5]"
   ]
  },
  {
   "cell_type": "markdown",
   "id": "1b49c9b7",
   "metadata": {},
   "source": [
    "### authors로 Tfidf 수행"
   ]
  },
  {
   "cell_type": "code",
   "execution_count": 14,
   "id": "40432614",
   "metadata": {
    "ExecuteTime": {
     "end_time": "2021-12-06T09:58:51.046396Z",
     "start_time": "2021-12-06T09:58:50.820246Z"
    }
   },
   "outputs": [
    {
     "data": {
      "text/plain": [
       "<10000x14742 sparse matrix of type '<class 'numpy.float64'>'\n",
       "\twith 43235 stored elements in Compressed Sparse Row format>"
      ]
     },
     "execution_count": 14,
     "metadata": {},
     "output_type": "execute_result"
    }
   ],
   "source": [
    "from sklearn.feature_extraction.text import TfidfVectorizer\n",
    "\n",
    "tf = TfidfVectorizer(analyzer='word', ngram_range=(1, 2),\n",
    "                    min_df=0, stop_words='english')\n",
    "tfidf_matrix = tf.fit_transform(books['authors'])\n",
    "tfidf_matrix"
   ]
  },
  {
   "cell_type": "markdown",
   "id": "d5759662",
   "metadata": {},
   "source": [
    "### 유사도 측정"
   ]
  },
  {
   "cell_type": "code",
   "execution_count": 15,
   "id": "0dc9081a",
   "metadata": {
    "ExecuteTime": {
     "end_time": "2021-12-06T10:08:39.481607Z",
     "start_time": "2021-12-06T10:08:39.146887Z"
    }
   },
   "outputs": [
    {
     "data": {
      "text/plain": [
       "array([[1., 0., 0., ..., 0., 0., 0.],\n",
       "       [0., 1., 0., ..., 0., 0., 0.],\n",
       "       [0., 0., 1., ..., 0., 0., 0.],\n",
       "       ...,\n",
       "       [0., 0., 0., ..., 1., 0., 0.],\n",
       "       [0., 0., 0., ..., 0., 1., 0.],\n",
       "       [0., 0., 0., ..., 0., 0., 1.]])"
      ]
     },
     "execution_count": 15,
     "metadata": {},
     "output_type": "execute_result"
    }
   ],
   "source": [
    "from sklearn.metrics.pairwise import linear_kernel\n",
    "\n",
    "cosine_sim = linear_kernel(tfidf_matrix, tfidf_matrix)\n",
    "cosine_sim"
   ]
  },
  {
   "cell_type": "markdown",
   "id": "b85e0041",
   "metadata": {},
   "source": [
    "### The Hobbit의 index는 6"
   ]
  },
  {
   "cell_type": "code",
   "execution_count": 16,
   "id": "cb98dfe8",
   "metadata": {
    "ExecuteTime": {
     "end_time": "2021-12-06T10:10:28.168385Z",
     "start_time": "2021-12-06T10:10:28.145328Z"
    },
    "scrolled": true
   },
   "outputs": [
    {
     "data": {
      "text/plain": [
       "6"
      ]
     },
     "execution_count": 16,
     "metadata": {},
     "output_type": "execute_result"
    }
   ],
   "source": [
    "titles = books['title']\n",
    "indices = pd.Series(books.index, index=books['title'])\n",
    "indices['The Hobbit']"
   ]
  },
  {
   "cell_type": "markdown",
   "id": "5e606ec1",
   "metadata": {},
   "source": [
    "### 유사도 값 호출"
   ]
  },
  {
   "cell_type": "code",
   "execution_count": 17,
   "id": "874c6862",
   "metadata": {
    "ExecuteTime": {
     "end_time": "2021-12-06T10:12:12.623459Z",
     "start_time": "2021-12-06T10:12:12.614456Z"
    }
   },
   "outputs": [
    {
     "data": {
      "text/plain": [
       "array([0., 0., 0., ..., 0., 0., 0.])"
      ]
     },
     "execution_count": 17,
     "metadata": {},
     "output_type": "execute_result"
    }
   ],
   "source": [
    "cosine_sim[indices['The Hobbit']]"
   ]
  },
  {
   "cell_type": "markdown",
   "id": "a2ffe5a9",
   "metadata": {},
   "source": [
    "### 유사도 결과를 인덱스를 가진 list형으로"
   ]
  },
  {
   "cell_type": "code",
   "execution_count": 18,
   "id": "07f443c9",
   "metadata": {
    "ExecuteTime": {
     "end_time": "2021-12-06T10:12:53.617982Z",
     "start_time": "2021-12-06T10:12:53.606404Z"
    }
   },
   "outputs": [
    {
     "data": {
      "text/plain": [
       "(10000,)"
      ]
     },
     "execution_count": 18,
     "metadata": {},
     "output_type": "execute_result"
    }
   ],
   "source": [
    "cosine_sim[indices['The Hobbit']].shape"
   ]
  },
  {
   "cell_type": "code",
   "execution_count": 20,
   "id": "3e881853",
   "metadata": {
    "ExecuteTime": {
     "end_time": "2021-12-06T10:13:22.879042Z",
     "start_time": "2021-12-06T10:13:22.856042Z"
    }
   },
   "outputs": [
    {
     "data": {
      "text/plain": [
       "[(0, 0.0), (1, 0.0), (2, 0.0)]"
      ]
     },
     "execution_count": 20,
     "metadata": {},
     "output_type": "execute_result"
    }
   ],
   "source": [
    "list(enumerate(cosine_sim[indices['The Hobbit']]))[:3]"
   ]
  },
  {
   "cell_type": "markdown",
   "id": "e1307d8c",
   "metadata": {},
   "source": [
    "### 가장 유사한 책의 인덱스 찾기"
   ]
  },
  {
   "cell_type": "code",
   "execution_count": 21,
   "id": "4db95f49",
   "metadata": {
    "ExecuteTime": {
     "end_time": "2021-12-06T10:17:26.121351Z",
     "start_time": "2021-12-06T10:17:26.099948Z"
    }
   },
   "outputs": [
    {
     "data": {
      "text/plain": [
       "[(6, 1.0), (18, 1.0), (154, 1.0)]"
      ]
     },
     "execution_count": 21,
     "metadata": {},
     "output_type": "execute_result"
    }
   ],
   "source": [
    "sim_scores = list(enumerate(cosine_sim[indices['The Hobbit']]))\n",
    "sim_scores = sorted(sim_scores, key=lambda x: -x[1])\n",
    "sim_scores[:3]"
   ]
  },
  {
   "cell_type": "markdown",
   "id": "a2cae5bb",
   "metadata": {},
   "source": [
    "### 작가로 본 유사 책 검색"
   ]
  },
  {
   "cell_type": "code",
   "execution_count": 22,
   "id": "f1815695",
   "metadata": {
    "ExecuteTime": {
     "end_time": "2021-12-06T10:19:25.719491Z",
     "start_time": "2021-12-06T10:19:25.698490Z"
    }
   },
   "outputs": [
    {
     "data": {
      "text/plain": [
       "18      The Fellowship of the Ring (The Lord of the Ri...\n",
       "154            The Two Towers (The Lord of the Rings, #2)\n",
       "160     The Return of the King (The Lord of the Rings,...\n",
       "188     The Lord of the Rings (The Lord of the Rings, ...\n",
       "963     J.R.R. Tolkien 4-Book Boxed Set: The Hobbit an...\n",
       "4975        Unfinished Tales of NÃºmenor and Middle-Earth\n",
       "2308                               The Children of HÃºrin\n",
       "610              The Silmarillion (Middle-Earth Universe)\n",
       "8271                   The Complete Guide to Middle-Earth\n",
       "1128     The History of the Hobbit, Part One: Mr. Baggins\n",
       "Name: title, dtype: object"
      ]
     },
     "execution_count": 22,
     "metadata": {},
     "output_type": "execute_result"
    }
   ],
   "source": [
    "sim_scores = sim_scores[1:11]\n",
    "book_indices = [i[0] for i in sim_scores]\n",
    "titles.iloc[book_indices]"
   ]
  },
  {
   "cell_type": "markdown",
   "id": "2144c8b1",
   "metadata": {},
   "source": [
    "### book에 tag 포함"
   ]
  },
  {
   "cell_type": "code",
   "execution_count": 23,
   "id": "ea5ff231",
   "metadata": {
    "ExecuteTime": {
     "end_time": "2021-12-06T10:27:44.310808Z",
     "start_time": "2021-12-06T10:27:42.891250Z"
    }
   },
   "outputs": [
    {
     "data": {
      "text/html": [
       "<div>\n",
       "<style scoped>\n",
       "    .dataframe tbody tr th:only-of-type {\n",
       "        vertical-align: middle;\n",
       "    }\n",
       "\n",
       "    .dataframe tbody tr th {\n",
       "        vertical-align: top;\n",
       "    }\n",
       "\n",
       "    .dataframe thead th {\n",
       "        text-align: right;\n",
       "    }\n",
       "</style>\n",
       "<table border=\"1\" class=\"dataframe\">\n",
       "  <thead>\n",
       "    <tr style=\"text-align: right;\">\n",
       "      <th></th>\n",
       "      <th>id</th>\n",
       "      <th>book_id</th>\n",
       "      <th>best_book_id</th>\n",
       "      <th>work_id</th>\n",
       "      <th>books_count</th>\n",
       "      <th>isbn</th>\n",
       "      <th>isbn13</th>\n",
       "      <th>authors</th>\n",
       "      <th>original_publication_year</th>\n",
       "      <th>original_title</th>\n",
       "      <th>...</th>\n",
       "      <th>ratings_2</th>\n",
       "      <th>ratings_3</th>\n",
       "      <th>ratings_4</th>\n",
       "      <th>ratings_5</th>\n",
       "      <th>image_url</th>\n",
       "      <th>small_image_url</th>\n",
       "      <th>goodreads_book_id</th>\n",
       "      <th>tag_id</th>\n",
       "      <th>count</th>\n",
       "      <th>tag_name</th>\n",
       "    </tr>\n",
       "  </thead>\n",
       "  <tbody>\n",
       "    <tr>\n",
       "      <th>0</th>\n",
       "      <td>1</td>\n",
       "      <td>2767052</td>\n",
       "      <td>2767052</td>\n",
       "      <td>2792775</td>\n",
       "      <td>272</td>\n",
       "      <td>439023483</td>\n",
       "      <td>9.780439e+12</td>\n",
       "      <td>Suzanne Collins</td>\n",
       "      <td>2008.0</td>\n",
       "      <td>The Hunger Games</td>\n",
       "      <td>...</td>\n",
       "      <td>127936</td>\n",
       "      <td>560092</td>\n",
       "      <td>1481305</td>\n",
       "      <td>2706317</td>\n",
       "      <td>https://images.gr-assets.com/books/1447303603m...</td>\n",
       "      <td>https://images.gr-assets.com/books/1447303603s...</td>\n",
       "      <td>2767052</td>\n",
       "      <td>30574</td>\n",
       "      <td>11314</td>\n",
       "      <td>to-read</td>\n",
       "    </tr>\n",
       "    <tr>\n",
       "      <th>1</th>\n",
       "      <td>1</td>\n",
       "      <td>2767052</td>\n",
       "      <td>2767052</td>\n",
       "      <td>2792775</td>\n",
       "      <td>272</td>\n",
       "      <td>439023483</td>\n",
       "      <td>9.780439e+12</td>\n",
       "      <td>Suzanne Collins</td>\n",
       "      <td>2008.0</td>\n",
       "      <td>The Hunger Games</td>\n",
       "      <td>...</td>\n",
       "      <td>127936</td>\n",
       "      <td>560092</td>\n",
       "      <td>1481305</td>\n",
       "      <td>2706317</td>\n",
       "      <td>https://images.gr-assets.com/books/1447303603m...</td>\n",
       "      <td>https://images.gr-assets.com/books/1447303603s...</td>\n",
       "      <td>2767052</td>\n",
       "      <td>11305</td>\n",
       "      <td>10836</td>\n",
       "      <td>fantasy</td>\n",
       "    </tr>\n",
       "    <tr>\n",
       "      <th>2</th>\n",
       "      <td>1</td>\n",
       "      <td>2767052</td>\n",
       "      <td>2767052</td>\n",
       "      <td>2792775</td>\n",
       "      <td>272</td>\n",
       "      <td>439023483</td>\n",
       "      <td>9.780439e+12</td>\n",
       "      <td>Suzanne Collins</td>\n",
       "      <td>2008.0</td>\n",
       "      <td>The Hunger Games</td>\n",
       "      <td>...</td>\n",
       "      <td>127936</td>\n",
       "      <td>560092</td>\n",
       "      <td>1481305</td>\n",
       "      <td>2706317</td>\n",
       "      <td>https://images.gr-assets.com/books/1447303603m...</td>\n",
       "      <td>https://images.gr-assets.com/books/1447303603s...</td>\n",
       "      <td>2767052</td>\n",
       "      <td>11557</td>\n",
       "      <td>50755</td>\n",
       "      <td>favorites</td>\n",
       "    </tr>\n",
       "    <tr>\n",
       "      <th>3</th>\n",
       "      <td>1</td>\n",
       "      <td>2767052</td>\n",
       "      <td>2767052</td>\n",
       "      <td>2792775</td>\n",
       "      <td>272</td>\n",
       "      <td>439023483</td>\n",
       "      <td>9.780439e+12</td>\n",
       "      <td>Suzanne Collins</td>\n",
       "      <td>2008.0</td>\n",
       "      <td>The Hunger Games</td>\n",
       "      <td>...</td>\n",
       "      <td>127936</td>\n",
       "      <td>560092</td>\n",
       "      <td>1481305</td>\n",
       "      <td>2706317</td>\n",
       "      <td>https://images.gr-assets.com/books/1447303603m...</td>\n",
       "      <td>https://images.gr-assets.com/books/1447303603s...</td>\n",
       "      <td>2767052</td>\n",
       "      <td>8717</td>\n",
       "      <td>35418</td>\n",
       "      <td>currently-reading</td>\n",
       "    </tr>\n",
       "    <tr>\n",
       "      <th>4</th>\n",
       "      <td>1</td>\n",
       "      <td>2767052</td>\n",
       "      <td>2767052</td>\n",
       "      <td>2792775</td>\n",
       "      <td>272</td>\n",
       "      <td>439023483</td>\n",
       "      <td>9.780439e+12</td>\n",
       "      <td>Suzanne Collins</td>\n",
       "      <td>2008.0</td>\n",
       "      <td>The Hunger Games</td>\n",
       "      <td>...</td>\n",
       "      <td>127936</td>\n",
       "      <td>560092</td>\n",
       "      <td>1481305</td>\n",
       "      <td>2706317</td>\n",
       "      <td>https://images.gr-assets.com/books/1447303603m...</td>\n",
       "      <td>https://images.gr-assets.com/books/1447303603s...</td>\n",
       "      <td>2767052</td>\n",
       "      <td>33114</td>\n",
       "      <td>25968</td>\n",
       "      <td>young-adult</td>\n",
       "    </tr>\n",
       "  </tbody>\n",
       "</table>\n",
       "<p>5 rows × 27 columns</p>\n",
       "</div>"
      ],
      "text/plain": [
       "   id  book_id  best_book_id  work_id  books_count       isbn        isbn13  \\\n",
       "0   1  2767052       2767052  2792775          272  439023483  9.780439e+12   \n",
       "1   1  2767052       2767052  2792775          272  439023483  9.780439e+12   \n",
       "2   1  2767052       2767052  2792775          272  439023483  9.780439e+12   \n",
       "3   1  2767052       2767052  2792775          272  439023483  9.780439e+12   \n",
       "4   1  2767052       2767052  2792775          272  439023483  9.780439e+12   \n",
       "\n",
       "           authors  original_publication_year    original_title  ...  \\\n",
       "0  Suzanne Collins                     2008.0  The Hunger Games  ...   \n",
       "1  Suzanne Collins                     2008.0  The Hunger Games  ...   \n",
       "2  Suzanne Collins                     2008.0  The Hunger Games  ...   \n",
       "3  Suzanne Collins                     2008.0  The Hunger Games  ...   \n",
       "4  Suzanne Collins                     2008.0  The Hunger Games  ...   \n",
       "\n",
       "  ratings_2 ratings_3  ratings_4  ratings_5  \\\n",
       "0    127936    560092    1481305    2706317   \n",
       "1    127936    560092    1481305    2706317   \n",
       "2    127936    560092    1481305    2706317   \n",
       "3    127936    560092    1481305    2706317   \n",
       "4    127936    560092    1481305    2706317   \n",
       "\n",
       "                                           image_url  \\\n",
       "0  https://images.gr-assets.com/books/1447303603m...   \n",
       "1  https://images.gr-assets.com/books/1447303603m...   \n",
       "2  https://images.gr-assets.com/books/1447303603m...   \n",
       "3  https://images.gr-assets.com/books/1447303603m...   \n",
       "4  https://images.gr-assets.com/books/1447303603m...   \n",
       "\n",
       "                                     small_image_url  goodreads_book_id  \\\n",
       "0  https://images.gr-assets.com/books/1447303603s...            2767052   \n",
       "1  https://images.gr-assets.com/books/1447303603s...            2767052   \n",
       "2  https://images.gr-assets.com/books/1447303603s...            2767052   \n",
       "3  https://images.gr-assets.com/books/1447303603s...            2767052   \n",
       "4  https://images.gr-assets.com/books/1447303603s...            2767052   \n",
       "\n",
       "   tag_id  count           tag_name  \n",
       "0   30574  11314            to-read  \n",
       "1   11305  10836            fantasy  \n",
       "2   11557  50755          favorites  \n",
       "3    8717  35418  currently-reading  \n",
       "4   33114  25968        young-adult  \n",
       "\n",
       "[5 rows x 27 columns]"
      ]
     },
     "execution_count": 23,
     "metadata": {},
     "output_type": "execute_result"
    }
   ],
   "source": [
    "books_with_tags = pd.merge(books, tags_join_DF, left_on='book_id',\n",
    "                          right_on='goodreads_book_id', how='inner')\n",
    "books_with_tags.head()"
   ]
  },
  {
   "cell_type": "markdown",
   "id": "48723bbe",
   "metadata": {},
   "source": [
    "### 이번에는 tag로 Tfidf"
   ]
  },
  {
   "cell_type": "code",
   "execution_count": 25,
   "id": "d8b0e154",
   "metadata": {
    "ExecuteTime": {
     "end_time": "2021-12-06T11:16:53.897614Z",
     "start_time": "2021-12-06T11:16:53.657887Z"
    }
   },
   "outputs": [],
   "source": [
    "tf1 = TfidfVectorizer(analyzer='word', ngram_range=(1, 2),\n",
    "                     min_df=0, stop_words='english')\n",
    "tfidf_matrix1 = tf1.fit_transform(books_with_tags['tag_name'].head(10000))\n",
    "cosine_sim1 = linear_kernel(tfidf_matrix1, tfidf_matrix1)"
   ]
  },
  {
   "cell_type": "markdown",
   "id": "98216914",
   "metadata": {},
   "source": [
    "### 추천책을 반환하는 함수"
   ]
  },
  {
   "cell_type": "code",
   "execution_count": 26,
   "id": "a97fb6c3",
   "metadata": {
    "ExecuteTime": {
     "end_time": "2021-12-06T11:21:05.785634Z",
     "start_time": "2021-12-06T11:21:05.771561Z"
    }
   },
   "outputs": [],
   "source": [
    "titles1 = books['title']\n",
    "indices1 = pd.Series(books.index, index=books['title'])\n",
    "\n",
    "def tags_recommendations(title):\n",
    "    idx = indices1[title]\n",
    "    sim_scores = list(enumerate(cosine_sim1[idx]))\n",
    "    sim_scores = sorted(sim_scores, key=lambda x: -x[1])\n",
    "    sim_scores = sim_scores[1:11]\n",
    "    book_indices = [i[0] for i in sim_scores]\n",
    "    return titles.iloc[book_indices]"
   ]
  },
  {
   "cell_type": "markdown",
   "id": "da3899b3",
   "metadata": {},
   "source": [
    "### 태그로 찾아본 The Hobbits와 유사책"
   ]
  },
  {
   "cell_type": "code",
   "execution_count": 28,
   "id": "5f27151c",
   "metadata": {
    "ExecuteTime": {
     "end_time": "2021-12-06T11:21:49.512646Z",
     "start_time": "2021-12-06T11:21:49.498647Z"
    }
   },
   "outputs": [
    {
     "data": {
      "text/plain": [
       "16             Catching Fire (The Hunger Games, #2)\n",
       "31                                  Of Mice and Men\n",
       "107    Confessions of a Shopaholic (Shopaholic, #1)\n",
       "125                       Dune (Dune Chronicles #1)\n",
       "149                                    The Red Tent\n",
       "206          One for the Money (Stephanie Plum, #1)\n",
       "214                                Ready Player One\n",
       "231             The Gunslinger (The Dark Tower, #1)\n",
       "253          Shiver (The Wolves of Mercy Falls, #1)\n",
       "313                         Inkheart (Inkworld, #1)\n",
       "Name: title, dtype: object"
      ]
     },
     "execution_count": 28,
     "metadata": {},
     "output_type": "execute_result"
    }
   ],
   "source": [
    "tags_recommendations('The Hobbit').head(20)"
   ]
  },
  {
   "cell_type": "markdown",
   "id": "45944dc3",
   "metadata": {},
   "source": [
    "### 임시로 book id마다 tag를 붙이고"
   ]
  },
  {
   "cell_type": "code",
   "execution_count": 29,
   "id": "307122d9",
   "metadata": {
    "ExecuteTime": {
     "end_time": "2021-12-06T11:23:43.606978Z",
     "start_time": "2021-12-06T11:23:43.393932Z"
    }
   },
   "outputs": [
    {
     "data": {
      "text/html": [
       "<div>\n",
       "<style scoped>\n",
       "    .dataframe tbody tr th:only-of-type {\n",
       "        vertical-align: middle;\n",
       "    }\n",
       "\n",
       "    .dataframe tbody tr th {\n",
       "        vertical-align: top;\n",
       "    }\n",
       "\n",
       "    .dataframe thead th {\n",
       "        text-align: right;\n",
       "    }\n",
       "</style>\n",
       "<table border=\"1\" class=\"dataframe\">\n",
       "  <thead>\n",
       "    <tr style=\"text-align: right;\">\n",
       "      <th></th>\n",
       "      <th>book_id</th>\n",
       "      <th>tag_name</th>\n",
       "    </tr>\n",
       "  </thead>\n",
       "  <tbody>\n",
       "    <tr>\n",
       "      <th>0</th>\n",
       "      <td>1</td>\n",
       "      <td>to-read fantasy favorites currently-reading yo...</td>\n",
       "    </tr>\n",
       "    <tr>\n",
       "      <th>1</th>\n",
       "      <td>2</td>\n",
       "      <td>to-read fantasy favorites currently-reading yo...</td>\n",
       "    </tr>\n",
       "    <tr>\n",
       "      <th>2</th>\n",
       "      <td>3</td>\n",
       "      <td>to-read fantasy favorites currently-reading yo...</td>\n",
       "    </tr>\n",
       "    <tr>\n",
       "      <th>3</th>\n",
       "      <td>5</td>\n",
       "      <td>to-read fantasy favorites currently-reading yo...</td>\n",
       "    </tr>\n",
       "    <tr>\n",
       "      <th>4</th>\n",
       "      <td>6</td>\n",
       "      <td>to-read fantasy young-adult fiction harry-pott...</td>\n",
       "    </tr>\n",
       "  </tbody>\n",
       "</table>\n",
       "</div>"
      ],
      "text/plain": [
       "   book_id                                           tag_name\n",
       "0        1  to-read fantasy favorites currently-reading yo...\n",
       "1        2  to-read fantasy favorites currently-reading yo...\n",
       "2        3  to-read fantasy favorites currently-reading yo...\n",
       "3        5  to-read fantasy favorites currently-reading yo...\n",
       "4        6  to-read fantasy young-adult fiction harry-pott..."
      ]
     },
     "execution_count": 29,
     "metadata": {},
     "output_type": "execute_result"
    }
   ],
   "source": [
    "temp_df = books_with_tags.groupby('book_id')['tag_name'].apply(' '.join).reset_index()\n",
    "temp_df.head()"
   ]
  },
  {
   "cell_type": "markdown",
   "id": "dbf97a4d",
   "metadata": {},
   "source": [
    "### books에 합침"
   ]
  },
  {
   "cell_type": "code",
   "execution_count": 30,
   "id": "8ba0f979",
   "metadata": {
    "ExecuteTime": {
     "end_time": "2021-12-06T11:48:21.686096Z",
     "start_time": "2021-12-06T11:48:21.653066Z"
    }
   },
   "outputs": [
    {
     "data": {
      "text/html": [
       "<div>\n",
       "<style scoped>\n",
       "    .dataframe tbody tr th:only-of-type {\n",
       "        vertical-align: middle;\n",
       "    }\n",
       "\n",
       "    .dataframe tbody tr th {\n",
       "        vertical-align: top;\n",
       "    }\n",
       "\n",
       "    .dataframe thead th {\n",
       "        text-align: right;\n",
       "    }\n",
       "</style>\n",
       "<table border=\"1\" class=\"dataframe\">\n",
       "  <thead>\n",
       "    <tr style=\"text-align: right;\">\n",
       "      <th></th>\n",
       "      <th>id</th>\n",
       "      <th>book_id</th>\n",
       "      <th>best_book_id</th>\n",
       "      <th>work_id</th>\n",
       "      <th>books_count</th>\n",
       "      <th>isbn</th>\n",
       "      <th>isbn13</th>\n",
       "      <th>authors</th>\n",
       "      <th>original_publication_year</th>\n",
       "      <th>original_title</th>\n",
       "      <th>...</th>\n",
       "      <th>work_ratings_count</th>\n",
       "      <th>work_text_reviews_count</th>\n",
       "      <th>ratings_1</th>\n",
       "      <th>ratings_2</th>\n",
       "      <th>ratings_3</th>\n",
       "      <th>ratings_4</th>\n",
       "      <th>ratings_5</th>\n",
       "      <th>image_url</th>\n",
       "      <th>small_image_url</th>\n",
       "      <th>tag_name</th>\n",
       "    </tr>\n",
       "  </thead>\n",
       "  <tbody>\n",
       "    <tr>\n",
       "      <th>0</th>\n",
       "      <td>1</td>\n",
       "      <td>2767052</td>\n",
       "      <td>2767052</td>\n",
       "      <td>2792775</td>\n",
       "      <td>272</td>\n",
       "      <td>439023483</td>\n",
       "      <td>9.780439e+12</td>\n",
       "      <td>Suzanne Collins</td>\n",
       "      <td>2008.0</td>\n",
       "      <td>The Hunger Games</td>\n",
       "      <td>...</td>\n",
       "      <td>4942365</td>\n",
       "      <td>155254</td>\n",
       "      <td>66715</td>\n",
       "      <td>127936</td>\n",
       "      <td>560092</td>\n",
       "      <td>1481305</td>\n",
       "      <td>2706317</td>\n",
       "      <td>https://images.gr-assets.com/books/1447303603m...</td>\n",
       "      <td>https://images.gr-assets.com/books/1447303603s...</td>\n",
       "      <td>to-read fantasy favorites currently-reading yo...</td>\n",
       "    </tr>\n",
       "    <tr>\n",
       "      <th>1</th>\n",
       "      <td>2</td>\n",
       "      <td>3</td>\n",
       "      <td>3</td>\n",
       "      <td>4640799</td>\n",
       "      <td>491</td>\n",
       "      <td>439554934</td>\n",
       "      <td>9.780440e+12</td>\n",
       "      <td>J.K. Rowling, Mary GrandPrÃ©</td>\n",
       "      <td>1997.0</td>\n",
       "      <td>Harry Potter and the Philosopher's Stone</td>\n",
       "      <td>...</td>\n",
       "      <td>4800065</td>\n",
       "      <td>75867</td>\n",
       "      <td>75504</td>\n",
       "      <td>101676</td>\n",
       "      <td>455024</td>\n",
       "      <td>1156318</td>\n",
       "      <td>3011543</td>\n",
       "      <td>https://images.gr-assets.com/books/1474154022m...</td>\n",
       "      <td>https://images.gr-assets.com/books/1474154022s...</td>\n",
       "      <td>to-read fantasy favorites currently-reading yo...</td>\n",
       "    </tr>\n",
       "    <tr>\n",
       "      <th>2</th>\n",
       "      <td>3</td>\n",
       "      <td>41865</td>\n",
       "      <td>41865</td>\n",
       "      <td>3212258</td>\n",
       "      <td>226</td>\n",
       "      <td>316015849</td>\n",
       "      <td>9.780316e+12</td>\n",
       "      <td>Stephenie Meyer</td>\n",
       "      <td>2005.0</td>\n",
       "      <td>Twilight</td>\n",
       "      <td>...</td>\n",
       "      <td>3916824</td>\n",
       "      <td>95009</td>\n",
       "      <td>456191</td>\n",
       "      <td>436802</td>\n",
       "      <td>793319</td>\n",
       "      <td>875073</td>\n",
       "      <td>1355439</td>\n",
       "      <td>https://images.gr-assets.com/books/1361039443m...</td>\n",
       "      <td>https://images.gr-assets.com/books/1361039443s...</td>\n",
       "      <td>to-read fantasy favorites currently-reading yo...</td>\n",
       "    </tr>\n",
       "    <tr>\n",
       "      <th>3</th>\n",
       "      <td>4</td>\n",
       "      <td>2657</td>\n",
       "      <td>2657</td>\n",
       "      <td>3275794</td>\n",
       "      <td>487</td>\n",
       "      <td>61120081</td>\n",
       "      <td>9.780061e+12</td>\n",
       "      <td>Harper Lee</td>\n",
       "      <td>1960.0</td>\n",
       "      <td>To Kill a Mockingbird</td>\n",
       "      <td>...</td>\n",
       "      <td>3340896</td>\n",
       "      <td>72586</td>\n",
       "      <td>60427</td>\n",
       "      <td>117415</td>\n",
       "      <td>446835</td>\n",
       "      <td>1001952</td>\n",
       "      <td>1714267</td>\n",
       "      <td>https://images.gr-assets.com/books/1361975680m...</td>\n",
       "      <td>https://images.gr-assets.com/books/1361975680s...</td>\n",
       "      <td>to-read favorites currently-reading young-adul...</td>\n",
       "    </tr>\n",
       "    <tr>\n",
       "      <th>4</th>\n",
       "      <td>5</td>\n",
       "      <td>4671</td>\n",
       "      <td>4671</td>\n",
       "      <td>245494</td>\n",
       "      <td>1356</td>\n",
       "      <td>743273567</td>\n",
       "      <td>9.780743e+12</td>\n",
       "      <td>F. Scott Fitzgerald</td>\n",
       "      <td>1925.0</td>\n",
       "      <td>The Great Gatsby</td>\n",
       "      <td>...</td>\n",
       "      <td>2773745</td>\n",
       "      <td>51992</td>\n",
       "      <td>86236</td>\n",
       "      <td>197621</td>\n",
       "      <td>606158</td>\n",
       "      <td>936012</td>\n",
       "      <td>947718</td>\n",
       "      <td>https://images.gr-assets.com/books/1490528560m...</td>\n",
       "      <td>https://images.gr-assets.com/books/1490528560s...</td>\n",
       "      <td>to-read favorites currently-reading young-adul...</td>\n",
       "    </tr>\n",
       "  </tbody>\n",
       "</table>\n",
       "<p>5 rows × 24 columns</p>\n",
       "</div>"
      ],
      "text/plain": [
       "   id  book_id  best_book_id  work_id  books_count       isbn        isbn13  \\\n",
       "0   1  2767052       2767052  2792775          272  439023483  9.780439e+12   \n",
       "1   2        3             3  4640799          491  439554934  9.780440e+12   \n",
       "2   3    41865         41865  3212258          226  316015849  9.780316e+12   \n",
       "3   4     2657          2657  3275794          487   61120081  9.780061e+12   \n",
       "4   5     4671          4671   245494         1356  743273567  9.780743e+12   \n",
       "\n",
       "                        authors  original_publication_year  \\\n",
       "0               Suzanne Collins                     2008.0   \n",
       "1  J.K. Rowling, Mary GrandPrÃ©                     1997.0   \n",
       "2               Stephenie Meyer                     2005.0   \n",
       "3                    Harper Lee                     1960.0   \n",
       "4           F. Scott Fitzgerald                     1925.0   \n",
       "\n",
       "                             original_title  ... work_ratings_count  \\\n",
       "0                          The Hunger Games  ...            4942365   \n",
       "1  Harry Potter and the Philosopher's Stone  ...            4800065   \n",
       "2                                  Twilight  ...            3916824   \n",
       "3                     To Kill a Mockingbird  ...            3340896   \n",
       "4                          The Great Gatsby  ...            2773745   \n",
       "\n",
       "  work_text_reviews_count  ratings_1  ratings_2  ratings_3  ratings_4  \\\n",
       "0                  155254      66715     127936     560092    1481305   \n",
       "1                   75867      75504     101676     455024    1156318   \n",
       "2                   95009     456191     436802     793319     875073   \n",
       "3                   72586      60427     117415     446835    1001952   \n",
       "4                   51992      86236     197621     606158     936012   \n",
       "\n",
       "   ratings_5                                          image_url  \\\n",
       "0    2706317  https://images.gr-assets.com/books/1447303603m...   \n",
       "1    3011543  https://images.gr-assets.com/books/1474154022m...   \n",
       "2    1355439  https://images.gr-assets.com/books/1361039443m...   \n",
       "3    1714267  https://images.gr-assets.com/books/1361975680m...   \n",
       "4     947718  https://images.gr-assets.com/books/1490528560m...   \n",
       "\n",
       "                                     small_image_url  \\\n",
       "0  https://images.gr-assets.com/books/1447303603s...   \n",
       "1  https://images.gr-assets.com/books/1474154022s...   \n",
       "2  https://images.gr-assets.com/books/1361039443s...   \n",
       "3  https://images.gr-assets.com/books/1361975680s...   \n",
       "4  https://images.gr-assets.com/books/1490528560s...   \n",
       "\n",
       "                                            tag_name  \n",
       "0  to-read fantasy favorites currently-reading yo...  \n",
       "1  to-read fantasy favorites currently-reading yo...  \n",
       "2  to-read fantasy favorites currently-reading yo...  \n",
       "3  to-read favorites currently-reading young-adul...  \n",
       "4  to-read favorites currently-reading young-adul...  \n",
       "\n",
       "[5 rows x 24 columns]"
      ]
     },
     "execution_count": 30,
     "metadata": {},
     "output_type": "execute_result"
    }
   ],
   "source": [
    "books = pd.merge(books, temp_df, left_on='book_id', right_on='book_id', how='inner')\n",
    "books.head()"
   ]
  },
  {
   "cell_type": "markdown",
   "id": "122e4116",
   "metadata": {},
   "source": [
    "### 저자이름과 태그를 합치고"
   ]
  },
  {
   "cell_type": "code",
   "execution_count": 31,
   "id": "f597c58c",
   "metadata": {
    "ExecuteTime": {
     "end_time": "2021-12-06T11:50:23.518810Z",
     "start_time": "2021-12-06T11:50:23.487537Z"
    }
   },
   "outputs": [
    {
     "data": {
      "text/plain": [
       "0    Suzanne Collins to-read fantasy favorites curr...\n",
       "1    J.K. Rowling, Mary GrandPrÃ© to-read fantasy f...\n",
       "2    Stephenie Meyer to-read fantasy favorites curr...\n",
       "Name: corpus, dtype: object"
      ]
     },
     "execution_count": 31,
     "metadata": {},
     "output_type": "execute_result"
    }
   ],
   "source": [
    "books['corpus'] = (pd.Series(books[['authors', 'tag_name']]\n",
    "                            .fillna('')\n",
    "                            .values.tolist()\n",
    "                            ).str.join(' '))\n",
    "books['corpus'][:3]"
   ]
  },
  {
   "cell_type": "markdown",
   "id": "b283895e",
   "metadata": {},
   "source": [
    "### Tfidf를 수행"
   ]
  },
  {
   "cell_type": "code",
   "execution_count": 34,
   "id": "ddc0c5de",
   "metadata": {
    "ExecuteTime": {
     "end_time": "2021-12-06T12:13:33.590935Z",
     "start_time": "2021-12-06T12:13:23.655874Z"
    }
   },
   "outputs": [],
   "source": [
    "tf_corpus = TfidfVectorizer(analyzer='word', ngram_range=(1, 2), min_df=0, stop_words='english')\n",
    "tfidf_matrix_corpus = tf_corpus.fit_transform(books['corpus'])\n",
    "cosine_sim_corpus = linear_kernel(tfidf_matrix_corpus, tfidf_matrix_corpus)\n",
    "\n",
    "titles = books['title']\n",
    "indices = pd.Series(books.index, index=books['title'])"
   ]
  },
  {
   "cell_type": "markdown",
   "id": "150e0bd0",
   "metadata": {},
   "source": [
    "### 추천 함수 생성"
   ]
  },
  {
   "cell_type": "code",
   "execution_count": 35,
   "id": "aed1e47b",
   "metadata": {
    "ExecuteTime": {
     "end_time": "2021-12-06T12:14:45.398922Z",
     "start_time": "2021-12-06T12:14:45.387909Z"
    }
   },
   "outputs": [],
   "source": [
    "def corpus_recommendations(title):\n",
    "    idx = indices1[title]\n",
    "    sim_scores = list(enumerate(cosine_sim_corpus[idx]))\n",
    "    sim_scores = sorted(sim_scores, key=lambda x: -x[1])\n",
    "    sim_scores = sim_scores[1:11]\n",
    "    book_indices = [i[0] for i in sim_scores]\n",
    "    return titles.iloc[book_indices]"
   ]
  },
  {
   "cell_type": "markdown",
   "id": "85d97ce0",
   "metadata": {},
   "source": [
    "### Hobbit과 비슷한 것은"
   ]
  },
  {
   "cell_type": "code",
   "execution_count": 36,
   "id": "5cc96607",
   "metadata": {
    "ExecuteTime": {
     "end_time": "2021-12-06T12:15:15.092497Z",
     "start_time": "2021-12-06T12:15:15.070598Z"
    }
   },
   "outputs": [
    {
     "data": {
      "text/plain": [
       "188     The Lord of the Rings (The Lord of the Rings, ...\n",
       "154            The Two Towers (The Lord of the Rings, #2)\n",
       "160     The Return of the King (The Lord of the Rings,...\n",
       "18      The Fellowship of the Ring (The Lord of the Ri...\n",
       "610              The Silmarillion (Middle-Earth Universe)\n",
       "4975        Unfinished Tales of NÃºmenor and Middle-Earth\n",
       "2308                               The Children of HÃºrin\n",
       "963     J.R.R. Tolkien 4-Book Boxed Set: The Hobbit an...\n",
       "465                             The Hobbit: Graphic Novel\n",
       "8271                   The Complete Guide to Middle-Earth\n",
       "Name: title, dtype: object"
      ]
     },
     "execution_count": 36,
     "metadata": {},
     "output_type": "execute_result"
    }
   ],
   "source": [
    "corpus_recommendations('The Hobbit')"
   ]
  },
  {
   "cell_type": "markdown",
   "id": "7bdce7c8",
   "metadata": {},
   "source": [
    "### Twilight"
   ]
  },
  {
   "cell_type": "code",
   "execution_count": 37,
   "id": "030842ac",
   "metadata": {
    "ExecuteTime": {
     "end_time": "2021-12-06T12:16:19.861756Z",
     "start_time": "2021-12-06T12:16:19.841790Z"
    }
   },
   "outputs": [
    {
     "data": {
      "text/plain": [
       "51                                 Eclipse (Twilight, #3)\n",
       "48                                New Moon (Twilight, #2)\n",
       "991                    The Twilight Saga (Twilight, #1-4)\n",
       "833                         Midnight Sun (Twilight, #1.5)\n",
       "731     The Short Second Life of Bree Tanner: An Eclip...\n",
       "1618    The Twilight Saga Complete Collection  (Twilig...\n",
       "4087    The Twilight Saga: The Official Illustrated Gu...\n",
       "2020             The Twilight Collection (Twilight, #1-3)\n",
       "72                                The Host (The Host, #1)\n",
       "219     Twilight: The Complete Illustrated Movie Compa...\n",
       "Name: title, dtype: object"
      ]
     },
     "execution_count": 37,
     "metadata": {},
     "output_type": "execute_result"
    }
   ],
   "source": [
    "corpus_recommendations('Twilight (Twilight, #1)')"
   ]
  },
  {
   "cell_type": "markdown",
   "id": "e6f3c2ba",
   "metadata": {},
   "source": [
    "### Romeo and Juliet"
   ]
  },
  {
   "cell_type": "code",
   "execution_count": 38,
   "id": "52d490f9",
   "metadata": {
    "ExecuteTime": {
     "end_time": "2021-12-06T12:17:15.471012Z",
     "start_time": "2021-12-06T12:17:15.452012Z"
    }
   },
   "outputs": [
    {
     "data": {
      "text/plain": [
       "352                      Othello\n",
       "769                Julius Caesar\n",
       "124                       Hamlet\n",
       "153                      Macbeth\n",
       "247    A Midsummer Night's Dream\n",
       "838       The Merchant of Venice\n",
       "854                Twelfth Night\n",
       "529       Much Ado About Nothing\n",
       "713                    King Lear\n",
       "772      The Taming of the Shrew\n",
       "Name: title, dtype: object"
      ]
     },
     "execution_count": 38,
     "metadata": {},
     "output_type": "execute_result"
    }
   ],
   "source": [
    "corpus_recommendations('Romeo and Juliet')"
   ]
  }
 ],
 "metadata": {
  "kernelspec": {
   "display_name": "Python 3 (ipykernel)",
   "language": "python",
   "name": "python3"
  },
  "language_info": {
   "codemirror_mode": {
    "name": "ipython",
    "version": 3
   },
   "file_extension": ".py",
   "mimetype": "text/x-python",
   "name": "python",
   "nbconvert_exporter": "python",
   "pygments_lexer": "ipython3",
   "version": "3.9.7"
  },
  "toc": {
   "base_numbering": 1,
   "nav_menu": {},
   "number_sections": true,
   "sideBar": true,
   "skip_h1_title": false,
   "title_cell": "Table of Contents",
   "title_sidebar": "Contents",
   "toc_cell": false,
   "toc_position": {},
   "toc_section_display": true,
   "toc_window_display": false
  }
 },
 "nbformat": 4,
 "nbformat_minor": 5
}
