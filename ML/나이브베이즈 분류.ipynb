{
 "cells": [
  {
   "cell_type": "markdown",
   "source": [
    "## Naive Bayes Classifier"
   ],
   "metadata": {}
  },
  {
   "cell_type": "markdown",
   "source": [
    "### 나이브 베이즈 분류\r\n",
    "- 기계 학습분야에서, 나이브 베이즈 분류는 특성들 사이의 독립을 가정하는 베이즈 정리를 적용한 확률 분류기의 일종이다.\r\n",
    "- 자동 의료 진단 분야에서의 응용사례를 보면, 적절한 전처리를 하면 더 진보된 방법들 (ex. 서포트 벡터 머신)과도 충분한 경쟁력을 보임을 알 수 있다."
   ],
   "metadata": {}
  },
  {
   "cell_type": "code",
   "execution_count": 1,
   "source": [
    "from nltk.tokenize import word_tokenize\r\n",
    "import nltk"
   ],
   "outputs": [],
   "metadata": {}
  },
  {
   "cell_type": "markdown",
   "source": [
    "- 영어로 먼저 실습"
   ],
   "metadata": {}
  },
  {
   "cell_type": "code",
   "execution_count": 2,
   "source": [
    "train = [\r\n",
    "    ('i like you', 'pos'),\r\n",
    "    ('i hate you', 'neg'),\r\n",
    "    ('you like me', 'neg'),\r\n",
    "    ('i like her', 'pos'),\r\n",
    "]"
   ],
   "outputs": [],
   "metadata": {}
  },
  {
   "cell_type": "markdown",
   "source": [
    "- Naive Bayes 분류기는 지도학습이라서 정답을 알려주어야 한다"
   ],
   "metadata": {}
  },
  {
   "cell_type": "code",
   "execution_count": 8,
   "source": [
    "train[0][0]"
   ],
   "outputs": [
    {
     "output_type": "execute_result",
     "data": {
      "text/plain": [
       "'i like you'"
      ]
     },
     "metadata": {},
     "execution_count": 8
    }
   ],
   "metadata": {}
  },
  {
   "cell_type": "code",
   "execution_count": 6,
   "source": [
    "sentence = train[0]\r\n",
    "word_tokenize(sentence[0])"
   ],
   "outputs": [
    {
     "output_type": "execute_result",
     "data": {
      "text/plain": [
       "['i', 'like', 'you']"
      ]
     },
     "metadata": {},
     "execution_count": 6
    }
   ],
   "metadata": {}
  },
  {
   "cell_type": "code",
   "execution_count": 4,
   "source": [
    "all_words = set(\r\n",
    "    word.lower() for sentence in train for word in word_tokenize(sentence[0])\r\n",
    ")"
   ],
   "outputs": [],
   "metadata": {}
  },
  {
   "cell_type": "code",
   "execution_count": 5,
   "source": [
    "all_words"
   ],
   "outputs": [
    {
     "output_type": "execute_result",
     "data": {
      "text/plain": [
       "{'hate', 'her', 'i', 'like', 'me', 'you'}"
      ]
     },
     "metadata": {},
     "execution_count": 5
    }
   ],
   "metadata": {}
  },
  {
   "cell_type": "markdown",
   "source": [
    "- 전체 말 뭉치를 만든다"
   ],
   "metadata": {}
  },
  {
   "cell_type": "code",
   "execution_count": 9,
   "source": [
    "t = [({word: (word in word_tokenize(x[0])) for word in all_words}, x[1]) for x in train]\r\n",
    "t"
   ],
   "outputs": [
    {
     "output_type": "execute_result",
     "data": {
      "text/plain": [
       "[({'like': True,\n",
       "   'me': False,\n",
       "   'i': True,\n",
       "   'hate': False,\n",
       "   'you': True,\n",
       "   'her': False},\n",
       "  'pos'),\n",
       " ({'like': False,\n",
       "   'me': False,\n",
       "   'i': True,\n",
       "   'hate': True,\n",
       "   'you': True,\n",
       "   'her': False},\n",
       "  'neg'),\n",
       " ({'like': True,\n",
       "   'me': True,\n",
       "   'i': False,\n",
       "   'hate': False,\n",
       "   'you': True,\n",
       "   'her': False},\n",
       "  'neg'),\n",
       " ({'like': True,\n",
       "   'me': False,\n",
       "   'i': True,\n",
       "   'hate': False,\n",
       "   'you': False,\n",
       "   'her': True},\n",
       "  'pos')]"
      ]
     },
     "metadata": {},
     "execution_count": 9
    }
   ],
   "metadata": {}
  },
  {
   "cell_type": "markdown",
   "source": [
    "- 말 뭉치 대비해서 단어가 있고 없음을 표기한다"
   ],
   "metadata": {}
  },
  {
   "cell_type": "code",
   "execution_count": 10,
   "source": [
    "classifier = nltk.NaiveBayesClassifier.train(t)\r\n",
    "classifier.show_most_informative_features()"
   ],
   "outputs": [
    {
     "output_type": "stream",
     "name": "stdout",
     "text": [
      "Most Informative Features\n",
      "                    hate = False             pos : neg    =      1.7 : 1.0\n",
      "                     her = False             neg : pos    =      1.7 : 1.0\n",
      "                       i = True              pos : neg    =      1.7 : 1.0\n",
      "                    like = True              pos : neg    =      1.7 : 1.0\n",
      "                      me = False             pos : neg    =      1.7 : 1.0\n",
      "                     you = True              neg : pos    =      1.7 : 1.0\n"
     ]
    }
   ],
   "metadata": {}
  },
  {
   "cell_type": "markdown",
   "source": [
    "- Naive Bayes 분류가 훈련을 시작했다\r\n",
    "- like가 있을 때, Positive할 확률이 1.7:1.0 이다\r\n",
    "- 이렇게 각 단어별로 독립적으로 확률을 계산하기 때문에 naive하다고 한다"
   ],
   "metadata": {}
  },
  {
   "cell_type": "code",
   "execution_count": 11,
   "source": [
    "test_sentence = 'i like MeRui'\r\n",
    "test_sent_features = {\r\n",
    "    word.lower(): (word in word_tokenize(test_sentence.lower())) for word in all_words\r\n",
    "}"
   ],
   "outputs": [],
   "metadata": {}
  },
  {
   "cell_type": "code",
   "execution_count": 12,
   "source": [
    "test_sent_features"
   ],
   "outputs": [
    {
     "output_type": "execute_result",
     "data": {
      "text/plain": [
       "{'like': True,\n",
       " 'me': False,\n",
       " 'i': True,\n",
       " 'hate': False,\n",
       " 'you': False,\n",
       " 'her': False}"
      ]
     },
     "metadata": {},
     "execution_count": 12
    }
   ],
   "metadata": {}
  },
  {
   "cell_type": "markdown",
   "source": [
    "- 학습 결과를 가지고 테스트 해보자"
   ],
   "metadata": {}
  },
  {
   "cell_type": "code",
   "execution_count": 13,
   "source": [
    "classifier.classify(test_sent_features)"
   ],
   "outputs": [
    {
     "output_type": "execute_result",
     "data": {
      "text/plain": [
       "'pos'"
      ]
     },
     "metadata": {},
     "execution_count": 13
    }
   ],
   "metadata": {}
  },
  {
   "cell_type": "markdown",
   "source": [
    "- 결과가 positive 이다"
   ],
   "metadata": {}
  },
  {
   "cell_type": "markdown",
   "source": [
    "### 한글로 실습"
   ],
   "metadata": {}
  },
  {
   "cell_type": "code",
   "execution_count": 14,
   "source": [
    "from konlpy.tag import Okt"
   ],
   "outputs": [],
   "metadata": {}
  },
  {
   "cell_type": "code",
   "execution_count": 15,
   "source": [
    "pos_tagger = Okt()"
   ],
   "outputs": [],
   "metadata": {}
  },
  {
   "cell_type": "code",
   "execution_count": 16,
   "source": [
    "train = [\r\n",
    "    ('메리가 좋아', 'pos'),\r\n",
    "    ('고양이도 좋아', 'pos'),\r\n",
    "    ('난 수업이 지루해', 'neg'),\r\n",
    "    ('메리는 이쁜 고양이야', 'pos'),\r\n",
    "    ('난 마치고 메리랑 놀거야', 'pos'),\r\n",
    "]"
   ],
   "outputs": [],
   "metadata": {}
  },
  {
   "cell_type": "markdown",
   "source": [
    "- 정답을 알고 있는 문장으로 훈련용 데이터를 주자"
   ],
   "metadata": {}
  },
  {
   "cell_type": "code",
   "execution_count": 17,
   "source": [
    "all_words = set(\r\n",
    "    word.lower() for sentence in train for word in word_tokenize(sentence[0])\r\n",
    ")"
   ],
   "outputs": [],
   "metadata": {}
  },
  {
   "cell_type": "code",
   "execution_count": 18,
   "source": [
    "all_words"
   ],
   "outputs": [
    {
     "output_type": "execute_result",
     "data": {
      "text/plain": [
       "{'고양이도',\n",
       " '고양이야',\n",
       " '난',\n",
       " '놀거야',\n",
       " '마치고',\n",
       " '메리가',\n",
       " '메리는',\n",
       " '메리랑',\n",
       " '수업이',\n",
       " '이쁜',\n",
       " '좋아',\n",
       " '지루해'}"
      ]
     },
     "metadata": {},
     "execution_count": 18
    }
   ],
   "metadata": {}
  },
  {
   "cell_type": "markdown",
   "source": [
    "- 전체 말뭉치를 만듦\r\n",
    "- 메리가, 메리는, 메리랑을 모두 다른 단어로 인식한다"
   ],
   "metadata": {}
  },
  {
   "cell_type": "code",
   "execution_count": 19,
   "source": [
    "t = [({word: (word in word_tokenize(x[0])) for word in all_words}, x[1]) for x in train]\r\n",
    "t"
   ],
   "outputs": [
    {
     "output_type": "execute_result",
     "data": {
      "text/plain": [
       "[({'지루해': False,\n",
       "   '고양이도': False,\n",
       "   '메리는': False,\n",
       "   '난': False,\n",
       "   '놀거야': False,\n",
       "   '메리가': True,\n",
       "   '수업이': False,\n",
       "   '메리랑': False,\n",
       "   '좋아': True,\n",
       "   '이쁜': False,\n",
       "   '마치고': False,\n",
       "   '고양이야': False},\n",
       "  'pos'),\n",
       " ({'지루해': False,\n",
       "   '고양이도': True,\n",
       "   '메리는': False,\n",
       "   '난': False,\n",
       "   '놀거야': False,\n",
       "   '메리가': False,\n",
       "   '수업이': False,\n",
       "   '메리랑': False,\n",
       "   '좋아': True,\n",
       "   '이쁜': False,\n",
       "   '마치고': False,\n",
       "   '고양이야': False},\n",
       "  'pos'),\n",
       " ({'지루해': True,\n",
       "   '고양이도': False,\n",
       "   '메리는': False,\n",
       "   '난': True,\n",
       "   '놀거야': False,\n",
       "   '메리가': False,\n",
       "   '수업이': True,\n",
       "   '메리랑': False,\n",
       "   '좋아': False,\n",
       "   '이쁜': False,\n",
       "   '마치고': False,\n",
       "   '고양이야': False},\n",
       "  'neg'),\n",
       " ({'지루해': False,\n",
       "   '고양이도': False,\n",
       "   '메리는': True,\n",
       "   '난': False,\n",
       "   '놀거야': False,\n",
       "   '메리가': False,\n",
       "   '수업이': False,\n",
       "   '메리랑': False,\n",
       "   '좋아': False,\n",
       "   '이쁜': True,\n",
       "   '마치고': False,\n",
       "   '고양이야': True},\n",
       "  'pos'),\n",
       " ({'지루해': False,\n",
       "   '고양이도': False,\n",
       "   '메리는': False,\n",
       "   '난': True,\n",
       "   '놀거야': True,\n",
       "   '메리가': False,\n",
       "   '수업이': False,\n",
       "   '메리랑': True,\n",
       "   '좋아': False,\n",
       "   '이쁜': False,\n",
       "   '마치고': True,\n",
       "   '고양이야': False},\n",
       "  'pos')]"
      ]
     },
     "metadata": {},
     "execution_count": 19
    }
   ],
   "metadata": {}
  },
  {
   "cell_type": "code",
   "execution_count": 20,
   "source": [
    "classifier = nltk.NaiveBayesClassifier.train(t)\r\n",
    "classifier.show_most_informative_features()"
   ],
   "outputs": [
    {
     "output_type": "stream",
     "name": "stdout",
     "text": [
      "Most Informative Features\n",
      "                       난 = True              neg : pos    =      2.5 : 1.0\n",
      "                      좋아 = False             neg : pos    =      1.5 : 1.0\n",
      "                    고양이도 = False             neg : pos    =      1.1 : 1.0\n",
      "                    고양이야 = False             neg : pos    =      1.1 : 1.0\n",
      "                     놀거야 = False             neg : pos    =      1.1 : 1.0\n",
      "                     마치고 = False             neg : pos    =      1.1 : 1.0\n",
      "                     메리가 = False             neg : pos    =      1.1 : 1.0\n",
      "                     메리는 = False             neg : pos    =      1.1 : 1.0\n",
      "                     메리랑 = False             neg : pos    =      1.1 : 1.0\n",
      "                      이쁜 = False             neg : pos    =      1.1 : 1.0\n"
     ]
    }
   ],
   "metadata": {}
  },
  {
   "cell_type": "markdown",
   "source": [
    "- 벌써부터 내가 원하는 대로 가지 않을 것 같은 느낌이 든다\r\n",
    "- 한글은 형태소 분석이 필수"
   ],
   "metadata": {}
  },
  {
   "cell_type": "code",
   "execution_count": 21,
   "source": [
    "def tokenize(doc):\r\n",
    "    return ['/'.join(t) for t in pos_tagger.pos(doc, norm=True, stem=True)]"
   ],
   "outputs": [],
   "metadata": {}
  },
  {
   "cell_type": "markdown",
   "source": [
    "- 형태소 분석을 한 후 품사를 단어 뒤에 붙여 넣도록 하자"
   ],
   "metadata": {}
  },
  {
   "cell_type": "code",
   "execution_count": 22,
   "source": [
    "train_docs = [(tokenize(row[0]), row[1]) for row in train]\r\n",
    "train_docs"
   ],
   "outputs": [
    {
     "output_type": "execute_result",
     "data": {
      "text/plain": [
       "[(['메리/Noun', '가/Josa', '좋다/Adjective'], 'pos'),\n",
       " (['고양이/Noun', '도/Josa', '좋다/Adjective'], 'pos'),\n",
       " (['난/Noun', '수업/Noun', '이/Josa', '지루하다/Adjective'], 'neg'),\n",
       " (['메리/Noun', '는/Josa', '이쁘다/Adjective', '고양이/Noun', '야/Josa'], 'pos'),\n",
       " (['난/Noun', '마치/Noun', '고/Josa', '메리/Noun', '랑/Josa', '놀다/Verb'], 'pos')]"
      ]
     },
     "metadata": {},
     "execution_count": 22
    }
   ],
   "metadata": {}
  },
  {
   "cell_type": "code",
   "execution_count": 24,
   "source": [
    "tokens = [t for d in train_docs for t in d[0]]\r\n",
    "tokens"
   ],
   "outputs": [
    {
     "output_type": "execute_result",
     "data": {
      "text/plain": [
       "['메리/Noun',\n",
       " '가/Josa',\n",
       " '좋다/Adjective',\n",
       " '고양이/Noun',\n",
       " '도/Josa',\n",
       " '좋다/Adjective',\n",
       " '난/Noun',\n",
       " '수업/Noun',\n",
       " '이/Josa',\n",
       " '지루하다/Adjective',\n",
       " '메리/Noun',\n",
       " '는/Josa',\n",
       " '이쁘다/Adjective',\n",
       " '고양이/Noun',\n",
       " '야/Josa',\n",
       " '난/Noun',\n",
       " '마치/Noun',\n",
       " '고/Josa',\n",
       " '메리/Noun',\n",
       " '랑/Josa',\n",
       " '놀다/Verb']"
      ]
     },
     "metadata": {},
     "execution_count": 24
    }
   ],
   "metadata": {}
  },
  {
   "cell_type": "markdown",
   "source": [
    "- 풀어서 말뭉치를 만듦"
   ],
   "metadata": {}
  },
  {
   "cell_type": "code",
   "execution_count": 25,
   "source": [
    "def term_exists(doc):\r\n",
    "    return {word: (word in set(doc)) for word in tokens}"
   ],
   "outputs": [],
   "metadata": {}
  },
  {
   "cell_type": "code",
   "execution_count": 26,
   "source": [
    "train_xy = [(term_exists(d), c) for d, c in train_docs]\r\n",
    "train_xy"
   ],
   "outputs": [
    {
     "output_type": "execute_result",
     "data": {
      "text/plain": [
       "[({'메리/Noun': True,\n",
       "   '가/Josa': True,\n",
       "   '좋다/Adjective': True,\n",
       "   '고양이/Noun': False,\n",
       "   '도/Josa': False,\n",
       "   '난/Noun': False,\n",
       "   '수업/Noun': False,\n",
       "   '이/Josa': False,\n",
       "   '지루하다/Adjective': False,\n",
       "   '는/Josa': False,\n",
       "   '이쁘다/Adjective': False,\n",
       "   '야/Josa': False,\n",
       "   '마치/Noun': False,\n",
       "   '고/Josa': False,\n",
       "   '랑/Josa': False,\n",
       "   '놀다/Verb': False},\n",
       "  'pos'),\n",
       " ({'메리/Noun': False,\n",
       "   '가/Josa': False,\n",
       "   '좋다/Adjective': True,\n",
       "   '고양이/Noun': True,\n",
       "   '도/Josa': True,\n",
       "   '난/Noun': False,\n",
       "   '수업/Noun': False,\n",
       "   '이/Josa': False,\n",
       "   '지루하다/Adjective': False,\n",
       "   '는/Josa': False,\n",
       "   '이쁘다/Adjective': False,\n",
       "   '야/Josa': False,\n",
       "   '마치/Noun': False,\n",
       "   '고/Josa': False,\n",
       "   '랑/Josa': False,\n",
       "   '놀다/Verb': False},\n",
       "  'pos'),\n",
       " ({'메리/Noun': False,\n",
       "   '가/Josa': False,\n",
       "   '좋다/Adjective': False,\n",
       "   '고양이/Noun': False,\n",
       "   '도/Josa': False,\n",
       "   '난/Noun': True,\n",
       "   '수업/Noun': True,\n",
       "   '이/Josa': True,\n",
       "   '지루하다/Adjective': True,\n",
       "   '는/Josa': False,\n",
       "   '이쁘다/Adjective': False,\n",
       "   '야/Josa': False,\n",
       "   '마치/Noun': False,\n",
       "   '고/Josa': False,\n",
       "   '랑/Josa': False,\n",
       "   '놀다/Verb': False},\n",
       "  'neg'),\n",
       " ({'메리/Noun': True,\n",
       "   '가/Josa': False,\n",
       "   '좋다/Adjective': False,\n",
       "   '고양이/Noun': True,\n",
       "   '도/Josa': False,\n",
       "   '난/Noun': False,\n",
       "   '수업/Noun': False,\n",
       "   '이/Josa': False,\n",
       "   '지루하다/Adjective': False,\n",
       "   '는/Josa': True,\n",
       "   '이쁘다/Adjective': True,\n",
       "   '야/Josa': True,\n",
       "   '마치/Noun': False,\n",
       "   '고/Josa': False,\n",
       "   '랑/Josa': False,\n",
       "   '놀다/Verb': False},\n",
       "  'pos'),\n",
       " ({'메리/Noun': True,\n",
       "   '가/Josa': False,\n",
       "   '좋다/Adjective': False,\n",
       "   '고양이/Noun': False,\n",
       "   '도/Josa': False,\n",
       "   '난/Noun': True,\n",
       "   '수업/Noun': False,\n",
       "   '이/Josa': False,\n",
       "   '지루하다/Adjective': False,\n",
       "   '는/Josa': False,\n",
       "   '이쁘다/Adjective': False,\n",
       "   '야/Josa': False,\n",
       "   '마치/Noun': True,\n",
       "   '고/Josa': True,\n",
       "   '랑/Josa': True,\n",
       "   '놀다/Verb': True},\n",
       "  'pos')]"
      ]
     },
     "metadata": {},
     "execution_count": 26
    }
   ],
   "metadata": {}
  },
  {
   "cell_type": "code",
   "execution_count": 30,
   "source": [
    "classifier = nltk.NaiveBayesClassifier.train(train_xy)\r\n",
    "classifier.show_most_informative_features()"
   ],
   "outputs": [
    {
     "output_type": "stream",
     "name": "stdout",
     "text": [
      "Most Informative Features\n",
      "                  난/Noun = True              neg : pos    =      2.5 : 1.0\n",
      "                 메리/Noun = False             neg : pos    =      2.5 : 1.0\n",
      "                고양이/Noun = False             neg : pos    =      1.5 : 1.0\n",
      "            좋다/Adjective = False             neg : pos    =      1.5 : 1.0\n",
      "                  가/Josa = False             neg : pos    =      1.1 : 1.0\n",
      "                  고/Josa = False             neg : pos    =      1.1 : 1.0\n",
      "                 놀다/Verb = False             neg : pos    =      1.1 : 1.0\n",
      "                  는/Josa = False             neg : pos    =      1.1 : 1.0\n",
      "                  도/Josa = False             neg : pos    =      1.1 : 1.0\n",
      "                  랑/Josa = False             neg : pos    =      1.1 : 1.0\n"
     ]
    }
   ],
   "metadata": {}
  },
  {
   "cell_type": "code",
   "execution_count": 28,
   "source": [
    "test_sentence = [('난 수업이 마치면 메리랑 놀거야')]"
   ],
   "outputs": [],
   "metadata": {}
  },
  {
   "cell_type": "code",
   "execution_count": 29,
   "source": [
    "test_docs = pos_tagger.pos(test_sentence[0])\r\n",
    "test_docs"
   ],
   "outputs": [
    {
     "output_type": "execute_result",
     "data": {
      "text/plain": [
       "[('난', 'Noun'),\n",
       " ('수업', 'Noun'),\n",
       " ('이', 'Josa'),\n",
       " ('마치', 'Noun'),\n",
       " ('면', 'Josa'),\n",
       " ('메리', 'Noun'),\n",
       " ('랑', 'Josa'),\n",
       " ('놀거야', 'Verb')]"
      ]
     },
     "metadata": {},
     "execution_count": 29
    }
   ],
   "metadata": {}
  },
  {
   "cell_type": "code",
   "execution_count": 31,
   "source": [
    "test_sent_features = {word: (word in tokens) for word in test_docs}\r\n",
    "test_sent_features"
   ],
   "outputs": [
    {
     "output_type": "execute_result",
     "data": {
      "text/plain": [
       "{('난', 'Noun'): False,\n",
       " ('수업', 'Noun'): False,\n",
       " ('이', 'Josa'): False,\n",
       " ('마치', 'Noun'): False,\n",
       " ('면', 'Josa'): False,\n",
       " ('메리', 'Noun'): False,\n",
       " ('랑', 'Josa'): False,\n",
       " ('놀거야', 'Verb'): False}"
      ]
     },
     "metadata": {},
     "execution_count": 31
    }
   ],
   "metadata": {}
  },
  {
   "cell_type": "code",
   "execution_count": 32,
   "source": [
    "classifier.classify(test_sent_features)"
   ],
   "outputs": [
    {
     "output_type": "execute_result",
     "data": {
      "text/plain": [
       "'pos'"
      ]
     },
     "metadata": {},
     "execution_count": 32
    }
   ],
   "metadata": {}
  }
 ],
 "metadata": {
  "orig_nbformat": 4,
  "language_info": {
   "name": "python",
   "version": "3.8.12",
   "mimetype": "text/x-python",
   "codemirror_mode": {
    "name": "ipython",
    "version": 3
   },
   "pygments_lexer": "ipython3",
   "nbconvert_exporter": "python",
   "file_extension": ".py"
  },
  "kernelspec": {
   "name": "python3",
   "display_name": "Python 3.8.12 64-bit ('nltk_setting': conda)"
  },
  "interpreter": {
   "hash": "3fe12c2ed2e5724ba31f81a6c8b38907c9bc763fd90983d5bc2d3aca454e7f8d"
  }
 },
 "nbformat": 4,
 "nbformat_minor": 2
}