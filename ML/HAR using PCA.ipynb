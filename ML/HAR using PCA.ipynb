{
 "cells": [
  {
   "cell_type": "markdown",
   "id": "c7bd5715",
   "metadata": {},
   "source": [
    "## HAR 데이터"
   ]
  },
  {
   "cell_type": "code",
   "execution_count": 1,
   "id": "62b142fe",
   "metadata": {
    "ExecuteTime": {
     "end_time": "2021-12-07T02:46:38.345013Z",
     "start_time": "2021-12-07T02:46:37.416294Z"
    }
   },
   "outputs": [],
   "source": [
    "import pandas as pd\n",
    "\n",
    "url = 'https://raw.githubusercontent.com/PinkWink/ML_tutorial/master/dataset/HAR_dataset/features.txt'\n",
    "feature_name_df = pd.read_csv(url, sep='\\s+', header=None, names=['column_index', 'column_name'])\n",
    "feature_name = feature_name_df.iloc[:, 1].values.tolist()"
   ]
  },
  {
   "cell_type": "code",
   "execution_count": 2,
   "id": "6ccd991a",
   "metadata": {
    "ExecuteTime": {
     "end_time": "2021-12-07T02:50:56.352078Z",
     "start_time": "2021-12-07T02:50:38.537704Z"
    }
   },
   "outputs": [],
   "source": [
    "X_train_url = 'https://raw.githubusercontent.com/PinkWink/ML_tutorial/master/dataset/HAR_dataset/train/X_train.txt'\n",
    "X_test_url = 'https://raw.githubusercontent.com/PinkWink/ML_tutorial/master/dataset/HAR_dataset/test/X_test.txt'\n",
    "\n",
    "X_train = pd.read_csv(X_train_url, sep='\\s+', header=None)\n",
    "X_test = pd.read_csv(X_test_url, sep='\\s+', header=None)\n",
    "\n",
    "X_train.columns = feature_name\n",
    "X_test.columns = feature_name"
   ]
  },
  {
   "cell_type": "code",
   "execution_count": 4,
   "id": "d3739fe6",
   "metadata": {
    "ExecuteTime": {
     "end_time": "2021-12-07T02:52:05.469651Z",
     "start_time": "2021-12-07T02:52:05.337040Z"
    }
   },
   "outputs": [],
   "source": [
    "y_train_url = 'https://raw.githubusercontent.com/PinkWink/ML_tutorial/master/dataset/HAR_dataset/train/y_train.txt'\n",
    "y_test_url = 'https://raw.githubusercontent.com/PinkWink/ML_tutorial/master/dataset/HAR_dataset/test/y_test.txt'\n",
    "\n",
    "y_train = pd.read_csv(y_train_url, sep='\\s+', header=None)\n",
    "y_test = pd.read_csv(y_test_url, sep='\\s+', header=None)"
   ]
  },
  {
   "cell_type": "code",
   "execution_count": 5,
   "id": "b03646b3",
   "metadata": {
    "ExecuteTime": {
     "end_time": "2021-12-07T02:52:21.123397Z",
     "start_time": "2021-12-07T02:52:21.103521Z"
    }
   },
   "outputs": [
    {
     "data": {
      "text/plain": [
       "((7352, 561), (2947, 561), (7352, 1), (2947, 1))"
      ]
     },
     "execution_count": 5,
     "metadata": {},
     "output_type": "execute_result"
    }
   ],
   "source": [
    "X_train.shape, X_test.shape, y_train.shape, y_test.shape"
   ]
  },
  {
   "cell_type": "markdown",
   "id": "f38effa4",
   "metadata": {},
   "source": [
    "### 재사용을 위해 함수로 만들고(이전 것을 복사)"
   ]
  },
  {
   "cell_type": "code",
   "execution_count": 6,
   "id": "40b68a7f",
   "metadata": {
    "ExecuteTime": {
     "end_time": "2021-12-07T02:53:37.487266Z",
     "start_time": "2021-12-07T02:53:37.379832Z"
    }
   },
   "outputs": [],
   "source": [
    "from sklearn.decomposition import PCA\n",
    "\n",
    "def get_pca_data(ss_data, n_components=2):\n",
    "    pca = PCA(n_components=n_components)\n",
    "    pca.fit(ss_data)\n",
    "    \n",
    "    return pca.transform(ss_data), pca"
   ]
  },
  {
   "cell_type": "markdown",
   "id": "2c730282",
   "metadata": {},
   "source": [
    "### PCA fit"
   ]
  },
  {
   "cell_type": "code",
   "execution_count": 7,
   "id": "07b39c03",
   "metadata": {
    "ExecuteTime": {
     "end_time": "2021-12-07T02:54:15.758833Z",
     "start_time": "2021-12-07T02:54:15.614306Z"
    }
   },
   "outputs": [
    {
     "data": {
      "text/plain": [
       "(7352, 2)"
      ]
     },
     "execution_count": 7,
     "metadata": {},
     "output_type": "execute_result"
    }
   ],
   "source": [
    "HAR_pca, pca = get_pca_data(X_train, n_components=2)\n",
    "HAR_pca.shape"
   ]
  },
  {
   "cell_type": "code",
   "execution_count": 9,
   "id": "b1e7598d",
   "metadata": {
    "ExecuteTime": {
     "end_time": "2021-12-07T02:54:42.083014Z",
     "start_time": "2021-12-07T02:54:42.071638Z"
    }
   },
   "outputs": [
    {
     "data": {
      "text/plain": [
       "((561,), (2, 561))"
      ]
     },
     "execution_count": 9,
     "metadata": {},
     "output_type": "execute_result"
    }
   ],
   "source": [
    "pca.mean_.shape, pca.components_.shape"
   ]
  },
  {
   "cell_type": "markdown",
   "id": "a3c8a1d2",
   "metadata": {},
   "source": [
    "### 조금 더 재미있는 함수로 만들기 위해"
   ]
  },
  {
   "cell_type": "code",
   "execution_count": 10,
   "id": "780b6cbc",
   "metadata": {
    "ExecuteTime": {
     "end_time": "2021-12-07T02:56:25.391046Z",
     "start_time": "2021-12-07T02:56:25.386045Z"
    }
   },
   "outputs": [
    {
     "data": {
      "text/plain": [
       "['pca_0', 'pca_1']"
      ]
     },
     "execution_count": 10,
     "metadata": {},
     "output_type": "execute_result"
    }
   ],
   "source": [
    "cols = ['pca_' + str(n) for n in range(pca.components_.shape[0])]\n",
    "cols"
   ]
  },
  {
   "cell_type": "markdown",
   "id": "fe0a70a3",
   "metadata": {},
   "source": [
    "### PCA 결과를 저장하는 함수"
   ]
  },
  {
   "cell_type": "code",
   "execution_count": 11,
   "id": "68b1a216",
   "metadata": {
    "ExecuteTime": {
     "end_time": "2021-12-07T02:59:25.921528Z",
     "start_time": "2021-12-07T02:59:25.916611Z"
    }
   },
   "outputs": [],
   "source": [
    "def get_pd_from_pca(pca_data, col_num):\n",
    "    cols = ['pca_' + str(n) for n in range(col_num)]\n",
    "    return pd.DataFrame(pca_data, columns=cols)"
   ]
  },
  {
   "cell_type": "markdown",
   "id": "a73e0721",
   "metadata": {},
   "source": [
    "### components 2개"
   ]
  },
  {
   "cell_type": "code",
   "execution_count": 12,
   "id": "cf41b93c",
   "metadata": {
    "ExecuteTime": {
     "end_time": "2021-12-07T03:03:38.914596Z",
     "start_time": "2021-12-07T03:03:38.795327Z"
    }
   },
   "outputs": [
    {
     "data": {
      "text/html": [
       "<div>\n",
       "<style scoped>\n",
       "    .dataframe tbody tr th:only-of-type {\n",
       "        vertical-align: middle;\n",
       "    }\n",
       "\n",
       "    .dataframe tbody tr th {\n",
       "        vertical-align: top;\n",
       "    }\n",
       "\n",
       "    .dataframe thead th {\n",
       "        text-align: right;\n",
       "    }\n",
       "</style>\n",
       "<table border=\"1\" class=\"dataframe\">\n",
       "  <thead>\n",
       "    <tr style=\"text-align: right;\">\n",
       "      <th></th>\n",
       "      <th>pca_0</th>\n",
       "      <th>pca_1</th>\n",
       "      <th>action</th>\n",
       "    </tr>\n",
       "  </thead>\n",
       "  <tbody>\n",
       "    <tr>\n",
       "      <th>0</th>\n",
       "      <td>-5.520280</td>\n",
       "      <td>-0.290278</td>\n",
       "      <td>5</td>\n",
       "    </tr>\n",
       "    <tr>\n",
       "      <th>1</th>\n",
       "      <td>-5.535350</td>\n",
       "      <td>-0.082530</td>\n",
       "      <td>5</td>\n",
       "    </tr>\n",
       "    <tr>\n",
       "      <th>2</th>\n",
       "      <td>-5.474988</td>\n",
       "      <td>0.287387</td>\n",
       "      <td>5</td>\n",
       "    </tr>\n",
       "    <tr>\n",
       "      <th>3</th>\n",
       "      <td>-5.677232</td>\n",
       "      <td>0.897031</td>\n",
       "      <td>5</td>\n",
       "    </tr>\n",
       "    <tr>\n",
       "      <th>4</th>\n",
       "      <td>-5.748749</td>\n",
       "      <td>1.162952</td>\n",
       "      <td>5</td>\n",
       "    </tr>\n",
       "  </tbody>\n",
       "</table>\n",
       "</div>"
      ],
      "text/plain": [
       "      pca_0     pca_1  action\n",
       "0 -5.520280 -0.290278       5\n",
       "1 -5.535350 -0.082530       5\n",
       "2 -5.474988  0.287387       5\n",
       "3 -5.677232  0.897031       5\n",
       "4 -5.748749  1.162952       5"
      ]
     },
     "execution_count": 12,
     "metadata": {},
     "output_type": "execute_result"
    }
   ],
   "source": [
    "HAR_pca, pca = get_pca_data(X_train, n_components=2)\n",
    "HAR_pd_pca = get_pd_from_pca(HAR_pca, pca.components_.shape[0])\n",
    "HAR_pd_pca['action'] = y_train\n",
    "HAR_pd_pca.head()"
   ]
  },
  {
   "cell_type": "markdown",
   "id": "2096d3e4",
   "metadata": {},
   "source": [
    "### 시각화"
   ]
  },
  {
   "cell_type": "code",
   "execution_count": 13,
   "id": "b6bfb5c8",
   "metadata": {
    "ExecuteTime": {
     "end_time": "2021-12-07T03:05:35.855817Z",
     "start_time": "2021-12-07T03:05:35.090650Z"
    }
   },
   "outputs": [
    {
     "data": {
      "image/png": "[encoded data removed]",
      "text/plain": [
       "<Figure size 402.375x360 with 1 Axes>"
      ]
     },
     "metadata": {
      "needs_background": "light"
     },
     "output_type": "display_data"
    }
   ],
   "source": [
    "import seaborn as sns\n",
    "\n",
    "sns.pairplot(HAR_pd_pca, hue='action', height=5,\n",
    "            x_vars=['pca_0'], y_vars=['pca_1']);"
   ]
  },
  {
   "cell_type": "markdown",
   "id": "dec62789",
   "metadata": {},
   "source": [
    "- 구분이 잘 안되는 데이터들이 존재한다"
   ]
  },
  {
   "cell_type": "markdown",
   "id": "e72a9b39",
   "metadata": {},
   "source": [
    "### 전체 500개가 넘는 특성을 단 2개로 줄이면"
   ]
  },
  {
   "cell_type": "code",
   "execution_count": 14,
   "id": "3910a069",
   "metadata": {
    "ExecuteTime": {
     "end_time": "2021-12-07T03:09:53.521769Z",
     "start_time": "2021-12-07T03:09:53.502408Z"
    }
   },
   "outputs": [
    {
     "name": "stdout",
     "output_type": "stream",
     "text": [
      "variance_ratio:  [0.6255444  0.04913023]\n",
      "sum of variance_ratio:  0.674674627048794\n"
     ]
    }
   ],
   "source": [
    "import numpy as np\n",
    "\n",
    "def print_variance_ratio(pca):\n",
    "    print('variance_ratio: ', pca.explained_variance_ratio_)\n",
    "    print('sum of variance_ratio: ', np.sum(pca.explained_variance_ratio_))\n",
    "    \n",
    "print_variance_ratio(pca)"
   ]
  },
  {
   "cell_type": "markdown",
   "id": "16cf2ebc",
   "metadata": {},
   "source": [
    "### 컴포넌트 3개로"
   ]
  },
  {
   "cell_type": "code",
   "execution_count": 15,
   "id": "2aa04a6d",
   "metadata": {
    "ExecuteTime": {
     "end_time": "2021-12-07T03:12:16.244675Z",
     "start_time": "2021-12-07T03:12:16.087078Z"
    }
   },
   "outputs": [
    {
     "name": "stdout",
     "output_type": "stream",
     "text": [
      "variance_ratio:  [0.6255444  0.04913023 0.04121467]\n",
      "sum of variance_ratio:  0.715889301578533\n"
     ]
    }
   ],
   "source": [
    "HAR_pca, pca = get_pca_data(X_train, n_components=3)\n",
    "HAR_pd_pca = get_pd_from_pca(HAR_pca, pca.components_.shape[0])\n",
    "HAR_pd_pca['action'] = y_train\n",
    "\n",
    "print_variance_ratio(pca)"
   ]
  },
  {
   "cell_type": "markdown",
   "id": "c284afca",
   "metadata": {},
   "source": [
    "### 컴포넌트 10개"
   ]
  },
  {
   "cell_type": "code",
   "execution_count": 16,
   "id": "f3827b0f",
   "metadata": {
    "ExecuteTime": {
     "end_time": "2021-12-07T03:13:03.480388Z",
     "start_time": "2021-12-07T03:13:03.332863Z"
    }
   },
   "outputs": [
    {
     "name": "stdout",
     "output_type": "stream",
     "text": [
      "variance_ratio:  [0.6255444  0.04913023 0.04121467 0.01874956 0.0169486  0.01272069\n",
      " 0.01176685 0.01068973 0.0096938  0.00858017]\n",
      "sum of variance_ratio:  0.8050387030974664\n"
     ]
    }
   ],
   "source": [
    "HAR_pca, pca = get_pca_data(X_train, n_components=10)\n",
    "HAR_pd_pca = get_pd_from_pca(HAR_pca, pca.components_.shape[0])\n",
    "HAR_pd_pca['action'] = y_train\n",
    "\n",
    "print_variance_ratio(pca)"
   ]
  },
  {
   "cell_type": "markdown",
   "id": "1acb0472",
   "metadata": {},
   "source": [
    "### 혹시 이 결과가 시간이 길게 나왔다면 지금은?"
   ]
  },
  {
   "cell_type": "code",
   "execution_count": 17,
   "id": "c4694ea3",
   "metadata": {
    "ExecuteTime": {
     "end_time": "2021-12-07T03:16:45.671764Z",
     "start_time": "2021-12-07T03:16:33.739303Z"
    }
   },
   "outputs": [
    {
     "data": {
      "text/plain": [
       "GridSearchCV(cv=2, estimator=RandomForestClassifier(n_jobs=-1, random_state=13),\n",
       "             n_jobs=-1,\n",
       "             param_grid={'max_depth': [6, 8, 10], 'min_samples_leaf': [8, 12],\n",
       "                         'min_samples_split': [8, 12],\n",
       "                         'n_estimators': [50, 100, 200]})"
      ]
     },
     "execution_count": 17,
     "metadata": {},
     "output_type": "execute_result"
    }
   ],
   "source": [
    "from sklearn.model_selection import GridSearchCV\n",
    "from sklearn.ensemble import RandomForestClassifier\n",
    "\n",
    "params = {\n",
    "    'max_depth': [6, 8, 10],\n",
    "    'n_estimators': [50, 100, 200],\n",
    "    'min_samples_leaf': [8, 12],\n",
    "    'min_samples_split': [8, 12]\n",
    "}\n",
    "\n",
    "rf_clf = RandomForestClassifier(random_state=13, n_jobs=-1)\n",
    "grid_cv = GridSearchCV(rf_clf, param_grid=params, cv=2, n_jobs=-1)\n",
    "grid_cv.fit(HAR_pca, y_train.values.reshape(-1,))"
   ]
  },
  {
   "cell_type": "markdown",
   "id": "6768938c",
   "metadata": {},
   "source": [
    "#### 성능 확인"
   ]
  },
  {
   "cell_type": "code",
   "execution_count": 18,
   "id": "ac168e3b",
   "metadata": {
    "ExecuteTime": {
     "end_time": "2021-12-07T03:18:46.594039Z",
     "start_time": "2021-12-07T03:18:46.585037Z"
    }
   },
   "outputs": [
    {
     "data": {
      "text/html": [
       "<div>\n",
       "<style scoped>\n",
       "    .dataframe tbody tr th:only-of-type {\n",
       "        vertical-align: middle;\n",
       "    }\n",
       "\n",
       "    .dataframe tbody tr th {\n",
       "        vertical-align: top;\n",
       "    }\n",
       "\n",
       "    .dataframe thead th {\n",
       "        text-align: right;\n",
       "    }\n",
       "</style>\n",
       "<table border=\"1\" class=\"dataframe\">\n",
       "  <thead>\n",
       "    <tr style=\"text-align: right;\">\n",
       "      <th></th>\n",
       "      <th>rank_test_score</th>\n",
       "      <th>mean_test_score</th>\n",
       "      <th>param_n_estimators</th>\n",
       "      <th>param_max_depth</th>\n",
       "    </tr>\n",
       "  </thead>\n",
       "  <tbody>\n",
       "    <tr>\n",
       "      <th>17</th>\n",
       "      <td>1</td>\n",
       "      <td>0.837459</td>\n",
       "      <td>200</td>\n",
       "      <td>8</td>\n",
       "    </tr>\n",
       "    <tr>\n",
       "      <th>29</th>\n",
       "      <td>1</td>\n",
       "      <td>0.837459</td>\n",
       "      <td>200</td>\n",
       "      <td>10</td>\n",
       "    </tr>\n",
       "    <tr>\n",
       "      <th>26</th>\n",
       "      <td>1</td>\n",
       "      <td>0.837459</td>\n",
       "      <td>200</td>\n",
       "      <td>10</td>\n",
       "    </tr>\n",
       "    <tr>\n",
       "      <th>14</th>\n",
       "      <td>1</td>\n",
       "      <td>0.837459</td>\n",
       "      <td>200</td>\n",
       "      <td>8</td>\n",
       "    </tr>\n",
       "    <tr>\n",
       "      <th>32</th>\n",
       "      <td>5</td>\n",
       "      <td>0.837323</td>\n",
       "      <td>200</td>\n",
       "      <td>10</td>\n",
       "    </tr>\n",
       "  </tbody>\n",
       "</table>\n",
       "</div>"
      ],
      "text/plain": [
       "    rank_test_score  mean_test_score param_n_estimators param_max_depth\n",
       "17                1         0.837459                200               8\n",
       "29                1         0.837459                200              10\n",
       "26                1         0.837459                200              10\n",
       "14                1         0.837459                200               8\n",
       "32                5         0.837323                200              10"
      ]
     },
     "execution_count": 18,
     "metadata": {},
     "output_type": "execute_result"
    }
   ],
   "source": [
    "cv_results_df = pd.DataFrame(grid_cv.cv_results_)\n",
    "target_col = ['rank_test_score', 'mean_test_score', 'param_n_estimators',\n",
    "             'param_max_depth']\n",
    "cv_results_df[target_col].sort_values('rank_test_score').head()"
   ]
  },
  {
   "cell_type": "code",
   "execution_count": 19,
   "id": "ea25aa0d",
   "metadata": {
    "ExecuteTime": {
     "end_time": "2021-12-07T03:19:51.015010Z",
     "start_time": "2021-12-07T03:19:50.996996Z"
    }
   },
   "outputs": [
    {
     "data": {
      "text/plain": [
       "({'max_depth': 8,\n",
       "  'min_samples_leaf': 8,\n",
       "  'min_samples_split': 8,\n",
       "  'n_estimators': 200},\n",
       " 0.8374591947769314)"
      ]
     },
     "execution_count": 19,
     "metadata": {},
     "output_type": "execute_result"
    }
   ],
   "source": [
    "# best 파라미터\n",
    "grid_cv.best_params_, grid_cv.best_score_"
   ]
  },
  {
   "cell_type": "markdown",
   "id": "bae65b5c",
   "metadata": {},
   "source": [
    "#### 테스트 데이터에 적용"
   ]
  },
  {
   "cell_type": "code",
   "execution_count": 20,
   "id": "df1c8f35",
   "metadata": {
    "ExecuteTime": {
     "end_time": "2021-12-07T04:35:40.280702Z",
     "start_time": "2021-12-07T04:35:39.732342Z"
    }
   },
   "outputs": [
    {
     "data": {
      "text/plain": [
       "0.8523922633186292"
      ]
     },
     "execution_count": 20,
     "metadata": {},
     "output_type": "execute_result"
    }
   ],
   "source": [
    "from sklearn.metrics import accuracy_score\n",
    "\n",
    "rf_clf_best = grid_cv.best_estimator_\n",
    "rf_clf_best.fit(HAR_pca, y_train.values.reshape(-1))\n",
    "\n",
    "pred1 = rf_clf_best.predict(pca.transform(X_test)) # train데이터로 학습을 완료헌 pca로 transform\n",
    "\n",
    "accuracy_score(y_test, pred1)"
   ]
  },
  {
   "cell_type": "markdown",
   "id": "8b049b37",
   "metadata": {},
   "source": [
    "### 시간이 많이 걸렸던 xgboost는?"
   ]
  },
  {
   "cell_type": "code",
   "execution_count": 21,
   "id": "bf9a0ce0",
   "metadata": {
    "ExecuteTime": {
     "end_time": "2021-12-07T04:38:07.227543Z",
     "start_time": "2021-12-07T04:38:04.735138Z"
    }
   },
   "outputs": [
    {
     "name": "stdout",
     "output_type": "stream",
     "text": [
      "[13:38:04] WARNING: ..\\src\\learner.cc:1061: Starting in XGBoost 1.3.0, the default evaluation metric used with the objective 'multi:softprob' was changed from 'merror' to 'mlogloss'. Explicitly set eval_metric if you'd like to restore the old behavior.\n",
      "[0]\tvalidation_0-mlogloss:1.61430\n",
      "[1]\tvalidation_0-mlogloss:1.47582\n",
      "[2]\tvalidation_0-mlogloss:1.35829\n",
      "[3]\tvalidation_0-mlogloss:1.26288\n",
      "[4]\tvalidation_0-mlogloss:1.18060\n",
      "[5]\tvalidation_0-mlogloss:1.11089\n",
      "[6]\tvalidation_0-mlogloss:1.04528\n",
      "[7]\tvalidation_0-mlogloss:0.98940\n",
      "[8]\tvalidation_0-mlogloss:0.94054\n",
      "[9]\tvalidation_0-mlogloss:0.89269\n",
      "[10]\tvalidation_0-mlogloss:0.85080\n",
      "[11]\tvalidation_0-mlogloss:0.81190\n"
     ]
    },
    {
     "name": "stderr",
     "output_type": "stream",
     "text": [
      "C:\\Users\\seonwook\\miniconda3\\envs\\ds_study\\lib\\site-packages\\xgboost\\sklearn.py:888: UserWarning: The use of label encoder in XGBClassifier is deprecated and will be removed in a future release. To remove this warning, do the following: 1) Pass option use_label_encoder=False when constructing XGBClassifier object; and 2) Encode your labels (y) as integers starting with 0, i.e. 0, 1, 2, ..., [num_class - 1].\n",
      "  warnings.warn(label_encoder_deprecation_msg, UserWarning)\n",
      "C:\\Users\\seonwook\\miniconda3\\envs\\ds_study\\lib\\site-packages\\sklearn\\utils\\validation.py:63: DataConversionWarning: A column-vector y was passed when a 1d array was expected. Please change the shape of y to (n_samples, ), for example using ravel().\n",
      "  return f(*args, **kwargs)\n"
     ]
    },
    {
     "name": "stdout",
     "output_type": "stream",
     "text": [
      "[12]\tvalidation_0-mlogloss:0.78038\n",
      "[13]\tvalidation_0-mlogloss:0.74929\n",
      "[14]\tvalidation_0-mlogloss:0.72308\n",
      "[15]\tvalidation_0-mlogloss:0.69774\n",
      "[16]\tvalidation_0-mlogloss:0.67642\n",
      "[17]\tvalidation_0-mlogloss:0.65533\n",
      "[18]\tvalidation_0-mlogloss:0.63738\n",
      "[19]\tvalidation_0-mlogloss:0.61859\n",
      "[20]\tvalidation_0-mlogloss:0.60236\n",
      "[21]\tvalidation_0-mlogloss:0.58854\n",
      "[22]\tvalidation_0-mlogloss:0.57272\n",
      "[23]\tvalidation_0-mlogloss:0.55934\n",
      "[24]\tvalidation_0-mlogloss:0.54675\n",
      "[25]\tvalidation_0-mlogloss:0.53553\n",
      "[26]\tvalidation_0-mlogloss:0.52527\n",
      "[27]\tvalidation_0-mlogloss:0.51504\n",
      "[28]\tvalidation_0-mlogloss:0.50606\n",
      "[29]\tvalidation_0-mlogloss:0.49724\n",
      "[30]\tvalidation_0-mlogloss:0.48981\n",
      "[31]\tvalidation_0-mlogloss:0.48202\n",
      "[32]\tvalidation_0-mlogloss:0.47451\n",
      "[33]\tvalidation_0-mlogloss:0.46775\n",
      "[34]\tvalidation_0-mlogloss:0.46198\n",
      "[35]\tvalidation_0-mlogloss:0.45608\n",
      "[36]\tvalidation_0-mlogloss:0.45018\n",
      "[37]\tvalidation_0-mlogloss:0.44534\n",
      "[38]\tvalidation_0-mlogloss:0.44088\n",
      "[39]\tvalidation_0-mlogloss:0.43537\n",
      "[40]\tvalidation_0-mlogloss:0.42989\n",
      "[41]\tvalidation_0-mlogloss:0.42594\n",
      "[42]\tvalidation_0-mlogloss:0.42159\n",
      "[43]\tvalidation_0-mlogloss:0.41653\n",
      "[44]\tvalidation_0-mlogloss:0.41330\n",
      "[45]\tvalidation_0-mlogloss:0.40980\n",
      "[46]\tvalidation_0-mlogloss:0.40601\n",
      "[47]\tvalidation_0-mlogloss:0.40289\n",
      "[48]\tvalidation_0-mlogloss:0.39950\n",
      "[49]\tvalidation_0-mlogloss:0.39674\n",
      "[50]\tvalidation_0-mlogloss:0.39351\n",
      "[51]\tvalidation_0-mlogloss:0.39016\n",
      "[52]\tvalidation_0-mlogloss:0.38726\n",
      "[53]\tvalidation_0-mlogloss:0.38451\n",
      "[54]\tvalidation_0-mlogloss:0.38212\n",
      "[55]\tvalidation_0-mlogloss:0.37996\n",
      "[56]\tvalidation_0-mlogloss:0.37786\n",
      "[57]\tvalidation_0-mlogloss:0.37630\n",
      "[58]\tvalidation_0-mlogloss:0.37405\n",
      "[59]\tvalidation_0-mlogloss:0.37184\n",
      "[60]\tvalidation_0-mlogloss:0.36993\n",
      "[61]\tvalidation_0-mlogloss:0.36815\n",
      "[62]\tvalidation_0-mlogloss:0.36605\n",
      "[63]\tvalidation_0-mlogloss:0.36453\n",
      "[64]\tvalidation_0-mlogloss:0.36305\n",
      "[65]\tvalidation_0-mlogloss:0.36177\n",
      "[66]\tvalidation_0-mlogloss:0.36013\n",
      "[67]\tvalidation_0-mlogloss:0.35846\n",
      "[68]\tvalidation_0-mlogloss:0.35699\n",
      "[69]\tvalidation_0-mlogloss:0.35538\n",
      "[70]\tvalidation_0-mlogloss:0.35405\n",
      "[71]\tvalidation_0-mlogloss:0.35246\n",
      "[72]\tvalidation_0-mlogloss:0.35169\n",
      "[73]\tvalidation_0-mlogloss:0.35038\n",
      "[74]\tvalidation_0-mlogloss:0.34918\n",
      "[75]\tvalidation_0-mlogloss:0.34812\n",
      "[76]\tvalidation_0-mlogloss:0.34715\n",
      "[77]\tvalidation_0-mlogloss:0.34612\n",
      "[78]\tvalidation_0-mlogloss:0.34527\n",
      "[79]\tvalidation_0-mlogloss:0.34403\n",
      "[80]\tvalidation_0-mlogloss:0.34361\n",
      "[81]\tvalidation_0-mlogloss:0.34255\n",
      "[82]\tvalidation_0-mlogloss:0.34152\n",
      "[83]\tvalidation_0-mlogloss:0.34104\n",
      "[84]\tvalidation_0-mlogloss:0.34004\n",
      "[85]\tvalidation_0-mlogloss:0.33952\n",
      "[86]\tvalidation_0-mlogloss:0.33816\n",
      "[87]\tvalidation_0-mlogloss:0.33762\n",
      "[88]\tvalidation_0-mlogloss:0.33720\n",
      "[89]\tvalidation_0-mlogloss:0.33666\n",
      "[90]\tvalidation_0-mlogloss:0.33599\n",
      "[91]\tvalidation_0-mlogloss:0.33527\n",
      "[92]\tvalidation_0-mlogloss:0.33458\n",
      "[93]\tvalidation_0-mlogloss:0.33420\n",
      "[94]\tvalidation_0-mlogloss:0.33376\n",
      "[95]\tvalidation_0-mlogloss:0.33319\n",
      "[96]\tvalidation_0-mlogloss:0.33299\n",
      "[97]\tvalidation_0-mlogloss:0.33229\n",
      "[98]\tvalidation_0-mlogloss:0.33195\n",
      "[99]\tvalidation_0-mlogloss:0.33117\n",
      "[100]\tvalidation_0-mlogloss:0.33095\n",
      "[101]\tvalidation_0-mlogloss:0.33085\n",
      "[102]\tvalidation_0-mlogloss:0.33056\n",
      "[103]\tvalidation_0-mlogloss:0.33046\n",
      "[104]\tvalidation_0-mlogloss:0.33004\n",
      "[105]\tvalidation_0-mlogloss:0.32963\n",
      "[106]\tvalidation_0-mlogloss:0.32952\n",
      "[107]\tvalidation_0-mlogloss:0.32908\n",
      "[108]\tvalidation_0-mlogloss:0.32918\n",
      "[109]\tvalidation_0-mlogloss:0.32849\n",
      "[110]\tvalidation_0-mlogloss:0.32805\n",
      "[111]\tvalidation_0-mlogloss:0.32782\n",
      "[112]\tvalidation_0-mlogloss:0.32750\n",
      "[113]\tvalidation_0-mlogloss:0.32726\n",
      "[114]\tvalidation_0-mlogloss:0.32684\n",
      "[115]\tvalidation_0-mlogloss:0.32687\n",
      "[116]\tvalidation_0-mlogloss:0.32693\n",
      "[117]\tvalidation_0-mlogloss:0.32610\n",
      "[118]\tvalidation_0-mlogloss:0.32574\n",
      "[119]\tvalidation_0-mlogloss:0.32553\n",
      "[120]\tvalidation_0-mlogloss:0.32554\n",
      "[121]\tvalidation_0-mlogloss:0.32536\n",
      "[122]\tvalidation_0-mlogloss:0.32488\n",
      "[123]\tvalidation_0-mlogloss:0.32523\n",
      "[124]\tvalidation_0-mlogloss:0.32521\n",
      "[125]\tvalidation_0-mlogloss:0.32499\n",
      "[126]\tvalidation_0-mlogloss:0.32441\n",
      "[127]\tvalidation_0-mlogloss:0.32407\n",
      "[128]\tvalidation_0-mlogloss:0.32414\n",
      "[129]\tvalidation_0-mlogloss:0.32410\n",
      "[130]\tvalidation_0-mlogloss:0.32386\n",
      "[131]\tvalidation_0-mlogloss:0.32384\n",
      "[132]\tvalidation_0-mlogloss:0.32376\n",
      "[133]\tvalidation_0-mlogloss:0.32349\n",
      "[134]\tvalidation_0-mlogloss:0.32339\n",
      "[135]\tvalidation_0-mlogloss:0.32311\n",
      "[136]\tvalidation_0-mlogloss:0.32271\n",
      "[137]\tvalidation_0-mlogloss:0.32279\n",
      "[138]\tvalidation_0-mlogloss:0.32262\n",
      "[139]\tvalidation_0-mlogloss:0.32214\n",
      "[140]\tvalidation_0-mlogloss:0.32216\n",
      "[141]\tvalidation_0-mlogloss:0.32143\n",
      "[142]\tvalidation_0-mlogloss:0.32168\n",
      "[143]\tvalidation_0-mlogloss:0.32187\n",
      "[144]\tvalidation_0-mlogloss:0.32200\n",
      "[145]\tvalidation_0-mlogloss:0.32196\n",
      "[146]\tvalidation_0-mlogloss:0.32173\n",
      "[147]\tvalidation_0-mlogloss:0.32161\n",
      "[148]\tvalidation_0-mlogloss:0.32134\n",
      "[149]\tvalidation_0-mlogloss:0.32101\n",
      "[150]\tvalidation_0-mlogloss:0.32099\n",
      "[151]\tvalidation_0-mlogloss:0.32142\n",
      "[152]\tvalidation_0-mlogloss:0.32116\n",
      "[153]\tvalidation_0-mlogloss:0.32038\n",
      "[154]\tvalidation_0-mlogloss:0.32050\n",
      "[155]\tvalidation_0-mlogloss:0.32030\n",
      "[156]\tvalidation_0-mlogloss:0.32022\n",
      "[157]\tvalidation_0-mlogloss:0.32004\n",
      "[158]\tvalidation_0-mlogloss:0.32027\n",
      "[159]\tvalidation_0-mlogloss:0.32074\n",
      "[160]\tvalidation_0-mlogloss:0.32085\n",
      "[161]\tvalidation_0-mlogloss:0.32112\n",
      "[162]\tvalidation_0-mlogloss:0.32170\n",
      "[163]\tvalidation_0-mlogloss:0.32140\n",
      "[164]\tvalidation_0-mlogloss:0.32163\n",
      "[165]\tvalidation_0-mlogloss:0.32157\n",
      "[166]\tvalidation_0-mlogloss:0.32149\n",
      "Wall time: 2.48 s\n"
     ]
    },
    {
     "data": {
      "text/plain": [
       "XGBClassifier(base_score=0.5, booster='gbtree', colsample_bylevel=1,\n",
       "              colsample_bynode=1, colsample_bytree=1, gamma=0, gpu_id=-1,\n",
       "              importance_type='gain', interaction_constraints='',\n",
       "              learning_rate=0.1, max_delta_step=0, max_depth=3,\n",
       "              min_child_weight=1, missing=nan, monotone_constraints='()',\n",
       "              n_estimators=400, n_jobs=8, num_parallel_tree=1,\n",
       "              objective='multi:softprob', random_state=0, reg_alpha=0,\n",
       "              reg_lambda=1, scale_pos_weight=None, subsample=1,\n",
       "              tree_method='exact', validate_parameters=1, verbosity=None)"
      ]
     },
     "execution_count": 21,
     "metadata": {},
     "output_type": "execute_result"
    }
   ],
   "source": [
    "%%time\n",
    "\n",
    "from xgboost import XGBClassifier\n",
    "\n",
    "evals = [(pca.transform(X_test), y_test)]\n",
    "\n",
    "xgb = XGBClassifier(n_estimators=400, learning_rate=0.1, max_depth=3)\n",
    "xgb.fit(HAR_pca, y_train.values.reshape(-1,),\n",
    "        early_stopping_rounds=10, eval_set=evals)"
   ]
  },
  {
   "cell_type": "markdown",
   "id": "3d0913d4",
   "metadata": {},
   "source": [
    "#### accuracy"
   ]
  },
  {
   "cell_type": "code",
   "execution_count": 22,
   "id": "3012b5a2",
   "metadata": {
    "ExecuteTime": {
     "end_time": "2021-12-07T04:39:36.358223Z",
     "start_time": "2021-12-07T04:39:36.324716Z"
    }
   },
   "outputs": [
    {
     "data": {
      "text/plain": [
       "0.8656260604004072"
      ]
     },
     "execution_count": 22,
     "metadata": {},
     "output_type": "execute_result"
    }
   ],
   "source": [
    "accuracy_score(y_test, xgb.predict(pca.transform(X_test)))"
   ]
  },
  {
   "cell_type": "code",
   "execution_count": null,
   "id": "395f8396",
   "metadata": {},
   "outputs": [],
   "source": []
  }
 ],
 "metadata": {
  "kernelspec": {
   "display_name": "Python 3 (ipykernel)",
   "language": "python",
   "name": "python3"
  },
  "language_info": {
   "codemirror_mode": {
    "name": "ipython",
    "version": 3
   },
   "file_extension": ".py",
   "mimetype": "text/x-python",
   "name": "python",
   "nbconvert_exporter": "python",
   "pygments_lexer": "ipython3",
   "version": "3.8.12"
  },
  "toc": {
   "base_numbering": 1,
   "nav_menu": {},
   "number_sections": true,
   "sideBar": true,
   "skip_h1_title": false,
   "title_cell": "Table of Contents",
   "title_sidebar": "Contents",
   "toc_cell": false,
   "toc_position": {},
   "toc_section_display": true,
   "toc_window_display": true
  }
 },
 "nbformat": 4,
 "nbformat_minor": 5
}
