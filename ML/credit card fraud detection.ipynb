{
 "cells": [
  {
   "cell_type": "markdown",
   "id": "bc3a52ce",
   "metadata": {},
   "source": [
    "## 문제 - 데이터 소개\n",
    "- 신용카드 부정 사용자 검출"
   ]
  },
  {
   "cell_type": "markdown",
   "id": "d26dc0ba",
   "metadata": {},
   "source": [
    "### 신용카드 부정사용 검출에 관한 논문의 한 예\n",
    "- 신용카드와 같은 금융 데이터들은 구하기가 어려움\n",
    "- 금융 데이터들의 데이터는 또한 다루기 쉽지 않음\n",
    "- 그러나 지능화되어가는 현대 범죄에 맞춰 사전 이상 징후 검출 등 금융기관이 많은 노력을 기울이고 있음\n",
    "- 이 데이터 역시 센서를 이용한 사람의 행동 과정 유추처럼 머신러닝의 이용 분야중에 하나임"
   ]
  },
  {
   "cell_type": "markdown",
   "id": "876d6a13",
   "metadata": {},
   "source": [
    "### 데이터 다운로드\n",
    "- https://www.kaggle.com/mlg-ulb/creditcardfraud"
   ]
  },
  {
   "cell_type": "markdown",
   "id": "80061ca3",
   "metadata": {},
   "source": [
    "### 데이터 개요\n",
    "- 신용카드 사기 검출 분류 실습용 데이터\n",
    "- 데이터에 class라는 이름의 컬럼이 사기 유무를 의미\n",
    "- class 컬럼의 불균형이 극심해서 전체 데이터의 약 0.172%가 1 (사기 Fraud)을 가짐"
   ]
  },
  {
   "cell_type": "markdown",
   "id": "e5c2fe50",
   "metadata": {},
   "source": [
    "### 데이터 특성\n"
   ]
  },
  {
   "cell_type": "code",
   "execution_count": 27,
   "id": "dfa3c063",
   "metadata": {
    "ExecuteTime": {
     "end_time": "2021-11-25T10:57:05.953503Z",
     "start_time": "2021-11-25T10:57:05.948410Z"
    }
   },
   "outputs": [],
   "source": [
    "import pandas as pd\n",
    "import seaborn as sns\n",
    "import matplotlib.pyplot as plt\n",
    "\n",
    "%matplotlib inline"
   ]
  },
  {
   "cell_type": "code",
   "execution_count": 2,
   "id": "e141d2be",
   "metadata": {
    "ExecuteTime": {
     "end_time": "2021-11-25T10:40:36.386541Z",
     "start_time": "2021-11-25T10:40:35.057719Z"
    }
   },
   "outputs": [
    {
     "data": {
      "text/html": [
       "<div>\n",
       "<style scoped>\n",
       "    .dataframe tbody tr th:only-of-type {\n",
       "        vertical-align: middle;\n",
       "    }\n",
       "\n",
       "    .dataframe tbody tr th {\n",
       "        vertical-align: top;\n",
       "    }\n",
       "\n",
       "    .dataframe thead th {\n",
       "        text-align: right;\n",
       "    }\n",
       "</style>\n",
       "<table border=\"1\" class=\"dataframe\">\n",
       "  <thead>\n",
       "    <tr style=\"text-align: right;\">\n",
       "      <th></th>\n",
       "      <th>Time</th>\n",
       "      <th>V1</th>\n",
       "      <th>V2</th>\n",
       "      <th>V3</th>\n",
       "      <th>V4</th>\n",
       "      <th>V5</th>\n",
       "      <th>V6</th>\n",
       "      <th>V7</th>\n",
       "      <th>V8</th>\n",
       "      <th>V9</th>\n",
       "      <th>...</th>\n",
       "      <th>V21</th>\n",
       "      <th>V22</th>\n",
       "      <th>V23</th>\n",
       "      <th>V24</th>\n",
       "      <th>V25</th>\n",
       "      <th>V26</th>\n",
       "      <th>V27</th>\n",
       "      <th>V28</th>\n",
       "      <th>Amount</th>\n",
       "      <th>Class</th>\n",
       "    </tr>\n",
       "  </thead>\n",
       "  <tbody>\n",
       "    <tr>\n",
       "      <th>0</th>\n",
       "      <td>0.0</td>\n",
       "      <td>-1.359807</td>\n",
       "      <td>-0.072781</td>\n",
       "      <td>2.536347</td>\n",
       "      <td>1.378155</td>\n",
       "      <td>-0.338321</td>\n",
       "      <td>0.462388</td>\n",
       "      <td>0.239599</td>\n",
       "      <td>0.098698</td>\n",
       "      <td>0.363787</td>\n",
       "      <td>...</td>\n",
       "      <td>-0.018307</td>\n",
       "      <td>0.277838</td>\n",
       "      <td>-0.110474</td>\n",
       "      <td>0.066928</td>\n",
       "      <td>0.128539</td>\n",
       "      <td>-0.189115</td>\n",
       "      <td>0.133558</td>\n",
       "      <td>-0.021053</td>\n",
       "      <td>149.62</td>\n",
       "      <td>0</td>\n",
       "    </tr>\n",
       "    <tr>\n",
       "      <th>1</th>\n",
       "      <td>0.0</td>\n",
       "      <td>1.191857</td>\n",
       "      <td>0.266151</td>\n",
       "      <td>0.166480</td>\n",
       "      <td>0.448154</td>\n",
       "      <td>0.060018</td>\n",
       "      <td>-0.082361</td>\n",
       "      <td>-0.078803</td>\n",
       "      <td>0.085102</td>\n",
       "      <td>-0.255425</td>\n",
       "      <td>...</td>\n",
       "      <td>-0.225775</td>\n",
       "      <td>-0.638672</td>\n",
       "      <td>0.101288</td>\n",
       "      <td>-0.339846</td>\n",
       "      <td>0.167170</td>\n",
       "      <td>0.125895</td>\n",
       "      <td>-0.008983</td>\n",
       "      <td>0.014724</td>\n",
       "      <td>2.69</td>\n",
       "      <td>0</td>\n",
       "    </tr>\n",
       "    <tr>\n",
       "      <th>2</th>\n",
       "      <td>1.0</td>\n",
       "      <td>-1.358354</td>\n",
       "      <td>-1.340163</td>\n",
       "      <td>1.773209</td>\n",
       "      <td>0.379780</td>\n",
       "      <td>-0.503198</td>\n",
       "      <td>1.800499</td>\n",
       "      <td>0.791461</td>\n",
       "      <td>0.247676</td>\n",
       "      <td>-1.514654</td>\n",
       "      <td>...</td>\n",
       "      <td>0.247998</td>\n",
       "      <td>0.771679</td>\n",
       "      <td>0.909412</td>\n",
       "      <td>-0.689281</td>\n",
       "      <td>-0.327642</td>\n",
       "      <td>-0.139097</td>\n",
       "      <td>-0.055353</td>\n",
       "      <td>-0.059752</td>\n",
       "      <td>378.66</td>\n",
       "      <td>0</td>\n",
       "    </tr>\n",
       "    <tr>\n",
       "      <th>3</th>\n",
       "      <td>1.0</td>\n",
       "      <td>-0.966272</td>\n",
       "      <td>-0.185226</td>\n",
       "      <td>1.792993</td>\n",
       "      <td>-0.863291</td>\n",
       "      <td>-0.010309</td>\n",
       "      <td>1.247203</td>\n",
       "      <td>0.237609</td>\n",
       "      <td>0.377436</td>\n",
       "      <td>-1.387024</td>\n",
       "      <td>...</td>\n",
       "      <td>-0.108300</td>\n",
       "      <td>0.005274</td>\n",
       "      <td>-0.190321</td>\n",
       "      <td>-1.175575</td>\n",
       "      <td>0.647376</td>\n",
       "      <td>-0.221929</td>\n",
       "      <td>0.062723</td>\n",
       "      <td>0.061458</td>\n",
       "      <td>123.50</td>\n",
       "      <td>0</td>\n",
       "    </tr>\n",
       "    <tr>\n",
       "      <th>4</th>\n",
       "      <td>2.0</td>\n",
       "      <td>-1.158233</td>\n",
       "      <td>0.877737</td>\n",
       "      <td>1.548718</td>\n",
       "      <td>0.403034</td>\n",
       "      <td>-0.407193</td>\n",
       "      <td>0.095921</td>\n",
       "      <td>0.592941</td>\n",
       "      <td>-0.270533</td>\n",
       "      <td>0.817739</td>\n",
       "      <td>...</td>\n",
       "      <td>-0.009431</td>\n",
       "      <td>0.798278</td>\n",
       "      <td>-0.137458</td>\n",
       "      <td>0.141267</td>\n",
       "      <td>-0.206010</td>\n",
       "      <td>0.502292</td>\n",
       "      <td>0.219422</td>\n",
       "      <td>0.215153</td>\n",
       "      <td>69.99</td>\n",
       "      <td>0</td>\n",
       "    </tr>\n",
       "  </tbody>\n",
       "</table>\n",
       "<p>5 rows × 31 columns</p>\n",
       "</div>"
      ],
      "text/plain": [
       "   Time        V1        V2        V3        V4        V5        V6        V7  \\\n",
       "0   0.0 -1.359807 -0.072781  2.536347  1.378155 -0.338321  0.462388  0.239599   \n",
       "1   0.0  1.191857  0.266151  0.166480  0.448154  0.060018 -0.082361 -0.078803   \n",
       "2   1.0 -1.358354 -1.340163  1.773209  0.379780 -0.503198  1.800499  0.791461   \n",
       "3   1.0 -0.966272 -0.185226  1.792993 -0.863291 -0.010309  1.247203  0.237609   \n",
       "4   2.0 -1.158233  0.877737  1.548718  0.403034 -0.407193  0.095921  0.592941   \n",
       "\n",
       "         V8        V9  ...       V21       V22       V23       V24       V25  \\\n",
       "0  0.098698  0.363787  ... -0.018307  0.277838 -0.110474  0.066928  0.128539   \n",
       "1  0.085102 -0.255425  ... -0.225775 -0.638672  0.101288 -0.339846  0.167170   \n",
       "2  0.247676 -1.514654  ...  0.247998  0.771679  0.909412 -0.689281 -0.327642   \n",
       "3  0.377436 -1.387024  ... -0.108300  0.005274 -0.190321 -1.175575  0.647376   \n",
       "4 -0.270533  0.817739  ... -0.009431  0.798278 -0.137458  0.141267 -0.206010   \n",
       "\n",
       "        V26       V27       V28  Amount  Class  \n",
       "0 -0.189115  0.133558 -0.021053  149.62      0  \n",
       "1  0.125895 -0.008983  0.014724    2.69      0  \n",
       "2 -0.139097 -0.055353 -0.059752  378.66      0  \n",
       "3 -0.221929  0.062723  0.061458  123.50      0  \n",
       "4  0.502292  0.219422  0.215153   69.99      0  \n",
       "\n",
       "[5 rows x 31 columns]"
      ]
     },
     "execution_count": 2,
     "metadata": {},
     "output_type": "execute_result"
    }
   ],
   "source": [
    "data = pd.read_csv('../data/creditcard.csv')\n",
    "data.head()"
   ]
  },
  {
   "cell_type": "code",
   "execution_count": 14,
   "id": "e2e35493",
   "metadata": {
    "ExecuteTime": {
     "end_time": "2021-11-25T10:50:06.067474Z",
     "start_time": "2021-11-25T10:50:06.063335Z"
    }
   },
   "outputs": [
    {
     "data": {
      "text/plain": [
       "Index(['Time', 'V1', 'V2', 'V3', 'V4', 'V5', 'V6', 'V7', 'V8', 'V9', 'V10',\n",
       "       'V11', 'V12', 'V13', 'V14', 'V15', 'V16', 'V17', 'V18', 'V19', 'V20',\n",
       "       'V21', 'V22', 'V23', 'V24', 'V25', 'V26', 'V27', 'V28', 'Amount',\n",
       "       'Class'],\n",
       "      dtype='object')"
      ]
     },
     "execution_count": 14,
     "metadata": {},
     "output_type": "execute_result"
    }
   ],
   "source": [
    "data.columns"
   ]
  },
  {
   "cell_type": "markdown",
   "id": "6e62145e",
   "metadata": {},
   "source": [
    "- 금융 데이터이고 기업의 기밀 보호를 위해 대다수 특성의 이름은 삭제되어 있음\n",
    "- Amount: 거래금액\n",
    "- Class: Fraud 여유 (1이면 Fraud)"
   ]
  },
  {
   "cell_type": "markdown",
   "id": "6514cf8c",
   "metadata": {},
   "source": [
    "#### 데이터의 불균형이 심함"
   ]
  },
  {
   "cell_type": "code",
   "execution_count": 30,
   "id": "980ad8ad",
   "metadata": {
    "ExecuteTime": {
     "end_time": "2021-11-25T10:58:09.349819Z",
     "start_time": "2021-11-25T10:58:09.265695Z"
    }
   },
   "outputs": [
    {
     "data": {
      "image/png": "[encoded data removed]",
      "text/plain": [
       "<Figure size 432x288 with 1 Axes>"
      ]
     },
     "metadata": {
      "needs_background": "light"
     },
     "output_type": "display_data"
    }
   ],
   "source": [
    "sns.countplot(x='Class', data=data, palette='RdBu')\n",
    "plt.title('Class Distributions \\n (0: No Fraud || 1: Fraud)', size=14)\n",
    "plt.show()"
   ]
  },
  {
   "cell_type": "code",
   "execution_count": 13,
   "id": "a30f6b45",
   "metadata": {
    "ExecuteTime": {
     "end_time": "2021-11-25T10:49:46.569331Z",
     "start_time": "2021-11-25T10:49:46.557396Z"
    }
   },
   "outputs": [
    {
     "data": {
      "text/plain": [
       "0    284315\n",
       "1       492\n",
       "Name: Class, dtype: int64"
      ]
     },
     "execution_count": 13,
     "metadata": {},
     "output_type": "execute_result"
    }
   ],
   "source": [
    "data.Class.value_counts()"
   ]
  },
  {
   "cell_type": "code",
   "execution_count": 26,
   "id": "bf7b058d",
   "metadata": {
    "ExecuteTime": {
     "end_time": "2021-11-25T10:56:41.717849Z",
     "start_time": "2021-11-25T10:56:41.702092Z"
    }
   },
   "outputs": [
    {
     "name": "stdout",
     "output_type": "stream",
     "text": [
      "Frauds 0.17 % of the dataset\n"
     ]
    }
   ],
   "source": [
    "class1_prop = round(data.Class.value_counts()[1] / len(data) * 100, 2)\n",
    "print('Frauds', class1_prop, '% of the dataset')"
   ]
  },
  {
   "cell_type": "markdown",
   "id": "bc43a862",
   "metadata": {},
   "source": [
    "- Fraud의 비율이 전체 데이터 대비 0.172%"
   ]
  },
  {
   "cell_type": "markdown",
   "id": "0d558719",
   "metadata": {},
   "source": [
    "#### 일단 X, y로 데이터 선정"
   ]
  },
  {
   "cell_type": "code",
   "execution_count": 31,
   "id": "81e21a50",
   "metadata": {
    "ExecuteTime": {
     "end_time": "2021-11-25T11:00:25.574273Z",
     "start_time": "2021-11-25T11:00:25.535734Z"
    }
   },
   "outputs": [
    {
     "data": {
      "text/plain": [
       "((284807, 29), (284807,))"
      ]
     },
     "execution_count": 31,
     "metadata": {},
     "output_type": "execute_result"
    }
   ],
   "source": [
    "X = data.iloc[:, 1:-1]\n",
    "y = data.iloc[:, -1]\n",
    "\n",
    "X.shape, y.shape"
   ]
  },
  {
   "cell_type": "markdown",
   "id": "06145b14",
   "metadata": {},
   "source": [
    "#### 데이터 분리"
   ]
  },
  {
   "cell_type": "code",
   "execution_count": 38,
   "id": "0392f985",
   "metadata": {
    "ExecuteTime": {
     "end_time": "2021-11-25T11:24:39.756214Z",
     "start_time": "2021-11-25T11:24:39.614710Z"
    }
   },
   "outputs": [],
   "source": [
    "from sklearn.model_selection import train_test_split\n",
    "\n",
    "X_train, X_test, y_train, y_test = train_test_split(X, y, test_size=0.3,\n",
    "                                                   random_state=13, stratify=y)"
   ]
  },
  {
   "cell_type": "markdown",
   "id": "e0faa96c",
   "metadata": {},
   "source": [
    "#### 나눈 데이터의 불균형 정도가 어떤 지 확인해보자"
   ]
  },
  {
   "cell_type": "code",
   "execution_count": 39,
   "id": "6ab68eb1",
   "metadata": {
    "ExecuteTime": {
     "end_time": "2021-11-25T11:24:41.356854Z",
     "start_time": "2021-11-25T11:24:41.348792Z"
    }
   },
   "outputs": [
    {
     "data": {
      "text/plain": [
       "(array([0, 1], dtype=int64), array([199020,    344], dtype=int64))"
      ]
     },
     "execution_count": 39,
     "metadata": {},
     "output_type": "execute_result"
    }
   ],
   "source": [
    "# train\n",
    "import numpy as np\n",
    "\n",
    "np.unique(y_train, return_counts=True)"
   ]
  },
  {
   "cell_type": "code",
   "execution_count": 40,
   "id": "05fe17ec",
   "metadata": {
    "ExecuteTime": {
     "end_time": "2021-11-25T11:24:41.960797Z",
     "start_time": "2021-11-25T11:24:41.940546Z"
    }
   },
   "outputs": [
    {
     "name": "stdout",
     "output_type": "stream",
     "text": [
      "0.17254870488152324 %\n"
     ]
    }
   ],
   "source": [
    "tmp = np.unique(y_train, return_counts=True)[1]\n",
    "print(tmp[1] / len(y_train) * 100, '%')"
   ]
  },
  {
   "cell_type": "code",
   "execution_count": 41,
   "id": "b4740bf9",
   "metadata": {
    "ExecuteTime": {
     "end_time": "2021-11-25T11:24:42.517152Z",
     "start_time": "2021-11-25T11:24:42.498196Z"
    }
   },
   "outputs": [
    {
     "data": {
      "text/plain": [
       "(array([0, 1], dtype=int64), array([85295,   148], dtype=int64))"
      ]
     },
     "execution_count": 41,
     "metadata": {},
     "output_type": "execute_result"
    }
   ],
   "source": [
    "# test\n",
    "np.unique(y_test, return_counts=True)"
   ]
  },
  {
   "cell_type": "code",
   "execution_count": 42,
   "id": "404e460b",
   "metadata": {
    "ExecuteTime": {
     "end_time": "2021-11-25T11:24:43.951968Z",
     "start_time": "2021-11-25T11:24:43.941895Z"
    }
   },
   "outputs": [
    {
     "name": "stdout",
     "output_type": "stream",
     "text": [
      "0.17321489179921118 %\n"
     ]
    }
   ],
   "source": [
    "tmp = np.unique(y_test, return_counts=True)[1]\n",
    "print(tmp[1] / len(y_test) * 100, '%')"
   ]
  },
  {
   "cell_type": "markdown",
   "id": "b3779f11",
   "metadata": {},
   "source": [
    "---"
   ]
  },
  {
   "cell_type": "markdown",
   "id": "18092a53",
   "metadata": {},
   "source": [
    "### 단순 무식한 1st Trial"
   ]
  },
  {
   "cell_type": "markdown",
   "id": "70af51ab",
   "metadata": {},
   "source": [
    "#### 먼저 분류기의 성능을 return하는 함수 하나 작성"
   ]
  },
  {
   "cell_type": "code",
   "execution_count": 43,
   "id": "65accf7c",
   "metadata": {
    "ExecuteTime": {
     "end_time": "2021-11-25T11:30:13.777128Z",
     "start_time": "2021-11-25T11:30:13.749603Z"
    }
   },
   "outputs": [],
   "source": [
    "from sklearn.metrics import (accuracy_score, precision_score, recall_score,\n",
    "                            f1_score, roc_auc_score)\n",
    "\n",
    "def get_clf_eval(y_test, pred):\n",
    "    acc = accuracy_score(y_test, pred)\n",
    "    pre = precision_score(y_test, pred)\n",
    "    re = recall_score(y_test, pred)\n",
    "    f1 = f1_score(y_test, pred)\n",
    "    auc = roc_auc_score(y_test, pred)\n",
    "    \n",
    "    return acc, pre, re, f1, auc"
   ]
  },
  {
   "cell_type": "markdown",
   "id": "229fb922",
   "metadata": {},
   "source": [
    "- 이런 식으로 함수화 해두면 나중에 따로 사용하도록 해둘 수 있다"
   ]
  },
  {
   "cell_type": "markdown",
   "id": "e9f04f50",
   "metadata": {},
   "source": [
    "#### 성능을 출력하는 함수 하나 작성"
   ]
  },
  {
   "cell_type": "code",
   "execution_count": 45,
   "id": "1083a595",
   "metadata": {
    "ExecuteTime": {
     "end_time": "2021-11-25T11:56:44.552325Z",
     "start_time": "2021-11-25T11:56:44.545276Z"
    }
   },
   "outputs": [],
   "source": [
    "from sklearn.metrics import confusion_matrix\n",
    "\n",
    "def print_clf_eval(y_test, pred):\n",
    "    confusion = confusion_matrix(y_test, pred)\n",
    "    acc, pre, re, f1, auc = get_clf_eval(y_test, pred)\n",
    "    \n",
    "    print('==> confusion matrix')\n",
    "    print(confusion)\n",
    "    print('====================')\n",
    "    \n",
    "    print('Accuracy: {0:.4f}, Precision: {1:.4f}'.format(acc, pre))\n",
    "    print('Recall: {0:.4f}, F1: {1:.4f}, AUC: {2:.4f}'.format(re, f1, auc))"
   ]
  },
  {
   "cell_type": "markdown",
   "id": "e5ba794a",
   "metadata": {},
   "source": [
    "#### Logistic Regression"
   ]
  },
  {
   "cell_type": "code",
   "execution_count": 47,
   "id": "cccc8c15",
   "metadata": {
    "ExecuteTime": {
     "end_time": "2021-11-25T12:00:12.518093Z",
     "start_time": "2021-11-25T12:00:07.008840Z"
    },
    "scrolled": true
   },
   "outputs": [
    {
     "name": "stdout",
     "output_type": "stream",
     "text": [
      "==> confusion matrix\n",
      "[[85284    11]\n",
      " [   60    88]]\n",
      "====================\n",
      "Accuracy: 0.9992, Precision: 0.8889\n",
      "Recall: 0.5946, F1: 0.7126, AUC: 0.7972\n",
      "Wall time: 5.51 s\n"
     ]
    }
   ],
   "source": [
    "    %%time\n",
    "\n",
    "    from sklearn.linear_model import LogisticRegression\n",
    "\n",
    "    lr_clf = LogisticRegression(random_state=13, solver='liblinear')\n",
    "    lr_clf.fit(X_train, y_train)\n",
    "    lr_pred = lr_clf.predict(X_test)\n",
    "\n",
    "    print_clf_eval(y_test, lr_pred)"
   ]
  },
  {
   "cell_type": "markdown",
   "id": "d4966963",
   "metadata": {},
   "source": [
    "#### Decision Tree"
   ]
  },
  {
   "cell_type": "code",
   "execution_count": 51,
   "id": "81fc4764",
   "metadata": {
    "ExecuteTime": {
     "end_time": "2021-11-25T12:30:22.203062Z",
     "start_time": "2021-11-25T12:30:19.581676Z"
    }
   },
   "outputs": [
    {
     "name": "stdout",
     "output_type": "stream",
     "text": [
      "==> confusion matrix\n",
      "[[85281    14]\n",
      " [   42   106]]\n",
      "====================\n",
      "Accuracy: 0.9993, Precision: 0.8833\n",
      "Recall: 0.7162, F1: 0.7910, AUC: 0.8580\n",
      "Wall time: 2.62 s\n"
     ]
    }
   ],
   "source": [
    "%%time\n",
    "\n",
    "from sklearn.tree import DecisionTreeClassifier\n",
    "\n",
    "dt_clf = DecisionTreeClassifier(random_state=13, max_depth=4)\n",
    "dt_clf.fit(X_train, y_train)\n",
    "dt_pred = dt_clf.predict(X_test)\n",
    "\n",
    "print_clf_eval(y_test, dt_pred)"
   ]
  },
  {
   "cell_type": "markdown",
   "id": "8be820da",
   "metadata": {},
   "source": [
    "#### Random Forest"
   ]
  },
  {
   "cell_type": "code",
   "execution_count": 52,
   "id": "8c9eabc9",
   "metadata": {
    "ExecuteTime": {
     "end_time": "2021-11-25T12:34:24.040105Z",
     "start_time": "2021-11-25T12:33:51.102018Z"
    }
   },
   "outputs": [
    {
     "name": "stdout",
     "output_type": "stream",
     "text": [
      "==> confusion matrix\n",
      "[[85290     5]\n",
      " [   38   110]]\n",
      "====================\n",
      "Accuracy: 0.9995, Precision: 0.9565\n",
      "Recall: 0.7432, F1: 0.8365, AUC: 0.8716\n",
      "Wall time: 32.9 s\n"
     ]
    }
   ],
   "source": [
    "%%time\n",
    "\n",
    "from sklearn.ensemble import RandomForestClassifier\n",
    "\n",
    "rf_clf = RandomForestClassifier(random_state=13, n_jobs=-1, n_estimators=100)\n",
    "rf_clf.fit(X_train, y_train)\n",
    "rf_pred = rf_clf.predict(X_test)\n",
    "\n",
    "print_clf_eval(y_test, rf_pred)"
   ]
  },
  {
   "cell_type": "markdown",
   "id": "4d547c1a",
   "metadata": {},
   "source": [
    "#### LightGBM"
   ]
  },
  {
   "cell_type": "code",
   "execution_count": 54,
   "id": "ad85e164",
   "metadata": {
    "ExecuteTime": {
     "end_time": "2021-11-25T12:36:56.902378Z",
     "start_time": "2021-11-25T12:36:48.569321Z"
    }
   },
   "outputs": [
    {
     "name": "stdout",
     "output_type": "stream",
     "text": [
      "==> confusion matrix\n",
      "[[85289     6]\n",
      " [   34   114]]\n",
      "====================\n",
      "Accuracy: 0.9995, Precision: 0.9500\n",
      "Recall: 0.7703, F1: 0.8507, AUC: 0.8851\n",
      "Wall time: 8.33 s\n"
     ]
    }
   ],
   "source": [
    "%%time\n",
    "\n",
    "from lightgbm import LGBMClassifier\n",
    "\n",
    "lgbm_clf = LGBMClassifier(n_estimators=1000, num_leaves=64, n_jobs=-1,\n",
    "                         boost_from_average=False)\n",
    "lgbm_clf.fit(X_train, y_train)\n",
    "lgbm_pred = lgbm_clf.predict(X_test)\n",
    "\n",
    "print_clf_eval(y_test, lgbm_pred)"
   ]
  },
  {
   "cell_type": "markdown",
   "id": "4f348c90",
   "metadata": {},
   "source": [
    "#### 여기서 Recall과 Precision의 의미는\n",
    "- 은행 입장에서는 Recall이 좋을 것이다\n",
    "- 사용자 입장에서는 Precision이 좋을 것이다"
   ]
  },
  {
   "cell_type": "markdown",
   "id": "267d8809",
   "metadata": {},
   "source": [
    "---"
   ]
  },
  {
   "cell_type": "markdown",
   "id": "d50b07d2",
   "metadata": {},
   "source": [
    "### 한걸음 전진한 1st Trial"
   ]
  },
  {
   "cell_type": "markdown",
   "id": "1f1e8c86",
   "metadata": {},
   "source": [
    "#### 모델과 데이터를 주면 성능을 출력하는 함수를 하나 만들자"
   ]
  },
  {
   "cell_type": "code",
   "execution_count": 118,
   "id": "415d9fa7",
   "metadata": {
    "ExecuteTime": {
     "end_time": "2021-11-26T07:27:20.728393Z",
     "start_time": "2021-11-26T07:27:20.713735Z"
    }
   },
   "outputs": [],
   "source": [
    "def get_result(model, X_train, y_train, X_test, y_test):\n",
    "    model.fit(X_train, y_train)\n",
    "    pred = model.predict(X_test)\n",
    "    \n",
    "    return get_clf_eval(y_test, pred)"
   ]
  },
  {
   "cell_type": "markdown",
   "id": "6be79056",
   "metadata": {},
   "source": [
    "#### 다수의 모델의 성능을 정리해서 DataFrame으로 반환하는 함수 작성"
   ]
  },
  {
   "cell_type": "code",
   "execution_count": 119,
   "id": "7bfbd295",
   "metadata": {
    "ExecuteTime": {
     "end_time": "2021-11-26T07:27:31.107698Z",
     "start_time": "2021-11-26T07:27:31.102698Z"
    }
   },
   "outputs": [],
   "source": [
    "def get_result_pd(models, model_names, X_train, y_train, X_test, y_test):\n",
    "    col_names = ['accuracy', 'precision', 'recall', 'f1', 'roc_auc']\n",
    "    tmp = []\n",
    "    \n",
    "    for model in models:\n",
    "        tmp.append(get_result(model, X_train, y_train, X_test, y_test))\n",
    "    \n",
    "    return pd.DataFrame(tmp, columns=col_names, index=model_names)"
   ]
  },
  {
   "cell_type": "markdown",
   "id": "55302f0b",
   "metadata": {},
   "source": [
    "#### 4개의 분류 모델을 한 번에 표로 정리해보자"
   ]
  },
  {
   "cell_type": "code",
   "execution_count": 58,
   "id": "6fc0586d",
   "metadata": {
    "ExecuteTime": {
     "end_time": "2021-11-26T04:06:59.962887Z",
     "start_time": "2021-11-26T04:06:04.490575Z"
    }
   },
   "outputs": [
    {
     "name": "stdout",
     "output_type": "stream",
     "text": [
      "Fit time:  55.45294189453125\n",
      "Wall time: 55.5 s\n"
     ]
    },
    {
     "data": {
      "text/html": [
       "<div>\n",
       "<style scoped>\n",
       "    .dataframe tbody tr th:only-of-type {\n",
       "        vertical-align: middle;\n",
       "    }\n",
       "\n",
       "    .dataframe tbody tr th {\n",
       "        vertical-align: top;\n",
       "    }\n",
       "\n",
       "    .dataframe thead th {\n",
       "        text-align: right;\n",
       "    }\n",
       "</style>\n",
       "<table border=\"1\" class=\"dataframe\">\n",
       "  <thead>\n",
       "    <tr style=\"text-align: right;\">\n",
       "      <th></th>\n",
       "      <th>accuracy</th>\n",
       "      <th>precision</th>\n",
       "      <th>recall</th>\n",
       "      <th>f1</th>\n",
       "      <th>roc_auc</th>\n",
       "    </tr>\n",
       "  </thead>\n",
       "  <tbody>\n",
       "    <tr>\n",
       "      <th>LogisticReg</th>\n",
       "      <td>0.999169</td>\n",
       "      <td>0.888889</td>\n",
       "      <td>0.594595</td>\n",
       "      <td>0.712551</td>\n",
       "      <td>0.797233</td>\n",
       "    </tr>\n",
       "    <tr>\n",
       "      <th>DecisionTree</th>\n",
       "      <td>0.999345</td>\n",
       "      <td>0.883333</td>\n",
       "      <td>0.716216</td>\n",
       "      <td>0.791045</td>\n",
       "      <td>0.858026</td>\n",
       "    </tr>\n",
       "    <tr>\n",
       "      <th>RandomForest</th>\n",
       "      <td>0.999497</td>\n",
       "      <td>0.956522</td>\n",
       "      <td>0.743243</td>\n",
       "      <td>0.836502</td>\n",
       "      <td>0.871592</td>\n",
       "    </tr>\n",
       "    <tr>\n",
       "      <th>LightGBM</th>\n",
       "      <td>0.999532</td>\n",
       "      <td>0.950000</td>\n",
       "      <td>0.770270</td>\n",
       "      <td>0.850746</td>\n",
       "      <td>0.885100</td>\n",
       "    </tr>\n",
       "  </tbody>\n",
       "</table>\n",
       "</div>"
      ],
      "text/plain": [
       "              accuracy  precision    recall        f1   roc_auc\n",
       "LogisticReg   0.999169   0.888889  0.594595  0.712551  0.797233\n",
       "DecisionTree  0.999345   0.883333  0.716216  0.791045  0.858026\n",
       "RandomForest  0.999497   0.956522  0.743243  0.836502  0.871592\n",
       "LightGBM      0.999532   0.950000  0.770270  0.850746  0.885100"
      ]
     },
     "execution_count": 58,
     "metadata": {},
     "output_type": "execute_result"
    }
   ],
   "source": [
    "%%time\n",
    "\n",
    "models=[lr_clf, dt_clf, rf_clf, lgbm_clf]\n",
    "model_names = ['LogisticReg', 'DecisionTree', 'RandomForest', 'LightGBM']\n",
    "\n",
    "start_time = time.time()\n",
    "results = get_result_pd(models, model_names, X_train, y_train, X_test, y_test)\n",
    "\n",
    "print('Fit time: ', time.time() - start_time)\n",
    "results"
   ]
  },
  {
   "cell_type": "markdown",
   "id": "fa41e537",
   "metadata": {},
   "source": [
    "- 확실히 앙상블 계열의 성능이 우수하다"
   ]
  },
  {
   "cell_type": "markdown",
   "id": "48d5096a",
   "metadata": {},
   "source": [
    "---"
   ]
  },
  {
   "cell_type": "markdown",
   "id": "c3301248",
   "metadata": {},
   "source": [
    "### 데이터를 정리해서 다시 2nd Trial"
   ]
  },
  {
   "cell_type": "markdown",
   "id": "597e8c13",
   "metadata": {},
   "source": [
    "#### data의 Amount 컬럼 확인"
   ]
  },
  {
   "cell_type": "code",
   "execution_count": 68,
   "id": "100de433",
   "metadata": {
    "ExecuteTime": {
     "end_time": "2021-11-26T04:24:12.181893Z",
     "start_time": "2021-11-26T04:24:10.190637Z"
    }
   },
   "outputs": [
    {
     "data": {
      "image/png": "[encoded data removed]",
      "text/plain": [
       "<Figure size 720x360 with 1 Axes>"
      ]
     },
     "metadata": {
      "needs_background": "light"
     },
     "output_type": "display_data"
    }
   ],
   "source": [
    "import warnings\n",
    "warnings.filterwarnings('ignore')\n",
    "\n",
    "plt.figure(figsize=(10, 5))\n",
    "sns.distplot(data['Amount'], color='r')\n",
    "\n",
    "plt.show()"
   ]
  },
  {
   "cell_type": "markdown",
   "id": "0c75b275",
   "metadata": {},
   "source": [
    "- Amount는 신용카드 사용금액\n",
    "- 컬럼의 분포가 특정 대역이 아주 많다"
   ]
  },
  {
   "cell_type": "markdown",
   "id": "dabb4400",
   "metadata": {},
   "source": [
    "#### Amount 컬럼에 StandardScaler 적용"
   ]
  },
  {
   "cell_type": "code",
   "execution_count": 77,
   "id": "1c7101af",
   "metadata": {
    "ExecuteTime": {
     "end_time": "2021-11-26T04:41:59.056119Z",
     "start_time": "2021-11-26T04:41:59.047677Z"
    }
   },
   "outputs": [
    {
     "data": {
      "text/plain": [
       "array([[149.62],\n",
       "       [  2.69],\n",
       "       [378.66],\n",
       "       ...,\n",
       "       [ 67.88],\n",
       "       [ 10.  ],\n",
       "       [217.  ]])"
      ]
     },
     "execution_count": 77,
     "metadata": {},
     "output_type": "execute_result"
    }
   ],
   "source": [
    "data['Amount'].values.reshape(-1, 1)"
   ]
  },
  {
   "cell_type": "code",
   "execution_count": 69,
   "id": "27359c39",
   "metadata": {
    "ExecuteTime": {
     "end_time": "2021-11-26T04:39:09.202372Z",
     "start_time": "2021-11-26T04:39:09.110441Z"
    }
   },
   "outputs": [
    {
     "data": {
      "text/html": [
       "<div>\n",
       "<style scoped>\n",
       "    .dataframe tbody tr th:only-of-type {\n",
       "        vertical-align: middle;\n",
       "    }\n",
       "\n",
       "    .dataframe tbody tr th {\n",
       "        vertical-align: top;\n",
       "    }\n",
       "\n",
       "    .dataframe thead th {\n",
       "        text-align: right;\n",
       "    }\n",
       "</style>\n",
       "<table border=\"1\" class=\"dataframe\">\n",
       "  <thead>\n",
       "    <tr style=\"text-align: right;\">\n",
       "      <th></th>\n",
       "      <th>V1</th>\n",
       "      <th>V2</th>\n",
       "      <th>V3</th>\n",
       "      <th>V4</th>\n",
       "      <th>V5</th>\n",
       "      <th>V6</th>\n",
       "      <th>V7</th>\n",
       "      <th>V8</th>\n",
       "      <th>V9</th>\n",
       "      <th>V10</th>\n",
       "      <th>...</th>\n",
       "      <th>V20</th>\n",
       "      <th>V21</th>\n",
       "      <th>V22</th>\n",
       "      <th>V23</th>\n",
       "      <th>V24</th>\n",
       "      <th>V25</th>\n",
       "      <th>V26</th>\n",
       "      <th>V27</th>\n",
       "      <th>V28</th>\n",
       "      <th>Amount_Scaled</th>\n",
       "    </tr>\n",
       "  </thead>\n",
       "  <tbody>\n",
       "    <tr>\n",
       "      <th>0</th>\n",
       "      <td>-1.359807</td>\n",
       "      <td>-0.072781</td>\n",
       "      <td>2.536347</td>\n",
       "      <td>1.378155</td>\n",
       "      <td>-0.338321</td>\n",
       "      <td>0.462388</td>\n",
       "      <td>0.239599</td>\n",
       "      <td>0.098698</td>\n",
       "      <td>0.363787</td>\n",
       "      <td>0.090794</td>\n",
       "      <td>...</td>\n",
       "      <td>0.251412</td>\n",
       "      <td>-0.018307</td>\n",
       "      <td>0.277838</td>\n",
       "      <td>-0.110474</td>\n",
       "      <td>0.066928</td>\n",
       "      <td>0.128539</td>\n",
       "      <td>-0.189115</td>\n",
       "      <td>0.133558</td>\n",
       "      <td>-0.021053</td>\n",
       "      <td>0.244964</td>\n",
       "    </tr>\n",
       "    <tr>\n",
       "      <th>1</th>\n",
       "      <td>1.191857</td>\n",
       "      <td>0.266151</td>\n",
       "      <td>0.166480</td>\n",
       "      <td>0.448154</td>\n",
       "      <td>0.060018</td>\n",
       "      <td>-0.082361</td>\n",
       "      <td>-0.078803</td>\n",
       "      <td>0.085102</td>\n",
       "      <td>-0.255425</td>\n",
       "      <td>-0.166974</td>\n",
       "      <td>...</td>\n",
       "      <td>-0.069083</td>\n",
       "      <td>-0.225775</td>\n",
       "      <td>-0.638672</td>\n",
       "      <td>0.101288</td>\n",
       "      <td>-0.339846</td>\n",
       "      <td>0.167170</td>\n",
       "      <td>0.125895</td>\n",
       "      <td>-0.008983</td>\n",
       "      <td>0.014724</td>\n",
       "      <td>-0.342475</td>\n",
       "    </tr>\n",
       "    <tr>\n",
       "      <th>2</th>\n",
       "      <td>-1.358354</td>\n",
       "      <td>-1.340163</td>\n",
       "      <td>1.773209</td>\n",
       "      <td>0.379780</td>\n",
       "      <td>-0.503198</td>\n",
       "      <td>1.800499</td>\n",
       "      <td>0.791461</td>\n",
       "      <td>0.247676</td>\n",
       "      <td>-1.514654</td>\n",
       "      <td>0.207643</td>\n",
       "      <td>...</td>\n",
       "      <td>0.524980</td>\n",
       "      <td>0.247998</td>\n",
       "      <td>0.771679</td>\n",
       "      <td>0.909412</td>\n",
       "      <td>-0.689281</td>\n",
       "      <td>-0.327642</td>\n",
       "      <td>-0.139097</td>\n",
       "      <td>-0.055353</td>\n",
       "      <td>-0.059752</td>\n",
       "      <td>1.160686</td>\n",
       "    </tr>\n",
       "    <tr>\n",
       "      <th>3</th>\n",
       "      <td>-0.966272</td>\n",
       "      <td>-0.185226</td>\n",
       "      <td>1.792993</td>\n",
       "      <td>-0.863291</td>\n",
       "      <td>-0.010309</td>\n",
       "      <td>1.247203</td>\n",
       "      <td>0.237609</td>\n",
       "      <td>0.377436</td>\n",
       "      <td>-1.387024</td>\n",
       "      <td>-0.054952</td>\n",
       "      <td>...</td>\n",
       "      <td>-0.208038</td>\n",
       "      <td>-0.108300</td>\n",
       "      <td>0.005274</td>\n",
       "      <td>-0.190321</td>\n",
       "      <td>-1.175575</td>\n",
       "      <td>0.647376</td>\n",
       "      <td>-0.221929</td>\n",
       "      <td>0.062723</td>\n",
       "      <td>0.061458</td>\n",
       "      <td>0.140534</td>\n",
       "    </tr>\n",
       "    <tr>\n",
       "      <th>4</th>\n",
       "      <td>-1.158233</td>\n",
       "      <td>0.877737</td>\n",
       "      <td>1.548718</td>\n",
       "      <td>0.403034</td>\n",
       "      <td>-0.407193</td>\n",
       "      <td>0.095921</td>\n",
       "      <td>0.592941</td>\n",
       "      <td>-0.270533</td>\n",
       "      <td>0.817739</td>\n",
       "      <td>0.753074</td>\n",
       "      <td>...</td>\n",
       "      <td>0.408542</td>\n",
       "      <td>-0.009431</td>\n",
       "      <td>0.798278</td>\n",
       "      <td>-0.137458</td>\n",
       "      <td>0.141267</td>\n",
       "      <td>-0.206010</td>\n",
       "      <td>0.502292</td>\n",
       "      <td>0.219422</td>\n",
       "      <td>0.215153</td>\n",
       "      <td>-0.073403</td>\n",
       "    </tr>\n",
       "  </tbody>\n",
       "</table>\n",
       "<p>5 rows × 29 columns</p>\n",
       "</div>"
      ],
      "text/plain": [
       "         V1        V2        V3        V4        V5        V6        V7  \\\n",
       "0 -1.359807 -0.072781  2.536347  1.378155 -0.338321  0.462388  0.239599   \n",
       "1  1.191857  0.266151  0.166480  0.448154  0.060018 -0.082361 -0.078803   \n",
       "2 -1.358354 -1.340163  1.773209  0.379780 -0.503198  1.800499  0.791461   \n",
       "3 -0.966272 -0.185226  1.792993 -0.863291 -0.010309  1.247203  0.237609   \n",
       "4 -1.158233  0.877737  1.548718  0.403034 -0.407193  0.095921  0.592941   \n",
       "\n",
       "         V8        V9       V10  ...       V20       V21       V22       V23  \\\n",
       "0  0.098698  0.363787  0.090794  ...  0.251412 -0.018307  0.277838 -0.110474   \n",
       "1  0.085102 -0.255425 -0.166974  ... -0.069083 -0.225775 -0.638672  0.101288   \n",
       "2  0.247676 -1.514654  0.207643  ...  0.524980  0.247998  0.771679  0.909412   \n",
       "3  0.377436 -1.387024 -0.054952  ... -0.208038 -0.108300  0.005274 -0.190321   \n",
       "4 -0.270533  0.817739  0.753074  ...  0.408542 -0.009431  0.798278 -0.137458   \n",
       "\n",
       "        V24       V25       V26       V27       V28  Amount_Scaled  \n",
       "0  0.066928  0.128539 -0.189115  0.133558 -0.021053       0.244964  \n",
       "1 -0.339846  0.167170  0.125895 -0.008983  0.014724      -0.342475  \n",
       "2 -0.689281 -0.327642 -0.139097 -0.055353 -0.059752       1.160686  \n",
       "3 -1.175575  0.647376 -0.221929  0.062723  0.061458       0.140534  \n",
       "4  0.141267 -0.206010  0.502292  0.219422  0.215153      -0.073403  \n",
       "\n",
       "[5 rows x 29 columns]"
      ]
     },
     "execution_count": 69,
     "metadata": {},
     "output_type": "execute_result"
    }
   ],
   "source": [
    "from sklearn.preprocessing import StandardScaler\n",
    "\n",
    "scaler = StandardScaler()\n",
    "amount_n = scaler.fit_transform(data['Amount'].values.reshape(-1, 1))\n",
    "\n",
    "data_copy = data.iloc[:, 1:-2]\n",
    "data_copy['Amount_Scaled'] = amount_n\n",
    "data_copy.head()"
   ]
  },
  {
   "cell_type": "code",
   "execution_count": 82,
   "id": "fb4a3ca5",
   "metadata": {
    "ExecuteTime": {
     "end_time": "2021-11-26T04:57:33.582115Z",
     "start_time": "2021-11-26T04:57:31.391805Z"
    }
   },
   "outputs": [
    {
     "data": {
      "image/png": "[encoded data removed]",
      "text/plain": [
       "<Figure size 720x360 with 1 Axes>"
      ]
     },
     "metadata": {
      "needs_background": "light"
     },
     "output_type": "display_data"
    }
   ],
   "source": [
    "plt.figure(figsize=(10, 5))\n",
    "sns.distplot(data_copy['Amount_Scaled'], color='r')\n",
    "\n",
    "plt.show()"
   ]
  },
  {
   "cell_type": "markdown",
   "id": "fad8b3ef",
   "metadata": {},
   "source": [
    "#### 데이터 재분리"
   ]
  },
  {
   "cell_type": "code",
   "execution_count": 78,
   "id": "d3b7cff6",
   "metadata": {
    "ExecuteTime": {
     "end_time": "2021-11-26T04:43:32.899545Z",
     "start_time": "2021-11-26T04:43:32.701811Z"
    }
   },
   "outputs": [],
   "source": [
    "X_train, X_test, y_train, y_test = train_test_split(data_copy, y, test_size=0.3,\n",
    "                                                   random_state=13, stratify=y)"
   ]
  },
  {
   "cell_type": "markdown",
   "id": "c120d709",
   "metadata": {},
   "source": [
    "#### 모델을 다시 평가"
   ]
  },
  {
   "cell_type": "code",
   "execution_count": 79,
   "id": "dc16d68b",
   "metadata": {
    "ExecuteTime": {
     "end_time": "2021-11-26T04:46:02.095867Z",
     "start_time": "2021-11-26T04:45:11.358314Z"
    }
   },
   "outputs": [
    {
     "name": "stdout",
     "output_type": "stream",
     "text": [
      "Fit time:  50.717753171920776\n"
     ]
    },
    {
     "data": {
      "text/html": [
       "<div>\n",
       "<style scoped>\n",
       "    .dataframe tbody tr th:only-of-type {\n",
       "        vertical-align: middle;\n",
       "    }\n",
       "\n",
       "    .dataframe tbody tr th {\n",
       "        vertical-align: top;\n",
       "    }\n",
       "\n",
       "    .dataframe thead th {\n",
       "        text-align: right;\n",
       "    }\n",
       "</style>\n",
       "<table border=\"1\" class=\"dataframe\">\n",
       "  <thead>\n",
       "    <tr style=\"text-align: right;\">\n",
       "      <th></th>\n",
       "      <th>accuracy</th>\n",
       "      <th>precision</th>\n",
       "      <th>recall</th>\n",
       "      <th>f1</th>\n",
       "      <th>roc_auc</th>\n",
       "    </tr>\n",
       "  </thead>\n",
       "  <tbody>\n",
       "    <tr>\n",
       "      <th>LogisticReg</th>\n",
       "      <td>0.999169</td>\n",
       "      <td>0.888889</td>\n",
       "      <td>0.594595</td>\n",
       "      <td>0.712551</td>\n",
       "      <td>0.797233</td>\n",
       "    </tr>\n",
       "    <tr>\n",
       "      <th>DecisionTree</th>\n",
       "      <td>0.999345</td>\n",
       "      <td>0.883333</td>\n",
       "      <td>0.716216</td>\n",
       "      <td>0.791045</td>\n",
       "      <td>0.858026</td>\n",
       "    </tr>\n",
       "    <tr>\n",
       "      <th>RandomForest</th>\n",
       "      <td>0.999497</td>\n",
       "      <td>0.956522</td>\n",
       "      <td>0.743243</td>\n",
       "      <td>0.836502</td>\n",
       "      <td>0.871592</td>\n",
       "    </tr>\n",
       "    <tr>\n",
       "      <th>LightGBM</th>\n",
       "      <td>0.999520</td>\n",
       "      <td>0.949580</td>\n",
       "      <td>0.763514</td>\n",
       "      <td>0.846442</td>\n",
       "      <td>0.881722</td>\n",
       "    </tr>\n",
       "  </tbody>\n",
       "</table>\n",
       "</div>"
      ],
      "text/plain": [
       "              accuracy  precision    recall        f1   roc_auc\n",
       "LogisticReg   0.999169   0.888889  0.594595  0.712551  0.797233\n",
       "DecisionTree  0.999345   0.883333  0.716216  0.791045  0.858026\n",
       "RandomForest  0.999497   0.956522  0.743243  0.836502  0.871592\n",
       "LightGBM      0.999520   0.949580  0.763514  0.846442  0.881722"
      ]
     },
     "execution_count": 79,
     "metadata": {},
     "output_type": "execute_result"
    }
   ],
   "source": [
    "models = [lr_clf, dt_clf, rf_clf, lgbm_clf]\n",
    "model_names = ['LogisticReg', 'DecisionTree', 'RandomForest', 'LightGBM']\n",
    "\n",
    "start_time = time.time()\n",
    "results = get_result_pd(models, model_names, X_train, y_train, X_test, y_test)\n",
    "\n",
    "print('Fit time: ', time.time() - start_time)\n",
    "results"
   ]
  },
  {
   "cell_type": "markdown",
   "id": "3642d354",
   "metadata": {},
   "source": [
    "#### 모델별 ROC커브"
   ]
  },
  {
   "cell_type": "code",
   "execution_count": 80,
   "id": "8b916822",
   "metadata": {
    "ExecuteTime": {
     "end_time": "2021-11-26T04:51:05.495076Z",
     "start_time": "2021-11-26T04:51:04.411838Z"
    },
    "scrolled": true
   },
   "outputs": [
    {
     "data": {
      "image/png": "[encoded data removed]",
      "text/plain": [
       "<Figure size 720x720 with 1 Axes>"
      ]
     },
     "metadata": {
      "needs_background": "light"
     },
     "output_type": "display_data"
    }
   ],
   "source": [
    "from sklearn.metrics import roc_curve\n",
    "\n",
    "def draw_roc_curve(models, model_names, X_test, y_test):\n",
    "    plt.figure(figsize=(10, 10))\n",
    "    \n",
    "    for model in range(len(models)):\n",
    "        pred = models[model].predict_proba(X_test)[:, 1]\n",
    "        fpr, tpr, thresholds = roc_curve(y_test, pred)\n",
    "        plt.plot(fpr, tpr, label=model_names[model])\n",
    "        \n",
    "    plt.plot([0,1], [0,1], 'k--', label='random quess')\n",
    "    plt.title('ROC')\n",
    "    plt.legend()\n",
    "    plt.grid()\n",
    "    plt.show()\n",
    "    \n",
    "draw_roc_curve(models, model_names, X_test, y_test)"
   ]
  },
  {
   "cell_type": "markdown",
   "id": "911759b8",
   "metadata": {},
   "source": [
    "### 또 다른 시도 log scale 2nd Trial"
   ]
  },
  {
   "cell_type": "code",
   "execution_count": 83,
   "id": "d038842d",
   "metadata": {
    "ExecuteTime": {
     "end_time": "2021-11-26T05:00:01.204712Z",
     "start_time": "2021-11-26T05:00:01.168934Z"
    }
   },
   "outputs": [
    {
     "data": {
      "text/html": [
       "<div>\n",
       "<style scoped>\n",
       "    .dataframe tbody tr th:only-of-type {\n",
       "        vertical-align: middle;\n",
       "    }\n",
       "\n",
       "    .dataframe tbody tr th {\n",
       "        vertical-align: top;\n",
       "    }\n",
       "\n",
       "    .dataframe thead th {\n",
       "        text-align: right;\n",
       "    }\n",
       "</style>\n",
       "<table border=\"1\" class=\"dataframe\">\n",
       "  <thead>\n",
       "    <tr style=\"text-align: right;\">\n",
       "      <th></th>\n",
       "      <th>V1</th>\n",
       "      <th>V2</th>\n",
       "      <th>V3</th>\n",
       "      <th>V4</th>\n",
       "      <th>V5</th>\n",
       "      <th>V6</th>\n",
       "      <th>V7</th>\n",
       "      <th>V8</th>\n",
       "      <th>V9</th>\n",
       "      <th>V10</th>\n",
       "      <th>...</th>\n",
       "      <th>V20</th>\n",
       "      <th>V21</th>\n",
       "      <th>V22</th>\n",
       "      <th>V23</th>\n",
       "      <th>V24</th>\n",
       "      <th>V25</th>\n",
       "      <th>V26</th>\n",
       "      <th>V27</th>\n",
       "      <th>V28</th>\n",
       "      <th>Amount_Scaled</th>\n",
       "    </tr>\n",
       "  </thead>\n",
       "  <tbody>\n",
       "    <tr>\n",
       "      <th>0</th>\n",
       "      <td>-1.359807</td>\n",
       "      <td>-0.072781</td>\n",
       "      <td>2.536347</td>\n",
       "      <td>1.378155</td>\n",
       "      <td>-0.338321</td>\n",
       "      <td>0.462388</td>\n",
       "      <td>0.239599</td>\n",
       "      <td>0.098698</td>\n",
       "      <td>0.363787</td>\n",
       "      <td>0.090794</td>\n",
       "      <td>...</td>\n",
       "      <td>0.251412</td>\n",
       "      <td>-0.018307</td>\n",
       "      <td>0.277838</td>\n",
       "      <td>-0.110474</td>\n",
       "      <td>0.066928</td>\n",
       "      <td>0.128539</td>\n",
       "      <td>-0.189115</td>\n",
       "      <td>0.133558</td>\n",
       "      <td>-0.021053</td>\n",
       "      <td>5.014760</td>\n",
       "    </tr>\n",
       "    <tr>\n",
       "      <th>1</th>\n",
       "      <td>1.191857</td>\n",
       "      <td>0.266151</td>\n",
       "      <td>0.166480</td>\n",
       "      <td>0.448154</td>\n",
       "      <td>0.060018</td>\n",
       "      <td>-0.082361</td>\n",
       "      <td>-0.078803</td>\n",
       "      <td>0.085102</td>\n",
       "      <td>-0.255425</td>\n",
       "      <td>-0.166974</td>\n",
       "      <td>...</td>\n",
       "      <td>-0.069083</td>\n",
       "      <td>-0.225775</td>\n",
       "      <td>-0.638672</td>\n",
       "      <td>0.101288</td>\n",
       "      <td>-0.339846</td>\n",
       "      <td>0.167170</td>\n",
       "      <td>0.125895</td>\n",
       "      <td>-0.008983</td>\n",
       "      <td>0.014724</td>\n",
       "      <td>1.305626</td>\n",
       "    </tr>\n",
       "    <tr>\n",
       "      <th>2</th>\n",
       "      <td>-1.358354</td>\n",
       "      <td>-1.340163</td>\n",
       "      <td>1.773209</td>\n",
       "      <td>0.379780</td>\n",
       "      <td>-0.503198</td>\n",
       "      <td>1.800499</td>\n",
       "      <td>0.791461</td>\n",
       "      <td>0.247676</td>\n",
       "      <td>-1.514654</td>\n",
       "      <td>0.207643</td>\n",
       "      <td>...</td>\n",
       "      <td>0.524980</td>\n",
       "      <td>0.247998</td>\n",
       "      <td>0.771679</td>\n",
       "      <td>0.909412</td>\n",
       "      <td>-0.689281</td>\n",
       "      <td>-0.327642</td>\n",
       "      <td>-0.139097</td>\n",
       "      <td>-0.055353</td>\n",
       "      <td>-0.059752</td>\n",
       "      <td>5.939276</td>\n",
       "    </tr>\n",
       "    <tr>\n",
       "      <th>3</th>\n",
       "      <td>-0.966272</td>\n",
       "      <td>-0.185226</td>\n",
       "      <td>1.792993</td>\n",
       "      <td>-0.863291</td>\n",
       "      <td>-0.010309</td>\n",
       "      <td>1.247203</td>\n",
       "      <td>0.237609</td>\n",
       "      <td>0.377436</td>\n",
       "      <td>-1.387024</td>\n",
       "      <td>-0.054952</td>\n",
       "      <td>...</td>\n",
       "      <td>-0.208038</td>\n",
       "      <td>-0.108300</td>\n",
       "      <td>0.005274</td>\n",
       "      <td>-0.190321</td>\n",
       "      <td>-1.175575</td>\n",
       "      <td>0.647376</td>\n",
       "      <td>-0.221929</td>\n",
       "      <td>0.062723</td>\n",
       "      <td>0.061458</td>\n",
       "      <td>4.824306</td>\n",
       "    </tr>\n",
       "    <tr>\n",
       "      <th>4</th>\n",
       "      <td>-1.158233</td>\n",
       "      <td>0.877737</td>\n",
       "      <td>1.548718</td>\n",
       "      <td>0.403034</td>\n",
       "      <td>-0.407193</td>\n",
       "      <td>0.095921</td>\n",
       "      <td>0.592941</td>\n",
       "      <td>-0.270533</td>\n",
       "      <td>0.817739</td>\n",
       "      <td>0.753074</td>\n",
       "      <td>...</td>\n",
       "      <td>0.408542</td>\n",
       "      <td>-0.009431</td>\n",
       "      <td>0.798278</td>\n",
       "      <td>-0.137458</td>\n",
       "      <td>0.141267</td>\n",
       "      <td>-0.206010</td>\n",
       "      <td>0.502292</td>\n",
       "      <td>0.219422</td>\n",
       "      <td>0.215153</td>\n",
       "      <td>4.262539</td>\n",
       "    </tr>\n",
       "  </tbody>\n",
       "</table>\n",
       "<p>5 rows × 29 columns</p>\n",
       "</div>"
      ],
      "text/plain": [
       "         V1        V2        V3        V4        V5        V6        V7  \\\n",
       "0 -1.359807 -0.072781  2.536347  1.378155 -0.338321  0.462388  0.239599   \n",
       "1  1.191857  0.266151  0.166480  0.448154  0.060018 -0.082361 -0.078803   \n",
       "2 -1.358354 -1.340163  1.773209  0.379780 -0.503198  1.800499  0.791461   \n",
       "3 -0.966272 -0.185226  1.792993 -0.863291 -0.010309  1.247203  0.237609   \n",
       "4 -1.158233  0.877737  1.548718  0.403034 -0.407193  0.095921  0.592941   \n",
       "\n",
       "         V8        V9       V10  ...       V20       V21       V22       V23  \\\n",
       "0  0.098698  0.363787  0.090794  ...  0.251412 -0.018307  0.277838 -0.110474   \n",
       "1  0.085102 -0.255425 -0.166974  ... -0.069083 -0.225775 -0.638672  0.101288   \n",
       "2  0.247676 -1.514654  0.207643  ...  0.524980  0.247998  0.771679  0.909412   \n",
       "3  0.377436 -1.387024 -0.054952  ... -0.208038 -0.108300  0.005274 -0.190321   \n",
       "4 -0.270533  0.817739  0.753074  ...  0.408542 -0.009431  0.798278 -0.137458   \n",
       "\n",
       "        V24       V25       V26       V27       V28  Amount_Scaled  \n",
       "0  0.066928  0.128539 -0.189115  0.133558 -0.021053       5.014760  \n",
       "1 -0.339846  0.167170  0.125895 -0.008983  0.014724       1.305626  \n",
       "2 -0.689281 -0.327642 -0.139097 -0.055353 -0.059752       5.939276  \n",
       "3 -1.175575  0.647376 -0.221929  0.062723  0.061458       4.824306  \n",
       "4  0.141267 -0.206010  0.502292  0.219422  0.215153       4.262539  \n",
       "\n",
       "[5 rows x 29 columns]"
      ]
     },
     "execution_count": 83,
     "metadata": {},
     "output_type": "execute_result"
    }
   ],
   "source": [
    "amount_log = np.log1p(data['Amount'])\n",
    "\n",
    "data_copy['Amount_Scaled'] = amount_log\n",
    "data_copy.head()"
   ]
  },
  {
   "cell_type": "markdown",
   "id": "8ddc3eff",
   "metadata": {},
   "source": [
    "#### 분포가 변화함"
   ]
  },
  {
   "cell_type": "code",
   "execution_count": 84,
   "id": "9f95e960",
   "metadata": {
    "ExecuteTime": {
     "end_time": "2021-11-26T05:00:59.397664Z",
     "start_time": "2021-11-26T05:00:58.169515Z"
    }
   },
   "outputs": [
    {
     "data": {
      "image/png": "[encoded data removed]",
      "text/plain": [
       "<Figure size 720x360 with 1 Axes>"
      ]
     },
     "metadata": {
      "needs_background": "light"
     },
     "output_type": "display_data"
    }
   ],
   "source": [
    "plt.figure(figsize=(10, 5))\n",
    "sns.distplot(data_copy['Amount_Scaled'], color='r')\n",
    "\n",
    "plt.show()"
   ]
  },
  {
   "cell_type": "markdown",
   "id": "d6c69011",
   "metadata": {},
   "source": [
    "#### 다시 성능 확인"
   ]
  },
  {
   "cell_type": "code",
   "execution_count": 86,
   "id": "8e3beef1",
   "metadata": {
    "ExecuteTime": {
     "end_time": "2021-11-26T05:05:43.017590Z",
     "start_time": "2021-11-26T05:04:48.108070Z"
    },
    "scrolled": true
   },
   "outputs": [
    {
     "name": "stdout",
     "output_type": "stream",
     "text": [
      "Wall time: 54.9 s\n"
     ]
    },
    {
     "data": {
      "text/html": [
       "<div>\n",
       "<style scoped>\n",
       "    .dataframe tbody tr th:only-of-type {\n",
       "        vertical-align: middle;\n",
       "    }\n",
       "\n",
       "    .dataframe tbody tr th {\n",
       "        vertical-align: top;\n",
       "    }\n",
       "\n",
       "    .dataframe thead th {\n",
       "        text-align: right;\n",
       "    }\n",
       "</style>\n",
       "<table border=\"1\" class=\"dataframe\">\n",
       "  <thead>\n",
       "    <tr style=\"text-align: right;\">\n",
       "      <th></th>\n",
       "      <th>accuracy</th>\n",
       "      <th>precision</th>\n",
       "      <th>recall</th>\n",
       "      <th>f1</th>\n",
       "      <th>roc_auc</th>\n",
       "    </tr>\n",
       "  </thead>\n",
       "  <tbody>\n",
       "    <tr>\n",
       "      <th>LogisticReg</th>\n",
       "      <td>0.999157</td>\n",
       "      <td>0.887755</td>\n",
       "      <td>0.587838</td>\n",
       "      <td>0.707317</td>\n",
       "      <td>0.793854</td>\n",
       "    </tr>\n",
       "    <tr>\n",
       "      <th>DecisionTree</th>\n",
       "      <td>0.999345</td>\n",
       "      <td>0.883333</td>\n",
       "      <td>0.716216</td>\n",
       "      <td>0.791045</td>\n",
       "      <td>0.858026</td>\n",
       "    </tr>\n",
       "    <tr>\n",
       "      <th>RandomForest</th>\n",
       "      <td>0.999497</td>\n",
       "      <td>0.956522</td>\n",
       "      <td>0.743243</td>\n",
       "      <td>0.836502</td>\n",
       "      <td>0.871592</td>\n",
       "    </tr>\n",
       "    <tr>\n",
       "      <th>LightGBM</th>\n",
       "      <td>0.999532</td>\n",
       "      <td>0.950000</td>\n",
       "      <td>0.770270</td>\n",
       "      <td>0.850746</td>\n",
       "      <td>0.885100</td>\n",
       "    </tr>\n",
       "  </tbody>\n",
       "</table>\n",
       "</div>"
      ],
      "text/plain": [
       "              accuracy  precision    recall        f1   roc_auc\n",
       "LogisticReg   0.999157   0.887755  0.587838  0.707317  0.793854\n",
       "DecisionTree  0.999345   0.883333  0.716216  0.791045  0.858026\n",
       "RandomForest  0.999497   0.956522  0.743243  0.836502  0.871592\n",
       "LightGBM      0.999532   0.950000  0.770270  0.850746  0.885100"
      ]
     },
     "execution_count": 86,
     "metadata": {},
     "output_type": "execute_result"
    }
   ],
   "source": [
    "%%time\n",
    "\n",
    "X_train, X_test, y_train, y_test = train_test_split(data_copy, y, test_size=0.3,\n",
    "                                                   random_state=13, stratify=y)\n",
    "\n",
    "models = [lr_clf, dt_clf, rf_clf, lgbm_clf]\n",
    "model_names = ['LogisticReg', 'DecisionTree', 'RandomForest', 'LightGBM']\n",
    "\n",
    "result = get_result_pd(models, model_names, X_train, y_train, X_test, y_test)\n",
    "\n",
    "result"
   ]
  },
  {
   "cell_type": "markdown",
   "id": "5f3fe511",
   "metadata": {},
   "source": [
    "- 미세한 변화가 보이지만 확실한 변화는 관찰되지 않는다"
   ]
  },
  {
   "cell_type": "markdown",
   "id": "4def4190",
   "metadata": {},
   "source": [
    "#### ROC 커브 결과"
   ]
  },
  {
   "cell_type": "code",
   "execution_count": 87,
   "id": "6c31306e",
   "metadata": {
    "ExecuteTime": {
     "end_time": "2021-11-26T05:06:46.779840Z",
     "start_time": "2021-11-26T05:06:45.664010Z"
    }
   },
   "outputs": [
    {
     "data": {
      "image/png": "[encoded data removed]",
      "text/plain": [
       "<Figure size 720x720 with 1 Axes>"
      ]
     },
     "metadata": {
      "needs_background": "light"
     },
     "output_type": "display_data"
    }
   ],
   "source": [
    "draw_roc_curve(models, model_names, X_test, y_test)"
   ]
  },
  {
   "cell_type": "markdown",
   "id": "f98c27cd",
   "metadata": {},
   "source": [
    "### 다시 데이터의 Outlier를 정리해보자 3rd Trial"
   ]
  },
  {
   "cell_type": "markdown",
   "id": "417a32f3",
   "metadata": {},
   "source": [
    "#### 특이 데이터"
   ]
  },
  {
   "cell_type": "code",
   "execution_count": 91,
   "id": "b8939f37",
   "metadata": {
    "ExecuteTime": {
     "end_time": "2021-11-26T05:12:11.931452Z",
     "start_time": "2021-11-26T05:12:11.744749Z"
    }
   },
   "outputs": [
    {
     "data": {
      "image/png": "[encoded data removed]",
      "text/plain": [
       "<Figure size 720x504 with 1 Axes>"
      ]
     },
     "metadata": {
      "needs_background": "light"
     },
     "output_type": "display_data"
    }
   ],
   "source": [
    "import seaborn as sns\n",
    "\n",
    "plt.figure(figsize=(10, 7))\n",
    "sns.boxplot(data=data[['V13', 'V14', 'V15']]);"
   ]
  },
  {
   "cell_type": "markdown",
   "id": "8b7be27c",
   "metadata": {},
   "source": [
    "#### Outlier를 정리하기 위해 Outlier의 인덱스를 파악하는 코드"
   ]
  },
  {
   "cell_type": "code",
   "execution_count": 92,
   "id": "d4d0a6fa",
   "metadata": {
    "ExecuteTime": {
     "end_time": "2021-11-26T05:17:09.379928Z",
     "start_time": "2021-11-26T05:17:09.369638Z"
    }
   },
   "outputs": [],
   "source": [
    "def get_outlier(df=None, column=None, weight=1.5):\n",
    "    fraud = df[df['Class']==1][column]\n",
    "    quantile_25 = np.percentile(fraud.values, 25)\n",
    "    quantile_75 = np.percentile(fraud.values, 75)\n",
    "    \n",
    "    iqr = quantile_75 - quantile_25\n",
    "    iqr_weight = iqr * weight\n",
    "    lowest_val = quantile_25 - iqr_weight\n",
    "    highest_val = quantile_75 + iqr_weight\n",
    "    \n",
    "    outlier_index = fraud[(fraud < lowest_val) | (fraud > highest_val)].index\n",
    "    \n",
    "    return outlier_index"
   ]
  },
  {
   "cell_type": "markdown",
   "id": "451478eb",
   "metadata": {},
   "source": [
    "#### Outlier 찾기"
   ]
  },
  {
   "cell_type": "code",
   "execution_count": 94,
   "id": "86bded40",
   "metadata": {
    "ExecuteTime": {
     "end_time": "2021-11-26T05:21:39.154703Z",
     "start_time": "2021-11-26T05:21:39.147381Z"
    }
   },
   "outputs": [
    {
     "data": {
      "text/plain": [
       "Int64Index([8296, 8615, 9035, 9252], dtype='int64')"
      ]
     },
     "execution_count": 94,
     "metadata": {},
     "output_type": "execute_result"
    }
   ],
   "source": [
    "get_outlier(df=data, column='V14', weight=1.5)"
   ]
  },
  {
   "cell_type": "markdown",
   "id": "4a5a0717",
   "metadata": {},
   "source": [
    "#### Outlier 제거"
   ]
  },
  {
   "cell_type": "code",
   "execution_count": 95,
   "id": "84e18c97",
   "metadata": {
    "ExecuteTime": {
     "end_time": "2021-11-26T05:22:41.247210Z",
     "start_time": "2021-11-26T05:22:41.236892Z"
    }
   },
   "outputs": [
    {
     "data": {
      "text/plain": [
       "(284807, 29)"
      ]
     },
     "execution_count": 95,
     "metadata": {},
     "output_type": "execute_result"
    }
   ],
   "source": [
    "data_copy.shape"
   ]
  },
  {
   "cell_type": "code",
   "execution_count": 97,
   "id": "196127fa",
   "metadata": {
    "ExecuteTime": {
     "end_time": "2021-11-26T05:24:10.409192Z",
     "start_time": "2021-11-26T05:24:10.362656Z"
    }
   },
   "outputs": [
    {
     "data": {
      "text/plain": [
       "(284803, 29)"
      ]
     },
     "execution_count": 97,
     "metadata": {},
     "output_type": "execute_result"
    }
   ],
   "source": [
    "outlier_index = get_outlier(df=data, column='V14', weight=1.5)\n",
    "data_copy.drop(outlier_index, axis=0, inplace=True)\n",
    "data_copy.shape"
   ]
  },
  {
   "cell_type": "markdown",
   "id": "e249e0f9",
   "metadata": {},
   "source": [
    "#### Outlier를 제거하고 데이터 분리"
   ]
  },
  {
   "cell_type": "code",
   "execution_count": 98,
   "id": "9660e4e9",
   "metadata": {
    "ExecuteTime": {
     "end_time": "2021-11-26T05:27:44.367658Z",
     "start_time": "2021-11-26T05:27:44.170998Z"
    }
   },
   "outputs": [],
   "source": [
    "X = data_copy\n",
    "\n",
    "data.drop(outlier_index, axis=0, inplace=True)\n",
    "y = data.iloc[:, -1]\n",
    "\n",
    "X_train, X_test, y_train, y_test = train_test_split(X, y, test_size=0.3,\n",
    "                                                    random_state=13, stratify=y)"
   ]
  },
  {
   "cell_type": "markdown",
   "id": "74371cbb",
   "metadata": {},
   "source": [
    "#### 모델 테스트"
   ]
  },
  {
   "cell_type": "code",
   "execution_count": 99,
   "id": "9c2b30aa",
   "metadata": {
    "ExecuteTime": {
     "end_time": "2021-11-26T05:31:59.983563Z",
     "start_time": "2021-11-26T05:31:08.322796Z"
    }
   },
   "outputs": [
    {
     "name": "stdout",
     "output_type": "stream",
     "text": [
      "Wall time: 51.6 s\n"
     ]
    },
    {
     "data": {
      "text/html": [
       "<div>\n",
       "<style scoped>\n",
       "    .dataframe tbody tr th:only-of-type {\n",
       "        vertical-align: middle;\n",
       "    }\n",
       "\n",
       "    .dataframe tbody tr th {\n",
       "        vertical-align: top;\n",
       "    }\n",
       "\n",
       "    .dataframe thead th {\n",
       "        text-align: right;\n",
       "    }\n",
       "</style>\n",
       "<table border=\"1\" class=\"dataframe\">\n",
       "  <thead>\n",
       "    <tr style=\"text-align: right;\">\n",
       "      <th></th>\n",
       "      <th>accuracy</th>\n",
       "      <th>precision</th>\n",
       "      <th>recall</th>\n",
       "      <th>f1</th>\n",
       "      <th>roc_auc</th>\n",
       "    </tr>\n",
       "  </thead>\n",
       "  <tbody>\n",
       "    <tr>\n",
       "      <th>LogisticReg</th>\n",
       "      <td>0.999286</td>\n",
       "      <td>0.904762</td>\n",
       "      <td>0.650685</td>\n",
       "      <td>0.756972</td>\n",
       "      <td>0.825284</td>\n",
       "    </tr>\n",
       "    <tr>\n",
       "      <th>DecisionTree</th>\n",
       "      <td>0.999427</td>\n",
       "      <td>0.870229</td>\n",
       "      <td>0.780822</td>\n",
       "      <td>0.823105</td>\n",
       "      <td>0.890311</td>\n",
       "    </tr>\n",
       "    <tr>\n",
       "      <th>RandomForest</th>\n",
       "      <td>0.999497</td>\n",
       "      <td>0.918699</td>\n",
       "      <td>0.773973</td>\n",
       "      <td>0.840149</td>\n",
       "      <td>0.886928</td>\n",
       "    </tr>\n",
       "    <tr>\n",
       "      <th>LightGBM</th>\n",
       "      <td>0.999602</td>\n",
       "      <td>0.951613</td>\n",
       "      <td>0.808219</td>\n",
       "      <td>0.874074</td>\n",
       "      <td>0.904074</td>\n",
       "    </tr>\n",
       "  </tbody>\n",
       "</table>\n",
       "</div>"
      ],
      "text/plain": [
       "              accuracy  precision    recall        f1   roc_auc\n",
       "LogisticReg   0.999286   0.904762  0.650685  0.756972  0.825284\n",
       "DecisionTree  0.999427   0.870229  0.780822  0.823105  0.890311\n",
       "RandomForest  0.999497   0.918699  0.773973  0.840149  0.886928\n",
       "LightGBM      0.999602   0.951613  0.808219  0.874074  0.904074"
      ]
     },
     "execution_count": 99,
     "metadata": {},
     "output_type": "execute_result"
    }
   ],
   "source": [
    "%%time\n",
    "\n",
    "models = [lr_clf, dt_clf, rf_clf, lgbm_clf]\n",
    "model_names = ['LogisticReg', 'DecisionTree', 'RandomForest', 'LightGBM']\n",
    "\n",
    "result = get_result_pd(models, model_names, X_train, y_train, X_test, y_test)\n",
    "\n",
    "result"
   ]
  },
  {
   "cell_type": "markdown",
   "id": "15fb13a4",
   "metadata": {},
   "source": [
    "- 성능이 조금 좋아졌다고 볼 수도 있지만 더 봐야할 것 같다"
   ]
  },
  {
   "cell_type": "code",
   "execution_count": 100,
   "id": "b8ac53d3",
   "metadata": {
    "ExecuteTime": {
     "end_time": "2021-11-26T05:32:45.393272Z",
     "start_time": "2021-11-26T05:32:44.369112Z"
    },
    "scrolled": false
   },
   "outputs": [
    {
     "data": {
      "image/png": "[encoded data removed]",
      "text/plain": [
       "<Figure size 720x720 with 1 Axes>"
      ]
     },
     "metadata": {
      "needs_background": "light"
     },
     "output_type": "display_data"
    }
   ],
   "source": [
    "draw_roc_curve(models, model_names, X_test, y_test)"
   ]
  },
  {
   "cell_type": "markdown",
   "id": "e90e3ead",
   "metadata": {},
   "source": [
    "- ROC 커브로 보니 좋아진 것 같다"
   ]
  },
  {
   "cell_type": "markdown",
   "id": "eb352837",
   "metadata": {},
   "source": [
    "### SMOTE Oversampling 4th Trial"
   ]
  },
  {
   "cell_type": "markdown",
   "id": "025563f4",
   "metadata": {},
   "source": [
    "#### Undersampling vs Oversampling\n",
    "- 데이터 불균형이 극심할 때 불균형한 두 클래스의 분포를 강제로 맞춰보는 작업\n",
    "- 언더샘플링: 많은 수의 데이터를 적은 수의 데이터로 강제로 조정\n",
    "- 오버샘플링:\n",
    "    - 원본데이터의 피처 값들을 아주 약간 변경하여 증식\n",
    "    - 대표적으로 SMOTE(Synthetic Minority Over-sampling Technique)방법이 있음\n",
    "    - 적은 데이터 세트에 있는 개별 데이터를 k-최근접이웃 방법으로 찾아서\n",
    "    - 데이터의 분포 사이에 새로운 데이터를 만드는 방식\n",
    "    - imbalanced-learn이라는 Python pkg가 있음"
   ]
  },
  {
   "cell_type": "markdown",
   "id": "ac2fc27a",
   "metadata": {
    "ExecuteTime": {
     "end_time": "2021-11-26T05:39:03.738775Z",
     "start_time": "2021-11-26T05:39:00.589641Z"
    }
   },
   "source": [
    "#### SMOTE 적용"
   ]
  },
  {
   "cell_type": "code",
   "execution_count": 108,
   "id": "7defd5f3",
   "metadata": {
    "ExecuteTime": {
     "end_time": "2021-11-26T05:51:43.220398Z",
     "start_time": "2021-11-26T05:51:42.898012Z"
    }
   },
   "outputs": [],
   "source": [
    "from imblearn.over_sampling import SMOTE\n",
    "\n",
    "smote = SMOTE(random_state=13)\n",
    "X_train_over, y_train_over = smote.fit_resample(X_train, y_train)"
   ]
  },
  {
   "cell_type": "markdown",
   "id": "45f9373d",
   "metadata": {},
   "source": [
    "#### 데이터 증강 효과는"
   ]
  },
  {
   "cell_type": "code",
   "execution_count": 109,
   "id": "faeaec78",
   "metadata": {
    "ExecuteTime": {
     "end_time": "2021-11-26T05:51:44.605073Z",
     "start_time": "2021-11-26T05:51:44.596248Z"
    }
   },
   "outputs": [
    {
     "data": {
      "text/plain": [
       "((199362, 29), (199362,))"
      ]
     },
     "execution_count": 109,
     "metadata": {},
     "output_type": "execute_result"
    }
   ],
   "source": [
    "X_train.shape, y_train.shape"
   ]
  },
  {
   "cell_type": "code",
   "execution_count": 110,
   "id": "4b9b06e6",
   "metadata": {
    "ExecuteTime": {
     "end_time": "2021-11-26T05:51:45.236501Z",
     "start_time": "2021-11-26T05:51:45.228428Z"
    }
   },
   "outputs": [
    {
     "data": {
      "text/plain": [
       "((398040, 29), (398040,))"
      ]
     },
     "execution_count": 110,
     "metadata": {},
     "output_type": "execute_result"
    }
   ],
   "source": [
    "X_train_over.shape, y_train_over.shape"
   ]
  },
  {
   "cell_type": "code",
   "execution_count": 111,
   "id": "97bc4e0c",
   "metadata": {
    "ExecuteTime": {
     "end_time": "2021-11-26T05:51:46.875484Z",
     "start_time": "2021-11-26T05:51:46.859743Z"
    }
   },
   "outputs": [
    {
     "name": "stdout",
     "output_type": "stream",
     "text": [
      "(array([0, 1], dtype=int64), array([199020,    342], dtype=int64))\n",
      "(array([0, 1], dtype=int64), array([199020, 199020], dtype=int64))\n"
     ]
    }
   ],
   "source": [
    "print(np.unique(y_train, return_counts=True))\n",
    "print(np.unique(y_train_over, return_counts=True))"
   ]
  },
  {
   "cell_type": "markdown",
   "id": "6d4d4dc9",
   "metadata": {},
   "source": [
    "- 원래는 라벨의 분포가 불균형했지만 oversampling이 되었다"
   ]
  },
  {
   "cell_type": "code",
   "execution_count": 120,
   "id": "10941bb5",
   "metadata": {
    "ExecuteTime": {
     "end_time": "2021-11-26T07:30:10.565915Z",
     "start_time": "2021-11-26T07:27:37.589594Z"
    }
   },
   "outputs": [
    {
     "name": "stdout",
     "output_type": "stream",
     "text": [
      "Wall time: 2min 32s\n"
     ]
    },
    {
     "data": {
      "text/html": [
       "<div>\n",
       "<style scoped>\n",
       "    .dataframe tbody tr th:only-of-type {\n",
       "        vertical-align: middle;\n",
       "    }\n",
       "\n",
       "    .dataframe tbody tr th {\n",
       "        vertical-align: top;\n",
       "    }\n",
       "\n",
       "    .dataframe thead th {\n",
       "        text-align: right;\n",
       "    }\n",
       "</style>\n",
       "<table border=\"1\" class=\"dataframe\">\n",
       "  <thead>\n",
       "    <tr style=\"text-align: right;\">\n",
       "      <th></th>\n",
       "      <th>accuracy</th>\n",
       "      <th>precision</th>\n",
       "      <th>recall</th>\n",
       "      <th>f1</th>\n",
       "      <th>roc_auc</th>\n",
       "    </tr>\n",
       "  </thead>\n",
       "  <tbody>\n",
       "    <tr>\n",
       "      <th>LogisticReg</th>\n",
       "      <td>0.975609</td>\n",
       "      <td>0.059545</td>\n",
       "      <td>0.897260</td>\n",
       "      <td>0.111679</td>\n",
       "      <td>0.936502</td>\n",
       "    </tr>\n",
       "    <tr>\n",
       "      <th>DecisionTree</th>\n",
       "      <td>0.968984</td>\n",
       "      <td>0.046048</td>\n",
       "      <td>0.869863</td>\n",
       "      <td>0.087466</td>\n",
       "      <td>0.919509</td>\n",
       "    </tr>\n",
       "    <tr>\n",
       "      <th>RandomForest</th>\n",
       "      <td>0.999532</td>\n",
       "      <td>0.873239</td>\n",
       "      <td>0.849315</td>\n",
       "      <td>0.861111</td>\n",
       "      <td>0.924552</td>\n",
       "    </tr>\n",
       "    <tr>\n",
       "      <th>LightGBM</th>\n",
       "      <td>0.999532</td>\n",
       "      <td>0.873239</td>\n",
       "      <td>0.849315</td>\n",
       "      <td>0.861111</td>\n",
       "      <td>0.924552</td>\n",
       "    </tr>\n",
       "  </tbody>\n",
       "</table>\n",
       "</div>"
      ],
      "text/plain": [
       "              accuracy  precision    recall        f1   roc_auc\n",
       "LogisticReg   0.975609   0.059545  0.897260  0.111679  0.936502\n",
       "DecisionTree  0.968984   0.046048  0.869863  0.087466  0.919509\n",
       "RandomForest  0.999532   0.873239  0.849315  0.861111  0.924552\n",
       "LightGBM      0.999532   0.873239  0.849315  0.861111  0.924552"
      ]
     },
     "execution_count": 120,
     "metadata": {},
     "output_type": "execute_result"
    }
   ],
   "source": [
    "%%time\n",
    "\n",
    "models = [lr_clf, dt_clf, rf_clf, lgbm_clf]\n",
    "model_names = ['LogisticReg', 'DecisionTree', 'RandomForest', 'LightGBM']\n",
    "\n",
    "result = get_result_pd(models, model_names, \n",
    "                       X_train_over, y_train_over, X_test, y_test)\n",
    "\n",
    "result"
   ]
  },
  {
   "cell_type": "markdown",
   "id": "b2ce4dd6",
   "metadata": {},
   "source": [
    "- 조금 오래 걸린다\n",
    "- recall의 수치가 좋아진다"
   ]
  },
  {
   "cell_type": "markdown",
   "id": "6b1fae09",
   "metadata": {},
   "source": [
    "#### ROC 커브"
   ]
  },
  {
   "cell_type": "code",
   "execution_count": 121,
   "id": "f8fb73ea",
   "metadata": {
    "ExecuteTime": {
     "end_time": "2021-11-26T07:30:14.044160Z",
     "start_time": "2021-11-26T07:30:10.567914Z"
    }
   },
   "outputs": [
    {
     "data": {
      "image/png": "[encoded data removed]",
      "text/plain": [
       "<Figure size 720x720 with 1 Axes>"
      ]
     },
     "metadata": {
      "needs_background": "light"
     },
     "output_type": "display_data"
    }
   ],
   "source": [
    "draw_roc_curve(models, model_names, X_test, y_test)"
   ]
  },
  {
   "cell_type": "markdown",
   "id": "145e1f4d",
   "metadata": {},
   "source": [
    "- 전체적인 모델들의 성능이 모두 좋아졌다"
   ]
  }
 ],
 "metadata": {
  "kernelspec": {
   "display_name": "Python 3 (ipykernel)",
   "language": "python",
   "name": "python3"
  },
  "language_info": {
   "codemirror_mode": {
    "name": "ipython",
    "version": 3
   },
   "file_extension": ".py",
   "mimetype": "text/x-python",
   "name": "python",
   "nbconvert_exporter": "python",
   "pygments_lexer": "ipython3",
   "version": "3.9.7"
  },
  "toc": {
   "base_numbering": 1,
   "nav_menu": {},
   "number_sections": true,
   "sideBar": true,
   "skip_h1_title": false,
   "title_cell": "Table of Contents",
   "title_sidebar": "Contents",
   "toc_cell": false,
   "toc_position": {
    "height": "calc(100% - 180px)",
    "left": "10px",
    "top": "150px",
    "width": "384px"
   },
   "toc_section_display": true,
   "toc_window_display": true
  }
 },
 "nbformat": 4,
 "nbformat_minor": 5
}
