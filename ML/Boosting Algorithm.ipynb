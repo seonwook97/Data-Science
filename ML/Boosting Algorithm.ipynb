{
 "cells": [
  {
   "cell_type": "markdown",
   "id": "6239a760",
   "metadata": {},
   "source": [
    "## 앙상블 기법\n",
    "- 앙상블은 전통적으로 Voting, Bagging, Boosting, 스태깅 등으로 나눔\n",
    "    - Voting은 전체 데이터를 모두 사용하면서 각각 다른 알고리즘을 적용\n",
    "    - Bagging은 하나의 알고리즘을 적용하는데 전체 데이터를 중복을 허락해서 나누어서 쓴다\n",
    "- 보팅과 배깅은 여러개의 분류기가 투표를 통해 최종 예측 결과를 결정하는 방식\n",
    "- 보팅과 배깅의 차이점은 보팅은 각각 다른 분류기, 배깅은 같은 분류기를 사용\n",
    "- 대표적인 배깅 방식이 랜덤 포레스트"
   ]
  },
  {
   "cell_type": "markdown",
   "id": "acf435de",
   "metadata": {},
   "source": [
    "## Boosting의 개요\n",
    "- 여러 개의 (약한)분류기가 순차적으로 학습을 하면서, 앞에서 학습한 분류기가 예측이 틀린 데이터에 대해 다음 분류기가 가중치를 인가해서 학습을 이어 진행하는 방식\n",
    "    - 약한 분류기란 성능이 떨어지지만 속도가 빠른 \n",
    "    - ex) decision tree에서 max depth를 낮게 주는\n",
    "- 예측 성능이 뛰어나서 앙상블 학습을 주도하고 있음\n",
    "    - 그래디언부스트, XGBoost(eXtra Gradient Boost), LightGBM(Light Gradient Boost) 등이 있음"
   ]
  },
  {
   "cell_type": "markdown",
   "id": "80425b75",
   "metadata": {},
   "source": [
    "### 배깅과 부스팅의 차이\n",
    "- Bagging\n",
    "    - 한번에 병렬적으로 결과를 얻음\n",
    "    - 학습을 하는 타이밍이 한번에 동시에 이루어짐\n",
    "- Boosting\n",
    "    - 데이터를 학습하고 그 결과를 가지고 틀린것이나 가중치가 필요한 것들만 모아 다시 학습하는 과정의 반복\n",
    "    - 순차적으로 진행됨"
   ]
  },
  {
   "cell_type": "markdown",
   "id": "666cc6f1",
   "metadata": {},
   "source": [
    "### Adaboost \n",
    "- STEP (1)\n",
    "    - 순차적으로 가중치를 부여해서 최종 결과를 얻음\n",
    "    - AdaBoost는 DecisionTree 기반의 알고리즘\n",
    "\n",
    "- STEP (2)\n",
    "    - STEP1에서 틀린 +에 가중치를 인가하고 다시 경계를 결정\n",
    " \n",
    "- STEP (3)\n",
    "    - 다시 놓친 -에 가중치를 인가하고 다시 경계를 결정\n",
    "\n",
    "- STEP (4)\n",
    "    - 앞서 결정한 경계들을 합침"
   ]
  },
  {
   "cell_type": "markdown",
   "id": "68282fc5",
   "metadata": {},
   "source": [
    "### 부스팅 기법\n",
    "- GBM(Gradient Boosting Machine): AdaBoost 기법과 비스하지만, 가중치를 업데이트 할 때 경사하강법(Gradient Descent)을 사용\n",
    "- XGBoost(eXtra Gradient Boost): GBM에서 PC의 파워를 효율적으로 사용하기 위한 다양한 기법에 채택되어 빠른 속도와 효율을 가짐\n",
    "- LightGBM: XGBoost보다 빠른 속도를 가짐"
   ]
  },
  {
   "cell_type": "markdown",
   "id": "0378b49d",
   "metadata": {},
   "source": [
    "### 와인 데이터로 실습"
   ]
  },
  {
   "cell_type": "code",
   "execution_count": 1,
   "id": "670913d5",
   "metadata": {},
   "outputs": [
    {
     "data": {
      "text/html": [
       "<div>\n",
       "<style scoped>\n",
       "    .dataframe tbody tr th:only-of-type {\n",
       "        vertical-align: middle;\n",
       "    }\n",
       "\n",
       "    .dataframe tbody tr th {\n",
       "        vertical-align: top;\n",
       "    }\n",
       "\n",
       "    .dataframe thead th {\n",
       "        text-align: right;\n",
       "    }\n",
       "</style>\n",
       "<table border=\"1\" class=\"dataframe\">\n",
       "  <thead>\n",
       "    <tr style=\"text-align: right;\">\n",
       "      <th></th>\n",
       "      <th>fixed acidity</th>\n",
       "      <th>volatile acidity</th>\n",
       "      <th>citric acid</th>\n",
       "      <th>residual sugar</th>\n",
       "      <th>chlorides</th>\n",
       "      <th>free sulfur dioxide</th>\n",
       "      <th>total sulfur dioxide</th>\n",
       "      <th>density</th>\n",
       "      <th>pH</th>\n",
       "      <th>sulphates</th>\n",
       "      <th>alcohol</th>\n",
       "      <th>quality</th>\n",
       "      <th>color</th>\n",
       "    </tr>\n",
       "  </thead>\n",
       "  <tbody>\n",
       "    <tr>\n",
       "      <th>0</th>\n",
       "      <td>7.4</td>\n",
       "      <td>0.70</td>\n",
       "      <td>0.00</td>\n",
       "      <td>1.9</td>\n",
       "      <td>0.076</td>\n",
       "      <td>11.0</td>\n",
       "      <td>34.0</td>\n",
       "      <td>0.9978</td>\n",
       "      <td>3.51</td>\n",
       "      <td>0.56</td>\n",
       "      <td>9.4</td>\n",
       "      <td>5</td>\n",
       "      <td>1</td>\n",
       "    </tr>\n",
       "    <tr>\n",
       "      <th>1</th>\n",
       "      <td>7.8</td>\n",
       "      <td>0.88</td>\n",
       "      <td>0.00</td>\n",
       "      <td>2.6</td>\n",
       "      <td>0.098</td>\n",
       "      <td>25.0</td>\n",
       "      <td>67.0</td>\n",
       "      <td>0.9968</td>\n",
       "      <td>3.20</td>\n",
       "      <td>0.68</td>\n",
       "      <td>9.8</td>\n",
       "      <td>5</td>\n",
       "      <td>1</td>\n",
       "    </tr>\n",
       "    <tr>\n",
       "      <th>2</th>\n",
       "      <td>7.8</td>\n",
       "      <td>0.76</td>\n",
       "      <td>0.04</td>\n",
       "      <td>2.3</td>\n",
       "      <td>0.092</td>\n",
       "      <td>15.0</td>\n",
       "      <td>54.0</td>\n",
       "      <td>0.9970</td>\n",
       "      <td>3.26</td>\n",
       "      <td>0.65</td>\n",
       "      <td>9.8</td>\n",
       "      <td>5</td>\n",
       "      <td>1</td>\n",
       "    </tr>\n",
       "    <tr>\n",
       "      <th>3</th>\n",
       "      <td>11.2</td>\n",
       "      <td>0.28</td>\n",
       "      <td>0.56</td>\n",
       "      <td>1.9</td>\n",
       "      <td>0.075</td>\n",
       "      <td>17.0</td>\n",
       "      <td>60.0</td>\n",
       "      <td>0.9980</td>\n",
       "      <td>3.16</td>\n",
       "      <td>0.58</td>\n",
       "      <td>9.8</td>\n",
       "      <td>6</td>\n",
       "      <td>1</td>\n",
       "    </tr>\n",
       "    <tr>\n",
       "      <th>4</th>\n",
       "      <td>7.4</td>\n",
       "      <td>0.70</td>\n",
       "      <td>0.00</td>\n",
       "      <td>1.9</td>\n",
       "      <td>0.076</td>\n",
       "      <td>11.0</td>\n",
       "      <td>34.0</td>\n",
       "      <td>0.9978</td>\n",
       "      <td>3.51</td>\n",
       "      <td>0.56</td>\n",
       "      <td>9.4</td>\n",
       "      <td>5</td>\n",
       "      <td>1</td>\n",
       "    </tr>\n",
       "  </tbody>\n",
       "</table>\n",
       "</div>"
      ],
      "text/plain": [
       "   fixed acidity  volatile acidity  citric acid  residual sugar  chlorides  \\\n",
       "0            7.4              0.70         0.00             1.9      0.076   \n",
       "1            7.8              0.88         0.00             2.6      0.098   \n",
       "2            7.8              0.76         0.04             2.3      0.092   \n",
       "3           11.2              0.28         0.56             1.9      0.075   \n",
       "4            7.4              0.70         0.00             1.9      0.076   \n",
       "\n",
       "   free sulfur dioxide  total sulfur dioxide  density    pH  sulphates  \\\n",
       "0                 11.0                  34.0   0.9978  3.51       0.56   \n",
       "1                 25.0                  67.0   0.9968  3.20       0.68   \n",
       "2                 15.0                  54.0   0.9970  3.26       0.65   \n",
       "3                 17.0                  60.0   0.9980  3.16       0.58   \n",
       "4                 11.0                  34.0   0.9978  3.51       0.56   \n",
       "\n",
       "   alcohol  quality  color  \n",
       "0      9.4        5      1  \n",
       "1      9.8        5      1  \n",
       "2      9.8        5      1  \n",
       "3      9.8        6      1  \n",
       "4      9.4        5      1  "
      ]
     },
     "execution_count": 1,
     "metadata": {},
     "output_type": "execute_result"
    }
   ],
   "source": [
    "import pandas as pd\n",
    "\n",
    "wine_url = 'https://raw.githubusercontent.com/PinkWink/ML_tutorial/master/dataset/wine.csv'\n",
    "\n",
    "wine = pd.read_csv(wine_url, index_col=0)\n",
    "wine.head()"
   ]
  },
  {
   "cell_type": "code",
   "execution_count": 2,
   "id": "8bd109bc",
   "metadata": {},
   "outputs": [],
   "source": [
    "# 맛 등급 만들어 넣기\n",
    "wine['taste'] = [1. if grade > 5 else 0. for grade in wine['quality']]\n",
    "\n",
    "X = wine.drop(['taste', 'quality'], axis=1)\n",
    "y = wine['taste']"
   ]
  },
  {
   "cell_type": "markdown",
   "id": "b836cba7",
   "metadata": {},
   "source": [
    "#### pipeline이 아니라 직접 StandardScaler를 적용"
   ]
  },
  {
   "cell_type": "code",
   "execution_count": 3,
   "id": "798f2781",
   "metadata": {},
   "outputs": [],
   "source": [
    "from sklearn.preprocessing import StandardScaler\n",
    "\n",
    "sc = StandardScaler()\n",
    "X_sc = sc.fit_transform(X)"
   ]
  },
  {
   "cell_type": "markdown",
   "id": "cb1cf534",
   "metadata": {},
   "source": [
    "#### Scaler 적용 후 데이터 분리"
   ]
  },
  {
   "cell_type": "code",
   "execution_count": 4,
   "id": "7d63f2f7",
   "metadata": {},
   "outputs": [],
   "source": [
    "from sklearn.model_selection import train_test_split\n",
    "\n",
    "X_train, X_test, y_train, y_test = train_test_split(X_sc, y, test_size=0.2,\n",
    "                                                   random_state=13)"
   ]
  },
  {
   "cell_type": "markdown",
   "id": "ee220a81",
   "metadata": {},
   "source": [
    "- 이 상태에서 cross-validation을 한다면 X_train만 대상이 된다"
   ]
  },
  {
   "cell_type": "markdown",
   "id": "630c7800",
   "metadata": {},
   "source": [
    "#### 모든 컬럼의 히스토그램 조사"
   ]
  },
  {
   "cell_type": "code",
   "execution_count": 5,
   "id": "3d43a24d",
   "metadata": {},
   "outputs": [
    {
     "data": {
      "image/png": "[encoded data removed]",
      "text/plain": [
       "<Figure size 1080x720 with 16 Axes>"
      ]
     },
     "metadata": {
      "needs_background": "light"
     },
     "output_type": "display_data"
    }
   ],
   "source": [
    "import matplotlib.pyplot as plt\n",
    "%matplotlib inline\n",
    "\n",
    "wine.hist(bins=10, figsize=(15, 10))\n",
    "plt.show()"
   ]
  },
  {
   "cell_type": "markdown",
   "id": "ab8cebc8",
   "metadata": {},
   "source": [
    "- 잘 분포되어 있는 컬럼이 좋을 때가 많다"
   ]
  },
  {
   "cell_type": "markdown",
   "id": "4f2efca5",
   "metadata": {},
   "source": [
    "#### quality별 다른 특성이 어떤지 확인해보자"
   ]
  },
  {
   "cell_type": "code",
   "execution_count": 6,
   "id": "31352e66",
   "metadata": {},
   "outputs": [
    {
     "data": {
      "text/plain": [
       "Index(['fixed acidity', 'volatile acidity', 'citric acid', 'residual sugar',\n",
       "       'chlorides', 'free sulfur dioxide', 'total sulfur dioxide', 'density',\n",
       "       'pH', 'sulphates', 'alcohol', 'quality', 'color', 'taste'],\n",
       "      dtype='object')"
      ]
     },
     "execution_count": 6,
     "metadata": {},
     "output_type": "execute_result"
    }
   ],
   "source": [
    "wine.columns"
   ]
  },
  {
   "cell_type": "code",
   "execution_count": 9,
   "id": "74cffbb9",
   "metadata": {},
   "outputs": [
    {
     "name": "stdout",
     "output_type": "stream",
     "text": [
      "         alcohol  chlorides  citric acid   density  fixed acidity  \\\n",
      "quality                                                             \n",
      "3          10.15     0.0550         0.33  0.995900           7.45   \n",
      "4          10.00     0.0505         0.26  0.994995           7.00   \n",
      "5           9.60     0.0530         0.30  0.996100           7.10   \n",
      "6          10.50     0.0460         0.31  0.994700           6.90   \n",
      "7          11.40     0.0390         0.32  0.992400           6.90   \n",
      "8          12.00     0.0370         0.32  0.991890           6.80   \n",
      "9          12.50     0.0310         0.36  0.990300           7.10   \n",
      "\n",
      "         free sulfur dioxide     pH  residual sugar  sulphates  \\\n",
      "quality                                                          \n",
      "3                       17.0  3.245            3.15      0.505   \n",
      "4                       15.0  3.220            2.20      0.485   \n",
      "5                       27.0  3.190            3.00      0.500   \n",
      "6                       29.0  3.210            3.10      0.510   \n",
      "7                       30.0  3.220            2.80      0.520   \n",
      "8                       34.0  3.230            4.10      0.480   \n",
      "9                       28.0  3.280            2.20      0.460   \n",
      "\n",
      "         total sulfur dioxide  volatile acidity  \n",
      "quality                                          \n",
      "3                       102.5             0.415  \n",
      "4                       102.0             0.380  \n",
      "5                       127.0             0.330  \n",
      "6                       117.0             0.270  \n",
      "7                       114.0             0.270  \n",
      "8                       118.0             0.280  \n",
      "9                       119.0             0.270  \n"
     ]
    }
   ],
   "source": [
    "colum_names = ['fixed acidity', 'volatile acidity', 'citric acid', 'residual sugar',\n",
    "       'chlorides', 'free sulfur dioxide', 'total sulfur dioxide', 'density',\n",
    "       'pH', 'sulphates', 'alcohol']\n",
    "\n",
    "df_pivot_table = wine.pivot_table(colum_names, ['quality'], aggfunc='median')\n",
    "print(df_pivot_table)"
   ]
  },
  {
   "cell_type": "markdown",
   "id": "6dcb0d10",
   "metadata": {},
   "source": [
    "#### quality에 대한 나머지 특징들의 상관관계"
   ]
  },
  {
   "cell_type": "code",
   "execution_count": 12,
   "id": "a00b5eb4",
   "metadata": {},
   "outputs": [
    {
     "data": {
      "text/html": [
       "<div>\n",
       "<style scoped>\n",
       "    .dataframe tbody tr th:only-of-type {\n",
       "        vertical-align: middle;\n",
       "    }\n",
       "\n",
       "    .dataframe tbody tr th {\n",
       "        vertical-align: top;\n",
       "    }\n",
       "\n",
       "    .dataframe thead th {\n",
       "        text-align: right;\n",
       "    }\n",
       "</style>\n",
       "<table border=\"1\" class=\"dataframe\">\n",
       "  <thead>\n",
       "    <tr style=\"text-align: right;\">\n",
       "      <th></th>\n",
       "      <th>fixed acidity</th>\n",
       "      <th>volatile acidity</th>\n",
       "      <th>citric acid</th>\n",
       "      <th>residual sugar</th>\n",
       "      <th>chlorides</th>\n",
       "      <th>free sulfur dioxide</th>\n",
       "      <th>total sulfur dioxide</th>\n",
       "      <th>density</th>\n",
       "      <th>pH</th>\n",
       "      <th>sulphates</th>\n",
       "      <th>alcohol</th>\n",
       "      <th>quality</th>\n",
       "      <th>color</th>\n",
       "      <th>taste</th>\n",
       "    </tr>\n",
       "  </thead>\n",
       "  <tbody>\n",
       "    <tr>\n",
       "      <th>fixed acidity</th>\n",
       "      <td>1.000000</td>\n",
       "      <td>0.219008</td>\n",
       "      <td>0.324436</td>\n",
       "      <td>-0.111981</td>\n",
       "      <td>0.298195</td>\n",
       "      <td>-0.282735</td>\n",
       "      <td>-0.329054</td>\n",
       "      <td>0.458910</td>\n",
       "      <td>-0.252700</td>\n",
       "      <td>0.299568</td>\n",
       "      <td>-0.095452</td>\n",
       "      <td>-0.076743</td>\n",
       "      <td>0.486740</td>\n",
       "      <td>-0.067354</td>\n",
       "    </tr>\n",
       "    <tr>\n",
       "      <th>volatile acidity</th>\n",
       "      <td>0.219008</td>\n",
       "      <td>1.000000</td>\n",
       "      <td>-0.377981</td>\n",
       "      <td>-0.196011</td>\n",
       "      <td>0.377124</td>\n",
       "      <td>-0.352557</td>\n",
       "      <td>-0.414476</td>\n",
       "      <td>0.271296</td>\n",
       "      <td>0.261454</td>\n",
       "      <td>0.225984</td>\n",
       "      <td>-0.037640</td>\n",
       "      <td>-0.265699</td>\n",
       "      <td>0.653036</td>\n",
       "      <td>-0.267046</td>\n",
       "    </tr>\n",
       "    <tr>\n",
       "      <th>citric acid</th>\n",
       "      <td>0.324436</td>\n",
       "      <td>-0.377981</td>\n",
       "      <td>1.000000</td>\n",
       "      <td>0.142451</td>\n",
       "      <td>0.038998</td>\n",
       "      <td>0.133126</td>\n",
       "      <td>0.195242</td>\n",
       "      <td>0.096154</td>\n",
       "      <td>-0.329808</td>\n",
       "      <td>0.056197</td>\n",
       "      <td>-0.010493</td>\n",
       "      <td>0.085532</td>\n",
       "      <td>-0.187397</td>\n",
       "      <td>0.075739</td>\n",
       "    </tr>\n",
       "    <tr>\n",
       "      <th>residual sugar</th>\n",
       "      <td>-0.111981</td>\n",
       "      <td>-0.196011</td>\n",
       "      <td>0.142451</td>\n",
       "      <td>1.000000</td>\n",
       "      <td>-0.128940</td>\n",
       "      <td>0.402871</td>\n",
       "      <td>0.495482</td>\n",
       "      <td>0.552517</td>\n",
       "      <td>-0.267320</td>\n",
       "      <td>-0.185927</td>\n",
       "      <td>-0.359415</td>\n",
       "      <td>-0.036980</td>\n",
       "      <td>-0.348821</td>\n",
       "      <td>-0.032484</td>\n",
       "    </tr>\n",
       "    <tr>\n",
       "      <th>chlorides</th>\n",
       "      <td>0.298195</td>\n",
       "      <td>0.377124</td>\n",
       "      <td>0.038998</td>\n",
       "      <td>-0.128940</td>\n",
       "      <td>1.000000</td>\n",
       "      <td>-0.195045</td>\n",
       "      <td>-0.279630</td>\n",
       "      <td>0.362615</td>\n",
       "      <td>0.044708</td>\n",
       "      <td>0.395593</td>\n",
       "      <td>-0.256916</td>\n",
       "      <td>-0.200666</td>\n",
       "      <td>0.512678</td>\n",
       "      <td>-0.181908</td>\n",
       "    </tr>\n",
       "    <tr>\n",
       "      <th>free sulfur dioxide</th>\n",
       "      <td>-0.282735</td>\n",
       "      <td>-0.352557</td>\n",
       "      <td>0.133126</td>\n",
       "      <td>0.402871</td>\n",
       "      <td>-0.195045</td>\n",
       "      <td>1.000000</td>\n",
       "      <td>0.720934</td>\n",
       "      <td>0.025717</td>\n",
       "      <td>-0.145854</td>\n",
       "      <td>-0.188457</td>\n",
       "      <td>-0.179838</td>\n",
       "      <td>0.055463</td>\n",
       "      <td>-0.471644</td>\n",
       "      <td>0.044819</td>\n",
       "    </tr>\n",
       "    <tr>\n",
       "      <th>total sulfur dioxide</th>\n",
       "      <td>-0.329054</td>\n",
       "      <td>-0.414476</td>\n",
       "      <td>0.195242</td>\n",
       "      <td>0.495482</td>\n",
       "      <td>-0.279630</td>\n",
       "      <td>0.720934</td>\n",
       "      <td>1.000000</td>\n",
       "      <td>0.032395</td>\n",
       "      <td>-0.238413</td>\n",
       "      <td>-0.275727</td>\n",
       "      <td>-0.265740</td>\n",
       "      <td>-0.041385</td>\n",
       "      <td>-0.700357</td>\n",
       "      <td>-0.047585</td>\n",
       "    </tr>\n",
       "    <tr>\n",
       "      <th>density</th>\n",
       "      <td>0.458910</td>\n",
       "      <td>0.271296</td>\n",
       "      <td>0.096154</td>\n",
       "      <td>0.552517</td>\n",
       "      <td>0.362615</td>\n",
       "      <td>0.025717</td>\n",
       "      <td>0.032395</td>\n",
       "      <td>1.000000</td>\n",
       "      <td>0.011686</td>\n",
       "      <td>0.259478</td>\n",
       "      <td>-0.686745</td>\n",
       "      <td>-0.305858</td>\n",
       "      <td>0.390645</td>\n",
       "      <td>-0.268876</td>\n",
       "    </tr>\n",
       "    <tr>\n",
       "      <th>pH</th>\n",
       "      <td>-0.252700</td>\n",
       "      <td>0.261454</td>\n",
       "      <td>-0.329808</td>\n",
       "      <td>-0.267320</td>\n",
       "      <td>0.044708</td>\n",
       "      <td>-0.145854</td>\n",
       "      <td>-0.238413</td>\n",
       "      <td>0.011686</td>\n",
       "      <td>1.000000</td>\n",
       "      <td>0.192123</td>\n",
       "      <td>0.121248</td>\n",
       "      <td>0.019506</td>\n",
       "      <td>0.329129</td>\n",
       "      <td>0.018842</td>\n",
       "    </tr>\n",
       "    <tr>\n",
       "      <th>sulphates</th>\n",
       "      <td>0.299568</td>\n",
       "      <td>0.225984</td>\n",
       "      <td>0.056197</td>\n",
       "      <td>-0.185927</td>\n",
       "      <td>0.395593</td>\n",
       "      <td>-0.188457</td>\n",
       "      <td>-0.275727</td>\n",
       "      <td>0.259478</td>\n",
       "      <td>0.192123</td>\n",
       "      <td>1.000000</td>\n",
       "      <td>-0.003029</td>\n",
       "      <td>0.038485</td>\n",
       "      <td>0.487218</td>\n",
       "      <td>0.035807</td>\n",
       "    </tr>\n",
       "    <tr>\n",
       "      <th>alcohol</th>\n",
       "      <td>-0.095452</td>\n",
       "      <td>-0.037640</td>\n",
       "      <td>-0.010493</td>\n",
       "      <td>-0.359415</td>\n",
       "      <td>-0.256916</td>\n",
       "      <td>-0.179838</td>\n",
       "      <td>-0.265740</td>\n",
       "      <td>-0.686745</td>\n",
       "      <td>0.121248</td>\n",
       "      <td>-0.003029</td>\n",
       "      <td>1.000000</td>\n",
       "      <td>0.444319</td>\n",
       "      <td>-0.032970</td>\n",
       "      <td>0.394676</td>\n",
       "    </tr>\n",
       "    <tr>\n",
       "      <th>quality</th>\n",
       "      <td>-0.076743</td>\n",
       "      <td>-0.265699</td>\n",
       "      <td>0.085532</td>\n",
       "      <td>-0.036980</td>\n",
       "      <td>-0.200666</td>\n",
       "      <td>0.055463</td>\n",
       "      <td>-0.041385</td>\n",
       "      <td>-0.305858</td>\n",
       "      <td>0.019506</td>\n",
       "      <td>0.038485</td>\n",
       "      <td>0.444319</td>\n",
       "      <td>1.000000</td>\n",
       "      <td>-0.119323</td>\n",
       "      <td>0.814484</td>\n",
       "    </tr>\n",
       "    <tr>\n",
       "      <th>color</th>\n",
       "      <td>0.486740</td>\n",
       "      <td>0.653036</td>\n",
       "      <td>-0.187397</td>\n",
       "      <td>-0.348821</td>\n",
       "      <td>0.512678</td>\n",
       "      <td>-0.471644</td>\n",
       "      <td>-0.700357</td>\n",
       "      <td>0.390645</td>\n",
       "      <td>0.329129</td>\n",
       "      <td>0.487218</td>\n",
       "      <td>-0.032970</td>\n",
       "      <td>-0.119323</td>\n",
       "      <td>1.000000</td>\n",
       "      <td>-0.116595</td>\n",
       "    </tr>\n",
       "    <tr>\n",
       "      <th>taste</th>\n",
       "      <td>-0.067354</td>\n",
       "      <td>-0.267046</td>\n",
       "      <td>0.075739</td>\n",
       "      <td>-0.032484</td>\n",
       "      <td>-0.181908</td>\n",
       "      <td>0.044819</td>\n",
       "      <td>-0.047585</td>\n",
       "      <td>-0.268876</td>\n",
       "      <td>0.018842</td>\n",
       "      <td>0.035807</td>\n",
       "      <td>0.394676</td>\n",
       "      <td>0.814484</td>\n",
       "      <td>-0.116595</td>\n",
       "      <td>1.000000</td>\n",
       "    </tr>\n",
       "  </tbody>\n",
       "</table>\n",
       "</div>"
      ],
      "text/plain": [
       "                      fixed acidity  volatile acidity  citric acid  \\\n",
       "fixed acidity              1.000000          0.219008     0.324436   \n",
       "volatile acidity           0.219008          1.000000    -0.377981   \n",
       "citric acid                0.324436         -0.377981     1.000000   \n",
       "residual sugar            -0.111981         -0.196011     0.142451   \n",
       "chlorides                  0.298195          0.377124     0.038998   \n",
       "free sulfur dioxide       -0.282735         -0.352557     0.133126   \n",
       "total sulfur dioxide      -0.329054         -0.414476     0.195242   \n",
       "density                    0.458910          0.271296     0.096154   \n",
       "pH                        -0.252700          0.261454    -0.329808   \n",
       "sulphates                  0.299568          0.225984     0.056197   \n",
       "alcohol                   -0.095452         -0.037640    -0.010493   \n",
       "quality                   -0.076743         -0.265699     0.085532   \n",
       "color                      0.486740          0.653036    -0.187397   \n",
       "taste                     -0.067354         -0.267046     0.075739   \n",
       "\n",
       "                      residual sugar  chlorides  free sulfur dioxide  \\\n",
       "fixed acidity              -0.111981   0.298195            -0.282735   \n",
       "volatile acidity           -0.196011   0.377124            -0.352557   \n",
       "citric acid                 0.142451   0.038998             0.133126   \n",
       "residual sugar              1.000000  -0.128940             0.402871   \n",
       "chlorides                  -0.128940   1.000000            -0.195045   \n",
       "free sulfur dioxide         0.402871  -0.195045             1.000000   \n",
       "total sulfur dioxide        0.495482  -0.279630             0.720934   \n",
       "density                     0.552517   0.362615             0.025717   \n",
       "pH                         -0.267320   0.044708            -0.145854   \n",
       "sulphates                  -0.185927   0.395593            -0.188457   \n",
       "alcohol                    -0.359415  -0.256916            -0.179838   \n",
       "quality                    -0.036980  -0.200666             0.055463   \n",
       "color                      -0.348821   0.512678            -0.471644   \n",
       "taste                      -0.032484  -0.181908             0.044819   \n",
       "\n",
       "                      total sulfur dioxide   density        pH  sulphates  \\\n",
       "fixed acidity                    -0.329054  0.458910 -0.252700   0.299568   \n",
       "volatile acidity                 -0.414476  0.271296  0.261454   0.225984   \n",
       "citric acid                       0.195242  0.096154 -0.329808   0.056197   \n",
       "residual sugar                    0.495482  0.552517 -0.267320  -0.185927   \n",
       "chlorides                        -0.279630  0.362615  0.044708   0.395593   \n",
       "free sulfur dioxide               0.720934  0.025717 -0.145854  -0.188457   \n",
       "total sulfur dioxide              1.000000  0.032395 -0.238413  -0.275727   \n",
       "density                           0.032395  1.000000  0.011686   0.259478   \n",
       "pH                               -0.238413  0.011686  1.000000   0.192123   \n",
       "sulphates                        -0.275727  0.259478  0.192123   1.000000   \n",
       "alcohol                          -0.265740 -0.686745  0.121248  -0.003029   \n",
       "quality                          -0.041385 -0.305858  0.019506   0.038485   \n",
       "color                            -0.700357  0.390645  0.329129   0.487218   \n",
       "taste                            -0.047585 -0.268876  0.018842   0.035807   \n",
       "\n",
       "                       alcohol   quality     color     taste  \n",
       "fixed acidity        -0.095452 -0.076743  0.486740 -0.067354  \n",
       "volatile acidity     -0.037640 -0.265699  0.653036 -0.267046  \n",
       "citric acid          -0.010493  0.085532 -0.187397  0.075739  \n",
       "residual sugar       -0.359415 -0.036980 -0.348821 -0.032484  \n",
       "chlorides            -0.256916 -0.200666  0.512678 -0.181908  \n",
       "free sulfur dioxide  -0.179838  0.055463 -0.471644  0.044819  \n",
       "total sulfur dioxide -0.265740 -0.041385 -0.700357 -0.047585  \n",
       "density              -0.686745 -0.305858  0.390645 -0.268876  \n",
       "pH                    0.121248  0.019506  0.329129  0.018842  \n",
       "sulphates            -0.003029  0.038485  0.487218  0.035807  \n",
       "alcohol               1.000000  0.444319 -0.032970  0.394676  \n",
       "quality               0.444319  1.000000 -0.119323  0.814484  \n",
       "color                -0.032970 -0.119323  1.000000 -0.116595  \n",
       "taste                 0.394676  0.814484 -0.116595  1.000000  "
      ]
     },
     "execution_count": 12,
     "metadata": {},
     "output_type": "execute_result"
    }
   ],
   "source": [
    "corr_matrix = wine.corr()\n",
    "corr_matrix"
   ]
  },
  {
   "cell_type": "code",
   "execution_count": 13,
   "id": "aac63e98",
   "metadata": {},
   "outputs": [
    {
     "data": {
      "text/plain": [
       "quality                 1.000000\n",
       "taste                   0.814484\n",
       "alcohol                 0.444319\n",
       "citric acid             0.085532\n",
       "free sulfur dioxide     0.055463\n",
       "sulphates               0.038485\n",
       "pH                      0.019506\n",
       "residual sugar         -0.036980\n",
       "total sulfur dioxide   -0.041385\n",
       "fixed acidity          -0.076743\n",
       "color                  -0.119323\n",
       "chlorides              -0.200666\n",
       "volatile acidity       -0.265699\n",
       "density                -0.305858\n",
       "Name: quality, dtype: float64"
      ]
     },
     "execution_count": 13,
     "metadata": {},
     "output_type": "execute_result"
    }
   ],
   "source": [
    "corr_matrix['quality'].sort_values(ascending=False)"
   ]
  },
  {
   "cell_type": "markdown",
   "id": "7d0dda32",
   "metadata": {},
   "source": [
    "#### taste 컬럼의 분포"
   ]
  },
  {
   "cell_type": "code",
   "execution_count": 16,
   "id": "80cfc8be",
   "metadata": {},
   "outputs": [
    {
     "data": {
      "image/png": "[encoded data removed]",
      "text/plain": [
       "<Figure size 432x288 with 1 Axes>"
      ]
     },
     "metadata": {
      "needs_background": "light"
     },
     "output_type": "display_data"
    }
   ],
   "source": [
    "import seaborn as sns\n",
    "\n",
    "sns.countplot(x=wine['taste'])\n",
    "plt.show()"
   ]
  },
  {
   "cell_type": "markdown",
   "id": "6a337a2d",
   "metadata": {},
   "source": [
    "#### 다양한 모델을 한번에 테스트 해보자"
   ]
  },
  {
   "cell_type": "code",
   "execution_count": 3,
   "id": "1728b614",
   "metadata": {
    "ExecuteTime": {
     "end_time": "2021-12-01T05:41:48.455051Z",
     "start_time": "2021-12-01T05:41:48.446015Z"
    }
   },
   "outputs": [],
   "source": [
    "from sklearn.ensemble import (AdaBoostClassifier, GradientBoostingClassifier, RandomForestClassifier)\n",
    "from sklearn.tree import DecisionTreeClassifier\n",
    "from sklearn.linear_model import LogisticRegression\n",
    "\n",
    "\n",
    "models = []\n",
    "models.append(('RandomForestClassifier', RandomForestClassifier()))\n",
    "models.append(('DecisionTreeClassifier', DecisionTreeClassifier()))\n",
    "models.append(('AdaBoostClassifier', AdaBoostClassifier()))\n",
    "models.append(('GradientBoostingClassifier', GradientBoostingClassifier()))\n",
    "models.append(('LogisticRegression', LogisticRegression()))"
   ]
  },
  {
   "cell_type": "code",
   "execution_count": 2,
   "id": "1b334998",
   "metadata": {
    "ExecuteTime": {
     "end_time": "2021-12-01T05:41:26.114044Z",
     "start_time": "2021-12-01T05:41:26.070115Z"
    }
   },
   "outputs": [
    {
     "data": {
      "text/plain": [
       "[('RandomForestClassifier', RandomForestClassifier()),\n",
       " ('DecisionTreeClassifier', DecisionTreeClassifier()),\n",
       " ('AdaBoostClassifier', AdaBoostClassifier()),\n",
       " ('GradientBoostingClassifier', GradientBoostingClassifier()),\n",
       " ('LogisticRegression', LogisticRegression()),\n",
       " ('LGBMClassifier', LGBMClassifier())]"
      ]
     },
     "execution_count": 2,
     "metadata": {},
     "output_type": "execute_result"
    }
   ],
   "source": [
    "models"
   ]
  },
  {
   "cell_type": "markdown",
   "id": "a574ac6a",
   "metadata": {},
   "source": [
    "#### 결과를 저장하기 위한 작업"
   ]
  },
  {
   "cell_type": "code",
   "execution_count": 36,
   "id": "0fc23d7d",
   "metadata": {},
   "outputs": [
    {
     "name": "stdout",
     "output_type": "stream",
     "text": [
      "Wall time: 0 ns\n"
     ]
    }
   ],
   "source": [
    "%time # 문장 하나 시간\n",
    "a = 1"
   ]
  },
  {
   "cell_type": "code",
   "execution_count": 38,
   "id": "3316d11b",
   "metadata": {},
   "outputs": [
    {
     "name": "stdout",
     "output_type": "stream",
     "text": [
      "RandomForestClassifier 0.8198898719182646 0.018627967829260607\n",
      "DecisionTreeClassifier 0.7542779669800843 0.01227495439531279\n",
      "AdaBoostClassifier 0.7533103205745169 0.02644765901536818\n",
      "GradientBoostingClassifier 0.7663959428444511 0.021596556352125432\n",
      "LogisticRegression 0.74273191678389 0.015548839626296565\n",
      "Wall time: 6.26 s\n"
     ]
    }
   ],
   "source": [
    "%%time # 셀 전체 시간\n",
    "\n",
    "from sklearn.model_selection import KFold, cross_val_score\n",
    "\n",
    "results = []\n",
    "names = []\n",
    "\n",
    "for name, model in models:\n",
    "    kfold = KFold(n_splits=5, random_state=13, shuffle=True)\n",
    "    cv_results = cross_val_score(model, X_train, y_train,\n",
    "                                cv=kfold, scoring='accuracy')\n",
    "    results.append(cv_results)\n",
    "    names.append(name)\n",
    "    \n",
    "    print(name, cv_results.mean(), cv_results.std())"
   ]
  },
  {
   "cell_type": "markdown",
   "id": "f50a3f28",
   "metadata": {},
   "source": [
    "#### cross-validation 결과를 일목요연하게 확인하기"
   ]
  },
  {
   "cell_type": "code",
   "execution_count": 41,
   "id": "d4489a11",
   "metadata": {},
   "outputs": [
    {
     "data": {
      "text/plain": [
       "[array([0.82211538, 0.85      , 0.79403272, 0.82483157, 0.80846968]),\n",
       " array([0.75288462, 0.77307692, 0.73917228, 0.76227141, 0.7439846 ]),\n",
       " array([0.74903846, 0.80384615, 0.72666025, 0.74687199, 0.74013474]),\n",
       " array([0.77019231, 0.80288462, 0.73820982, 0.7680462 , 0.75264678]),\n",
       " array([0.73461538, 0.77307692, 0.73435996, 0.74109721, 0.73051011])]"
      ]
     },
     "execution_count": 41,
     "metadata": {},
     "output_type": "execute_result"
    }
   ],
   "source": [
    "results"
   ]
  },
  {
   "cell_type": "code",
   "execution_count": 42,
   "id": "f6835cb8",
   "metadata": {},
   "outputs": [
    {
     "data": {
      "text/plain": [
       "['RandomForestClassifier',\n",
       " 'DecisionTreeClassifier',\n",
       " 'AdaBoostClassifier',\n",
       " 'GradientBoostingClassifier',\n",
       " 'LogisticRegression']"
      ]
     },
     "execution_count": 42,
     "metadata": {},
     "output_type": "execute_result"
    }
   ],
   "source": [
    "names"
   ]
  },
  {
   "cell_type": "code",
   "execution_count": 40,
   "id": "b984d2a2",
   "metadata": {},
   "outputs": [
    {
     "data": {
      "image/png": "[encoded data removed]",
      "text/plain": [
       "<Figure size 1008x576 with 1 Axes>"
      ]
     },
     "metadata": {
      "needs_background": "light"
     },
     "output_type": "display_data"
    }
   ],
   "source": [
    "fig = plt.figure(figsize=(14, 8))\n",
    "fig.suptitle('Algorithm Comparison') # sup: subplot\n",
    "ax = fig.add_subplot(111)\n",
    "plt.boxplot(results)\n",
    "ax.set_xticklabels(names)\n",
    "plt.show()"
   ]
  },
  {
   "cell_type": "markdown",
   "id": "45f89ad7",
   "metadata": {},
   "source": [
    "- wine데이터에 대해서는 randomForest가 가장 높은 성능 분류를 보인다"
   ]
  },
  {
   "cell_type": "markdown",
   "id": "a40733e8",
   "metadata": {},
   "source": [
    "#### test데이터에 대한 평가 결과"
   ]
  },
  {
   "cell_type": "code",
   "execution_count": 43,
   "id": "ea02e0f0",
   "metadata": {},
   "outputs": [
    {
     "name": "stdout",
     "output_type": "stream",
     "text": [
      "RandomForestClassifier 0.8423076923076923\n",
      "DecisionTreeClassifier 0.7769230769230769\n",
      "AdaBoostClassifier 0.7553846153846154\n",
      "GradientBoostingClassifier 0.7884615384615384\n",
      "LogisticRegression 0.7469230769230769\n",
      "Wall time: 1.45 s\n"
     ]
    }
   ],
   "source": [
    "%%time\n",
    "\n",
    "from sklearn.metrics import accuracy_score\n",
    "\n",
    "for name, model in models:\n",
    "    model.fit(X_train, y_train)\n",
    "    pred = model.predict(X_test)\n",
    "    print(name, accuracy_score(y_test, pred))"
   ]
  },
  {
   "cell_type": "code",
   "execution_count": null,
   "id": "ab43a8bc",
   "metadata": {},
   "outputs": [],
   "source": []
  }
 ],
 "metadata": {
  "kernelspec": {
   "display_name": "Python 3 (ipykernel)",
   "language": "python",
   "name": "python3"
  },
  "language_info": {
   "codemirror_mode": {
    "name": "ipython",
    "version": 3
   },
   "file_extension": ".py",
   "mimetype": "text/x-python",
   "name": "python",
   "nbconvert_exporter": "python",
   "pygments_lexer": "ipython3",
   "version": "3.9.7"
  },
  "toc": {
   "base_numbering": 1,
   "nav_menu": {},
   "number_sections": true,
   "sideBar": true,
   "skip_h1_title": false,
   "title_cell": "Table of Contents",
   "title_sidebar": "Contents",
   "toc_cell": false,
   "toc_position": {},
   "toc_section_display": true,
   "toc_window_display": true
  }
 },
 "nbformat": 4,
 "nbformat_minor": 5
}
