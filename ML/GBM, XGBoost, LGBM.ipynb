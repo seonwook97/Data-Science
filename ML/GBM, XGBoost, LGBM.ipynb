{
 "cells": [
  {
   "cell_type": "markdown",
   "id": "05c5969d",
   "metadata": {},
   "source": [
    "## GBM - Gradient Boosting Machine\n",
    "- 부스팅 알고리즘은 여러개의 약한 학습기(week learner)를 순차적으로 학습-예측하면서 잘못 예측한 데이터에 가중치를 부여해서 오류를 개선해가는 방식\n",
    "- GBM은 가중치를 업데이트할 때 경사 하강법(Gradient Descent)을 이용하는 것이 큰 차이"
   ]
  },
  {
   "cell_type": "markdown",
   "id": "0c38c8b7",
   "metadata": {},
   "source": [
    "### HAR 데이터"
   ]
  },
  {
   "cell_type": "code",
   "execution_count": 1,
   "id": "fdcc910b",
   "metadata": {
    "ExecuteTime": {
     "end_time": "2021-11-25T07:17:39.582840Z",
     "start_time": "2021-11-25T07:17:38.947617Z"
    }
   },
   "outputs": [],
   "source": [
    "import pandas as pd"
   ]
  },
  {
   "cell_type": "code",
   "execution_count": 2,
   "id": "62edf07e",
   "metadata": {
    "ExecuteTime": {
     "end_time": "2021-11-25T07:17:39.915779Z",
     "start_time": "2021-11-25T07:17:39.583830Z"
    }
   },
   "outputs": [],
   "source": [
    "url = 'https://raw.githubusercontent.com/PinkWink/ML_tutorial/master/dataset/HAR_dataset/features.txt'\n",
    "feature_name_df = pd.read_csv(url, sep='\\s+', header=None, \n",
    "                             names=['columns_index', 'column_name'])\n",
    "feature_name = feature_name_df.iloc[:,1].values.tolist()"
   ]
  },
  {
   "cell_type": "code",
   "execution_count": 3,
   "id": "ed5bb439",
   "metadata": {
    "ExecuteTime": {
     "end_time": "2021-11-25T07:18:40.044519Z",
     "start_time": "2021-11-25T07:17:39.916740Z"
    }
   },
   "outputs": [],
   "source": [
    "X_train_url = 'https://raw.githubusercontent.com/PinkWink/ML_tutorial/master/dataset/HAR_dataset/train/X_train.txt'\n",
    "X_test_url = 'https://raw.githubusercontent.com/PinkWink/ML_tutorial/master/dataset/HAR_dataset/test/X_test.txt'\n",
    "\n",
    "X_train = pd.read_csv(X_train_url, sep='\\s+', header=None)\n",
    "X_test = pd.read_csv(X_test_url, sep='\\s+', header=None)"
   ]
  },
  {
   "cell_type": "code",
   "execution_count": 4,
   "id": "4e5357f5",
   "metadata": {
    "ExecuteTime": {
     "end_time": "2021-11-25T07:18:40.059447Z",
     "start_time": "2021-11-25T07:18:40.046448Z"
    }
   },
   "outputs": [],
   "source": [
    "X_train.columns = feature_name\n",
    "X_test.columns = feature_name"
   ]
  },
  {
   "cell_type": "code",
   "execution_count": 5,
   "id": "a46ba134",
   "metadata": {
    "ExecuteTime": {
     "end_time": "2021-11-25T07:18:51.746863Z",
     "start_time": "2021-11-25T07:18:40.060448Z"
    }
   },
   "outputs": [],
   "source": [
    "y_train_url = 'https://raw.githubusercontent.com/PinkWink/ML_tutorial/master/dataset/HAR_dataset/train/y_train.txt'\n",
    "y_test_url = 'https://raw.githubusercontent.com/PinkWink/ML_tutorial/master/dataset/HAR_dataset/test/y_test.txt'\n",
    "\n",
    "y_train = pd.read_csv(y_train_url, sep='\\s+', header=None, names=['action'])\n",
    "y_test = pd.read_csv(y_test_url, sep='\\s+', header=None, names=['action'])"
   ]
  },
  {
   "cell_type": "markdown",
   "id": "15fc9abb",
   "metadata": {},
   "source": [
    "#### 필요 모듈 import"
   ]
  },
  {
   "cell_type": "code",
   "execution_count": 6,
   "id": "c99bc718",
   "metadata": {
    "ExecuteTime": {
     "end_time": "2021-11-25T07:20:12.376700Z",
     "start_time": "2021-11-25T07:20:12.371546Z"
    }
   },
   "outputs": [],
   "source": [
    "from sklearn.ensemble import GradientBoostingClassifier\n",
    "from sklearn.metrics import accuracy_score\n",
    "import time\n",
    "import warnings\n",
    "\n",
    "warnings.filterwarnings('ignore')"
   ]
  },
  {
   "cell_type": "code",
   "execution_count": 7,
   "id": "2146831c",
   "metadata": {
    "ExecuteTime": {
     "end_time": "2021-11-25T07:32:59.995101Z",
     "start_time": "2021-11-25T07:23:16.095133Z"
    }
   },
   "outputs": [
    {
     "name": "stdout",
     "output_type": "stream",
     "text": [
      "ACC:  0.9385816084153377\n",
      "Fit time:  583.8919773101807\n"
     ]
    }
   ],
   "source": [
    "start_time = time.time()\n",
    "gb_clf = GradientBoostingClassifier(random_state=13)\n",
    "gb_clf.fit(X_train, y_train)\n",
    "gb_pred = gb_clf.predict(X_test)\n",
    "\n",
    "print('ACC: ', accuracy_score(y_test, gb_pred))\n",
    "print('Fit time: ', time.time() - start_time)"
   ]
  },
  {
   "cell_type": "markdown",
   "id": "7dd97c66",
   "metadata": {},
   "source": [
    "- ACC가 93.9%, 계산시간이 길다..\n",
    "- 일반적으로 GBM이 성능자체는 랜덤 포레스트보다는 좋다고 알려져 있음\n",
    "- sckit-learn의 GBM은 속도가 아주 느린 것으로 알려져 있음"
   ]
  },
  {
   "cell_type": "markdown",
   "id": "bcb3e5b5",
   "metadata": {},
   "source": [
    "#### GridSearch로 더 찾아보자"
   ]
  },
  {
   "cell_type": "code",
   "execution_count": 8,
   "id": "3e37105a",
   "metadata": {
    "ExecuteTime": {
     "end_time": "2021-11-25T08:56:58.970800Z",
     "start_time": "2021-11-25T07:36:52.615666Z"
    }
   },
   "outputs": [
    {
     "name": "stdout",
     "output_type": "stream",
     "text": [
      "Fitting 2 folds for each of 4 candidates, totalling 8 fits\n",
      "Fit time:  4806.342947244644\n"
     ]
    }
   ],
   "source": [
    "from sklearn.model_selection import GridSearchCV\n",
    "\n",
    "params = {\n",
    "    'n_estimators': [100, 500],\n",
    "    'learning_rate': [0.05, 0.1]\n",
    "}\n",
    "\n",
    "start_time = time.time()\n",
    "grid = GridSearchCV(gb_clf, param_grid=params, cv=2, verbose=1, n_jobs=-1)\n",
    "grid.fit(X_train, y_train)\n",
    "print('Fit time: ', time.time() - start_time)"
   ]
  },
  {
   "cell_type": "markdown",
   "id": "d7208202",
   "metadata": {},
   "source": [
    "- 시간이 오래 걸린다"
   ]
  },
  {
   "cell_type": "markdown",
   "id": "f389aeba",
   "metadata": {},
   "source": [
    "#### Test 데이터 성능"
   ]
  },
  {
   "cell_type": "code",
   "execution_count": 9,
   "id": "0bc850ea",
   "metadata": {
    "ExecuteTime": {
     "end_time": "2021-11-25T08:56:59.121313Z",
     "start_time": "2021-11-25T08:56:58.974775Z"
    }
   },
   "outputs": [
    {
     "data": {
      "text/plain": [
       "0.9419748897183576"
      ]
     },
     "execution_count": 9,
     "metadata": {},
     "output_type": "execute_result"
    }
   ],
   "source": [
    "accuracy_score(y_test, grid.best_estimator_.predict(X_test))"
   ]
  },
  {
   "cell_type": "markdown",
   "id": "082a1a9d",
   "metadata": {},
   "source": [
    "## XGBoost"
   ]
  },
  {
   "cell_type": "markdown",
   "id": "e77cb1d3",
   "metadata": {},
   "source": [
    "### XGBoost 개요\n",
    "- XGBoost는 트리 기반의 앙상블 학습에서 가장 각광받는 알고리즘 중 하나\n",
    "- GBM 기반의 알고리즘인데, GBM의 느린 속도를 다양한 규제를 통해 해결\n",
    "- 특히 병렬 학습이 가능하도록 설계됨\n",
    "- XGBoost는 반복 수행 시마다 내부적으로 학습데이터와 검증데이터를 교차검증을 수행\n",
    "- 교차검증을 통해 최적화되면 반복을 중단하는 조기 중단 기능을 가지고 있음"
   ]
  },
  {
   "cell_type": "markdown",
   "id": "3a1ec021",
   "metadata": {},
   "source": [
    "### 주요 파라미터\n",
    "- nthread: CPU의 실행 스레드 개수를 조정. 디폴트는 CPU의 전체 스레드를 사용하는 것\n",
    "- eta: GBM 학습률\n",
    "- num_boost_rounds: n_estimators와 같은 파라미터\n",
    "- max_depth"
   ]
  },
  {
   "cell_type": "markdown",
   "id": "a12e97e1",
   "metadata": {},
   "source": [
    "### 성능 확인"
   ]
  },
  {
   "cell_type": "code",
   "execution_count": 10,
   "id": "77fcec79",
   "metadata": {
    "ExecuteTime": {
     "end_time": "2021-11-25T08:59:55.875428Z",
     "start_time": "2021-11-25T08:56:59.289241Z"
    }
   },
   "outputs": [
    {
     "name": "stdout",
     "output_type": "stream",
     "text": [
      "[17:57:00] WARNING: ..\\src\\learner.cc:1061: Starting in XGBoost 1.3.0, the default evaluation metric used with the objective 'multi:softprob' was changed from 'merror' to 'mlogloss'. Explicitly set eval_metric if you'd like to restore the old behavior.\n",
      "Fit time:  176.57918548583984\n"
     ]
    }
   ],
   "source": [
    "from xgboost import XGBClassifier\n",
    "\n",
    "start_time = time.time()\n",
    "xgb = XGBClassifier(n_estimators=400, learning_rate=0.1, max_depth=3)\n",
    "xgb.fit(X_train.values, y_train) # np.arr 형태로 넣어준다\n",
    "print('Fit time: ', time.time() - start_time)"
   ]
  },
  {
   "cell_type": "code",
   "execution_count": 16,
   "id": "cfc2dac6",
   "metadata": {
    "ExecuteTime": {
     "end_time": "2021-11-25T10:20:20.284151Z",
     "start_time": "2021-11-25T10:20:20.239488Z"
    }
   },
   "outputs": [
    {
     "data": {
      "text/plain": [
       "0.9419748897183576"
      ]
     },
     "execution_count": 16,
     "metadata": {},
     "output_type": "execute_result"
    }
   ],
   "source": [
    "accuracy_score(y_test, xgb.predict(X_test.values))"
   ]
  },
  {
   "cell_type": "markdown",
   "id": "69252595",
   "metadata": {},
   "source": [
    "### 조기 종료 조건과 검증데이터를 지정할 수 있다"
   ]
  },
  {
   "cell_type": "code",
   "execution_count": 14,
   "id": "432bf7f8",
   "metadata": {
    "ExecuteTime": {
     "end_time": "2021-11-25T10:19:07.243870Z",
     "start_time": "2021-11-25T10:17:41.657060Z"
    }
   },
   "outputs": [
    {
     "name": "stdout",
     "output_type": "stream",
     "text": [
      "[19:17:42] WARNING: ..\\src\\learner.cc:1061: Starting in XGBoost 1.3.0, the default evaluation metric used with the objective 'multi:softprob' was changed from 'merror' to 'mlogloss'. Explicitly set eval_metric if you'd like to restore the old behavior.\n",
      "[0]\tvalidation_0-mlogloss:1.58932\n",
      "[1]\tvalidation_0-mlogloss:1.43267\n",
      "[2]\tvalidation_0-mlogloss:1.30322\n",
      "[3]\tvalidation_0-mlogloss:1.19383\n",
      "[4]\tvalidation_0-mlogloss:1.10067\n",
      "[5]\tvalidation_0-mlogloss:1.01957\n",
      "[6]\tvalidation_0-mlogloss:0.94662\n",
      "[7]\tvalidation_0-mlogloss:0.88249\n",
      "[8]\tvalidation_0-mlogloss:0.82727\n",
      "[9]\tvalidation_0-mlogloss:0.77601\n",
      "[10]\tvalidation_0-mlogloss:0.72925\n",
      "[11]\tvalidation_0-mlogloss:0.68936\n",
      "[12]\tvalidation_0-mlogloss:0.65128\n",
      "[13]\tvalidation_0-mlogloss:0.61844\n",
      "[14]\tvalidation_0-mlogloss:0.58748\n",
      "[15]\tvalidation_0-mlogloss:0.55894\n",
      "[16]\tvalidation_0-mlogloss:0.53410\n",
      "[17]\tvalidation_0-mlogloss:0.50956\n",
      "[18]\tvalidation_0-mlogloss:0.48868\n",
      "[19]\tvalidation_0-mlogloss:0.46809\n",
      "[20]\tvalidation_0-mlogloss:0.45075\n",
      "[21]\tvalidation_0-mlogloss:0.43385\n",
      "[22]\tvalidation_0-mlogloss:0.41768\n",
      "[23]\tvalidation_0-mlogloss:0.40316\n",
      "[24]\tvalidation_0-mlogloss:0.38937\n",
      "[25]\tvalidation_0-mlogloss:0.37645\n",
      "[26]\tvalidation_0-mlogloss:0.36394\n",
      "[27]\tvalidation_0-mlogloss:0.35407\n",
      "[28]\tvalidation_0-mlogloss:0.34354\n",
      "[29]\tvalidation_0-mlogloss:0.33333\n",
      "[30]\tvalidation_0-mlogloss:0.32486\n",
      "[31]\tvalidation_0-mlogloss:0.31667\n",
      "[32]\tvalidation_0-mlogloss:0.30627\n",
      "[33]\tvalidation_0-mlogloss:0.29953\n",
      "[34]\tvalidation_0-mlogloss:0.29340\n",
      "[35]\tvalidation_0-mlogloss:0.28661\n",
      "[36]\tvalidation_0-mlogloss:0.27952\n",
      "[37]\tvalidation_0-mlogloss:0.27353\n",
      "[38]\tvalidation_0-mlogloss:0.26796\n",
      "[39]\tvalidation_0-mlogloss:0.26233\n",
      "[40]\tvalidation_0-mlogloss:0.25772\n",
      "[41]\tvalidation_0-mlogloss:0.25279\n",
      "[42]\tvalidation_0-mlogloss:0.24838\n",
      "[43]\tvalidation_0-mlogloss:0.24271\n",
      "[44]\tvalidation_0-mlogloss:0.23839\n",
      "[45]\tvalidation_0-mlogloss:0.23486\n",
      "[46]\tvalidation_0-mlogloss:0.23099\n",
      "[47]\tvalidation_0-mlogloss:0.22687\n",
      "[48]\tvalidation_0-mlogloss:0.22315\n",
      "[49]\tvalidation_0-mlogloss:0.22017\n",
      "[50]\tvalidation_0-mlogloss:0.21749\n",
      "[51]\tvalidation_0-mlogloss:0.21397\n",
      "[52]\tvalidation_0-mlogloss:0.21145\n",
      "[53]\tvalidation_0-mlogloss:0.20966\n",
      "[54]\tvalidation_0-mlogloss:0.20670\n",
      "[55]\tvalidation_0-mlogloss:0.20510\n",
      "[56]\tvalidation_0-mlogloss:0.20277\n",
      "[57]\tvalidation_0-mlogloss:0.19985\n",
      "[58]\tvalidation_0-mlogloss:0.19818\n",
      "[59]\tvalidation_0-mlogloss:0.19585\n",
      "[60]\tvalidation_0-mlogloss:0.19491\n",
      "[61]\tvalidation_0-mlogloss:0.19256\n",
      "[62]\tvalidation_0-mlogloss:0.19033\n",
      "[63]\tvalidation_0-mlogloss:0.18873\n",
      "[64]\tvalidation_0-mlogloss:0.18706\n",
      "[65]\tvalidation_0-mlogloss:0.18500\n",
      "[66]\tvalidation_0-mlogloss:0.18398\n",
      "[67]\tvalidation_0-mlogloss:0.18175\n",
      "[68]\tvalidation_0-mlogloss:0.18022\n",
      "[69]\tvalidation_0-mlogloss:0.17856\n",
      "[70]\tvalidation_0-mlogloss:0.17689\n",
      "[71]\tvalidation_0-mlogloss:0.17568\n",
      "[72]\tvalidation_0-mlogloss:0.17435\n",
      "[73]\tvalidation_0-mlogloss:0.17259\n",
      "[74]\tvalidation_0-mlogloss:0.17145\n",
      "[75]\tvalidation_0-mlogloss:0.17088\n",
      "[76]\tvalidation_0-mlogloss:0.16982\n",
      "[77]\tvalidation_0-mlogloss:0.16823\n",
      "[78]\tvalidation_0-mlogloss:0.16665\n",
      "[79]\tvalidation_0-mlogloss:0.16537\n",
      "[80]\tvalidation_0-mlogloss:0.16412\n",
      "[81]\tvalidation_0-mlogloss:0.16253\n",
      "[82]\tvalidation_0-mlogloss:0.16184\n",
      "[83]\tvalidation_0-mlogloss:0.16128\n",
      "[84]\tvalidation_0-mlogloss:0.15987\n",
      "[85]\tvalidation_0-mlogloss:0.15909\n",
      "[86]\tvalidation_0-mlogloss:0.15831\n",
      "[87]\tvalidation_0-mlogloss:0.15767\n",
      "[88]\tvalidation_0-mlogloss:0.15720\n",
      "[89]\tvalidation_0-mlogloss:0.15679\n",
      "[90]\tvalidation_0-mlogloss:0.15637\n",
      "[91]\tvalidation_0-mlogloss:0.15582\n",
      "[92]\tvalidation_0-mlogloss:0.15525\n",
      "[93]\tvalidation_0-mlogloss:0.15431\n",
      "[94]\tvalidation_0-mlogloss:0.15365\n",
      "[95]\tvalidation_0-mlogloss:0.15294\n",
      "[96]\tvalidation_0-mlogloss:0.15271\n",
      "[97]\tvalidation_0-mlogloss:0.15216\n",
      "[98]\tvalidation_0-mlogloss:0.15130\n",
      "[99]\tvalidation_0-mlogloss:0.15023\n",
      "[100]\tvalidation_0-mlogloss:0.15017\n",
      "[101]\tvalidation_0-mlogloss:0.14987\n",
      "[102]\tvalidation_0-mlogloss:0.14935\n",
      "[103]\tvalidation_0-mlogloss:0.14943\n",
      "[104]\tvalidation_0-mlogloss:0.14863\n",
      "[105]\tvalidation_0-mlogloss:0.14813\n",
      "[106]\tvalidation_0-mlogloss:0.14792\n",
      "[107]\tvalidation_0-mlogloss:0.14751\n",
      "[108]\tvalidation_0-mlogloss:0.14676\n",
      "[109]\tvalidation_0-mlogloss:0.14572\n",
      "[110]\tvalidation_0-mlogloss:0.14577\n",
      "[111]\tvalidation_0-mlogloss:0.14491\n",
      "[112]\tvalidation_0-mlogloss:0.14464\n",
      "[113]\tvalidation_0-mlogloss:0.14423\n",
      "[114]\tvalidation_0-mlogloss:0.14428\n",
      "[115]\tvalidation_0-mlogloss:0.14430\n",
      "[116]\tvalidation_0-mlogloss:0.14386\n",
      "[117]\tvalidation_0-mlogloss:0.14333\n",
      "[118]\tvalidation_0-mlogloss:0.14346\n",
      "[119]\tvalidation_0-mlogloss:0.14223\n",
      "[120]\tvalidation_0-mlogloss:0.14232\n",
      "[121]\tvalidation_0-mlogloss:0.14201\n",
      "[122]\tvalidation_0-mlogloss:0.14159\n",
      "[123]\tvalidation_0-mlogloss:0.14149\n",
      "[124]\tvalidation_0-mlogloss:0.14080\n",
      "[125]\tvalidation_0-mlogloss:0.14059\n",
      "[126]\tvalidation_0-mlogloss:0.14054\n",
      "[127]\tvalidation_0-mlogloss:0.14050\n",
      "[128]\tvalidation_0-mlogloss:0.14095\n",
      "[129]\tvalidation_0-mlogloss:0.14090\n",
      "[130]\tvalidation_0-mlogloss:0.14069\n",
      "[131]\tvalidation_0-mlogloss:0.14029\n",
      "[132]\tvalidation_0-mlogloss:0.14013\n",
      "[133]\tvalidation_0-mlogloss:0.13989\n",
      "[134]\tvalidation_0-mlogloss:0.13948\n",
      "[135]\tvalidation_0-mlogloss:0.13883\n",
      "[136]\tvalidation_0-mlogloss:0.13937\n",
      "[137]\tvalidation_0-mlogloss:0.13930\n",
      "[138]\tvalidation_0-mlogloss:0.13918\n",
      "[139]\tvalidation_0-mlogloss:0.13908\n",
      "[140]\tvalidation_0-mlogloss:0.13906\n",
      "[141]\tvalidation_0-mlogloss:0.13978\n",
      "[142]\tvalidation_0-mlogloss:0.13942\n",
      "[143]\tvalidation_0-mlogloss:0.13911\n",
      "[144]\tvalidation_0-mlogloss:0.13847\n",
      "[145]\tvalidation_0-mlogloss:0.13840\n",
      "[146]\tvalidation_0-mlogloss:0.13869\n",
      "[147]\tvalidation_0-mlogloss:0.13870\n",
      "[148]\tvalidation_0-mlogloss:0.13882\n",
      "[149]\tvalidation_0-mlogloss:0.13930\n",
      "[150]\tvalidation_0-mlogloss:0.13923\n",
      "[151]\tvalidation_0-mlogloss:0.13938\n",
      "[152]\tvalidation_0-mlogloss:0.13915\n",
      "[153]\tvalidation_0-mlogloss:0.13907\n",
      "[154]\tvalidation_0-mlogloss:0.13880\n",
      "Fit time:  85.58073091506958\n"
     ]
    }
   ],
   "source": [
    "evals = [(X_test.values, y_test)]\n",
    "\n",
    "start_time = time.time()\n",
    "xgb = XGBClassifier(n_estimators=400, learning_rate=0.1, max_depth=3)\n",
    "xgb.fit(X_train.values, y_train, early_stopping_rounds=10, eval_set=evals)\n",
    "print('Fit time: ', time.time() - start_time)"
   ]
  },
  {
   "cell_type": "code",
   "execution_count": 17,
   "id": "ab511866",
   "metadata": {
    "ExecuteTime": {
     "end_time": "2021-11-25T10:20:45.699882Z",
     "start_time": "2021-11-25T10:20:45.654813Z"
    }
   },
   "outputs": [
    {
     "data": {
      "text/plain": [
       "0.9419748897183576"
      ]
     },
     "execution_count": 17,
     "metadata": {},
     "output_type": "execute_result"
    }
   ],
   "source": [
    "accuracy_score(y_test, xgb.predict(X_test.values))"
   ]
  },
  {
   "cell_type": "markdown",
   "id": "1b716696",
   "metadata": {},
   "source": [
    "## LightGBM\n",
    "- LightGBM은 XGBoost와 함께 부스팅 계열에서 가장 각광받는 알고리즘\n",
    "- LGBM의 큰 장점은 속도\n",
    "- 단, 적은 수의 데이터에는 어울리지 않음(일반적으로 10000건 이상의 데이터가 필요하다고 함)\n",
    "- GPU 버전도 존재함"
   ]
  },
  {
   "cell_type": "markdown",
   "id": "63b22739",
   "metadata": {},
   "source": [
    "### 무서운 속도"
   ]
  },
  {
   "cell_type": "code",
   "execution_count": 18,
   "id": "544e0eb3",
   "metadata": {
    "ExecuteTime": {
     "end_time": "2021-11-25T10:27:13.568334Z",
     "start_time": "2021-11-25T10:27:03.051237Z"
    }
   },
   "outputs": [
    {
     "name": "stdout",
     "output_type": "stream",
     "text": [
      "[1]\tvalid_0's multi_logloss: 1.4404\n",
      "Training until validation scores don't improve for 100 rounds\n",
      "[2]\tvalid_0's multi_logloss: 1.21574\n",
      "[3]\tvalid_0's multi_logloss: 1.04795\n",
      "[4]\tvalid_0's multi_logloss: 0.913299\n",
      "[5]\tvalid_0's multi_logloss: 0.812686\n",
      "[6]\tvalid_0's multi_logloss: 0.725964\n",
      "[7]\tvalid_0's multi_logloss: 0.652995\n",
      "[8]\tvalid_0's multi_logloss: 0.591598\n",
      "[9]\tvalid_0's multi_logloss: 0.539383\n",
      "[10]\tvalid_0's multi_logloss: 0.499944\n",
      "[11]\tvalid_0's multi_logloss: 0.462273\n",
      "[12]\tvalid_0's multi_logloss: 0.429676\n",
      "[13]\tvalid_0's multi_logloss: 0.401908\n",
      "[14]\tvalid_0's multi_logloss: 0.377718\n",
      "[15]\tvalid_0's multi_logloss: 0.357455\n",
      "[16]\tvalid_0's multi_logloss: 0.339918\n",
      "[17]\tvalid_0's multi_logloss: 0.325799\n",
      "[18]\tvalid_0's multi_logloss: 0.314716\n",
      "[19]\tvalid_0's multi_logloss: 0.301914\n",
      "[20]\tvalid_0's multi_logloss: 0.292755\n",
      "[21]\tvalid_0's multi_logloss: 0.284754\n",
      "[22]\tvalid_0's multi_logloss: 0.276745\n",
      "[23]\tvalid_0's multi_logloss: 0.270387\n",
      "[24]\tvalid_0's multi_logloss: 0.265765\n",
      "[25]\tvalid_0's multi_logloss: 0.260089\n",
      "[26]\tvalid_0's multi_logloss: 0.256178\n",
      "[27]\tvalid_0's multi_logloss: 0.251189\n",
      "[28]\tvalid_0's multi_logloss: 0.248143\n",
      "[29]\tvalid_0's multi_logloss: 0.246272\n",
      "[30]\tvalid_0's multi_logloss: 0.24341\n",
      "[31]\tvalid_0's multi_logloss: 0.241248\n",
      "[32]\tvalid_0's multi_logloss: 0.24022\n",
      "[33]\tvalid_0's multi_logloss: 0.239652\n",
      "[34]\tvalid_0's multi_logloss: 0.238179\n",
      "[35]\tvalid_0's multi_logloss: 0.23699\n",
      "[36]\tvalid_0's multi_logloss: 0.2361\n",
      "[37]\tvalid_0's multi_logloss: 0.233816\n",
      "[38]\tvalid_0's multi_logloss: 0.233106\n",
      "[39]\tvalid_0's multi_logloss: 0.233421\n",
      "[40]\tvalid_0's multi_logloss: 0.23376\n",
      "[41]\tvalid_0's multi_logloss: 0.234338\n",
      "[42]\tvalid_0's multi_logloss: 0.234543\n",
      "[43]\tvalid_0's multi_logloss: 0.234652\n",
      "[44]\tvalid_0's multi_logloss: 0.233933\n",
      "[45]\tvalid_0's multi_logloss: 0.234656\n",
      "[46]\tvalid_0's multi_logloss: 0.234617\n",
      "[47]\tvalid_0's multi_logloss: 0.235371\n",
      "[48]\tvalid_0's multi_logloss: 0.236855\n",
      "[49]\tvalid_0's multi_logloss: 0.235197\n",
      "[50]\tvalid_0's multi_logloss: 0.236224\n",
      "[51]\tvalid_0's multi_logloss: 0.236696\n",
      "[52]\tvalid_0's multi_logloss: 0.237868\n",
      "[53]\tvalid_0's multi_logloss: 0.236315\n",
      "[54]\tvalid_0's multi_logloss: 0.239717\n",
      "[55]\tvalid_0's multi_logloss: 0.241621\n",
      "[56]\tvalid_0's multi_logloss: 0.243416\n",
      "[57]\tvalid_0's multi_logloss: 0.244416\n",
      "[58]\tvalid_0's multi_logloss: 0.245904\n",
      "[59]\tvalid_0's multi_logloss: 0.244177\n",
      "[60]\tvalid_0's multi_logloss: 0.249222\n",
      "[61]\tvalid_0's multi_logloss: 0.25041\n",
      "[62]\tvalid_0's multi_logloss: 0.250982\n",
      "[63]\tvalid_0's multi_logloss: 0.249934\n",
      "[64]\tvalid_0's multi_logloss: 0.250107\n",
      "[65]\tvalid_0's multi_logloss: 0.252704\n",
      "[66]\tvalid_0's multi_logloss: 0.253061\n",
      "[67]\tvalid_0's multi_logloss: 0.25403\n",
      "[68]\tvalid_0's multi_logloss: 0.254586\n",
      "[69]\tvalid_0's multi_logloss: 0.257923\n",
      "[70]\tvalid_0's multi_logloss: 0.259529\n",
      "[71]\tvalid_0's multi_logloss: 0.259736\n",
      "[72]\tvalid_0's multi_logloss: 0.260189\n",
      "[73]\tvalid_0's multi_logloss: 0.260231\n",
      "[74]\tvalid_0's multi_logloss: 0.261524\n",
      "[75]\tvalid_0's multi_logloss: 0.261289\n",
      "[76]\tvalid_0's multi_logloss: 0.25997\n",
      "[77]\tvalid_0's multi_logloss: 0.259304\n",
      "[78]\tvalid_0's multi_logloss: 0.26109\n",
      "[79]\tvalid_0's multi_logloss: 0.264029\n",
      "[80]\tvalid_0's multi_logloss: 0.262772\n",
      "[81]\tvalid_0's multi_logloss: 0.263047\n",
      "[82]\tvalid_0's multi_logloss: 0.263413\n",
      "[83]\tvalid_0's multi_logloss: 0.264662\n",
      "[84]\tvalid_0's multi_logloss: 0.264069\n",
      "[85]\tvalid_0's multi_logloss: 0.266621\n",
      "[86]\tvalid_0's multi_logloss: 0.265539\n",
      "[87]\tvalid_0's multi_logloss: 0.265186\n",
      "[88]\tvalid_0's multi_logloss: 0.265143\n",
      "[89]\tvalid_0's multi_logloss: 0.265168\n",
      "[90]\tvalid_0's multi_logloss: 0.267091\n",
      "[91]\tvalid_0's multi_logloss: 0.26738\n",
      "[92]\tvalid_0's multi_logloss: 0.267112\n",
      "[93]\tvalid_0's multi_logloss: 0.267292\n",
      "[94]\tvalid_0's multi_logloss: 0.266334\n",
      "[95]\tvalid_0's multi_logloss: 0.266265\n",
      "[96]\tvalid_0's multi_logloss: 0.26572\n",
      "[97]\tvalid_0's multi_logloss: 0.265671\n",
      "[98]\tvalid_0's multi_logloss: 0.265732\n",
      "[99]\tvalid_0's multi_logloss: 0.265704\n",
      "[100]\tvalid_0's multi_logloss: 0.264742\n",
      "[101]\tvalid_0's multi_logloss: 0.266353\n",
      "[102]\tvalid_0's multi_logloss: 0.265204\n",
      "[103]\tvalid_0's multi_logloss: 0.265003\n",
      "[104]\tvalid_0's multi_logloss: 0.265678\n",
      "[105]\tvalid_0's multi_logloss: 0.266\n",
      "[106]\tvalid_0's multi_logloss: 0.265789\n",
      "[107]\tvalid_0's multi_logloss: 0.265048\n",
      "[108]\tvalid_0's multi_logloss: 0.265532\n",
      "[109]\tvalid_0's multi_logloss: 0.26544\n",
      "[110]\tvalid_0's multi_logloss: 0.265249\n",
      "[111]\tvalid_0's multi_logloss: 0.264829\n",
      "[112]\tvalid_0's multi_logloss: 0.265059\n",
      "[113]\tvalid_0's multi_logloss: 0.264581\n",
      "[114]\tvalid_0's multi_logloss: 0.264096\n",
      "[115]\tvalid_0's multi_logloss: 0.263705\n",
      "[116]\tvalid_0's multi_logloss: 0.264037\n",
      "[117]\tvalid_0's multi_logloss: 0.263718\n",
      "[118]\tvalid_0's multi_logloss: 0.263785\n",
      "[119]\tvalid_0's multi_logloss: 0.263835\n",
      "[120]\tvalid_0's multi_logloss: 0.263076\n",
      "[121]\tvalid_0's multi_logloss: 0.261902\n",
      "[122]\tvalid_0's multi_logloss: 0.262373\n",
      "[123]\tvalid_0's multi_logloss: 0.262332\n",
      "[124]\tvalid_0's multi_logloss: 0.26156\n",
      "[125]\tvalid_0's multi_logloss: 0.261795\n",
      "[126]\tvalid_0's multi_logloss: 0.262118\n",
      "[127]\tvalid_0's multi_logloss: 0.261702\n",
      "[128]\tvalid_0's multi_logloss: 0.261945\n",
      "[129]\tvalid_0's multi_logloss: 0.261303\n",
      "[130]\tvalid_0's multi_logloss: 0.261279\n",
      "[131]\tvalid_0's multi_logloss: 0.261045\n",
      "[132]\tvalid_0's multi_logloss: 0.261628\n",
      "[133]\tvalid_0's multi_logloss: 0.26134\n",
      "[134]\tvalid_0's multi_logloss: 0.260882\n",
      "[135]\tvalid_0's multi_logloss: 0.260979\n",
      "[136]\tvalid_0's multi_logloss: 0.260353\n",
      "[137]\tvalid_0's multi_logloss: 0.260621\n",
      "[138]\tvalid_0's multi_logloss: 0.25998\n",
      "Early stopping, best iteration is:\n",
      "[38]\tvalid_0's multi_logloss: 0.233106\n",
      "Fit time:  10.499918460845947\n"
     ]
    }
   ],
   "source": [
    "from lightgbm import LGBMClassifier\n",
    "\n",
    "start_time = time.time()\n",
    "lgbm = LGBMClassifier(n_estimators=400)\n",
    "lgbm.fit(X_train.values, y_train, early_stopping_rounds=100, eval_set=evals)\n",
    "print('Fit time: ', time.time() - start_time)"
   ]
  },
  {
   "cell_type": "code",
   "execution_count": 19,
   "id": "f4f7c67b",
   "metadata": {
    "ExecuteTime": {
     "end_time": "2021-11-25T10:28:40.280116Z",
     "start_time": "2021-11-25T10:28:40.241216Z"
    }
   },
   "outputs": [
    {
     "data": {
      "text/plain": [
       "0.9260264675941635"
      ]
     },
     "execution_count": 19,
     "metadata": {},
     "output_type": "execute_result"
    }
   ],
   "source": [
    "accuracy_score(y_test, lgbm.predict(X_test.values))"
   ]
  }
 ],
 "metadata": {
  "kernelspec": {
   "display_name": "Python 3 (ipykernel)",
   "language": "python",
   "name": "python3"
  },
  "language_info": {
   "codemirror_mode": {
    "name": "ipython",
    "version": 3
   },
   "file_extension": ".py",
   "mimetype": "text/x-python",
   "name": "python",
   "nbconvert_exporter": "python",
   "pygments_lexer": "ipython3",
   "version": "3.9.7"
  },
  "toc": {
   "base_numbering": 1,
   "nav_menu": {},
   "number_sections": true,
   "sideBar": true,
   "skip_h1_title": false,
   "title_cell": "Table of Contents",
   "title_sidebar": "Contents",
   "toc_cell": false,
   "toc_position": {},
   "toc_section_display": true,
   "toc_window_display": true
  }
 },
 "nbformat": 4,
 "nbformat_minor": 5
}
