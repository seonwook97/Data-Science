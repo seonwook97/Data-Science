{
 "cells": [
  {
   "cell_type": "markdown",
   "id": "122843b2",
   "metadata": {},
   "source": [
    "## count vectorize"
   ]
  },
  {
   "cell_type": "code",
   "execution_count": 3,
   "id": "fabe804b",
   "metadata": {
    "ExecuteTime": {
     "end_time": "2021-12-05T08:27:33.134944Z",
     "start_time": "2021-12-05T08:27:31.518922Z"
    }
   },
   "outputs": [],
   "source": [
    "from sklearn.feature_extraction.text import CountVectorizer"
   ]
  },
  {
   "cell_type": "code",
   "execution_count": 4,
   "id": "164cfa8c",
   "metadata": {
    "ExecuteTime": {
     "end_time": "2021-12-05T08:27:33.149943Z",
     "start_time": "2021-12-05T08:27:33.135983Z"
    }
   },
   "outputs": [],
   "source": [
    "vectorizer = CountVectorizer(min_df=1)"
   ]
  },
  {
   "cell_type": "markdown",
   "id": "a7ca28cd",
   "metadata": {},
   "source": [
    "- sklearn이 제공하는 문장을 벡터로 변환하는 함수 CountVectorizer"
   ]
  },
  {
   "cell_type": "code",
   "execution_count": 5,
   "id": "f7b63652",
   "metadata": {
    "ExecuteTime": {
     "end_time": "2021-12-05T08:27:33.164945Z",
     "start_time": "2021-12-05T08:27:33.150944Z"
    }
   },
   "outputs": [],
   "source": [
    "contents = ['상처받은 아이들은 너무 일찍 커버려',\n",
    "           '내가 상처받은 거 아는 사람 불편해',\n",
    "           '잘 사는 사람들은 좋은 사람 되기 쉬워',\n",
    "           '아무 일도 아니야 괜찮아']"
   ]
  },
  {
   "cell_type": "markdown",
   "id": "75a234e0",
   "metadata": {},
   "source": [
    "- 이번에 사용할 훈련용 문장\n",
    "- 거리를 구하는 것이므로 지도할 내용이 없다"
   ]
  },
  {
   "cell_type": "code",
   "execution_count": 6,
   "id": "af6d5d7b",
   "metadata": {
    "ExecuteTime": {
     "end_time": "2021-12-05T08:27:33.772690Z",
     "start_time": "2021-12-05T08:27:33.761291Z"
    }
   },
   "outputs": [],
   "source": [
    "from konlpy.tag import Okt\n",
    "\n",
    "t = Okt()"
   ]
  },
  {
   "cell_type": "code",
   "execution_count": 7,
   "id": "0a5342e8",
   "metadata": {
    "ExecuteTime": {
     "end_time": "2021-12-05T08:27:36.219783Z",
     "start_time": "2021-12-05T08:27:34.239341Z"
    }
   },
   "outputs": [
    {
     "data": {
      "text/plain": [
       "[['상처', '받은', '아이', '들', '은', '너무', '일찍', '커버', '려'],\n",
       " ['내', '가', '상처', '받은', '거', '아는', '사람', '불편해'],\n",
       " ['잘', '사는', '사람', '들', '은', '좋은', '사람', '되기', '쉬워'],\n",
       " ['아무', '일도', '아니야', '괜찮아']]"
      ]
     },
     "execution_count": 7,
     "metadata": {},
     "output_type": "execute_result"
    }
   ],
   "source": [
    "contents_tokens = [t.morphs(row) for row in contents]\n",
    "contents_tokens"
   ]
  },
  {
   "cell_type": "markdown",
   "id": "b0c89bd2",
   "metadata": {},
   "source": [
    "- 한글은 형태소 분석이 필수"
   ]
  },
  {
   "cell_type": "code",
   "execution_count": 9,
   "id": "b37c996a",
   "metadata": {
    "ExecuteTime": {
     "end_time": "2021-12-05T08:31:42.089215Z",
     "start_time": "2021-12-05T08:31:42.078751Z"
    }
   },
   "outputs": [
    {
     "data": {
      "text/plain": [
       "[' 상처 받은 아이 들 은 너무 일찍 커버 려',\n",
       " ' 내 가 상처 받은 거 아는 사람 불편해',\n",
       " ' 잘 사는 사람 들 은 좋은 사람 되기 쉬워',\n",
       " ' 아무 일도 아니야 괜찮아']"
      ]
     },
     "execution_count": 9,
     "metadata": {},
     "output_type": "execute_result"
    }
   ],
   "source": [
    "contents_for_vectorize = []\n",
    "\n",
    "for content in contents_tokens:\n",
    "    sentence = ''\n",
    "    for word in content:\n",
    "        sentence = sentence + ' ' + word\n",
    "    \n",
    "    contents_for_vectorize.append(sentence)\n",
    "\n",
    "contents_for_vectorize"
   ]
  },
  {
   "cell_type": "markdown",
   "id": "5743937a",
   "metadata": {},
   "source": [
    "- 형태소 분석된 결과를 다시 하나의 문장씩으로 합친다"
   ]
  },
  {
   "cell_type": "code",
   "execution_count": 10,
   "id": "94e94910",
   "metadata": {
    "ExecuteTime": {
     "end_time": "2021-12-05T08:33:07.680180Z",
     "start_time": "2021-12-05T08:33:07.655697Z"
    }
   },
   "outputs": [
    {
     "data": {
      "text/plain": [
       "<4x17 sparse matrix of type '<class 'numpy.int64'>'\n",
       "\twith 20 stored elements in Compressed Sparse Row format>"
      ]
     },
     "execution_count": 10,
     "metadata": {},
     "output_type": "execute_result"
    }
   ],
   "source": [
    "X = vectorizer.fit_transform(contents_for_vectorize)\n",
    "X"
   ]
  },
  {
   "cell_type": "code",
   "execution_count": 11,
   "id": "c8fd6fb5",
   "metadata": {
    "ExecuteTime": {
     "end_time": "2021-12-05T08:33:27.539978Z",
     "start_time": "2021-12-05T08:33:27.530920Z"
    }
   },
   "outputs": [
    {
     "data": {
      "text/plain": [
       "(4, 17)"
      ]
     },
     "execution_count": 11,
     "metadata": {},
     "output_type": "execute_result"
    }
   ],
   "source": [
    "num_samples, num_features = X.shape\n",
    "num_samples, num_features"
   ]
  },
  {
   "cell_type": "markdown",
   "id": "c4547f0c",
   "metadata": {},
   "source": [
    "- 벡터 라이즈 수행\n",
    "- 네개의 문장에 전체 말뭉치의 단어가 17개였다."
   ]
  },
  {
   "cell_type": "code",
   "execution_count": 14,
   "id": "692bf165",
   "metadata": {
    "ExecuteTime": {
     "end_time": "2021-12-05T08:35:09.523832Z",
     "start_time": "2021-12-05T08:35:09.512278Z"
    },
    "collapsed": true
   },
   "outputs": [
    {
     "data": {
      "text/plain": [
       "['괜찮아',\n",
       " '너무',\n",
       " '되기',\n",
       " '받은',\n",
       " '불편해',\n",
       " '사는',\n",
       " '사람',\n",
       " '상처',\n",
       " '쉬워',\n",
       " '아는',\n",
       " '아니야',\n",
       " '아무',\n",
       " '아이',\n",
       " '일도',\n",
       " '일찍',\n",
       " '좋은',\n",
       " '커버']"
      ]
     },
     "execution_count": 14,
     "metadata": {},
     "output_type": "execute_result"
    }
   ],
   "source": [
    "vectorizer.get_feature_names()"
   ]
  },
  {
   "cell_type": "code",
   "execution_count": 15,
   "id": "162da1e5",
   "metadata": {
    "ExecuteTime": {
     "end_time": "2021-12-05T08:36:07.533858Z",
     "start_time": "2021-12-05T08:36:07.525889Z"
    },
    "collapsed": true
   },
   "outputs": [
    {
     "data": {
      "text/plain": [
       "array([[0, 0, 0, 1],\n",
       "       [1, 0, 0, 0],\n",
       "       [0, 0, 1, 0],\n",
       "       [1, 1, 0, 0],\n",
       "       [0, 1, 0, 0],\n",
       "       [0, 0, 1, 0],\n",
       "       [0, 1, 2, 0],\n",
       "       [1, 1, 0, 0],\n",
       "       [0, 0, 1, 0],\n",
       "       [0, 1, 0, 0],\n",
       "       [0, 0, 0, 1],\n",
       "       [0, 0, 0, 1],\n",
       "       [1, 0, 0, 0],\n",
       "       [0, 0, 0, 1],\n",
       "       [1, 0, 0, 0],\n",
       "       [0, 0, 1, 0],\n",
       "       [1, 0, 0, 0]], dtype=int64)"
      ]
     },
     "execution_count": 15,
     "metadata": {},
     "output_type": "execute_result"
    }
   ],
   "source": [
    "X.toarray().transpose()"
   ]
  },
  {
   "cell_type": "code",
   "execution_count": 16,
   "id": "ab5b86b9",
   "metadata": {
    "ExecuteTime": {
     "end_time": "2021-12-05T08:38:27.891792Z",
     "start_time": "2021-12-05T08:38:27.878986Z"
    }
   },
   "outputs": [
    {
     "data": {
      "text/plain": [
       "[' 상처 받기 싫어 괜찮아']"
      ]
     },
     "execution_count": 16,
     "metadata": {},
     "output_type": "execute_result"
    }
   ],
   "source": [
    "new_post = ['상처받기 싫어 괜찮아']\n",
    "new_post_tokens = [t.morphs(row) for row in new_post]\n",
    "\n",
    "new_post_for_vectorize = []\n",
    "\n",
    "for content in new_post_tokens:\n",
    "    sentence = ''\n",
    "    for word in content:\n",
    "        sentence = sentence + ' ' + word\n",
    "        \n",
    "    new_post_for_vectorize.append(sentence)\n",
    "    \n",
    "new_post_for_vectorize"
   ]
  },
  {
   "cell_type": "markdown",
   "id": "ee584c69",
   "metadata": {},
   "source": [
    "- 테스트용 문장"
   ]
  },
  {
   "cell_type": "code",
   "execution_count": 17,
   "id": "954b5312",
   "metadata": {
    "ExecuteTime": {
     "end_time": "2021-12-05T08:39:19.951051Z",
     "start_time": "2021-12-05T08:39:19.936462Z"
    }
   },
   "outputs": [
    {
     "data": {
      "text/plain": [
       "array([[1, 0, 0, 0, 0, 0, 0, 1, 0, 0, 0, 0, 0, 0, 0, 0, 0]], dtype=int64)"
      ]
     },
     "execution_count": 17,
     "metadata": {},
     "output_type": "execute_result"
    }
   ],
   "source": [
    "new_post_vec = vectorizer.transform(new_post_for_vectorize)\n",
    "new_post_vec.toarray()"
   ]
  },
  {
   "cell_type": "markdown",
   "id": "72d1ffe8",
   "metadata": {},
   "source": [
    "- 벡터로 표현\n",
    "- 새로운 테스트용 문장을 만들고 벡터를 만들었으니\n",
    "- 거리를 구할 수 있다"
   ]
  },
  {
   "cell_type": "code",
   "execution_count": 18,
   "id": "46bcbde5",
   "metadata": {
    "ExecuteTime": {
     "end_time": "2021-12-05T08:40:21.852427Z",
     "start_time": "2021-12-05T08:40:21.840493Z"
    }
   },
   "outputs": [],
   "source": [
    "import scipy as sp"
   ]
  },
  {
   "cell_type": "code",
   "execution_count": 19,
   "id": "2bee77b1",
   "metadata": {
    "ExecuteTime": {
     "end_time": "2021-12-05T08:40:43.915211Z",
     "start_time": "2021-12-05T08:40:43.910210Z"
    }
   },
   "outputs": [],
   "source": [
    "def dist_raw(v1, v2):\n",
    "    delta = v1 - v2\n",
    "    return sp.linalg.norm(delta.toarray())"
   ]
  },
  {
   "cell_type": "markdown",
   "id": "437815e2",
   "metadata": {},
   "source": [
    "- 단순히 기하학적인 거리를 사용해보자"
   ]
  },
  {
   "cell_type": "code",
   "execution_count": 20,
   "id": "b126a389",
   "metadata": {
    "ExecuteTime": {
     "end_time": "2021-12-05T08:41:36.974391Z",
     "start_time": "2021-12-05T08:41:36.953993Z"
    }
   },
   "outputs": [
    {
     "data": {
      "text/plain": [
       "[2.449489742783178, 2.23606797749979, 3.1622776601683795, 2.0]"
      ]
     },
     "execution_count": 20,
     "metadata": {},
     "output_type": "execute_result"
    }
   ],
   "source": [
    "dist = [dist_raw(each, new_post_vec) for each in X]\n",
    "dist"
   ]
  },
  {
   "cell_type": "code",
   "execution_count": 21,
   "id": "fe70b01a",
   "metadata": {
    "ExecuteTime": {
     "end_time": "2021-12-05T08:45:00.959579Z",
     "start_time": "2021-12-05T08:45:00.942614Z"
    }
   },
   "outputs": [
    {
     "name": "stdout",
     "output_type": "stream",
     "text": [
      "Best post is 3 , dist =  2.0\n",
      "Test post is -->  ['상처받기 싫어 괜찮아']\n",
      "Best dist post is -->  아무 일도 아니야 괜찮아\n"
     ]
    }
   ],
   "source": [
    "print('Best post is', dist.index(min(dist)), ', dist = ', min(dist))\n",
    "print('Test post is --> ', new_post)\n",
    "print('Best dist post is --> ', contents[dist.index(min(dist))])"
   ]
  },
  {
   "cell_type": "code",
   "execution_count": 22,
   "id": "29bdc24e",
   "metadata": {
    "ExecuteTime": {
     "end_time": "2021-12-05T08:49:29.101466Z",
     "start_time": "2021-12-05T08:49:29.087951Z"
    }
   },
   "outputs": [
    {
     "name": "stdout",
     "output_type": "stream",
     "text": [
      "[[0 1 0 1 0 0 0 1 0 0 0 0 1 0 1 0 1]]\n",
      "[[0 0 0 1 1 0 1 1 0 1 0 0 0 0 0 0 0]]\n",
      "[[0 0 1 0 0 1 2 0 1 0 0 0 0 0 0 1 0]]\n",
      "[[1 0 0 0 0 0 0 0 0 0 1 1 0 1 0 0 0]]\n",
      "----------------------------------------\n",
      "[[1 0 0 0 0 0 0 1 0 0 0 0 0 0 0 0 0]]\n"
     ]
    }
   ],
   "source": [
    "for i in range(0, len(contents)):\n",
    "    print(X.getrow(i).toarray())\n",
    "    \n",
    "print('-' * 40)\n",
    "print(new_post_vec.toarray())"
   ]
  },
  {
   "cell_type": "markdown",
   "id": "4e4b9f8f",
   "metadata": {},
   "source": [
    "- 결국 관건은 벡터로 잘 만드는 것과,\n",
    "- 만들어진 벡터 사이의 거리를 잘 계산하는 것"
   ]
  },
  {
   "cell_type": "markdown",
   "id": "2dd3a176",
   "metadata": {},
   "source": [
    "---"
   ]
  },
  {
   "cell_type": "markdown",
   "id": "30073eaf",
   "metadata": {},
   "source": [
    "## tf-idf vectorize"
   ]
  },
  {
   "cell_type": "code",
   "execution_count": 23,
   "id": "c931af88",
   "metadata": {
    "ExecuteTime": {
     "end_time": "2021-12-05T08:54:46.104301Z",
     "start_time": "2021-12-05T08:54:46.097292Z"
    }
   },
   "outputs": [],
   "source": [
    "from sklearn.feature_extraction.text import TfidfVectorizer"
   ]
  },
  {
   "cell_type": "code",
   "execution_count": 24,
   "id": "688b2a54",
   "metadata": {
    "ExecuteTime": {
     "end_time": "2021-12-05T08:54:57.006521Z",
     "start_time": "2021-12-05T08:54:56.998887Z"
    }
   },
   "outputs": [],
   "source": [
    "vectorizer = TfidfVectorizer(min_df=1, decode_error='ignore')"
   ]
  },
  {
   "cell_type": "code",
   "execution_count": 25,
   "id": "ee029c0c",
   "metadata": {
    "ExecuteTime": {
     "end_time": "2021-12-05T08:55:56.244281Z",
     "start_time": "2021-12-05T08:55:56.214738Z"
    }
   },
   "outputs": [
    {
     "data": {
      "text/plain": [
       "(4, 17)"
      ]
     },
     "execution_count": 25,
     "metadata": {},
     "output_type": "execute_result"
    }
   ],
   "source": [
    "X = vectorizer.fit_transform(contents_for_vectorize)\n",
    "num_samples, num_features = X.shape\n",
    "num_samples, num_features"
   ]
  },
  {
   "cell_type": "code",
   "execution_count": 26,
   "id": "2d13d7f0",
   "metadata": {
    "ExecuteTime": {
     "end_time": "2021-12-05T08:56:29.737231Z",
     "start_time": "2021-12-05T08:56:29.717876Z"
    }
   },
   "outputs": [
    {
     "data": {
      "text/plain": [
       "array([[0.        , 0.        , 0.        , 0.5       ],\n",
       "       [0.43671931, 0.        , 0.        , 0.        ],\n",
       "       [0.        , 0.        , 0.39264414, 0.        ],\n",
       "       [0.34431452, 0.40104275, 0.        , 0.        ],\n",
       "       [0.        , 0.50867187, 0.        , 0.        ],\n",
       "       [0.        , 0.        , 0.39264414, 0.        ],\n",
       "       [0.        , 0.40104275, 0.6191303 , 0.        ],\n",
       "       [0.34431452, 0.40104275, 0.        , 0.        ],\n",
       "       [0.        , 0.        , 0.39264414, 0.        ],\n",
       "       [0.        , 0.50867187, 0.        , 0.        ],\n",
       "       [0.        , 0.        , 0.        , 0.5       ],\n",
       "       [0.        , 0.        , 0.        , 0.5       ],\n",
       "       [0.43671931, 0.        , 0.        , 0.        ],\n",
       "       [0.        , 0.        , 0.        , 0.5       ],\n",
       "       [0.43671931, 0.        , 0.        , 0.        ],\n",
       "       [0.        , 0.        , 0.39264414, 0.        ],\n",
       "       [0.43671931, 0.        , 0.        , 0.        ]])"
      ]
     },
     "execution_count": 26,
     "metadata": {},
     "output_type": "execute_result"
    }
   ],
   "source": [
    "X.toarray().transpose()"
   ]
  },
  {
   "cell_type": "code",
   "execution_count": 27,
   "id": "3cc10f64",
   "metadata": {
    "ExecuteTime": {
     "end_time": "2021-12-05T08:57:01.361946Z",
     "start_time": "2021-12-05T08:57:01.352946Z"
    }
   },
   "outputs": [],
   "source": [
    "new_post_vec = vectorizer.transform(new_post_for_vectorize)"
   ]
  },
  {
   "cell_type": "code",
   "execution_count": 28,
   "id": "c6c37f49",
   "metadata": {
    "ExecuteTime": {
     "end_time": "2021-12-05T08:57:08.155231Z",
     "start_time": "2021-12-05T08:57:08.138714Z"
    }
   },
   "outputs": [
    {
     "data": {
      "text/plain": [
       "array([[0.78528828, 0.        , 0.        , 0.        , 0.        ,\n",
       "        0.        , 0.        , 0.6191303 , 0.        , 0.        ,\n",
       "        0.        , 0.        , 0.        , 0.        , 0.        ,\n",
       "        0.        , 0.        ]])"
      ]
     },
     "execution_count": 28,
     "metadata": {},
     "output_type": "execute_result"
    }
   ],
   "source": [
    "new_post_vec.toarray()"
   ]
  },
  {
   "cell_type": "code",
   "execution_count": 29,
   "id": "9d326847",
   "metadata": {
    "ExecuteTime": {
     "end_time": "2021-12-05T09:00:09.116790Z",
     "start_time": "2021-12-05T09:00:09.099783Z"
    }
   },
   "outputs": [],
   "source": [
    "def dist_norm(v1, v2):\n",
    "    v1_normalized = v1 / sp.linalg.norm(v1.toarray())\n",
    "    v2_normalized = v2 / sp.linalg.norm(v2.toarray())\n",
    "    \n",
    "    delta = v1_normalized - v2_normalized\n",
    "    \n",
    "    return sp.linalg.norm(delta.toarray())"
   ]
  },
  {
   "cell_type": "code",
   "execution_count": 30,
   "id": "d91c3eb9",
   "metadata": {
    "ExecuteTime": {
     "end_time": "2021-12-05T09:14:44.045028Z",
     "start_time": "2021-12-05T09:14:44.026029Z"
    }
   },
   "outputs": [
    {
     "data": {
      "text/plain": [
       "[1.254451632446019, 1.2261339938790283, 1.414213562373095, 1.1021396119773588]"
      ]
     },
     "execution_count": 30,
     "metadata": {},
     "output_type": "execute_result"
    }
   ],
   "source": [
    "dist = [dist_norm(each, new_post_vec) for each in X]\n",
    "dist"
   ]
  },
  {
   "cell_type": "code",
   "execution_count": 31,
   "id": "0356eadc",
   "metadata": {
    "ExecuteTime": {
     "end_time": "2021-12-05T09:15:18.150778Z",
     "start_time": "2021-12-05T09:15:18.136657Z"
    }
   },
   "outputs": [
    {
     "name": "stdout",
     "output_type": "stream",
     "text": [
      "Best post is 3 , dist =  1.1021396119773588\n",
      "Test post is -->  ['상처받기 싫어 괜찮아']\n",
      "Best dist post is -->  아무 일도 아니야 괜찮아\n"
     ]
    }
   ],
   "source": [
    "print('Best post is', dist.index(min(dist)), ', dist = ', min(dist))\n",
    "print('Test post is --> ', new_post)\n",
    "print('Best dist post is --> ', contents[dist.index(min(dist))])"
   ]
  }
 ],
 "metadata": {
  "kernelspec": {
   "display_name": "Python 3 (ipykernel)",
   "language": "python",
   "name": "python3"
  },
  "language_info": {
   "codemirror_mode": {
    "name": "ipython",
    "version": 3
   },
   "file_extension": ".py",
   "mimetype": "text/x-python",
   "name": "python",
   "nbconvert_exporter": "python",
   "pygments_lexer": "ipython3",
   "version": "3.8.12"
  },
  "toc": {
   "base_numbering": 1,
   "nav_menu": {},
   "number_sections": true,
   "sideBar": true,
   "skip_h1_title": false,
   "title_cell": "Table of Contents",
   "title_sidebar": "Contents",
   "toc_cell": false,
   "toc_position": {},
   "toc_section_display": true,
   "toc_window_display": false
  }
 },
 "nbformat": 4,
 "nbformat_minor": 5
}
