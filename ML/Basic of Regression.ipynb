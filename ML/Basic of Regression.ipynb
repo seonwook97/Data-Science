{
 "cells": [
  {
   "cell_type": "markdown",
   "id": "a547a402",
   "metadata": {},
   "source": [
    "## OLS: Ordinary Linear Least Square"
   ]
  },
  {
   "cell_type": "code",
   "execution_count": 1,
   "id": "c5e44b4b",
   "metadata": {},
   "outputs": [
    {
     "data": {
      "text/html": [
       "<div>\n",
       "<style scoped>\n",
       "    .dataframe tbody tr th:only-of-type {\n",
       "        vertical-align: middle;\n",
       "    }\n",
       "\n",
       "    .dataframe tbody tr th {\n",
       "        vertical-align: top;\n",
       "    }\n",
       "\n",
       "    .dataframe thead th {\n",
       "        text-align: right;\n",
       "    }\n",
       "</style>\n",
       "<table border=\"1\" class=\"dataframe\">\n",
       "  <thead>\n",
       "    <tr style=\"text-align: right;\">\n",
       "      <th></th>\n",
       "      <th>x</th>\n",
       "      <th>y</th>\n",
       "    </tr>\n",
       "  </thead>\n",
       "  <tbody>\n",
       "    <tr>\n",
       "      <th>0</th>\n",
       "      <td>1.0</td>\n",
       "      <td>1.0</td>\n",
       "    </tr>\n",
       "    <tr>\n",
       "      <th>1</th>\n",
       "      <td>2.0</td>\n",
       "      <td>3.0</td>\n",
       "    </tr>\n",
       "    <tr>\n",
       "      <th>2</th>\n",
       "      <td>3.0</td>\n",
       "      <td>4.0</td>\n",
       "    </tr>\n",
       "    <tr>\n",
       "      <th>3</th>\n",
       "      <td>4.0</td>\n",
       "      <td>6.0</td>\n",
       "    </tr>\n",
       "    <tr>\n",
       "      <th>4</th>\n",
       "      <td>5.0</td>\n",
       "      <td>5.0</td>\n",
       "    </tr>\n",
       "  </tbody>\n",
       "</table>\n",
       "</div>"
      ],
      "text/plain": [
       "     x    y\n",
       "0  1.0  1.0\n",
       "1  2.0  3.0\n",
       "2  3.0  4.0\n",
       "3  4.0  6.0\n",
       "4  5.0  5.0"
      ]
     },
     "execution_count": 1,
     "metadata": {},
     "output_type": "execute_result"
    }
   ],
   "source": [
    "# 데이터\n",
    "import pandas as pd\n",
    "\n",
    "data = {'x': [1., 2., 3., 4., 5.], 'y': [1., 3., 4., 6., 5.]}\n",
    "df = pd.DataFrame(data)\n",
    "df"
   ]
  },
  {
   "cell_type": "code",
   "execution_count": 2,
   "id": "9cb89bff",
   "metadata": {},
   "outputs": [],
   "source": [
    "# 가설 확립\n",
    "import statsmodels.formula.api as smf\n",
    "\n",
    "lm_model = smf.ols(formula='y ~ x', data=df).fit()"
   ]
  },
  {
   "cell_type": "code",
   "execution_count": 3,
   "id": "51e8ddf5",
   "metadata": {},
   "outputs": [
    {
     "data": {
      "text/plain": [
       "Intercept    0.5\n",
       "x            1.1\n",
       "dtype: float64"
      ]
     },
     "execution_count": 3,
     "metadata": {},
     "output_type": "execute_result"
    }
   ],
   "source": [
    "lm_model.params # 결과 "
   ]
  },
  {
   "cell_type": "markdown",
   "id": "f4e08bea",
   "metadata": {},
   "source": [
    "- y절편 = 0.5, x의 기울기 = 1.1"
   ]
  },
  {
   "cell_type": "code",
   "execution_count": 4,
   "id": "f956d842",
   "metadata": {},
   "outputs": [],
   "source": [
    "import matplotlib.pyplot as plt\n",
    "import seaborn as sns\n",
    "%matplotlib inline"
   ]
  },
  {
   "cell_type": "code",
   "execution_count": 7,
   "id": "46f09e0c",
   "metadata": {},
   "outputs": [
    {
     "data": {
      "image/png": "[encoded data removed]",
      "text/plain": [
       "<Figure size 360x360 with 1 Axes>"
      ]
     },
     "metadata": {
      "needs_background": "light"
     },
     "output_type": "display_data"
    }
   ],
   "source": [
    "# plot 생성\n",
    "sns.lmplot(x='x', y='y', data=df)\n",
    "plt.xlim([0, 5]);"
   ]
  },
  {
   "cell_type": "markdown",
   "id": "b93cc422",
   "metadata": {},
   "source": [
    "### 잔차 평가 residue\n",
    "- 잔차는 평균이 0인 정규분포를 따르는 것이어야 함\n",
    "- 잔차 평가는 잔차의 평균이 0이고 정규분포를 따르는 지 확인"
   ]
  },
  {
   "cell_type": "code",
   "execution_count": 8,
   "id": "cfa31263",
   "metadata": {},
   "outputs": [
    {
     "data": {
      "text/plain": [
       "0   -0.6\n",
       "1    0.3\n",
       "2    0.2\n",
       "3    1.1\n",
       "4   -1.0\n",
       "dtype: float64"
      ]
     },
     "execution_count": 8,
     "metadata": {},
     "output_type": "execute_result"
    }
   ],
   "source": [
    "# 잔차 확인\n",
    "resid = lm_model.resid\n",
    "resid"
   ]
  },
  {
   "cell_type": "markdown",
   "id": "1c5d2ad7",
   "metadata": {},
   "source": [
    "### 결정계수 R-Squared\n",
    "- y_hat은 예측된 값\n",
    "- 예측 값과 실제 값(y)이 일치하면 결정계수는 1이 됨 (즉 결정계수가 높을 수록 좋은 모델)"
   ]
  },
  {
   "cell_type": "code",
   "execution_count": 9,
   "id": "41be317f",
   "metadata": {},
   "outputs": [
    {
     "data": {
      "text/plain": [
       "0.8175675675675671"
      ]
     },
     "execution_count": 9,
     "metadata": {},
     "output_type": "execute_result"
    }
   ],
   "source": [
    "# numpy로 직접 결정계수 계산\n",
    "import numpy as np\n",
    "\n",
    "mu = np.mean(df.y)\n",
    "y = df.y\n",
    "yhat = lm_model.predict()\n",
    "np.sum( (yhat - mu) ** 2 ) / np.sum( (y - mu) ** 2 ) "
   ]
  },
  {
   "cell_type": "code",
   "execution_count": 10,
   "id": "29d70db5",
   "metadata": {},
   "outputs": [
    {
     "data": {
      "text/plain": [
       "0.8175675675675677"
      ]
     },
     "execution_count": 10,
     "metadata": {},
     "output_type": "execute_result"
    }
   ],
   "source": [
    "# 함수 이용\n",
    "lm_model.rsquared"
   ]
  }
 ],
 "metadata": {
  "kernelspec": {
   "display_name": "Python 3 (ipykernel)",
   "language": "python",
   "name": "python3"
  },
  "language_info": {
   "codemirror_mode": {
    "name": "ipython",
    "version": 3
   },
   "file_extension": ".py",
   "mimetype": "text/x-python",
   "name": "python",
   "nbconvert_exporter": "python",
   "pygments_lexer": "ipython3",
   "version": "3.9.7"
  },
  "toc": {
   "base_numbering": 1,
   "nav_menu": {},
   "number_sections": true,
   "sideBar": true,
   "skip_h1_title": false,
   "title_cell": "Table of Contents",
   "title_sidebar": "Contents",
   "toc_cell": false,
   "toc_position": {},
   "toc_section_display": true,
   "toc_window_display": false
  }
 },
 "nbformat": 4,
 "nbformat_minor": 5
}
