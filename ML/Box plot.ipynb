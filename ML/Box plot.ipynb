{
 "cells": [
  {
   "cell_type": "code",
   "execution_count": 13,
   "id": "1b3881f6",
   "metadata": {},
   "outputs": [],
   "source": [
    "samples = [1, 7, 9, 16, 36, 39, 45, 45, 46, 48, 51, 100, 101]\n",
    "tmp_y = [1] * len(samples)"
   ]
  },
  {
   "cell_type": "code",
   "execution_count": 14,
   "id": "8f55dc33",
   "metadata": {},
   "outputs": [
    {
     "data": {
      "text/plain": [
       "[1, 1, 1, 1, 1, 1, 1, 1, 1, 1, 1, 1, 1]"
      ]
     },
     "execution_count": 14,
     "metadata": {},
     "output_type": "execute_result"
    }
   ],
   "source": [
    "tmp_y"
   ]
  },
  {
   "cell_type": "code",
   "execution_count": 15,
   "id": "922672f3",
   "metadata": {},
   "outputs": [],
   "source": [
    "import matplotlib.pyplot as plt\n",
    "import numpy as np"
   ]
  },
  {
   "cell_type": "markdown",
   "id": "bd3ee563",
   "metadata": {},
   "source": [
    "### plot"
   ]
  },
  {
   "cell_type": "code",
   "execution_count": 16,
   "id": "d3d10e36",
   "metadata": {},
   "outputs": [
    {
     "data": {
      "image/png": "[encoded data removed]",
      "text/plain": [
       "<Figure size 864x288 with 1 Axes>"
      ]
     },
     "metadata": {
      "needs_background": "light"
     },
     "output_type": "display_data"
    }
   ],
   "source": [
    "plt.figure(figsize=(12, 4))\n",
    "plt.scatter(samples, tmp_y)\n",
    "plt.grid()\n",
    "plt.show()"
   ]
  },
  {
   "cell_type": "markdown",
   "id": "fd41628a",
   "metadata": {},
   "source": [
    "### 몇몇 지표를 찾는 법"
   ]
  },
  {
   "cell_type": "code",
   "execution_count": 17,
   "id": "604f59dd",
   "metadata": {},
   "outputs": [
    {
     "data": {
      "text/plain": [
       "45.0"
      ]
     },
     "execution_count": 17,
     "metadata": {},
     "output_type": "execute_result"
    }
   ],
   "source": [
    "np.median(samples)"
   ]
  },
  {
   "cell_type": "code",
   "execution_count": 18,
   "id": "4a907d3e",
   "metadata": {},
   "outputs": [
    {
     "data": {
      "text/plain": [
       "16.0"
      ]
     },
     "execution_count": 18,
     "metadata": {},
     "output_type": "execute_result"
    }
   ],
   "source": [
    "np.percentile(samples, 25)"
   ]
  },
  {
   "cell_type": "code",
   "execution_count": 19,
   "id": "49bd72e4",
   "metadata": {},
   "outputs": [
    {
     "data": {
      "text/plain": [
       "48.0"
      ]
     },
     "execution_count": 19,
     "metadata": {},
     "output_type": "execute_result"
    }
   ],
   "source": [
    "np.percentile(samples, 75)"
   ]
  },
  {
   "cell_type": "code",
   "execution_count": 20,
   "id": "1760a03b",
   "metadata": {},
   "outputs": [
    {
     "data": {
      "text/plain": [
       "32.0"
      ]
     },
     "execution_count": 20,
     "metadata": {},
     "output_type": "execute_result"
    }
   ],
   "source": [
    "np.percentile(samples, 75) - np.percentile(samples, 25)"
   ]
  },
  {
   "cell_type": "code",
   "execution_count": 21,
   "id": "1cfb4c44",
   "metadata": {},
   "outputs": [
    {
     "data": {
      "text/plain": [
       "48.0"
      ]
     },
     "execution_count": 21,
     "metadata": {},
     "output_type": "execute_result"
    }
   ],
   "source": [
    "iqr = np.percentile(samples, 75) - np.percentile(samples, 25)\n",
    "iqr * 1.5"
   ]
  },
  {
   "cell_type": "markdown",
   "id": "68416ec4",
   "metadata": {},
   "source": [
    "### 그리기"
   ]
  },
  {
   "cell_type": "code",
   "execution_count": 22,
   "id": "e86b84f7",
   "metadata": {},
   "outputs": [],
   "source": [
    "q1 = np.percentile(samples, 25)\n",
    "q2 = np.median(samples)\n",
    "q3 = np.percentile(samples, 75)\n",
    "upper_fence = q3 + iqr*1.5\n",
    "lower_fence = q1 - iqr*1.5"
   ]
  },
  {
   "cell_type": "code",
   "execution_count": 23,
   "id": "209f90c4",
   "metadata": {},
   "outputs": [
    {
     "data": {
      "image/png": "[encoded data removed]",
      "text/plain": [
       "<Figure size 864x288 with 1 Axes>"
      ]
     },
     "metadata": {
      "needs_background": "light"
     },
     "output_type": "display_data"
    }
   ],
   "source": [
    "plt.figure(figsize=(12, 4))\n",
    "plt.scatter(samples, tmp_y)\n",
    "plt.axvline(x=q1, color='black')\n",
    "plt.axvline(x=q2, color='red')\n",
    "plt.axvline(x=q3, color='black')\n",
    "plt.axvline(x=upper_fence, color='black', ls='--')\n",
    "plt.axvline(x=lower_fence, color='black', ls='--')\n",
    "plt.grid()\n",
    "plt.show()"
   ]
  },
  {
   "cell_type": "markdown",
   "id": "9980d264",
   "metadata": {},
   "source": [
    "### 물론 좋은 Framework가 있다"
   ]
  },
  {
   "cell_type": "code",
   "execution_count": 26,
   "id": "77f92a11",
   "metadata": {},
   "outputs": [
    {
     "data": {
      "image/png": "[encoded data removed]",
      "text/plain": [
       "<Figure size 864x288 with 1 Axes>"
      ]
     },
     "metadata": {
      "needs_background": "light"
     },
     "output_type": "display_data"
    }
   ],
   "source": [
    "import seaborn as sns\n",
    "plt.figure(figsize=(12, 4))\n",
    "sns.boxplot(x=samples)\n",
    "plt.grid()\n",
    "plt.show()"
   ]
  }
 ],
 "metadata": {
  "kernelspec": {
   "display_name": "Python 3 (ipykernel)",
   "language": "python",
   "name": "python3"
  },
  "language_info": {
   "codemirror_mode": {
    "name": "ipython",
    "version": 3
   },
   "file_extension": ".py",
   "mimetype": "text/x-python",
   "name": "python",
   "nbconvert_exporter": "python",
   "pygments_lexer": "ipython3",
   "version": "3.9.7"
  },
  "toc": {
   "base_numbering": 1,
   "nav_menu": {},
   "number_sections": true,
   "sideBar": true,
   "skip_h1_title": false,
   "title_cell": "Table of Contents",
   "title_sidebar": "Contents",
   "toc_cell": false,
   "toc_position": {},
   "toc_section_display": true,
   "toc_window_display": false
  }
 },
 "nbformat": 4,
 "nbformat_minor": 5
}
