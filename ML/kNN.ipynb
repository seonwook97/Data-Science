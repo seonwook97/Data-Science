{
 "cells": [
  {
   "cell_type": "markdown",
   "id": "11d1709a",
   "metadata": {},
   "source": [
    "## kNN이란\n",
    "- 새로운 데이터가 있을 때, 기존 데이터의 그룹 중 어떤 그룹에 속하는지 분류하는 문제\n",
    "- k는 몇번째 가까운 데이터까지 볼 것인가를 정하는 수치\n",
    "- k Nearest Neighbor\n",
    "    - k=5로 설정하면 5번째까지 가까운 데이터\n",
    "    - k값에 따라 결과값이 바뀔 수 있다\n",
    "    - 거리를 계산하는 것? -> 유클리드 기하\n",
    "    - 단위에 따라 바뀔 수도 있다 -> 표준화 필요\n",
    "- 장단점\n",
    "    - 실시간 예측을 위한 학습이 필요치 않다\n",
    "    - 결국 속도가 빨라진다\n",
    "    - 고차원 데이터에는 적합하지 않다"
   ]
  },
  {
   "cell_type": "markdown",
   "id": "b8e2760b",
   "metadata": {},
   "source": [
    "### 실습"
   ]
  },
  {
   "cell_type": "code",
   "execution_count": 1,
   "id": "a2d3d126",
   "metadata": {
    "ExecuteTime": {
     "end_time": "2021-11-25T03:33:47.521673Z",
     "start_time": "2021-11-25T03:33:47.421227Z"
    }
   },
   "outputs": [],
   "source": [
    "from sklearn.datasets import load_iris\n",
    "\n",
    "iris = load_iris()"
   ]
  },
  {
   "cell_type": "code",
   "execution_count": 6,
   "id": "5399309f",
   "metadata": {
    "ExecuteTime": {
     "end_time": "2021-11-25T03:38:56.548699Z",
     "start_time": "2021-11-25T03:38:56.535096Z"
    }
   },
   "outputs": [],
   "source": [
    "from sklearn.model_selection import train_test_split\n",
    "\n",
    "X_train, X_test, y_train, y_test = train_test_split(iris.data, iris.target,\n",
    "                                                   test_size=0.3, random_state=13,\n",
    "                                                   stratify=iris.target)"
   ]
  },
  {
   "cell_type": "markdown",
   "id": "4185cbf5",
   "metadata": {},
   "source": [
    "#### kNN 학습"
   ]
  },
  {
   "cell_type": "code",
   "execution_count": 7,
   "id": "395625e3",
   "metadata": {
    "ExecuteTime": {
     "end_time": "2021-11-25T03:38:58.136821Z",
     "start_time": "2021-11-25T03:38:58.118596Z"
    }
   },
   "outputs": [
    {
     "data": {
      "text/plain": [
       "KNeighborsClassifier()"
      ]
     },
     "execution_count": 7,
     "metadata": {},
     "output_type": "execute_result"
    }
   ],
   "source": [
    "from sklearn.neighbors import KNeighborsClassifier\n",
    "\n",
    "knn = KNeighborsClassifier(n_neighbors=5)\n",
    "knn.fit(X_train, y_train)"
   ]
  },
  {
   "cell_type": "markdown",
   "id": "bbd647c1",
   "metadata": {},
   "source": [
    "#### accuracy"
   ]
  },
  {
   "cell_type": "code",
   "execution_count": 8,
   "id": "d83c8c22",
   "metadata": {
    "ExecuteTime": {
     "end_time": "2021-11-25T03:38:59.168313Z",
     "start_time": "2021-11-25T03:38:59.151312Z"
    }
   },
   "outputs": [
    {
     "name": "stdout",
     "output_type": "stream",
     "text": [
      "0.9777777777777777\n"
     ]
    }
   ],
   "source": [
    "from sklearn.metrics import accuracy_score\n",
    "\n",
    "pred = knn.predict(X_test)\n",
    "print(accuracy_score(y_test, pred))"
   ]
  },
  {
   "cell_type": "markdown",
   "id": "d7eaa66b",
   "metadata": {},
   "source": [
    "#### 간단한 성과"
   ]
  },
  {
   "cell_type": "code",
   "execution_count": 9,
   "id": "6d60bae7",
   "metadata": {
    "ExecuteTime": {
     "end_time": "2021-11-25T03:39:02.766581Z",
     "start_time": "2021-11-25T03:39:02.759581Z"
    }
   },
   "outputs": [
    {
     "name": "stdout",
     "output_type": "stream",
     "text": [
      "[[15  0  0]\n",
      " [ 0 14  1]\n",
      " [ 0  0 15]]\n",
      "              precision    recall  f1-score   support\n",
      "\n",
      "           0       1.00      1.00      1.00        15\n",
      "           1       1.00      0.93      0.97        15\n",
      "           2       0.94      1.00      0.97        15\n",
      "\n",
      "    accuracy                           0.98        45\n",
      "   macro avg       0.98      0.98      0.98        45\n",
      "weighted avg       0.98      0.98      0.98        45\n",
      "\n"
     ]
    }
   ],
   "source": [
    "from sklearn.metrics import classification_report, confusion_matrix\n",
    "\n",
    "print(confusion_matrix(y_test, pred))\n",
    "print(classification_report(y_test, pred))"
   ]
  },
  {
   "cell_type": "code",
   "execution_count": null,
   "id": "8905559d",
   "metadata": {},
   "outputs": [],
   "source": []
  }
 ],
 "metadata": {
  "kernelspec": {
   "display_name": "Python 3 (ipykernel)",
   "language": "python",
   "name": "python3"
  },
  "language_info": {
   "codemirror_mode": {
    "name": "ipython",
    "version": 3
   },
   "file_extension": ".py",
   "mimetype": "text/x-python",
   "name": "python",
   "nbconvert_exporter": "python",
   "pygments_lexer": "ipython3",
   "version": "3.9.7"
  },
  "toc": {
   "base_numbering": 1,
   "nav_menu": {},
   "number_sections": true,
   "sideBar": true,
   "skip_h1_title": false,
   "title_cell": "Table of Contents",
   "title_sidebar": "Contents",
   "toc_cell": false,
   "toc_position": {},
   "toc_section_display": true,
   "toc_window_display": false
  }
 },
 "nbformat": 4,
 "nbformat_minor": 5
}
