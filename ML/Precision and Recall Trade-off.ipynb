{
 "cells": [
  {
   "cell_type": "code",
   "execution_count": 1,
   "id": "e1654859",
   "metadata": {},
   "outputs": [],
   "source": [
    "import pandas as pd\n",
    "\n",
    "wine_url = 'https://raw.githubusercontent.com/PinkWink/ML_tutorial/master/dataset/wine.csv'\n",
    "\n",
    "wine = pd.read_csv(wine_url, index_col=0)\n",
    "wine['taste'] = [1. if grade > 5 else 0. for grade in wine['quality']]\n",
    "\n",
    "X = wine.drop(['taste', 'quality'], axis=1)\n",
    "y = wine['taste']"
   ]
  },
  {
   "cell_type": "code",
   "execution_count": 3,
   "id": "9ad4b302",
   "metadata": {},
   "outputs": [],
   "source": [
    "# 데이터 분리\n",
    "from sklearn.model_selection import train_test_split\n",
    "\n",
    "X_train, X_test, y_train, y_test = train_test_split(X, y, test_size=0.2,\n",
    "                                                   random_state=13)"
   ]
  },
  {
   "cell_type": "markdown",
   "id": "e2336f6c",
   "metadata": {},
   "source": [
    "#### 로지스틱 회귀 적용"
   ]
  },
  {
   "cell_type": "code",
   "execution_count": 4,
   "id": "dce89309",
   "metadata": {},
   "outputs": [
    {
     "name": "stdout",
     "output_type": "stream",
     "text": [
      "Train Acc:  0.7427361939580527\n",
      "Test Acc:  0.7438461538461538\n"
     ]
    }
   ],
   "source": [
    "from sklearn.linear_model import LogisticRegression\n",
    "from sklearn.metrics import accuracy_score\n",
    "\n",
    "lr = LogisticRegression(solver='liblinear', random_state=13)\n",
    "lr.fit(X_train, y_train)\n",
    "\n",
    "y_pred_tr = lr.predict(X_train)\n",
    "y_pred_test = lr.predict(X_test)\n",
    "\n",
    "print('Train Acc: ', accuracy_score(y_train, y_pred_tr))\n",
    "print('Test Acc: ', accuracy_score(y_test, y_pred_test))"
   ]
  },
  {
   "cell_type": "markdown",
   "id": "d97660bc",
   "metadata": {},
   "source": [
    "#### classification_report"
   ]
  },
  {
   "cell_type": "code",
   "execution_count": 5,
   "id": "03ec2a4c",
   "metadata": {},
   "outputs": [
    {
     "name": "stdout",
     "output_type": "stream",
     "text": [
      "              precision    recall  f1-score   support\n",
      "\n",
      "         0.0       0.68      0.58      0.62       477\n",
      "         1.0       0.77      0.84      0.81       823\n",
      "\n",
      "    accuracy                           0.74      1300\n",
      "   macro avg       0.73      0.71      0.71      1300\n",
      "weighted avg       0.74      0.74      0.74      1300\n",
      "\n"
     ]
    }
   ],
   "source": [
    "from sklearn.metrics import classification_report\n",
    "\n",
    "print(classification_report(y_test, lr.predict(X_test)))"
   ]
  },
  {
   "cell_type": "markdown",
   "id": "1d14fcd1",
   "metadata": {},
   "source": [
    "- marco avg: (0.68 + 0.77) / 2 = 0.725\n",
    "- weighted avg: 0.68 * (477 / 1300) + 0.77 * (823 / 1300) = 0.7369"
   ]
  },
  {
   "cell_type": "markdown",
   "id": "f7717f4b",
   "metadata": {},
   "source": [
    "#### confusion matrix"
   ]
  },
  {
   "cell_type": "code",
   "execution_count": 6,
   "id": "f4969c1a",
   "metadata": {},
   "outputs": [
    {
     "data": {
      "text/plain": [
       "array([[275, 202],\n",
       "       [131, 692]], dtype=int64)"
      ]
     },
     "execution_count": 6,
     "metadata": {},
     "output_type": "execute_result"
    }
   ],
   "source": [
    "from sklearn.metrics import confusion_matrix\n",
    "\n",
    "confusion_matrix(y_test, lr.predict(X_test))"
   ]
  },
  {
   "cell_type": "markdown",
   "id": "2aa09ce9",
   "metadata": {},
   "source": [
    "![cm](../data/cm.png)"
   ]
  },
  {
   "cell_type": "markdown",
   "id": "4b9fbd93",
   "metadata": {},
   "source": [
    "#### precision_recall curve"
   ]
  },
  {
   "cell_type": "code",
   "execution_count": 9,
   "id": "86c1e629",
   "metadata": {},
   "outputs": [],
   "source": [
    "import matplotlib.pyplot as plt\n",
    "from sklearn.metrics import precision_recall_curve\n",
    "\n",
    "%matplotlib inline"
   ]
  },
  {
   "cell_type": "code",
   "execution_count": 10,
   "id": "2e862f08",
   "metadata": {},
   "outputs": [
    {
     "data": {
      "image/png": "[encoded data removed]",
      "text/plain": [
       "<Figure size 720x576 with 1 Axes>"
      ]
     },
     "metadata": {
      "needs_background": "light"
     },
     "output_type": "display_data"
    }
   ],
   "source": [
    "plt.figure(figsize=(10, 8))\n",
    "pred = lr.predict_proba(X_test)[:, 1] # 클래스별 확률 계산, 1일 때\n",
    "\n",
    "precisions, recalls, thresholds = precision_recall_curve(y_test, pred)\n",
    "\n",
    "plt.plot(thresholds, precisions[:len(thresholds)], label='precision')\n",
    "plt.plot(thresholds, recalls[:len(thresholds)], label='recall')\n",
    "plt.grid(); plt.legend(); plt.show()"
   ]
  },
  {
   "cell_type": "code",
   "execution_count": 11,
   "id": "ac2219d5",
   "metadata": {},
   "outputs": [
    {
     "data": {
      "text/plain": [
       "array([[0.40540267, 0.59459733],\n",
       "       [0.50945432, 0.49054568],\n",
       "       [0.10220039, 0.89779961]])"
      ]
     },
     "execution_count": 11,
     "metadata": {},
     "output_type": "execute_result"
    }
   ],
   "source": [
    "# threshold = 0.5\n",
    "pred_proba = lr.predict_proba(X_test)\n",
    "pred_proba[:3]"
   ]
  },
  {
   "cell_type": "code",
   "execution_count": 12,
   "id": "d0453c30",
   "metadata": {},
   "outputs": [
    {
     "data": {
      "text/plain": [
       "array([1., 0., 1., ..., 1., 0., 1.])"
      ]
     },
     "execution_count": 12,
     "metadata": {},
     "output_type": "execute_result"
    }
   ],
   "source": [
    "y_pred_test"
   ]
  },
  {
   "cell_type": "code",
   "execution_count": 15,
   "id": "40941567",
   "metadata": {},
   "outputs": [
    {
     "data": {
      "text/plain": [
       "(1300,)"
      ]
     },
     "execution_count": 15,
     "metadata": {},
     "output_type": "execute_result"
    }
   ],
   "source": [
    "y_pred_test.shape"
   ]
  },
  {
   "cell_type": "code",
   "execution_count": 16,
   "id": "24f2fc7e",
   "metadata": {},
   "outputs": [
    {
     "data": {
      "text/plain": [
       "(1300, 1)"
      ]
     },
     "execution_count": 16,
     "metadata": {},
     "output_type": "execute_result"
    }
   ],
   "source": [
    "y_pred_test.reshape(-1, 1).shape"
   ]
  },
  {
   "cell_type": "code",
   "execution_count": 17,
   "id": "8009fd74",
   "metadata": {},
   "outputs": [
    {
     "data": {
      "text/plain": [
       "array([[0.40540267, 0.59459733, 1.        ],\n",
       "       [0.50945432, 0.49054568, 0.        ],\n",
       "       [0.10220039, 0.89779961, 1.        ],\n",
       "       ...,\n",
       "       [0.2255042 , 0.7744958 , 1.        ],\n",
       "       [0.67385519, 0.32614481, 0.        ],\n",
       "       [0.31443691, 0.68556309, 1.        ]])"
      ]
     },
     "execution_count": 17,
     "metadata": {},
     "output_type": "execute_result"
    }
   ],
   "source": [
    "import numpy as np\n",
    "\n",
    "np.concatenate([pred_proba, y_pred_test.reshape(-1, 1)], axis=1)"
   ]
  },
  {
   "cell_type": "markdown",
   "id": "324e7565",
   "metadata": {},
   "source": [
    "#### threshold 바꿔 보기 - Binarizer"
   ]
  },
  {
   "cell_type": "code",
   "execution_count": 21,
   "id": "e9b8c2a2",
   "metadata": {},
   "outputs": [
    {
     "data": {
      "text/plain": [
       "array([0., 0., 1., ..., 1., 0., 1.])"
      ]
     },
     "execution_count": 21,
     "metadata": {},
     "output_type": "execute_result"
    }
   ],
   "source": [
    "from sklearn.preprocessing import Binarizer\n",
    "\n",
    "binarizer = Binarizer(threshold=0.6).fit(pred_proba)\n",
    "pred_bin = binarizer.transform(pred_proba)[:, 1]\n",
    "pred_bin"
   ]
  },
  {
   "cell_type": "code",
   "execution_count": 23,
   "id": "ac8665c1",
   "metadata": {},
   "outputs": [
    {
     "name": "stdout",
     "output_type": "stream",
     "text": [
      "              precision    recall  f1-score   support\n",
      "\n",
      "         0.0       0.68      0.58      0.62       477\n",
      "         1.0       0.77      0.84      0.81       823\n",
      "\n",
      "    accuracy                           0.74      1300\n",
      "   macro avg       0.73      0.71      0.71      1300\n",
      "weighted avg       0.74      0.74      0.74      1300\n",
      "\n"
     ]
    }
   ],
   "source": [
    "print(classification_report(y_test, lr.predict(X_test)))"
   ]
  },
  {
   "cell_type": "code",
   "execution_count": 22,
   "id": "b2d24483",
   "metadata": {},
   "outputs": [
    {
     "name": "stdout",
     "output_type": "stream",
     "text": [
      "              precision    recall  f1-score   support\n",
      "\n",
      "         0.0       0.62      0.73      0.67       477\n",
      "         1.0       0.82      0.74      0.78       823\n",
      "\n",
      "    accuracy                           0.73      1300\n",
      "   macro avg       0.72      0.73      0.72      1300\n",
      "weighted avg       0.75      0.73      0.74      1300\n",
      "\n"
     ]
    }
   ],
   "source": [
    "print(classification_report(y_test, pred_bin))"
   ]
  },
  {
   "cell_type": "markdown",
   "id": "793eed04",
   "metadata": {},
   "source": [
    "- precision은 올라갔으나, recall은 떨어졌다\n",
    "- 좋은 것인가?"
   ]
  }
 ],
 "metadata": {
  "kernelspec": {
   "display_name": "Python 3 (ipykernel)",
   "language": "python",
   "name": "python3"
  },
  "language_info": {
   "codemirror_mode": {
    "name": "ipython",
    "version": 3
   },
   "file_extension": ".py",
   "mimetype": "text/x-python",
   "name": "python",
   "nbconvert_exporter": "python",
   "pygments_lexer": "ipython3",
   "version": "3.9.7"
  },
  "toc": {
   "base_numbering": 1,
   "nav_menu": {},
   "number_sections": true,
   "sideBar": true,
   "skip_h1_title": false,
   "title_cell": "Table of Contents",
   "title_sidebar": "Contents",
   "toc_cell": false,
   "toc_position": {},
   "toc_section_display": true,
   "toc_window_display": true
  }
 },
 "nbformat": 4,
 "nbformat_minor": 5
}
