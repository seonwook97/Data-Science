{
 "cells": [
  {
   "cell_type": "markdown",
   "id": "344d4bda",
   "metadata": {},
   "source": [
    "## 앙상블 기법"
   ]
  },
  {
   "cell_type": "markdown",
   "id": "1823df7f",
   "metadata": {},
   "source": [
    "###  앙상블 개요"
   ]
  },
  {
   "cell_type": "markdown",
   "id": "0f538f3b",
   "metadata": {},
   "source": [
    "#### 앙상블 학습을 통한 분류\n",
    "- 여러개의 분류기를 생성하고 그 예측을 결합하여 정확한 최종 예측을 기대하는 기법"
   ]
  },
  {
   "cell_type": "markdown",
   "id": "18c4ef03",
   "metadata": {},
   "source": [
    "#### 앙상블 학습의 목표\n",
    "- 다양한 분류기의 예측 결과를 결합함으로써 단일 분류기보다 신뢰성이 높은 예측 값을 얻는 것\n",
    "- 현재 정형데이터를 대상으로 하는 분류기에서는 앙상블 기법이 뛰어난 성과를 보여주고 있음"
   ]
  },
  {
   "cell_type": "markdown",
   "id": "f351bbe5",
   "metadata": {},
   "source": [
    "#### voting\n",
    "- 전체 데이터셋을 여러 알고리즘 기법으로 돌려 다수결의 원칙으로 결정"
   ]
  },
  {
   "cell_type": "markdown",
   "id": "03bc6da1",
   "metadata": {},
   "source": [
    "#### bagging\n",
    "- bagging의 경우 데이터를 중복을 허용해서 샘플링하고 그 각각의 데이터에 같은 알고리즘을 적용해서 결과를 투표로 결정함\n",
    "- 각각의 분류기에 데이터를 각각 샘플링해서 추출하는 방식을 부트스트래핑(bootstrapping) 분할 방식이라고 함"
   ]
  },
  {
   "cell_type": "markdown",
   "id": "2ba92749",
   "metadata": {},
   "source": [
    "#### 최종 결정에서 하드보팅\n",
    "- 다수결의 원칙과 비슷함"
   ]
  },
  {
   "cell_type": "markdown",
   "id": "ca13019c",
   "metadata": {},
   "source": [
    "#### 최종 결정에서 소프트보팅\n",
    "- 확률의 평균값을 취하여 라벨의 확률이 더 높은 값을 채택, 동률이면 다수결을 따라감"
   ]
  },
  {
   "cell_type": "markdown",
   "id": "dac3ddf6",
   "metadata": {},
   "source": [
    "#### 랜덤포레스트 Random Forest\n",
    "- 같은 알고리즘으로 구현하는 배깅(Bagging)의 대표적인 방법\n",
    "- 앙상블 방법 중에서 비교적 속도가 빠르며 다양한 영역에서 높은 성능을 보여주고 있음\n",
    "    - 부트스트래핑은 여러 개의 작은 데이터 셋을 중첨을 허용해서 만드는 것\n",
    "- 랜덤포레스트는 결정 나무를 기본으로 함\n",
    "    - 부트스트래핑으로 샘플링된 데이터마다 결정나무가 예측한 결과를 소프트보팅으로 최종 예측 결론을 얻음"
   ]
  },
  {
   "cell_type": "markdown",
   "id": "19017ba1",
   "metadata": {},
   "source": [
    "---"
   ]
  },
  {
   "cell_type": "markdown",
   "id": "518dcaf5",
   "metadata": {},
   "source": [
    "### HAR데이터 (Human Activity Recognition\n",
    "- IMU 센서를 활용해서 사람의 행동을 인식하는 실험\n",
    "- 폰에 있는 가속도/자이로 센서 사용\n",
    "    - 자이로 센서는 회전하는 각 속도를 측정\n",
    "    - 가속도 성분을 측정"
   ]
  },
  {
   "cell_type": "markdown",
   "id": "79f07ed1",
   "metadata": {},
   "source": [
    "#### 데이터 소개"
   ]
  },
  {
   "cell_type": "markdown",
   "id": "0577d1e4",
   "metadata": {},
   "source": [
    "![har](../data/har.png)"
   ]
  },
  {
   "cell_type": "markdown",
   "id": "494f3944",
   "metadata": {},
   "source": [
    "#### 데이터의 특성\n",
    "- 가속도계로부터의 3축 가속도 (총 가속도) 및 추정 된 신체 가속도\n",
    "- 자이로 스코프의 3축 가속도\n",
    "- 시간 및 주파수 영역 변수가 포함된 561 기능 벡터\n",
    "- 활동 라벨\n",
    "- 실험을 수행한 대상의 식별자"
   ]
  },
  {
   "cell_type": "markdown",
   "id": "49254df1",
   "metadata": {},
   "source": [
    "#### 데이터의 클래스\n",
    "- Walking Upstairs\n",
    "- Standing \n",
    "- Walking Downstairs\n",
    "- Sitting\n",
    "- Laying\n",
    "- Walking"
   ]
  },
  {
   "cell_type": "markdown",
   "id": "f14e8999",
   "metadata": {},
   "source": [
    "#### 시간영역의 데이터를 직접 사용하는 것은 어렵다\n",
    "- 시간영역 데이터를 머신러닝에 적용하기 위해 여러 통계적 데이터로 변환함\n",
    "- 시간 영역의 평균, 분산, 피크, 중간값, 주파수 영역의 평균, 분산 등으로 변환한 수치를 가지고 있음\n",
    "- 특징추출 (Feature extracting)"
   ]
  },
  {
   "cell_type": "markdown",
   "id": "e191e708",
   "metadata": {},
   "source": [
    "#### 데이터 읽기"
   ]
  },
  {
   "cell_type": "code",
   "execution_count": 1,
   "id": "75dafe3c",
   "metadata": {},
   "outputs": [],
   "source": [
    "import pandas as pd\n",
    "import matplotlib.pyplot as plt\n",
    "%matplotlib inline"
   ]
  },
  {
   "cell_type": "code",
   "execution_count": 2,
   "id": "6c5b3fe9",
   "metadata": {},
   "outputs": [
    {
     "data": {
      "text/html": [
       "<div>\n",
       "<style scoped>\n",
       "    .dataframe tbody tr th:only-of-type {\n",
       "        vertical-align: middle;\n",
       "    }\n",
       "\n",
       "    .dataframe tbody tr th {\n",
       "        vertical-align: top;\n",
       "    }\n",
       "\n",
       "    .dataframe thead th {\n",
       "        text-align: right;\n",
       "    }\n",
       "</style>\n",
       "<table border=\"1\" class=\"dataframe\">\n",
       "  <thead>\n",
       "    <tr style=\"text-align: right;\">\n",
       "      <th></th>\n",
       "      <th>columns_index</th>\n",
       "      <th>column_name</th>\n",
       "    </tr>\n",
       "  </thead>\n",
       "  <tbody>\n",
       "    <tr>\n",
       "      <th>0</th>\n",
       "      <td>1</td>\n",
       "      <td>tBodyAcc-mean()-X</td>\n",
       "    </tr>\n",
       "    <tr>\n",
       "      <th>1</th>\n",
       "      <td>2</td>\n",
       "      <td>tBodyAcc-mean()-Y</td>\n",
       "    </tr>\n",
       "    <tr>\n",
       "      <th>2</th>\n",
       "      <td>3</td>\n",
       "      <td>tBodyAcc-mean()-Z</td>\n",
       "    </tr>\n",
       "    <tr>\n",
       "      <th>3</th>\n",
       "      <td>4</td>\n",
       "      <td>tBodyAcc-std()-X</td>\n",
       "    </tr>\n",
       "    <tr>\n",
       "      <th>4</th>\n",
       "      <td>5</td>\n",
       "      <td>tBodyAcc-std()-Y</td>\n",
       "    </tr>\n",
       "  </tbody>\n",
       "</table>\n",
       "</div>"
      ],
      "text/plain": [
       "   columns_index        column_name\n",
       "0              1  tBodyAcc-mean()-X\n",
       "1              2  tBodyAcc-mean()-Y\n",
       "2              3  tBodyAcc-mean()-Z\n",
       "3              4   tBodyAcc-std()-X\n",
       "4              5   tBodyAcc-std()-Y"
      ]
     },
     "execution_count": 2,
     "metadata": {},
     "output_type": "execute_result"
    }
   ],
   "source": [
    "url = 'https://raw.githubusercontent.com/PinkWink/ML_tutorial/master/dataset/HAR_dataset/features.txt'\n",
    "feature_name_df = pd.read_csv(url, sep='\\s+', header=None, \n",
    "                             names=['columns_index', 'column_name'])\n",
    "feature_name_df.head()"
   ]
  },
  {
   "cell_type": "markdown",
   "id": "267821fa",
   "metadata": {},
   "source": [
    "- 특성 이름만 불러왔다."
   ]
  },
  {
   "cell_type": "code",
   "execution_count": 3,
   "id": "4d1b94da",
   "metadata": {},
   "outputs": [
    {
     "name": "stdout",
     "output_type": "stream",
     "text": [
      "<class 'pandas.core.frame.DataFrame'>\n",
      "RangeIndex: 561 entries, 0 to 560\n",
      "Data columns (total 2 columns):\n",
      " #   Column         Non-Null Count  Dtype \n",
      "---  ------         --------------  ----- \n",
      " 0   columns_index  561 non-null    int64 \n",
      " 1   column_name    561 non-null    object\n",
      "dtypes: int64(1), object(1)\n",
      "memory usage: 8.9+ KB\n"
     ]
    }
   ],
   "source": [
    "feature_name_df.info()"
   ]
  },
  {
   "cell_type": "code",
   "execution_count": 4,
   "id": "ef960bcb",
   "metadata": {},
   "outputs": [
    {
     "data": {
      "text/plain": [
       "['tBodyAcc-mean()-X',\n",
       " 'tBodyAcc-mean()-Y',\n",
       " 'tBodyAcc-mean()-Z',\n",
       " 'tBodyAcc-std()-X',\n",
       " 'tBodyAcc-std()-Y',\n",
       " 'tBodyAcc-std()-Z',\n",
       " 'tBodyAcc-mad()-X',\n",
       " 'tBodyAcc-mad()-Y',\n",
       " 'tBodyAcc-mad()-Z',\n",
       " 'tBodyAcc-max()-X']"
      ]
     },
     "execution_count": 4,
     "metadata": {},
     "output_type": "execute_result"
    }
   ],
   "source": [
    "feature_name = feature_name_df.iloc[:,1].values.tolist()\n",
    "feature_name[:10]"
   ]
  },
  {
   "cell_type": "markdown",
   "id": "b6a92e3f",
   "metadata": {},
   "source": [
    "#### 일단 X 데이터만"
   ]
  },
  {
   "cell_type": "code",
   "execution_count": 5,
   "id": "1833a8ae",
   "metadata": {},
   "outputs": [],
   "source": [
    "X_train_url = 'https://raw.githubusercontent.com/PinkWink/ML_tutorial/master/dataset/HAR_dataset/train/X_train.txt'\n",
    "X_test_url = 'https://raw.githubusercontent.com/PinkWink/ML_tutorial/master/dataset/HAR_dataset/test/X_test.txt'\n",
    "\n",
    "X_train = pd.read_csv(X_train_url, sep='\\s+', header=None)\n",
    "X_test = pd.read_csv(X_test_url, sep='\\s+', header=None)"
   ]
  },
  {
   "cell_type": "code",
   "execution_count": 6,
   "id": "d5090dd2",
   "metadata": {},
   "outputs": [
    {
     "name": "stdout",
     "output_type": "stream",
     "text": [
      "<class 'pandas.core.frame.DataFrame'>\n",
      "RangeIndex: 7352 entries, 0 to 7351\n",
      "Columns: 561 entries, 0 to 560\n",
      "dtypes: float64(561)\n",
      "memory usage: 31.5 MB\n"
     ]
    }
   ],
   "source": [
    "X_train.info()"
   ]
  },
  {
   "cell_type": "code",
   "execution_count": 7,
   "id": "97f61085",
   "metadata": {},
   "outputs": [
    {
     "name": "stdout",
     "output_type": "stream",
     "text": [
      "<class 'pandas.core.frame.DataFrame'>\n",
      "RangeIndex: 2947 entries, 0 to 2946\n",
      "Columns: 561 entries, 0 to 560\n",
      "dtypes: float64(561)\n",
      "memory usage: 12.6 MB\n"
     ]
    }
   ],
   "source": [
    "X_test.info()"
   ]
  },
  {
   "cell_type": "markdown",
   "id": "fb93a7dd",
   "metadata": {},
   "source": [
    "- 대용량의 데이터이다"
   ]
  },
  {
   "cell_type": "code",
   "execution_count": 8,
   "id": "318e56da",
   "metadata": {
    "scrolled": false
   },
   "outputs": [
    {
     "data": {
      "text/html": [
       "<div>\n",
       "<style scoped>\n",
       "    .dataframe tbody tr th:only-of-type {\n",
       "        vertical-align: middle;\n",
       "    }\n",
       "\n",
       "    .dataframe tbody tr th {\n",
       "        vertical-align: top;\n",
       "    }\n",
       "\n",
       "    .dataframe thead th {\n",
       "        text-align: right;\n",
       "    }\n",
       "</style>\n",
       "<table border=\"1\" class=\"dataframe\">\n",
       "  <thead>\n",
       "    <tr style=\"text-align: right;\">\n",
       "      <th></th>\n",
       "      <th>tBodyAcc-mean()-X</th>\n",
       "      <th>tBodyAcc-mean()-Y</th>\n",
       "      <th>tBodyAcc-mean()-Z</th>\n",
       "      <th>tBodyAcc-std()-X</th>\n",
       "      <th>tBodyAcc-std()-Y</th>\n",
       "      <th>tBodyAcc-std()-Z</th>\n",
       "      <th>tBodyAcc-mad()-X</th>\n",
       "      <th>tBodyAcc-mad()-Y</th>\n",
       "      <th>tBodyAcc-mad()-Z</th>\n",
       "      <th>tBodyAcc-max()-X</th>\n",
       "      <th>...</th>\n",
       "      <th>fBodyBodyGyroJerkMag-meanFreq()</th>\n",
       "      <th>fBodyBodyGyroJerkMag-skewness()</th>\n",
       "      <th>fBodyBodyGyroJerkMag-kurtosis()</th>\n",
       "      <th>angle(tBodyAccMean,gravity)</th>\n",
       "      <th>angle(tBodyAccJerkMean),gravityMean)</th>\n",
       "      <th>angle(tBodyGyroMean,gravityMean)</th>\n",
       "      <th>angle(tBodyGyroJerkMean,gravityMean)</th>\n",
       "      <th>angle(X,gravityMean)</th>\n",
       "      <th>angle(Y,gravityMean)</th>\n",
       "      <th>angle(Z,gravityMean)</th>\n",
       "    </tr>\n",
       "  </thead>\n",
       "  <tbody>\n",
       "    <tr>\n",
       "      <th>0</th>\n",
       "      <td>0.288585</td>\n",
       "      <td>-0.020294</td>\n",
       "      <td>-0.132905</td>\n",
       "      <td>-0.995279</td>\n",
       "      <td>-0.983111</td>\n",
       "      <td>-0.913526</td>\n",
       "      <td>-0.995112</td>\n",
       "      <td>-0.983185</td>\n",
       "      <td>-0.923527</td>\n",
       "      <td>-0.934724</td>\n",
       "      <td>...</td>\n",
       "      <td>-0.074323</td>\n",
       "      <td>-0.298676</td>\n",
       "      <td>-0.710304</td>\n",
       "      <td>-0.112754</td>\n",
       "      <td>0.030400</td>\n",
       "      <td>-0.464761</td>\n",
       "      <td>-0.018446</td>\n",
       "      <td>-0.841247</td>\n",
       "      <td>0.179941</td>\n",
       "      <td>-0.058627</td>\n",
       "    </tr>\n",
       "    <tr>\n",
       "      <th>1</th>\n",
       "      <td>0.278419</td>\n",
       "      <td>-0.016411</td>\n",
       "      <td>-0.123520</td>\n",
       "      <td>-0.998245</td>\n",
       "      <td>-0.975300</td>\n",
       "      <td>-0.960322</td>\n",
       "      <td>-0.998807</td>\n",
       "      <td>-0.974914</td>\n",
       "      <td>-0.957686</td>\n",
       "      <td>-0.943068</td>\n",
       "      <td>...</td>\n",
       "      <td>0.158075</td>\n",
       "      <td>-0.595051</td>\n",
       "      <td>-0.861499</td>\n",
       "      <td>0.053477</td>\n",
       "      <td>-0.007435</td>\n",
       "      <td>-0.732626</td>\n",
       "      <td>0.703511</td>\n",
       "      <td>-0.844788</td>\n",
       "      <td>0.180289</td>\n",
       "      <td>-0.054317</td>\n",
       "    </tr>\n",
       "    <tr>\n",
       "      <th>2</th>\n",
       "      <td>0.279653</td>\n",
       "      <td>-0.019467</td>\n",
       "      <td>-0.113462</td>\n",
       "      <td>-0.995380</td>\n",
       "      <td>-0.967187</td>\n",
       "      <td>-0.978944</td>\n",
       "      <td>-0.996520</td>\n",
       "      <td>-0.963668</td>\n",
       "      <td>-0.977469</td>\n",
       "      <td>-0.938692</td>\n",
       "      <td>...</td>\n",
       "      <td>0.414503</td>\n",
       "      <td>-0.390748</td>\n",
       "      <td>-0.760104</td>\n",
       "      <td>-0.118559</td>\n",
       "      <td>0.177899</td>\n",
       "      <td>0.100699</td>\n",
       "      <td>0.808529</td>\n",
       "      <td>-0.848933</td>\n",
       "      <td>0.180637</td>\n",
       "      <td>-0.049118</td>\n",
       "    </tr>\n",
       "    <tr>\n",
       "      <th>3</th>\n",
       "      <td>0.279174</td>\n",
       "      <td>-0.026201</td>\n",
       "      <td>-0.123283</td>\n",
       "      <td>-0.996091</td>\n",
       "      <td>-0.983403</td>\n",
       "      <td>-0.990675</td>\n",
       "      <td>-0.997099</td>\n",
       "      <td>-0.982750</td>\n",
       "      <td>-0.989302</td>\n",
       "      <td>-0.938692</td>\n",
       "      <td>...</td>\n",
       "      <td>0.404573</td>\n",
       "      <td>-0.117290</td>\n",
       "      <td>-0.482845</td>\n",
       "      <td>-0.036788</td>\n",
       "      <td>-0.012892</td>\n",
       "      <td>0.640011</td>\n",
       "      <td>-0.485366</td>\n",
       "      <td>-0.848649</td>\n",
       "      <td>0.181935</td>\n",
       "      <td>-0.047663</td>\n",
       "    </tr>\n",
       "    <tr>\n",
       "      <th>4</th>\n",
       "      <td>0.276629</td>\n",
       "      <td>-0.016570</td>\n",
       "      <td>-0.115362</td>\n",
       "      <td>-0.998139</td>\n",
       "      <td>-0.980817</td>\n",
       "      <td>-0.990482</td>\n",
       "      <td>-0.998321</td>\n",
       "      <td>-0.979672</td>\n",
       "      <td>-0.990441</td>\n",
       "      <td>-0.942469</td>\n",
       "      <td>...</td>\n",
       "      <td>0.087753</td>\n",
       "      <td>-0.351471</td>\n",
       "      <td>-0.699205</td>\n",
       "      <td>0.123320</td>\n",
       "      <td>0.122542</td>\n",
       "      <td>0.693578</td>\n",
       "      <td>-0.615971</td>\n",
       "      <td>-0.847865</td>\n",
       "      <td>0.185151</td>\n",
       "      <td>-0.043892</td>\n",
       "    </tr>\n",
       "  </tbody>\n",
       "</table>\n",
       "<p>5 rows × 561 columns</p>\n",
       "</div>"
      ],
      "text/plain": [
       "   tBodyAcc-mean()-X  tBodyAcc-mean()-Y  tBodyAcc-mean()-Z  tBodyAcc-std()-X  \\\n",
       "0           0.288585          -0.020294          -0.132905         -0.995279   \n",
       "1           0.278419          -0.016411          -0.123520         -0.998245   \n",
       "2           0.279653          -0.019467          -0.113462         -0.995380   \n",
       "3           0.279174          -0.026201          -0.123283         -0.996091   \n",
       "4           0.276629          -0.016570          -0.115362         -0.998139   \n",
       "\n",
       "   tBodyAcc-std()-Y  tBodyAcc-std()-Z  tBodyAcc-mad()-X  tBodyAcc-mad()-Y  \\\n",
       "0         -0.983111         -0.913526         -0.995112         -0.983185   \n",
       "1         -0.975300         -0.960322         -0.998807         -0.974914   \n",
       "2         -0.967187         -0.978944         -0.996520         -0.963668   \n",
       "3         -0.983403         -0.990675         -0.997099         -0.982750   \n",
       "4         -0.980817         -0.990482         -0.998321         -0.979672   \n",
       "\n",
       "   tBodyAcc-mad()-Z  tBodyAcc-max()-X  ...  fBodyBodyGyroJerkMag-meanFreq()  \\\n",
       "0         -0.923527         -0.934724  ...                        -0.074323   \n",
       "1         -0.957686         -0.943068  ...                         0.158075   \n",
       "2         -0.977469         -0.938692  ...                         0.414503   \n",
       "3         -0.989302         -0.938692  ...                         0.404573   \n",
       "4         -0.990441         -0.942469  ...                         0.087753   \n",
       "\n",
       "   fBodyBodyGyroJerkMag-skewness()  fBodyBodyGyroJerkMag-kurtosis()  \\\n",
       "0                        -0.298676                        -0.710304   \n",
       "1                        -0.595051                        -0.861499   \n",
       "2                        -0.390748                        -0.760104   \n",
       "3                        -0.117290                        -0.482845   \n",
       "4                        -0.351471                        -0.699205   \n",
       "\n",
       "   angle(tBodyAccMean,gravity)  angle(tBodyAccJerkMean),gravityMean)  \\\n",
       "0                    -0.112754                              0.030400   \n",
       "1                     0.053477                             -0.007435   \n",
       "2                    -0.118559                              0.177899   \n",
       "3                    -0.036788                             -0.012892   \n",
       "4                     0.123320                              0.122542   \n",
       "\n",
       "   angle(tBodyGyroMean,gravityMean)  angle(tBodyGyroJerkMean,gravityMean)  \\\n",
       "0                         -0.464761                             -0.018446   \n",
       "1                         -0.732626                              0.703511   \n",
       "2                          0.100699                              0.808529   \n",
       "3                          0.640011                             -0.485366   \n",
       "4                          0.693578                             -0.615971   \n",
       "\n",
       "   angle(X,gravityMean)  angle(Y,gravityMean)  angle(Z,gravityMean)  \n",
       "0             -0.841247              0.179941             -0.058627  \n",
       "1             -0.844788              0.180289             -0.054317  \n",
       "2             -0.848933              0.180637             -0.049118  \n",
       "3             -0.848649              0.181935             -0.047663  \n",
       "4             -0.847865              0.185151             -0.043892  \n",
       "\n",
       "[5 rows x 561 columns]"
      ]
     },
     "execution_count": 8,
     "metadata": {},
     "output_type": "execute_result"
    }
   ],
   "source": [
    "X_train.columns = feature_name\n",
    "X_test.columns = feature_name\n",
    "X_train.head()"
   ]
  },
  {
   "cell_type": "markdown",
   "id": "b7ab1698",
   "metadata": {},
   "source": [
    "#### y데이터 읽어오기"
   ]
  },
  {
   "cell_type": "code",
   "execution_count": 9,
   "id": "3319eea8",
   "metadata": {},
   "outputs": [],
   "source": [
    "y_train_url = 'https://raw.githubusercontent.com/PinkWink/ML_tutorial/master/dataset/HAR_dataset/train/y_train.txt'\n",
    "y_test_url = 'https://raw.githubusercontent.com/PinkWink/ML_tutorial/master/dataset/HAR_dataset/test/y_test.txt'\n",
    "\n",
    "y_train = pd.read_csv(y_train_url, sep='\\s+', header=None, names=['action'])\n",
    "y_test = pd.read_csv(y_test_url, sep='\\s+', header=None, names=['action'])"
   ]
  },
  {
   "cell_type": "code",
   "execution_count": 10,
   "id": "55c230c5",
   "metadata": {},
   "outputs": [
    {
     "data": {
      "text/plain": [
       "((7352, 561), (2947, 561), (7352, 1), (2947, 1))"
      ]
     },
     "execution_count": 10,
     "metadata": {},
     "output_type": "execute_result"
    }
   ],
   "source": [
    "X_train.shape, X_test.shape, y_train.shape, y_test.shape"
   ]
  },
  {
   "cell_type": "code",
   "execution_count": 11,
   "id": "412090f8",
   "metadata": {},
   "outputs": [
    {
     "data": {
      "text/html": [
       "<div>\n",
       "<style scoped>\n",
       "    .dataframe tbody tr th:only-of-type {\n",
       "        vertical-align: middle;\n",
       "    }\n",
       "\n",
       "    .dataframe tbody tr th {\n",
       "        vertical-align: top;\n",
       "    }\n",
       "\n",
       "    .dataframe thead th {\n",
       "        text-align: right;\n",
       "    }\n",
       "</style>\n",
       "<table border=\"1\" class=\"dataframe\">\n",
       "  <thead>\n",
       "    <tr style=\"text-align: right;\">\n",
       "      <th></th>\n",
       "      <th>action</th>\n",
       "    </tr>\n",
       "  </thead>\n",
       "  <tbody>\n",
       "    <tr>\n",
       "      <th>0</th>\n",
       "      <td>5</td>\n",
       "    </tr>\n",
       "    <tr>\n",
       "      <th>1</th>\n",
       "      <td>5</td>\n",
       "    </tr>\n",
       "    <tr>\n",
       "      <th>2</th>\n",
       "      <td>5</td>\n",
       "    </tr>\n",
       "    <tr>\n",
       "      <th>3</th>\n",
       "      <td>5</td>\n",
       "    </tr>\n",
       "    <tr>\n",
       "      <th>4</th>\n",
       "      <td>5</td>\n",
       "    </tr>\n",
       "    <tr>\n",
       "      <th>...</th>\n",
       "      <td>...</td>\n",
       "    </tr>\n",
       "    <tr>\n",
       "      <th>7347</th>\n",
       "      <td>2</td>\n",
       "    </tr>\n",
       "    <tr>\n",
       "      <th>7348</th>\n",
       "      <td>2</td>\n",
       "    </tr>\n",
       "    <tr>\n",
       "      <th>7349</th>\n",
       "      <td>2</td>\n",
       "    </tr>\n",
       "    <tr>\n",
       "      <th>7350</th>\n",
       "      <td>2</td>\n",
       "    </tr>\n",
       "    <tr>\n",
       "      <th>7351</th>\n",
       "      <td>2</td>\n",
       "    </tr>\n",
       "  </tbody>\n",
       "</table>\n",
       "<p>7352 rows × 1 columns</p>\n",
       "</div>"
      ],
      "text/plain": [
       "      action\n",
       "0          5\n",
       "1          5\n",
       "2          5\n",
       "3          5\n",
       "4          5\n",
       "...      ...\n",
       "7347       2\n",
       "7348       2\n",
       "7349       2\n",
       "7350       2\n",
       "7351       2\n",
       "\n",
       "[7352 rows x 1 columns]"
      ]
     },
     "execution_count": 11,
     "metadata": {},
     "output_type": "execute_result"
    }
   ],
   "source": [
    "y_train"
   ]
  },
  {
   "cell_type": "code",
   "execution_count": 12,
   "id": "35d05753",
   "metadata": {},
   "outputs": [
    {
     "data": {
      "text/plain": [
       "6    1407\n",
       "5    1374\n",
       "4    1286\n",
       "1    1226\n",
       "2    1073\n",
       "3     986\n",
       "Name: action, dtype: int64"
      ]
     },
     "execution_count": 12,
     "metadata": {},
     "output_type": "execute_result"
    }
   ],
   "source": [
    "# 각 액션별 데이터의 수\n",
    "y_train['action'].value_counts()"
   ]
  },
  {
   "cell_type": "markdown",
   "id": "e1053741",
   "metadata": {},
   "source": [
    "- 1. Walking\n",
    "- 2. Walking Upstairs\n",
    "- 3. Walking Downstairs\n",
    "- 4. Sitting\n",
    "- 5. Standing\n",
    "- 6. Laying"
   ]
  },
  {
   "cell_type": "markdown",
   "id": "49f7b659",
   "metadata": {},
   "source": [
    "### 의사결정나무 적용"
   ]
  },
  {
   "cell_type": "code",
   "execution_count": 13,
   "id": "e7b8341f",
   "metadata": {},
   "outputs": [
    {
     "data": {
      "text/plain": [
       "0.8096369189005769"
      ]
     },
     "execution_count": 13,
     "metadata": {},
     "output_type": "execute_result"
    }
   ],
   "source": [
    "from sklearn.tree import DecisionTreeClassifier\n",
    "from sklearn.metrics import accuracy_score\n",
    "\n",
    "dt_clf = DecisionTreeClassifier(random_state=13, max_depth=4)\n",
    "dt_clf.fit(X_train, y_train)\n",
    "pred = dt_clf.predict(X_test)\n",
    "\n",
    "accuracy_score(y_test, pred)"
   ]
  },
  {
   "cell_type": "markdown",
   "id": "8dc3a33e",
   "metadata": {},
   "source": [
    "#### max_depth를 다양하게 하기 위해 GridSearchCV 이용"
   ]
  },
  {
   "cell_type": "code",
   "execution_count": 14,
   "id": "a190d404",
   "metadata": {},
   "outputs": [
    {
     "data": {
      "text/plain": [
       "GridSearchCV(cv=5,\n",
       "             estimator=DecisionTreeClassifier(max_depth=4, random_state=13),\n",
       "             param_grid={'max_depth': [6, 8, 10, 12, 16, 20, 24]},\n",
       "             return_train_score=True, scoring='accuracy')"
      ]
     },
     "execution_count": 14,
     "metadata": {},
     "output_type": "execute_result"
    }
   ],
   "source": [
    "from sklearn.model_selection import GridSearchCV\n",
    "\n",
    "params = {\n",
    "    'max_depth': [6, 8, 10, 12, 16, 20, 24]\n",
    "}\n",
    "\n",
    "grid_cv = GridSearchCV(dt_clf, param_grid=params, \n",
    "                       scoring='accuracy',\n",
    "                       cv=5, \n",
    "                       return_train_score=True)\n",
    "\n",
    "grid_cv.fit(X_train, y_train)"
   ]
  },
  {
   "cell_type": "code",
   "execution_count": 15,
   "id": "8e58cea9",
   "metadata": {},
   "outputs": [
    {
     "data": {
      "text/plain": [
       "0.8543335321892183"
      ]
     },
     "execution_count": 15,
     "metadata": {},
     "output_type": "execute_result"
    }
   ],
   "source": [
    "grid_cv.best_score_"
   ]
  },
  {
   "cell_type": "code",
   "execution_count": 16,
   "id": "11662397",
   "metadata": {},
   "outputs": [
    {
     "data": {
      "text/plain": [
       "{'max_depth': 8}"
      ]
     },
     "execution_count": 16,
     "metadata": {},
     "output_type": "execute_result"
    }
   ],
   "source": [
    "grid_cv.best_params_"
   ]
  },
  {
   "cell_type": "markdown",
   "id": "55295953",
   "metadata": {},
   "source": [
    "#### max_depth별로 표로 성능을 정리"
   ]
  },
  {
   "cell_type": "code",
   "execution_count": 17,
   "id": "22fd6243",
   "metadata": {},
   "outputs": [
    {
     "data": {
      "text/plain": [
       "Index(['mean_fit_time', 'std_fit_time', 'mean_score_time', 'std_score_time',\n",
       "       'param_max_depth', 'params', 'split0_test_score', 'split1_test_score',\n",
       "       'split2_test_score', 'split3_test_score', 'split4_test_score',\n",
       "       'mean_test_score', 'std_test_score', 'rank_test_score',\n",
       "       'split0_train_score', 'split1_train_score', 'split2_train_score',\n",
       "       'split3_train_score', 'split4_train_score', 'mean_train_score',\n",
       "       'std_train_score'],\n",
       "      dtype='object')"
      ]
     },
     "execution_count": 17,
     "metadata": {},
     "output_type": "execute_result"
    }
   ],
   "source": [
    "cv_results_df = pd.DataFrame(grid_cv.cv_results_)\n",
    "cv_results_df.columns"
   ]
  },
  {
   "cell_type": "code",
   "execution_count": 18,
   "id": "749f45ec",
   "metadata": {},
   "outputs": [
    {
     "data": {
      "text/html": [
       "<div>\n",
       "<style scoped>\n",
       "    .dataframe tbody tr th:only-of-type {\n",
       "        vertical-align: middle;\n",
       "    }\n",
       "\n",
       "    .dataframe tbody tr th {\n",
       "        vertical-align: top;\n",
       "    }\n",
       "\n",
       "    .dataframe thead th {\n",
       "        text-align: right;\n",
       "    }\n",
       "</style>\n",
       "<table border=\"1\" class=\"dataframe\">\n",
       "  <thead>\n",
       "    <tr style=\"text-align: right;\">\n",
       "      <th></th>\n",
       "      <th>param_max_depth</th>\n",
       "      <th>mean_test_score</th>\n",
       "      <th>mean_train_score</th>\n",
       "    </tr>\n",
       "  </thead>\n",
       "  <tbody>\n",
       "    <tr>\n",
       "      <th>0</th>\n",
       "      <td>6</td>\n",
       "      <td>0.843444</td>\n",
       "      <td>0.944879</td>\n",
       "    </tr>\n",
       "    <tr>\n",
       "      <th>1</th>\n",
       "      <td>8</td>\n",
       "      <td>0.854334</td>\n",
       "      <td>0.982692</td>\n",
       "    </tr>\n",
       "    <tr>\n",
       "      <th>2</th>\n",
       "      <td>10</td>\n",
       "      <td>0.847125</td>\n",
       "      <td>0.993369</td>\n",
       "    </tr>\n",
       "    <tr>\n",
       "      <th>3</th>\n",
       "      <td>12</td>\n",
       "      <td>0.841958</td>\n",
       "      <td>0.997212</td>\n",
       "    </tr>\n",
       "    <tr>\n",
       "      <th>4</th>\n",
       "      <td>16</td>\n",
       "      <td>0.841958</td>\n",
       "      <td>0.999660</td>\n",
       "    </tr>\n",
       "    <tr>\n",
       "      <th>5</th>\n",
       "      <td>20</td>\n",
       "      <td>0.842365</td>\n",
       "      <td>0.999966</td>\n",
       "    </tr>\n",
       "    <tr>\n",
       "      <th>6</th>\n",
       "      <td>24</td>\n",
       "      <td>0.841821</td>\n",
       "      <td>1.000000</td>\n",
       "    </tr>\n",
       "  </tbody>\n",
       "</table>\n",
       "</div>"
      ],
      "text/plain": [
       "  param_max_depth  mean_test_score  mean_train_score\n",
       "0               6         0.843444          0.944879\n",
       "1               8         0.854334          0.982692\n",
       "2              10         0.847125          0.993369\n",
       "3              12         0.841958          0.997212\n",
       "4              16         0.841958          0.999660\n",
       "5              20         0.842365          0.999966\n",
       "6              24         0.841821          1.000000"
      ]
     },
     "execution_count": 18,
     "metadata": {},
     "output_type": "execute_result"
    }
   ],
   "source": [
    "cv_results_df= cv_results_df[['param_max_depth', 'mean_test_score', 'mean_train_score']]\n",
    "cv_results_df"
   ]
  },
  {
   "cell_type": "markdown",
   "id": "441d98c4",
   "metadata": {},
   "source": [
    "- train과 test의 score차이가 있음. 과적합일까?"
   ]
  },
  {
   "cell_type": "code",
   "execution_count": 19,
   "id": "1a9c88cd",
   "metadata": {},
   "outputs": [
    {
     "name": "stdout",
     "output_type": "stream",
     "text": [
      "Max_Depth:  6 , Accuracy:  0.8554462164913471\n",
      "Max_Depth:  8 , Accuracy:  0.8734306073973532\n",
      "Max_Depth:  10 , Accuracy:  0.8615541228367831\n",
      "Max_Depth:  12 , Accuracy:  0.8595181540549711\n",
      "Max_Depth:  16 , Accuracy:  0.8669833729216152\n",
      "Max_Depth:  20 , Accuracy:  0.8652867322701052\n",
      "Max_Depth:  24 , Accuracy:  0.8652867322701052\n"
     ]
    }
   ],
   "source": [
    "max_depth = [6, 8, 10, 12, 16, 20, 24]\n",
    "    \n",
    "for depth in max_depth:\n",
    "    dt_clf = DecisionTreeClassifier(max_depth=depth, random_state=13)\n",
    "    dt_clf.fit(X_train, y_train)\n",
    "    \n",
    "    pred = dt_clf.predict(X_test)\n",
    "    accuracy = accuracy_score(y_test, pred)\n",
    "    \n",
    "    print('Max_Depth: ', depth, ', Accuracy: ', accuracy)"
   ]
  },
  {
   "cell_type": "markdown",
   "id": "23899cd0",
   "metadata": {},
   "source": [
    "- train, test 셋 모두 max_depth가 8일 때 성능이 좋다"
   ]
  },
  {
   "cell_type": "markdown",
   "id": "aa3570fd",
   "metadata": {},
   "source": [
    "#### 베스트 모델 결과"
   ]
  },
  {
   "cell_type": "code",
   "execution_count": 20,
   "id": "e29af241",
   "metadata": {},
   "outputs": [
    {
     "data": {
      "text/plain": [
       "0.8734306073973532"
      ]
     },
     "execution_count": 20,
     "metadata": {},
     "output_type": "execute_result"
    }
   ],
   "source": [
    "best_df_clf = grid_cv.best_estimator_\n",
    "pred1 = best_df_clf.predict(X_test)\n",
    "\n",
    "accuracy_score(y_test, pred1)"
   ]
  },
  {
   "cell_type": "markdown",
   "id": "30d60961",
   "metadata": {},
   "source": [
    "### 랜덤포레스트 적용"
   ]
  },
  {
   "cell_type": "code",
   "execution_count": 21,
   "id": "537ae146",
   "metadata": {},
   "outputs": [],
   "source": [
    "from sklearn.model_selection import GridSearchCV\n",
    "from sklearn.ensemble import RandomForestClassifier\n",
    "\n",
    "params = {\n",
    "    'max_depth': [6, 8, 10],\n",
    "    'n_estimators': [50, 100, 200], # Tree 50그루, 100그루, 200그루\n",
    "    'min_samples_leaf': [8, 12], # leaf의 들어오는 최소의 데이터 개수\n",
    "    'min_samples_split': [8, 12] # 분할기준에서 최소한으로 남는 데이터   \n",
    "}"
   ]
  },
  {
   "cell_type": "code",
   "execution_count": 22,
   "id": "5b8dd05c",
   "metadata": {},
   "outputs": [
    {
     "name": "stderr",
     "output_type": "stream",
     "text": [
      "C:\\Users\\seonwook\\miniconda3\\envs\\ds_study\\lib\\site-packages\\sklearn\\model_selection\\_search.py:880: DataConversionWarning: A column-vector y was passed when a 1d array was expected. Please change the shape of y to (n_samples,), for example using ravel().\n",
      "  self.best_estimator_.fit(X, y, **fit_params)\n"
     ]
    },
    {
     "data": {
      "text/plain": [
       "GridSearchCV(cv=2, estimator=RandomForestClassifier(n_jobs=-1, random_state=13),\n",
       "             n_jobs=-1,\n",
       "             param_grid={'max_depth': [6, 8, 10], 'min_samples_leaf': [8, 12],\n",
       "                         'min_samples_split': [8, 12],\n",
       "                         'n_estimators': [50, 100, 200]})"
      ]
     },
     "execution_count": 22,
     "metadata": {},
     "output_type": "execute_result"
    }
   ],
   "source": [
    "rf_clf = RandomForestClassifier(random_state=13, n_jobs=-1) # n_jobs는 cpu코어 사용개수\n",
    "grid_cv = GridSearchCV(rf_clf, param_grid=params, cv=2, n_jobs=-1)\n",
    "grid_cv.fit(X_train, y_train)"
   ]
  },
  {
   "cell_type": "markdown",
   "id": "7cecf8b0",
   "metadata": {},
   "source": [
    "#### 결과 정리"
   ]
  },
  {
   "cell_type": "code",
   "execution_count": 23,
   "id": "b90fa2b4",
   "metadata": {},
   "outputs": [
    {
     "data": {
      "text/plain": [
       "Index(['mean_fit_time', 'std_fit_time', 'mean_score_time', 'std_score_time',\n",
       "       'param_max_depth', 'param_min_samples_leaf', 'param_min_samples_split',\n",
       "       'param_n_estimators', 'params', 'split0_test_score',\n",
       "       'split1_test_score', 'mean_test_score', 'std_test_score',\n",
       "       'rank_test_score'],\n",
       "      dtype='object')"
      ]
     },
     "execution_count": 23,
     "metadata": {},
     "output_type": "execute_result"
    }
   ],
   "source": [
    "cv_results_df = pd.DataFrame(grid_cv.cv_results_)\n",
    "cv_results_df.columns"
   ]
  },
  {
   "cell_type": "code",
   "execution_count": 24,
   "id": "5b8f5e80",
   "metadata": {},
   "outputs": [
    {
     "data": {
      "text/html": [
       "<div>\n",
       "<style scoped>\n",
       "    .dataframe tbody tr th:only-of-type {\n",
       "        vertical-align: middle;\n",
       "    }\n",
       "\n",
       "    .dataframe tbody tr th {\n",
       "        vertical-align: top;\n",
       "    }\n",
       "\n",
       "    .dataframe thead th {\n",
       "        text-align: right;\n",
       "    }\n",
       "</style>\n",
       "<table border=\"1\" class=\"dataframe\">\n",
       "  <thead>\n",
       "    <tr style=\"text-align: right;\">\n",
       "      <th></th>\n",
       "      <th>rank_test_score</th>\n",
       "      <th>mean_test_score</th>\n",
       "      <th>param_n_estimators</th>\n",
       "      <th>param_max_depth</th>\n",
       "    </tr>\n",
       "  </thead>\n",
       "  <tbody>\n",
       "    <tr>\n",
       "      <th>28</th>\n",
       "      <td>1</td>\n",
       "      <td>0.915125</td>\n",
       "      <td>100</td>\n",
       "      <td>10</td>\n",
       "    </tr>\n",
       "    <tr>\n",
       "      <th>25</th>\n",
       "      <td>1</td>\n",
       "      <td>0.915125</td>\n",
       "      <td>100</td>\n",
       "      <td>10</td>\n",
       "    </tr>\n",
       "    <tr>\n",
       "      <th>23</th>\n",
       "      <td>3</td>\n",
       "      <td>0.912813</td>\n",
       "      <td>200</td>\n",
       "      <td>8</td>\n",
       "    </tr>\n",
       "    <tr>\n",
       "      <th>20</th>\n",
       "      <td>3</td>\n",
       "      <td>0.912813</td>\n",
       "      <td>200</td>\n",
       "      <td>8</td>\n",
       "    </tr>\n",
       "    <tr>\n",
       "      <th>35</th>\n",
       "      <td>5</td>\n",
       "      <td>0.912541</td>\n",
       "      <td>200</td>\n",
       "      <td>10</td>\n",
       "    </tr>\n",
       "  </tbody>\n",
       "</table>\n",
       "</div>"
      ],
      "text/plain": [
       "    rank_test_score  mean_test_score param_n_estimators param_max_depth\n",
       "28                1         0.915125                100              10\n",
       "25                1         0.915125                100              10\n",
       "23                3         0.912813                200               8\n",
       "20                3         0.912813                200               8\n",
       "35                5         0.912541                200              10"
      ]
     },
     "execution_count": 24,
     "metadata": {},
     "output_type": "execute_result"
    }
   ],
   "source": [
    "target_col = ['rank_test_score', 'mean_test_score', 'param_n_estimators', 'param_max_depth']\n",
    "cv_results_df[target_col].sort_values('rank_test_score').head()"
   ]
  },
  {
   "cell_type": "markdown",
   "id": "f53dff9e",
   "metadata": {},
   "source": [
    "- 성능이 좋다"
   ]
  },
  {
   "cell_type": "markdown",
   "id": "b5c4ef79",
   "metadata": {},
   "source": [
    "#### best 모델"
   ]
  },
  {
   "cell_type": "code",
   "execution_count": 25,
   "id": "763d2491",
   "metadata": {},
   "outputs": [
    {
     "data": {
      "text/plain": [
       "{'max_depth': 10,\n",
       " 'min_samples_leaf': 8,\n",
       " 'min_samples_split': 8,\n",
       " 'n_estimators': 100}"
      ]
     },
     "execution_count": 25,
     "metadata": {},
     "output_type": "execute_result"
    }
   ],
   "source": [
    "grid_cv.best_params_"
   ]
  },
  {
   "cell_type": "code",
   "execution_count": 26,
   "id": "d44632b9",
   "metadata": {},
   "outputs": [
    {
     "data": {
      "text/plain": [
       "0.9151251360174102"
      ]
     },
     "execution_count": 26,
     "metadata": {},
     "output_type": "execute_result"
    }
   ],
   "source": [
    "grid_cv.best_score_"
   ]
  },
  {
   "cell_type": "markdown",
   "id": "9656bcb0",
   "metadata": {},
   "source": [
    "- validaition set score이다"
   ]
  },
  {
   "cell_type": "markdown",
   "id": "df0c77e7",
   "metadata": {},
   "source": [
    "#### test 데이터에 적용"
   ]
  },
  {
   "cell_type": "code",
   "execution_count": 27,
   "id": "40230d71",
   "metadata": {},
   "outputs": [
    {
     "name": "stderr",
     "output_type": "stream",
     "text": [
      "C:\\Users\\seonwook\\AppData\\Local\\Temp/ipykernel_222252/846639337.py:2: DataConversionWarning: A column-vector y was passed when a 1d array was expected. Please change the shape of y to (n_samples,), for example using ravel().\n",
      "  rf_clf_best.fit(X_train, y_train)\n"
     ]
    },
    {
     "data": {
      "text/plain": [
       "RandomForestClassifier(max_depth=10, min_samples_leaf=8, min_samples_split=8,\n",
       "                       n_jobs=-1, random_state=13)"
      ]
     },
     "execution_count": 27,
     "metadata": {},
     "output_type": "execute_result"
    }
   ],
   "source": [
    "rf_clf_best = grid_cv.best_estimator_\n",
    "rf_clf_best.fit(X_train, y_train)"
   ]
  },
  {
   "cell_type": "code",
   "execution_count": 29,
   "id": "cd8b2368",
   "metadata": {},
   "outputs": [
    {
     "data": {
      "text/plain": [
       "0.9205972175093315"
      ]
     },
     "execution_count": 29,
     "metadata": {},
     "output_type": "execute_result"
    }
   ],
   "source": [
    "pred = rf_clf_best.predict(X_test)\n",
    "accuracy_score(y_test, pred)"
   ]
  },
  {
   "cell_type": "markdown",
   "id": "bd48f452",
   "metadata": {},
   "source": [
    "- test데이터에 의한 score이다\n",
    "- decision tree에 비해서 성능이 엄청 좋다"
   ]
  },
  {
   "cell_type": "markdown",
   "id": "48f45751",
   "metadata": {},
   "source": [
    "#### 중요 특성 확인"
   ]
  },
  {
   "cell_type": "code",
   "execution_count": 32,
   "id": "ec77d3c0",
   "metadata": {},
   "outputs": [
    {
     "data": {
      "text/plain": [
       "tBodyAcc-mean()-X                       0.000096\n",
       "tBodyAcc-mean()-Y                       0.000217\n",
       "tBodyAcc-mean()-Z                       0.000058\n",
       "tBodyAcc-std()-X                        0.007843\n",
       "tBodyAcc-std()-Y                        0.000252\n",
       "                                          ...   \n",
       "angle(tBodyGyroMean,gravityMean)        0.000203\n",
       "angle(tBodyGyroJerkMean,gravityMean)    0.000270\n",
       "angle(X,gravityMean)                    0.034638\n",
       "angle(Y,gravityMean)                    0.026553\n",
       "angle(Z,gravityMean)                    0.012837\n",
       "Length: 561, dtype: float64"
      ]
     },
     "execution_count": 32,
     "metadata": {},
     "output_type": "execute_result"
    }
   ],
   "source": [
    "best_cols_values = rf_clf_best.feature_importances_\n",
    "best_cols = pd.Series(best_cols_values, index=X_train.columns)\n",
    "best_cols"
   ]
  },
  {
   "cell_type": "code",
   "execution_count": 33,
   "id": "b4f12161",
   "metadata": {},
   "outputs": [
    {
     "data": {
      "text/plain": [
       "angle(X,gravityMean)               0.034638\n",
       "tGravityAcc-max()-Y                0.032518\n",
       "tGravityAcc-energy()-X             0.031309\n",
       "tGravityAcc-mean()-X               0.029513\n",
       "tGravityAcc-min()-X                0.027775\n",
       "tGravityAcc-max()-X                0.027662\n",
       "angle(Y,gravityMean)               0.026553\n",
       "tGravityAcc-mean()-Y               0.026052\n",
       "tGravityAcc-min()-Y                0.023037\n",
       "tGravityAcc-energy()-Y             0.018678\n",
       "tGravityAcc-mean()-Z               0.015688\n",
       "angle(Z,gravityMean)               0.012837\n",
       "fBodyAcc-mad()-X                   0.012558\n",
       "tBodyAcc-max()-X                   0.011970\n",
       "fBodyAccJerk-bandsEnergy()-1,24    0.011803\n",
       "tBodyAccJerk-entropy()-X           0.011647\n",
       "tGravityAccMag-std()               0.011451\n",
       "tBodyAccJerk-energy()-X            0.011333\n",
       "tGravityAcc-arCoeff()-Z,1          0.011257\n",
       "fBodyAccJerk-max()-X               0.011040\n",
       "dtype: float64"
      ]
     },
     "execution_count": 33,
     "metadata": {},
     "output_type": "execute_result"
    }
   ],
   "source": [
    "top20_cols = best_cols.sort_values(ascending=False)[:20]\n",
    "top20_cols"
   ]
  },
  {
   "cell_type": "code",
   "execution_count": 34,
   "id": "9166ee44",
   "metadata": {},
   "outputs": [
    {
     "data": {
      "image/png": "[encoded data removed]",
      "text/plain": [
       "<Figure size 576x576 with 1 Axes>"
      ]
     },
     "metadata": {
      "needs_background": "light"
     },
     "output_type": "display_data"
    }
   ],
   "source": [
    "# 주요 특성 시각화\n",
    "import seaborn as sns\n",
    "\n",
    "plt.figure(figsize=(8, 8))\n",
    "sns.barplot(x=top20_cols, y=top20_cols.index)\n",
    "plt.show()"
   ]
  },
  {
   "cell_type": "markdown",
   "id": "a1cc3063",
   "metadata": {},
   "source": [
    "#### 20개 특성만 가지고 다시 성능 확인"
   ]
  },
  {
   "cell_type": "code",
   "execution_count": 35,
   "id": "9e562890",
   "metadata": {},
   "outputs": [],
   "source": [
    "X_train_re = X_train[top20_cols.index]\n",
    "X_test_re = X_test[top20_cols.index]"
   ]
  },
  {
   "cell_type": "code",
   "execution_count": 36,
   "id": "6cfe2348",
   "metadata": {},
   "outputs": [
    {
     "data": {
      "text/plain": [
       "0.8177807940278249"
      ]
     },
     "execution_count": 36,
     "metadata": {},
     "output_type": "execute_result"
    }
   ],
   "source": [
    "rf_clf_best_re = grid_cv.best_estimator_\n",
    "rf_clf_best_re.fit(X_train_re, y_train.values.reshape(-1,))\n",
    "\n",
    "pred1_re = rf_clf_best_re.predict(X_test_re)\n",
    "\n",
    "accuracy_score(y_test, pred1_re)"
   ]
  },
  {
   "cell_type": "markdown",
   "id": "d1952683",
   "metadata": {},
   "source": [
    "- 561개의 특성보다 20개의 특성만 보면 연산속도가 정말 빠르다\n",
    "- 비록 acc가 떨어지더라도"
   ]
  }
 ],
 "metadata": {
  "interpreter": {
   "hash": "cfa85074304b4b2c886a5c42e3794066b239ce6bc2f7c74f824c74b28f29c71d"
  },
  "kernelspec": {
   "display_name": "Python 3 (ipykernel)",
   "language": "python",
   "name": "python3"
  },
  "language_info": {
   "codemirror_mode": {
    "name": "ipython",
    "version": 3
   },
   "file_extension": ".py",
   "mimetype": "text/x-python",
   "name": "python",
   "nbconvert_exporter": "python",
   "pygments_lexer": "ipython3",
   "version": "3.9.7"
  },
  "toc": {
   "base_numbering": 1,
   "nav_menu": {},
   "number_sections": true,
   "sideBar": true,
   "skip_h1_title": false,
   "title_cell": "Table of Contents",
   "title_sidebar": "Contents",
   "toc_cell": false,
   "toc_position": {},
   "toc_section_display": true,
   "toc_window_display": true
  }
 },
 "nbformat": 4,
 "nbformat_minor": 5
}
